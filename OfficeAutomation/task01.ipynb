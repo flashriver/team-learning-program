{
 "cells": [
  {
   "cell_type": "markdown",
   "metadata": {},
   "source": [
    "# Task01 文件自动化处理&邮件批量处理\n",
    "[20210614]\n",
    "\n",
    "参考资料:    \n",
    "[1]<Python办公自动化>, DataWhale编写. https://github.com/datawhalechina/team-learning-program/tree/master/OfficeAutomation    \n",
    "[2]<Pyhont教程>task17文件与文件系统, DataWhale编写.https://github.com/datawhalechina/team-learning-program/tree/master/PythonLanguage   \n",
    "[3]<繁琐的工作自动化>第8章,第9章.  "
   ]
  },
  {
   "cell_type": "markdown",
   "metadata": {},
   "source": [
    "# 文件路径相关操作\n",
    "Python中用于处理文件目录的模块是`OS` .   \n",
    "我们知道,不同的操作系统会采用不同的文件系统,因此不同操作系统下地文件系统访问工作原理会有很多差异,例如,Windows下我们使用\"D:\\Python\"这样的路径来访问文件夹,而在Linux下则使用\"\\home\\Python\"这样的路径.   \n",
    "这样的做法是非常不友好且 麻烦的，因为这样就意味着当你的程序运行环境一改变，你就要相应的去修改大量的代码来应对.   \n",
    "但`OS` 这个模块可以几乎完美地兼容处理windows和Linux系统下的各种文件路径问题,这使得你可以依赖此模块来编写出能够同时适应两种操作系统的文件路径相关的`Python`程序.   \n",
    "使用该模块首先需要导入:"
   ]
  },
  {
   "cell_type": "code",
   "execution_count": 1,
   "metadata": {},
   "outputs": [],
   "source": [
    "import os"
   ]
  },
  {
   "cell_type": "markdown",
   "metadata": {},
   "source": [
    "#### 获取当前工作目录"
   ]
  },
  {
   "cell_type": "code",
   "execution_count": 2,
   "metadata": {},
   "outputs": [
    {
     "data": {
      "text/plain": [
       "'D:\\\\Py\\\\OfficeAutomation'"
      ]
     },
     "execution_count": 2,
     "metadata": {},
     "output_type": "execute_result"
    }
   ],
   "source": [
    "os.getcwd()\n",
    "#查看当前工作目录,也就是当前文件所在的路径 -- getcwd 是 get current working directory 的缩写"
   ]
  },
  {
   "cell_type": "code",
   "execution_count": 3,
   "metadata": {},
   "outputs": [
    {
     "name": "stdout",
     "output_type": "stream",
     "text": [
      "D:\\Py\\OfficeAutomation\n"
     ]
    }
   ],
   "source": [
    "# 使用 print 函数格式化输出当前工作目录\n",
    "print(os.getcwd()) \n",
    "# windows系统下, 文件夹层次之间是用反斜杠 / 分割的, 但在linux/OS X 上, 是以斜杠 \\ 分割的 -- 类似于 /root/project/py"
   ]
  },
  {
   "cell_type": "markdown",
   "metadata": {},
   "source": [
    "#### 列出目录下的所有文件\n",
    "`os.listdir`函数可以列出当前目录下的文件和子目录,但不会列出子文件夹下的文件."
   ]
  },
  {
   "cell_type": "code",
   "execution_count": 33,
   "metadata": {},
   "outputs": [
    {
     "data": {
      "text/plain": [
       "['.ipynb_checkpoints',\n",
       " '11-OS&file.ipynb',\n",
       " 'readme.md',\n",
       " 'Task01 文件自动化处理&邮件批量处理.md',\n",
       " 'task01.ipynb',\n",
       " 'Task02 Python与Excel.md',\n",
       " 'Task03 python与word.md',\n",
       " 'Task04 Python操作PDF.md',\n",
       " 'Task05 爬虫入门与综合应用.md',\n",
       " '图片']"
      ]
     },
     "execution_count": 33,
     "metadata": {},
     "output_type": "execute_result"
    }
   ],
   "source": [
    "os.listdir(os.getcwd())"
   ]
  },
  {
   "cell_type": "markdown",
   "metadata": {},
   "source": [
    "思考题:如果想要获取目录下的所有文件名,包括子文件夹下的,应该怎么做?"
   ]
  },
  {
   "cell_type": "markdown",
   "metadata": {},
   "source": [
    "#### 修改工作目录"
   ]
  },
  {
   "cell_type": "code",
   "execution_count": 4,
   "metadata": {},
   "outputs": [
    {
     "ename": "FileNotFoundError",
     "evalue": "[WinError 2] 系统找不到指定的文件。: 'C:\\\\Python'",
     "output_type": "error",
     "traceback": [
      "\u001b[1;31m---------------------------------------------------------------------------\u001b[0m",
      "\u001b[1;31mFileNotFoundError\u001b[0m                         Traceback (most recent call last)",
      "\u001b[1;32m<ipython-input-4-0dc986c857f1>\u001b[0m in \u001b[0;36m<module>\u001b[1;34m\u001b[0m\n\u001b[0;32m      1\u001b[0m \u001b[1;31m# 如果传入的目录不存在, 会报错\u001b[0m\u001b[1;33m\u001b[0m\u001b[1;33m\u001b[0m\u001b[1;33m\u001b[0m\u001b[0m\n\u001b[1;32m----> 2\u001b[1;33m \u001b[0mos\u001b[0m\u001b[1;33m.\u001b[0m\u001b[0mchdir\u001b[0m\u001b[1;33m(\u001b[0m\u001b[1;34mr'C:\\Python'\u001b[0m\u001b[1;33m)\u001b[0m\u001b[1;33m\u001b[0m\u001b[1;33m\u001b[0m\u001b[0m\n\u001b[0m\u001b[0;32m      3\u001b[0m \u001b[0mprint\u001b[0m\u001b[1;33m(\u001b[0m\u001b[0mos\u001b[0m\u001b[1;33m.\u001b[0m\u001b[0mgetcwd\u001b[0m\u001b[1;33m(\u001b[0m\u001b[1;33m)\u001b[0m\u001b[1;33m)\u001b[0m\u001b[1;33m\u001b[0m\u001b[1;33m\u001b[0m\u001b[0m\n",
      "\u001b[1;31mFileNotFoundError\u001b[0m: [WinError 2] 系统找不到指定的文件。: 'C:\\\\Python'"
     ]
    }
   ],
   "source": [
    "# 如果传入的路径不存在, 会报错\n",
    "os.chdir(r'C:\\Python')"
   ]
  },
  {
   "cell_type": "code",
   "execution_count": 5,
   "metadata": {},
   "outputs": [
    {
     "name": "stdout",
     "output_type": "stream",
     "text": [
      "E:\\Python\n"
     ]
    }
   ],
   "source": [
    "os.chdir(r'E:\\Python')\n",
    "print(os.getcwd())\n",
    "#chdir是change directory的缩写\n",
    "#细心的你可能已经发现,在获取当前工作目录的时候,我们使用的是cwd,但在这里却使用了directory.\n",
    "#这是由于\"当前工作目录\"一词已经在"
   ]
  },
  {
   "cell_type": "code",
   "execution_count": 6,
   "metadata": {},
   "outputs": [
    {
     "name": "stdout",
     "output_type": "stream",
     "text": [
      "E:\\Python\n"
     ]
    }
   ],
   "source": [
    "#需要注意的是,Windows系统下,文件名和文件路径是不支持区分大小写的,因此,当你把文件夹名称中的大写字母小写时,也是可以正常运行的.\n",
    "#但在Linuxi下,文件名和文件路径是严格区分大小写的,因此一定要养成良好的习惯,否则这一点区别可能会导致你的程序在不同操作系统下的运行产生区别.\n",
    "os.chdir(r'E:\\python')\n",
    "print(os.getcwd())"
   ]
  },
  {
   "cell_type": "code",
   "execution_count": 7,
   "metadata": {},
   "outputs": [
    {
     "name": "stdout",
     "output_type": "stream",
     "text": [
      "D:\\Py\\OfficeAutomation\n"
     ]
    }
   ],
   "source": [
    "# 复原工作目录\n",
    "os.chdir(r'D:\\Py\\OfficeAutomation')\n",
    "print(os.getcwd())"
   ]
  },
  {
   "cell_type": "markdown",
   "metadata": {},
   "source": [
    "#### 路径有效性检测\n",
    "刚刚我们在修改工作目录的时候发现,如果传入的路径不存在,程序就会报错.   \n",
    "当然我们人工操作时,就可以及时根据报错修改为正确的路径.   \n",
    "但如果是在自动化运行程序的时候,我们希望能够避免路径错误这种问题,因此,这时就需要路径有效性检测函数的帮助了.   \n",
    "能够提供这个功能的函数有两种:一种是isdir/isfile,分别对应于检测文件夹(路径)和文件是否存在;另一种是exists函数,可以同时兼容文件夹和文件.    \n",
    "\n",
    "\n",
    "`os.path.exists(path)`：如果path参数所指的文件或文件夹存在，则返回True,否则返回False.     \n",
    "`os.path.isfile(path)`：如果path参数存在，并且是一个文件，则返回True,否则返回False.   \n",
    "`os.path.isdir(path)`：如果path参数存在，并且是一个文件夹，则返回True,否则返回False.   "
   ]
  },
  {
   "cell_type": "code",
   "execution_count": 22,
   "metadata": {},
   "outputs": [
    {
     "data": {
      "text/plain": [
       "False"
      ]
     },
     "execution_count": 22,
     "metadata": {},
     "output_type": "execute_result"
    }
   ],
   "source": [
    "# 检查是否存在这样一个文件夹\n",
    "os.path.isdir(r'D:\\Py\\OfficeAutomation\\data')"
   ]
  },
  {
   "cell_type": "code",
   "execution_count": 23,
   "metadata": {},
   "outputs": [
    {
     "data": {
      "text/plain": [
       "False"
      ]
     },
     "execution_count": 23,
     "metadata": {},
     "output_type": "execute_result"
    }
   ],
   "source": [
    "#检查路径是否存在\n",
    "os.path.exists(r'D:\\Py\\OfficeAutomation\\data')"
   ]
  },
  {
   "cell_type": "code",
   "execution_count": 24,
   "metadata": {},
   "outputs": [
    {
     "data": {
      "text/plain": [
       "False"
      ]
     },
     "execution_count": 24,
     "metadata": {},
     "output_type": "execute_result"
    }
   ],
   "source": [
    "# 检查文件是否存在\n",
    "os.path.exists(r'D:\\Py\\OfficeAutomation\\data\\log.txt')"
   ]
  },
  {
   "cell_type": "code",
   "execution_count": 25,
   "metadata": {},
   "outputs": [
    {
     "data": {
      "text/plain": [
       "False"
      ]
     },
     "execution_count": 25,
     "metadata": {},
     "output_type": "execute_result"
    }
   ],
   "source": [
    "# 检查文件是否存在\n",
    "os.path.isfile(r'D:\\Py\\OfficeAutomation\\data\\log.txt')"
   ]
  },
  {
   "cell_type": "code",
   "execution_count": 26,
   "metadata": {},
   "outputs": [
    {
     "data": {
      "text/plain": [
       "False"
      ]
     },
     "execution_count": 26,
     "metadata": {},
     "output_type": "execute_result"
    }
   ],
   "source": [
    "# 检查文件是否存在(传入目录总是False)\n",
    "os.path.isfile(r'D:\\Py\\OfficeAutomation\\data')"
   ]
  },
  {
   "cell_type": "markdown",
   "metadata": {},
   "source": [
    "####  创建与删除目录\n",
    "回到我们的办公自动化的探索上来.     \n",
    "在进行了路径有效性检测之后,如果路径有效,则可以使用`chdir`函数把当前工作目录更改为我们希望的目录.   \n",
    "如果检测后发现该目录不存在,我们希望能够创建这样一个目录,这时需要使用`mkdir`或`makedir`函数."
   ]
  },
  {
   "cell_type": "code",
   "execution_count": 27,
   "metadata": {},
   "outputs": [],
   "source": [
    "os.mkdir(r'D:\\Py\\OfficeAutomation\\data')"
   ]
  },
  {
   "cell_type": "markdown",
   "metadata": {},
   "source": [
    "使用`mkdir`函数正确创建文件夹后,并不会有任何的反馈,这时可以再次使用路径检测函数"
   ]
  },
  {
   "cell_type": "code",
   "execution_count": 28,
   "metadata": {},
   "outputs": [
    {
     "data": {
      "text/plain": [
       "True"
      ]
     },
     "execution_count": 28,
     "metadata": {},
     "output_type": "execute_result"
    }
   ],
   "source": [
    "os.path.isdir(r'D:\\Py\\OfficeAutomation\\data')"
   ]
  },
  {
   "cell_type": "code",
   "execution_count": 16,
   "metadata": {},
   "outputs": [
    {
     "data": {
      "text/plain": [
       "True"
      ]
     },
     "execution_count": 16,
     "metadata": {},
     "output_type": "execute_result"
    }
   ],
   "source": [
    "os.path.exists(r'D:\\Py\\OfficeAutomation\\data')"
   ]
  },
  {
   "cell_type": "markdown",
   "metadata": {},
   "source": [
    "但是如果想要直接使用`mkdir`创建多级目录的文件夹,则会抛出异常."
   ]
  },
  {
   "cell_type": "code",
   "execution_count": 17,
   "metadata": {},
   "outputs": [
    {
     "ename": "FileNotFoundError",
     "evalue": "[WinError 3] 系统找不到指定的路径。: 'D:\\\\Py\\\\OfficeAutomation\\\\data\\\\t01\\\\614'",
     "output_type": "error",
     "traceback": [
      "\u001b[1;31m---------------------------------------------------------------------------\u001b[0m",
      "\u001b[1;31mFileNotFoundError\u001b[0m                         Traceback (most recent call last)",
      "\u001b[1;32m<ipython-input-17-fe70be8df43c>\u001b[0m in \u001b[0;36m<module>\u001b[1;34m\u001b[0m\n\u001b[1;32m----> 1\u001b[1;33m \u001b[0mos\u001b[0m\u001b[1;33m.\u001b[0m\u001b[0mmkdir\u001b[0m\u001b[1;33m(\u001b[0m\u001b[1;34mr'D:\\Py\\OfficeAutomation\\data\\t01\\614'\u001b[0m\u001b[1;33m)\u001b[0m\u001b[1;33m\u001b[0m\u001b[1;33m\u001b[0m\u001b[0m\n\u001b[0m",
      "\u001b[1;31mFileNotFoundError\u001b[0m: [WinError 3] 系统找不到指定的路径。: 'D:\\\\Py\\\\OfficeAutomation\\\\data\\\\t01\\\\614'"
     ]
    }
   ],
   "source": [
    "os.mkdir(r'D:\\Py\\OfficeAutomation\\data\\t01\\614')"
   ]
  },
  {
   "cell_type": "markdown",
   "metadata": {},
   "source": [
    "os.makedirs 可以创建多层文件夹(注意结尾有s),也就是达到递归使用`mkdir`创建多层目录的目的.   \n",
    "如果该目录已存在则会抛出异常(因此我们可以在创建之前先使用路径有效性检测)."
   ]
  },
  {
   "cell_type": "code",
   "execution_count": 29,
   "metadata": {},
   "outputs": [],
   "source": [
    "os.makedirs(r'D:\\Py\\OfficeAutomation\\data\\t01\\614')"
   ]
  },
  {
   "cell_type": "code",
   "execution_count": 30,
   "metadata": {},
   "outputs": [
    {
     "data": {
      "text/plain": [
       "True"
      ]
     },
     "execution_count": 30,
     "metadata": {},
     "output_type": "execute_result"
    }
   ],
   "source": [
    "#检测多级目录创建是否成功\n",
    "os.path.isdir(r'D:\\Py\\OfficeAutomation\\data\\t01\\614')"
   ]
  },
  {
   "cell_type": "markdown",
   "metadata": {},
   "source": [
    "* 删除文件夹  \n",
    "    * os.rmdir(path) 用于删除单层目录。仅当这文件夹是空的才可以, 否则, 抛出 OSError 。\n",
    "    * os.removedirs(path) 递归删除目录，从子目录到父目录逐层尝试删除，遇到目录非空则抛出异常。"
   ]
  },
  {
   "cell_type": "code",
   "execution_count": 31,
   "metadata": {},
   "outputs": [],
   "source": [
    "os.removedirs(r'D:\\Py\\OfficeAutomation\\data\\t01\\614')"
   ]
  },
  {
   "cell_type": "code",
   "execution_count": 32,
   "metadata": {},
   "outputs": [
    {
     "data": {
      "text/plain": [
       "False"
      ]
     },
     "execution_count": 32,
     "metadata": {},
     "output_type": "execute_result"
    }
   ],
   "source": [
    "os.path.isdir(r'D:\\Py\\OfficeAutomation\\data\\t01\\614')"
   ]
  },
  {
   "cell_type": "markdown",
   "metadata": {},
   "source": [
    "#### 查看指定文件的大小\n",
    "`os.path.getsize()`函数可以返回指定文件的字节数."
   ]
  },
  {
   "cell_type": "code",
   "execution_count": 36,
   "metadata": {},
   "outputs": [
    {
     "data": {
      "text/plain": [
       "2234"
      ]
     },
     "execution_count": 36,
     "metadata": {},
     "output_type": "execute_result"
    }
   ],
   "source": [
    "os.path.getsize('readme.md')"
   ]
  },
  {
   "cell_type": "markdown",
   "metadata": {},
   "source": [
    "如果想要获取某个文件夹下所有文件的总大小,可以配合`listdir`函数使用(但不能获取子文件夹下的文件大小)"
   ]
  },
  {
   "cell_type": "code",
   "execution_count": 42,
   "metadata": {},
   "outputs": [
    {
     "name": "stdout",
     "output_type": "stream",
     "text": [
      "443147\n"
     ]
    }
   ],
   "source": [
    "totalSize = 0\n",
    "for filename in os.listdir(os.getcwd()):\n",
    "    totalSize = totalSize + os.path.getsize(os.path.join('D:\\\\Py\\\\OfficeAutomation',filename))\n",
    "    #totalSize +=  os.path.getsize(os.path.join('D:\\\\Py\\\\OfficeAutomation',filename))\n",
    "print(totalSize)"
   ]
  },
  {
   "cell_type": "code",
   "execution_count": null,
   "metadata": {},
   "outputs": [],
   "source": []
  },
  {
   "cell_type": "code",
   "execution_count": null,
   "metadata": {},
   "outputs": [],
   "source": []
  },
  {
   "cell_type": "code",
   "execution_count": null,
   "metadata": {},
   "outputs": [],
   "source": []
  },
  {
   "cell_type": "markdown",
   "metadata": {},
   "source": [
    "#### 遍历目录树"
   ]
  },
  {
   "cell_type": "code",
   "execution_count": null,
   "metadata": {},
   "outputs": [],
   "source": []
  },
  {
   "cell_type": "code",
   "execution_count": null,
   "metadata": {},
   "outputs": [],
   "source": []
  },
  {
   "cell_type": "code",
   "execution_count": null,
   "metadata": {},
   "outputs": [],
   "source": []
  },
  {
   "cell_type": "code",
   "execution_count": null,
   "metadata": {},
   "outputs": [],
   "source": [
    "capitals = {'Alabama': 'Montgomery', 'Alaska': 'Juneau', 'Arizona': 'Phoenix',\n",
    "'Arkansas': 'Little Rock', 'California': 'Sacramento', 'Colorado': 'Denver',\n",
    "'Connecticut': 'Hartford', 'Delaware': 'Dover', 'Florida': 'Tallahassee',\n",
    "'Georgia': 'Atlanta', 'Hawaii': 'Honolulu', 'Idaho': 'Boise', 'Illinois':\n",
    "'Springfield', 'Indiana': 'Indianapolis', 'Iowa': 'Des Moines', 'Kansas':\n",
    "'Topeka', 'Kentucky': 'Frankfort', 'Louisiana': 'Baton Rouge', 'Maine':\n",
    "'Augusta', 'Maryland': 'Annapolis', 'Massachusetts': 'Boston', 'Michigan':\n",
    "'Lansing', 'Minnesota': 'Saint Paul', 'Mississippi': 'Jackson', 'Missouri':\n",
    "'Jefferson City', 'Montana': 'Helena', 'Nebraska': 'Lincoln', 'Nevada':\n",
    "'Carson City', 'New Hampshire': 'Concord', 'New Jersey': 'Trenton', 'New'\n",
    "'Mexico': 'Santa Fe', 'New York': 'Albany', 'North Carolina': 'Raleigh',\n",
    "'North Dakota': 'Bismarck', 'Ohio': 'Columbus', 'Oklahoma': 'Oklahoma City',\n",
    "'Oregon': 'Salem', 'Pennsylvania': 'Harrisburg', 'Rhode Island': 'Providence',\n",
    "'South Carolina': 'Columbia', 'South Dakota': 'Pierre', 'Tennessee':\n",
    "'Nashville', 'Texas': 'Austin', 'Utah': 'Salt Lake City', 'Vermont':\n",
    "'Montpelier', 'Virginia': 'Richmond', 'Washington': 'Olympia', 'West'\n",
    "'Virginia': 'Charleston', 'Wisconsin': 'Madison', 'Wyoming': 'Cheyenne'}"
   ]
  },
  {
   "cell_type": "code",
   "execution_count": null,
   "metadata": {},
   "outputs": [],
   "source": []
  },
  {
   "cell_type": "code",
   "execution_count": null,
   "metadata": {},
   "outputs": [],
   "source": []
  },
  {
   "cell_type": "code",
   "execution_count": null,
   "metadata": {},
   "outputs": [],
   "source": []
  },
  {
   "cell_type": "code",
   "execution_count": null,
   "metadata": {},
   "outputs": [],
   "source": []
  },
  {
   "cell_type": "code",
   "execution_count": null,
   "metadata": {},
   "outputs": [],
   "source": []
  },
  {
   "cell_type": "markdown",
   "metadata": {},
   "source": [
    "# 组织文件\n",
    "在这一节,我们主要关注于使用`shutil`模块来批量地进行文件及文件夹的复制,移动,重命名,压缩等等操作.   \n"
   ]
  },
  {
   "cell_type": "code",
   "execution_count": 34,
   "metadata": {},
   "outputs": [],
   "source": [
    "import shutil"
   ]
  },
  {
   "cell_type": "markdown",
   "metadata": {},
   "source": [
    "#### 复制文件和文件夹\n",
    "#### 文件和文件夹的移动与改名\n",
    "#### 永久删除文件和文件夹\n",
    "#### 用send2trash模块安全地删除"
   ]
  },
  {
   "cell_type": "code",
   "execution_count": null,
   "metadata": {},
   "outputs": [],
   "source": []
  },
  {
   "cell_type": "markdown",
   "metadata": {},
   "source": [
    "# 文件读写相关操作"
   ]
  },
  {
   "cell_type": "code",
   "execution_count": null,
   "metadata": {},
   "outputs": [],
   "source": []
  },
  {
   "cell_type": "code",
   "execution_count": null,
   "metadata": {},
   "outputs": [],
   "source": []
  },
  {
   "cell_type": "code",
   "execution_count": null,
   "metadata": {},
   "outputs": [],
   "source": []
  },
  {
   "cell_type": "markdown",
   "metadata": {},
   "source": [
    "# 自动发送邮件"
   ]
  },
  {
   "cell_type": "code",
   "execution_count": null,
   "metadata": {},
   "outputs": [],
   "source": []
  },
  {
   "cell_type": "code",
   "execution_count": null,
   "metadata": {},
   "outputs": [],
   "source": []
  }
 ],
 "metadata": {
  "kernelspec": {
   "display_name": "Python 3",
   "language": "python",
   "name": "python3"
  },
  "language_info": {
   "codemirror_mode": {
    "name": "ipython",
    "version": 3
   },
   "file_extension": ".py",
   "mimetype": "text/x-python",
   "name": "python",
   "nbconvert_exporter": "python",
   "pygments_lexer": "ipython3",
   "version": "3.8.3"
  },
  "toc-autonumbering": false
 },
 "nbformat": 4,
 "nbformat_minor": 4
}
