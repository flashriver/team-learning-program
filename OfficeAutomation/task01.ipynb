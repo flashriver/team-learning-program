{
 "cells": [
  {
   "cell_type": "markdown",
   "metadata": {},
   "source": [
    "- Task01 文件自动化处理&邮件批量处理  \n",
    "\n",
    "[20210614 created,20210620 last updated]\n",
    "\n",
    "学习资料:    \n",
    "[1]<Python办公自动化>task01, DataWhale编写. https://github.com/datawhalechina/team-learning-program/tree/master/OfficeAutomation    \n",
    "[2]<Pyhont教程>task17文件与文件系统, DataWhale编写.https://github.com/datawhalechina/team-learning-program/tree/master/PythonLanguage   \n",
    "[3]<繁琐的工作自动化>第8章,第9章.  "
   ]
  },
  {
   "cell_type": "markdown",
   "metadata": {},
   "source": [
    "# 文件与路径的相关操作\n",
    "Python中用于处理文件目录的模块是`OS`(实际上`OS`模块的功能非常多,但我们目前只聚焦于其中涉及文件目录相关的功能).   \n",
    "我们知道,不同的操作系统会采用不同的文件系统,因此不同操作系统下地文件系统访问工作原理会有很多差异,例如,Windows下我们使用\"D:\\Python\"这样的路径来访问文件夹,而在Linux下则使用\"\\home\\Python\"这样的路径.   \n",
    "这样的做法是非常不友好且 麻烦的，因为这样就意味着当你的程序运行环境一改变，你就要相应的去修改大量的代码来应对.   \n",
    "但`OS` 这个模块可以几乎完美地兼容处理windows和Linux系统下的各种文件路径问题,这使得你可以依赖此模块来编写出能够同时适应两种操作系统的文件路径相关的`Python`程序.   \n",
    "使用该模块首先需要导入:"
   ]
  },
  {
   "cell_type": "code",
   "execution_count": 1,
   "metadata": {},
   "outputs": [],
   "source": [
    "import os"
   ]
  },
  {
   "cell_type": "markdown",
   "metadata": {},
   "source": [
    "#### 获取当前工作目录\n",
    "访问文件需要用到文件的两个属性:\"路径\"和\"文件名:.\n",
    "* **路径**指明文件在计算机上的位置\n",
    "* **文件名**是指该位置的文件的名称\n",
    "    比如，我的电脑上，有个名字为Datawhale - 开源发展理论研究.pdf的文件，它的路径在D:\\Datawhale。在windows中，路径中的D:\\部分是“根文件夹”，Datawhale是文件夹名。注：Windows中文件夹名和文件名不区分大小写的。"
   ]
  },
  {
   "cell_type": "code",
   "execution_count": 2,
   "metadata": {},
   "outputs": [
    {
     "data": {
      "text/plain": [
       "'D:\\\\Py\\\\OfficeAutomation'"
      ]
     },
     "execution_count": 2,
     "metadata": {},
     "output_type": "execute_result"
    }
   ],
   "source": [
    "os.getcwd()\n",
    "#查看当前工作目录,也就是当前文件所在的路径 -- getcwd 是 get current working directory 的缩写"
   ]
  },
  {
   "cell_type": "markdown",
   "metadata": {},
   "source": [
    "我们可以看到返回的是一个字符串'D:\\\\\\\\Py\\\\\\\\OfficeAutomation',字符串中的层次文件夹名称之间有两个斜杠,这是因为有一个斜杠是用来转义的.   \n",
    "在OS X或Linux上调用这个函数,得到的路径字符串是形如'/home/Py/OfficeAutomation'的形式的,它是以反斜杠\"/\"区分的.\n",
    "* 盘符  \n",
    "    在Windows系统中,返回的当前工作目录是以盘符\"D:\"开头的.\n",
    "* 路径分隔符    \n",
    "    在windows系统中,路径书写是使用倒斜杠'\\\\'作为文件夹之间的分隔符，而在OS X和Linux上，是使用正斜杠'/'作为它们的路径分隔符.\n",
    "    "
   ]
  },
  {
   "cell_type": "code",
   "execution_count": 3,
   "metadata": {},
   "outputs": [
    {
     "name": "stdout",
     "output_type": "stream",
     "text": [
      "D:\\Py\\OfficeAutomation\n"
     ]
    }
   ],
   "source": [
    "# 使用 print 函数格式化输出当前工作目录\n",
    "print(os.getcwd()) \n",
    "# windows系统下, 文件夹层次之间是用反斜杠 / 分割的, 但在linux/OS X 上, 是以斜杠 \\ 分割的 -- 类似于 /root/project/py"
   ]
  },
  {
   "cell_type": "markdown",
   "metadata": {},
   "source": [
    "#### 修改当前工作目录为其他文件夹"
   ]
  },
  {
   "cell_type": "code",
   "execution_count": 4,
   "metadata": {},
   "outputs": [
    {
     "ename": "FileNotFoundError",
     "evalue": "[WinError 2] 系统找不到指定的文件。: 'C:\\\\Python'",
     "output_type": "error",
     "traceback": [
      "\u001b[1;31m---------------------------------------------------------------------------\u001b[0m",
      "\u001b[1;31mFileNotFoundError\u001b[0m                         Traceback (most recent call last)",
      "\u001b[1;32m<ipython-input-4-5ced98f0559f>\u001b[0m in \u001b[0;36m<module>\u001b[1;34m\u001b[0m\n\u001b[0;32m      1\u001b[0m \u001b[1;31m# 如果传入的路径不存在, 会报错\u001b[0m\u001b[1;33m\u001b[0m\u001b[1;33m\u001b[0m\u001b[1;33m\u001b[0m\u001b[0m\n\u001b[1;32m----> 2\u001b[1;33m \u001b[0mos\u001b[0m\u001b[1;33m.\u001b[0m\u001b[0mchdir\u001b[0m\u001b[1;33m(\u001b[0m\u001b[1;34mr'C:\\Python'\u001b[0m\u001b[1;33m)\u001b[0m\u001b[1;33m\u001b[0m\u001b[1;33m\u001b[0m\u001b[0m\n\u001b[0m",
      "\u001b[1;31mFileNotFoundError\u001b[0m: [WinError 2] 系统找不到指定的文件。: 'C:\\\\Python'"
     ]
    }
   ],
   "source": [
    "# 如果传入的路径不存在, 会报错\n",
    "os.chdir(r'C:\\Python')"
   ]
  },
  {
   "cell_type": "code",
   "execution_count": 5,
   "metadata": {},
   "outputs": [
    {
     "name": "stdout",
     "output_type": "stream",
     "text": [
      "E:\\Python\n"
     ]
    }
   ],
   "source": [
    "os.chdir(r'E:\\Python')\n",
    "print(os.getcwd())"
   ]
  },
  {
   "cell_type": "markdown",
   "metadata": {},
   "source": [
    "`chdir`是change directory的缩写.   \n",
    "细心的你可能已经发现,在获取当前工作目录的时候,我们使用的是cwd,但在这里却使用了directory. 这是由于\"当前工作目录\"一词\n",
    "  \n",
    "需要注意的是,Windows系统下,文件名和文件路径是不支持区分大小写的,因此,当你把文件夹名称中的大写字母小写时,也是可以正常运行的.但在Linuxi下,文件名和文件路径是严格区分大小写的,因此一定要养成良好的习惯,否则这一点区别可能会导致你的程序在不同操作系统下的运行产生区别.\n"
   ]
  },
  {
   "cell_type": "code",
   "execution_count": 6,
   "metadata": {},
   "outputs": [
    {
     "name": "stdout",
     "output_type": "stream",
     "text": [
      "E:\\Python\n"
     ]
    }
   ],
   "source": [
    "os.chdir(r'E:\\python')\n",
    "print(os.getcwd())"
   ]
  },
  {
   "cell_type": "code",
   "execution_count": 7,
   "metadata": {},
   "outputs": [
    {
     "name": "stdout",
     "output_type": "stream",
     "text": [
      "D:\\Py\\OfficeAutomation\n"
     ]
    }
   ],
   "source": [
    "# 复原工作目录\n",
    "os.chdir(r'D:\\Py\\OfficeAutomation')\n",
    "print(os.getcwd())"
   ]
  },
  {
   "cell_type": "markdown",
   "metadata": {},
   "source": []
  },
  {
   "cell_type": "markdown",
   "metadata": {},
   "source": [
    "#### 文件路径的拆分\n",
    "* os.path.dirname(path)  \n",
    "    将返回path的最后一个斜杠之前的所有内容,也就是该文件夹(或文件)所在的文件夹    "
   ]
  },
  {
   "cell_type": "code",
   "execution_count": 23,
   "metadata": {},
   "outputs": [
    {
     "data": {
      "text/plain": [
       "'D:\\\\Py'"
      ]
     },
     "execution_count": 23,
     "metadata": {},
     "output_type": "execute_result"
    }
   ],
   "source": [
    "# 返回文件夹所在的父文件夹\n",
    "os.path.dirname('D:\\\\Py\\\\OfficeAutomation')"
   ]
  },
  {
   "cell_type": "code",
   "execution_count": 24,
   "metadata": {},
   "outputs": [
    {
     "data": {
      "text/plain": [
       "'D:\\\\Py\\\\OfficeAutomation\\\\data1\\\\SD'"
      ]
     },
     "execution_count": 24,
     "metadata": {},
     "output_type": "execute_result"
    }
   ],
   "source": [
    "# 返回文件所在的文件夹\n",
    "os.path.dirname('D:\\\\Py\\\\OfficeAutomation\\\\data1\\\\SD\\\\1-s2.0-S0096300312006704-main.pdf')"
   ]
  },
  {
   "cell_type": "code",
   "execution_count": 25,
   "metadata": {},
   "outputs": [
    {
     "data": {
      "text/plain": [
       "'D:\\\\Py\\\\OfficeAutomation\\\\data1'"
      ]
     },
     "execution_count": 25,
     "metadata": {},
     "output_type": "execute_result"
    }
   ],
   "source": [
    "# 递归调用, 则显示文件所在文件夹的父文件夹\n",
    "os.path.dirname(os.path.dirname('D:\\\\Py\\\\OfficeAutomation\\\\data1\\\\SD\\\\1-s2.0-S0096300312006704-main.pdf'))"
   ]
  },
  {
   "cell_type": "code",
   "execution_count": 27,
   "metadata": {},
   "outputs": [
    {
     "data": {
      "text/plain": [
       "'.\\\\data1'"
      ]
     },
     "execution_count": 27,
     "metadata": {},
     "output_type": "execute_result"
    }
   ],
   "source": [
    "# 也可以传入相对路径,可以得到该相对路径所位于的文件夹\n",
    "os.path.dirname('.\\data1\\SD')"
   ]
  },
  {
   "cell_type": "markdown",
   "metadata": {},
   "source": [
    "`os.path.basename()` 函数返回文件的文件名,或文件夹的名称"
   ]
  },
  {
   "cell_type": "code",
   "execution_count": 28,
   "metadata": {},
   "outputs": [
    {
     "data": {
      "text/plain": [
       "'1-s2.0-S0096300312006704-main.pdf'"
      ]
     },
     "execution_count": 28,
     "metadata": {},
     "output_type": "execute_result"
    }
   ],
   "source": [
    "#如果传入的是文件,则返回不包含路径的文件名\n",
    "os.path.basename('D:\\\\Py\\\\OfficeAutomation\\\\data1\\\\SD\\\\1-s2.0-S0096300312006704-main.pdf')"
   ]
  },
  {
   "cell_type": "code",
   "execution_count": 29,
   "metadata": {},
   "outputs": [
    {
     "data": {
      "text/plain": [
       "'SD'"
      ]
     },
     "execution_count": 29,
     "metadata": {},
     "output_type": "execute_result"
    }
   ],
   "source": [
    "#如果是文件夹,则返回文件夹的名称\n",
    "os.path.basename('D:\\\\Py\\\\OfficeAutomation\\\\data1\\\\SD')"
   ]
  },
  {
   "cell_type": "code",
   "execution_count": 30,
   "metadata": {},
   "outputs": [
    {
     "data": {
      "text/plain": [
       "''"
      ]
     },
     "execution_count": 30,
     "metadata": {},
     "output_type": "execute_result"
    }
   ],
   "source": [
    "os.path.basename('D:\\\\Py\\\\OfficeAutomation\\\\data1\\\\SD\\\\')\n",
    "# 这时返回的是个空字符串,这是由于传入的时候最后有双斜线"
   ]
  },
  {
   "cell_type": "markdown",
   "metadata": {},
   "source": [
    "* os.path.sep 属性,返回当前操作系统所支持的文件路径分隔符"
   ]
  },
  {
   "cell_type": "code",
   "execution_count": 31,
   "metadata": {},
   "outputs": [
    {
     "data": {
      "text/plain": [
       "('\\\\', str)"
      ]
     },
     "execution_count": 31,
     "metadata": {},
     "output_type": "execute_result"
    }
   ],
   "source": [
    "os.path.sep,type(os.path.sep)\n",
    "# Windows 系统返回 \"\\\\\"\n",
    "# 如果是 linux/OS X 则会返回 \"/\""
   ]
  },
  {
   "cell_type": "markdown",
   "metadata": {},
   "source": [
    "* os.path.split 将路径分拆为dirname和basename的二元组"
   ]
  },
  {
   "cell_type": "code",
   "execution_count": 33,
   "metadata": {},
   "outputs": [
    {
     "data": {
      "text/plain": [
       "('D:\\\\Py\\\\OfficeAutomation\\\\data1\\\\SD', '1-s2.0-S0096300312006704-main.pdf')"
      ]
     },
     "execution_count": 33,
     "metadata": {},
     "output_type": "execute_result"
    }
   ],
   "source": [
    "os.path.split('D:\\\\Py\\\\OfficeAutomation\\\\data1\\\\SD\\\\1-s2.0-S0096300312006704-main.pdf')"
   ]
  },
  {
   "cell_type": "code",
   "execution_count": 34,
   "metadata": {},
   "outputs": [
    {
     "data": {
      "text/plain": [
       "('D:\\\\Py\\\\OfficeAutomation\\\\data1', 'SD')"
      ]
     },
     "execution_count": 34,
     "metadata": {},
     "output_type": "execute_result"
    }
   ],
   "source": [
    "#传入文件夹,则拆分为文件夹所在的路径及文件夹名称\n",
    "os.path.split('D:\\\\Py\\\\OfficeAutomation\\\\data1\\\\SD')"
   ]
  },
  {
   "cell_type": "code",
   "execution_count": 36,
   "metadata": {},
   "outputs": [
    {
     "data": {
      "text/plain": [
       "('D:\\\\Py\\\\OfficeAutomation\\\\data1\\\\SD', '')"
      ]
     },
     "execution_count": 36,
     "metadata": {},
     "output_type": "execute_result"
    }
   ],
   "source": [
    "os.path.split('D:\\\\Py\\\\OfficeAutomation\\\\data1\\\\SD\\\\')\n",
    "# 注意文件夹最后多了分隔符后,和上边是有区别的\n",
    "# 这说明os.path.split 方法是用最后一个分隔符来进行分割的"
   ]
  },
  {
   "cell_type": "code",
   "execution_count": 37,
   "metadata": {
    "collapsed": true,
    "jupyter": {
     "outputs_hidden": true
    }
   },
   "outputs": [
    {
     "data": {
      "text/plain": [
       "\u001b[1;31mSignature:\u001b[0m \u001b[0mos\u001b[0m\u001b[1;33m.\u001b[0m\u001b[0mpath\u001b[0m\u001b[1;33m.\u001b[0m\u001b[0msplit\u001b[0m\u001b[1;33m(\u001b[0m\u001b[0mp\u001b[0m\u001b[1;33m)\u001b[0m\u001b[1;33m\u001b[0m\u001b[1;33m\u001b[0m\u001b[0m\n",
       "\u001b[1;31mSource:\u001b[0m   \n",
       "\u001b[1;32mdef\u001b[0m \u001b[0msplit\u001b[0m\u001b[1;33m(\u001b[0m\u001b[0mp\u001b[0m\u001b[1;33m)\u001b[0m\u001b[1;33m:\u001b[0m\u001b[1;33m\n",
       "\u001b[0m    \u001b[1;34m\"\"\"Split a pathname.\n",
       "\n",
       "    Return tuple (head, tail) where tail is everything after the final slash.\n",
       "    Either part may be empty.\"\"\"\u001b[0m\u001b[1;33m\n",
       "\u001b[0m    \u001b[0mp\u001b[0m \u001b[1;33m=\u001b[0m \u001b[0mos\u001b[0m\u001b[1;33m.\u001b[0m\u001b[0mfspath\u001b[0m\u001b[1;33m(\u001b[0m\u001b[0mp\u001b[0m\u001b[1;33m)\u001b[0m\u001b[1;33m\n",
       "\u001b[0m    \u001b[0mseps\u001b[0m \u001b[1;33m=\u001b[0m \u001b[0m_get_bothseps\u001b[0m\u001b[1;33m(\u001b[0m\u001b[0mp\u001b[0m\u001b[1;33m)\u001b[0m\u001b[1;33m\n",
       "\u001b[0m    \u001b[0md\u001b[0m\u001b[1;33m,\u001b[0m \u001b[0mp\u001b[0m \u001b[1;33m=\u001b[0m \u001b[0msplitdrive\u001b[0m\u001b[1;33m(\u001b[0m\u001b[0mp\u001b[0m\u001b[1;33m)\u001b[0m\u001b[1;33m\n",
       "\u001b[0m    \u001b[1;31m# set i to index beyond p's last slash\u001b[0m\u001b[1;33m\n",
       "\u001b[0m    \u001b[0mi\u001b[0m \u001b[1;33m=\u001b[0m \u001b[0mlen\u001b[0m\u001b[1;33m(\u001b[0m\u001b[0mp\u001b[0m\u001b[1;33m)\u001b[0m\u001b[1;33m\n",
       "\u001b[0m    \u001b[1;32mwhile\u001b[0m \u001b[0mi\u001b[0m \u001b[1;32mand\u001b[0m \u001b[0mp\u001b[0m\u001b[1;33m[\u001b[0m\u001b[0mi\u001b[0m\u001b[1;33m-\u001b[0m\u001b[1;36m1\u001b[0m\u001b[1;33m]\u001b[0m \u001b[1;32mnot\u001b[0m \u001b[1;32min\u001b[0m \u001b[0mseps\u001b[0m\u001b[1;33m:\u001b[0m\u001b[1;33m\n",
       "\u001b[0m        \u001b[0mi\u001b[0m \u001b[1;33m-=\u001b[0m \u001b[1;36m1\u001b[0m\u001b[1;33m\n",
       "\u001b[0m    \u001b[0mhead\u001b[0m\u001b[1;33m,\u001b[0m \u001b[0mtail\u001b[0m \u001b[1;33m=\u001b[0m \u001b[0mp\u001b[0m\u001b[1;33m[\u001b[0m\u001b[1;33m:\u001b[0m\u001b[0mi\u001b[0m\u001b[1;33m]\u001b[0m\u001b[1;33m,\u001b[0m \u001b[0mp\u001b[0m\u001b[1;33m[\u001b[0m\u001b[0mi\u001b[0m\u001b[1;33m:\u001b[0m\u001b[1;33m]\u001b[0m  \u001b[1;31m# now tail has no slashes\u001b[0m\u001b[1;33m\n",
       "\u001b[0m    \u001b[1;31m# remove trailing slashes from head, unless it's all slashes\u001b[0m\u001b[1;33m\n",
       "\u001b[0m    \u001b[0mhead\u001b[0m \u001b[1;33m=\u001b[0m \u001b[0mhead\u001b[0m\u001b[1;33m.\u001b[0m\u001b[0mrstrip\u001b[0m\u001b[1;33m(\u001b[0m\u001b[0mseps\u001b[0m\u001b[1;33m)\u001b[0m \u001b[1;32mor\u001b[0m \u001b[0mhead\u001b[0m\u001b[1;33m\n",
       "\u001b[0m    \u001b[1;32mreturn\u001b[0m \u001b[0md\u001b[0m \u001b[1;33m+\u001b[0m \u001b[0mhead\u001b[0m\u001b[1;33m,\u001b[0m \u001b[0mtail\u001b[0m\u001b[1;33m\u001b[0m\u001b[1;33m\u001b[0m\u001b[0m\n",
       "\u001b[1;31mFile:\u001b[0m      d:\\programdata\\anaconda3\\lib\\ntpath.py\n",
       "\u001b[1;31mType:\u001b[0m      function\n"
      ]
     },
     "metadata": {},
     "output_type": "display_data"
    }
   ],
   "source": [
    "os.path.split??"
   ]
  },
  {
   "cell_type": "code",
   "execution_count": 38,
   "metadata": {
    "collapsed": true,
    "jupyter": {
     "outputs_hidden": true
    }
   },
   "outputs": [
    {
     "data": {
      "text/plain": [
       "\u001b[1;31mSignature:\u001b[0m \u001b[0mos\u001b[0m\u001b[1;33m.\u001b[0m\u001b[0mfspath\u001b[0m\u001b[1;33m(\u001b[0m\u001b[0mpath\u001b[0m\u001b[1;33m)\u001b[0m\u001b[1;33m\u001b[0m\u001b[1;33m\u001b[0m\u001b[0m\n",
       "\u001b[1;31mDocstring:\u001b[0m\n",
       "Return the file system path representation of the object.\n",
       "\n",
       "If the object is str or bytes, then allow it to pass through as-is. If the\n",
       "object defines __fspath__(), then return the result of that method. All other\n",
       "types raise a TypeError.\n",
       "\u001b[1;31mType:\u001b[0m      builtin_function_or_method\n"
      ]
     },
     "metadata": {},
     "output_type": "display_data"
    }
   ],
   "source": [
    "os.fspath??"
   ]
  },
  {
   "cell_type": "markdown",
   "metadata": {},
   "source": [
    "直接使用字符串的属性方法`split`, 也可以按照操作系统支持的路径分隔符进行分割,但相对来说不那么\"自动化\",并且会影响到你的代码跨操作系统的可移植性."
   ]
  },
  {
   "cell_type": "code",
   "execution_count": 39,
   "metadata": {},
   "outputs": [
    {
     "data": {
      "text/plain": [
       "('D:\\\\Py\\\\OfficeAutomation\\\\data1\\\\SD\\\\1-s2.0-S0096300312006704-main.pdf', str)"
      ]
     },
     "execution_count": 39,
     "metadata": {},
     "output_type": "execute_result"
    }
   ],
   "source": [
    "filepath = 'D:\\\\Py\\\\OfficeAutomation\\\\data1\\\\SD\\\\1-s2.0-S0096300312006704-main.pdf'\n",
    "filepath,type(filepath)"
   ]
  },
  {
   "cell_type": "code",
   "execution_count": 40,
   "metadata": {},
   "outputs": [
    {
     "data": {
      "text/plain": [
       "['D:',\n",
       " 'Py',\n",
       " 'OfficeAutomation',\n",
       " 'data1',\n",
       " 'SD',\n",
       " '1-s2.0-S0096300312006704-main.pdf']"
      ]
     },
     "execution_count": 40,
     "metadata": {},
     "output_type": "execute_result"
    }
   ],
   "source": [
    "lst = filepath.split(os.path.sep)\n",
    "lst\n",
    "# 拆分为一个list--会自动根据操作系统来使用正确的路径分隔符"
   ]
  },
  {
   "cell_type": "code",
   "execution_count": 41,
   "metadata": {},
   "outputs": [
    {
     "data": {
      "text/plain": [
       "'D:\\\\Py\\\\OfficeAutomation\\\\data1\\\\SD\\\\1-s2.0-S0096300312006704-main.pdf'"
      ]
     },
     "execution_count": 41,
     "metadata": {},
     "output_type": "execute_result"
    }
   ],
   "source": [
    "# 使用字符串的join方法,将列表中的字符串连接成有效路径--会自动根据操作系统来使用正确的路径分隔符\n",
    "os.path.sep.join(lst)"
   ]
  },
  {
   "cell_type": "markdown",
   "metadata": {},
   "source": [
    "#### 文件路径的组合\n",
    "通常我们用os.path.join()函数来创建文件名称字符串,当然在具体的操作系统上也可以使用字符串拼接的方法来实现,但相对而言,使用join方法的代码更具有可移植性.\n",
    "`os.path.join()`方法将传入的多个字符串用os.path.sep连接起来"
   ]
  },
  {
   "cell_type": "code",
   "execution_count": 64,
   "metadata": {},
   "outputs": [
    {
     "data": {
      "text/plain": [
       "'Py\\\\note'"
      ]
     },
     "execution_count": 64,
     "metadata": {},
     "output_type": "execute_result"
    }
   ],
   "source": [
    "os.path.join(lst[1],lst[2]) # 会自动根据操作系统来使用正确的路径分隔符"
   ]
  },
  {
   "cell_type": "code",
   "execution_count": 65,
   "metadata": {
    "collapsed": true,
    "jupyter": {
     "outputs_hidden": true
    }
   },
   "outputs": [
    {
     "ename": "TypeError",
     "evalue": "expected str, bytes or os.PathLike object, not list",
     "output_type": "error",
     "traceback": [
      "\u001b[1;31m---------------------------------------------------------------------------\u001b[0m",
      "\u001b[1;31mTypeError\u001b[0m                                 Traceback (most recent call last)",
      "\u001b[1;32m<ipython-input-65-ca8a116f6b22>\u001b[0m in \u001b[0;36m<module>\u001b[1;34m\u001b[0m\n\u001b[0;32m      1\u001b[0m \u001b[1;31m# 不能直接传入list\u001b[0m\u001b[1;33m\u001b[0m\u001b[1;33m\u001b[0m\u001b[1;33m\u001b[0m\u001b[0m\n\u001b[1;32m----> 2\u001b[1;33m \u001b[0mos\u001b[0m\u001b[1;33m.\u001b[0m\u001b[0mpath\u001b[0m\u001b[1;33m.\u001b[0m\u001b[0mjoin\u001b[0m\u001b[1;33m(\u001b[0m\u001b[0mfilepath\u001b[0m\u001b[1;33m.\u001b[0m\u001b[0msplit\u001b[0m\u001b[1;33m(\u001b[0m\u001b[0mos\u001b[0m\u001b[1;33m.\u001b[0m\u001b[0mpath\u001b[0m\u001b[1;33m.\u001b[0m\u001b[0msep\u001b[0m\u001b[1;33m)\u001b[0m\u001b[1;33m)\u001b[0m\u001b[1;33m\u001b[0m\u001b[1;33m\u001b[0m\u001b[0m\n\u001b[0m",
      "\u001b[1;32md:\\ProgramData\\Anaconda3\\lib\\ntpath.py\u001b[0m in \u001b[0;36mjoin\u001b[1;34m(path, *paths)\u001b[0m\n\u001b[0;32m     74\u001b[0m \u001b[1;31m# Join two (or more) paths.\u001b[0m\u001b[1;33m\u001b[0m\u001b[1;33m\u001b[0m\u001b[1;33m\u001b[0m\u001b[0m\n\u001b[0;32m     75\u001b[0m \u001b[1;32mdef\u001b[0m \u001b[0mjoin\u001b[0m\u001b[1;33m(\u001b[0m\u001b[0mpath\u001b[0m\u001b[1;33m,\u001b[0m \u001b[1;33m*\u001b[0m\u001b[0mpaths\u001b[0m\u001b[1;33m)\u001b[0m\u001b[1;33m:\u001b[0m\u001b[1;33m\u001b[0m\u001b[1;33m\u001b[0m\u001b[0m\n\u001b[1;32m---> 76\u001b[1;33m     \u001b[0mpath\u001b[0m \u001b[1;33m=\u001b[0m \u001b[0mos\u001b[0m\u001b[1;33m.\u001b[0m\u001b[0mfspath\u001b[0m\u001b[1;33m(\u001b[0m\u001b[0mpath\u001b[0m\u001b[1;33m)\u001b[0m\u001b[1;33m\u001b[0m\u001b[1;33m\u001b[0m\u001b[0m\n\u001b[0m\u001b[0;32m     77\u001b[0m     \u001b[1;32mif\u001b[0m \u001b[0misinstance\u001b[0m\u001b[1;33m(\u001b[0m\u001b[0mpath\u001b[0m\u001b[1;33m,\u001b[0m \u001b[0mbytes\u001b[0m\u001b[1;33m)\u001b[0m\u001b[1;33m:\u001b[0m\u001b[1;33m\u001b[0m\u001b[1;33m\u001b[0m\u001b[0m\n\u001b[0;32m     78\u001b[0m         \u001b[0msep\u001b[0m \u001b[1;33m=\u001b[0m \u001b[1;34mb'\\\\'\u001b[0m\u001b[1;33m\u001b[0m\u001b[1;33m\u001b[0m\u001b[0m\n",
      "\u001b[1;31mTypeError\u001b[0m: expected str, bytes or os.PathLike object, not list"
     ]
    }
   ],
   "source": [
    "# 不能直接传入list\n",
    "os.path.join(filepath.split(os.path.sep))"
   ]
  },
  {
   "cell_type": "code",
   "execution_count": 66,
   "metadata": {},
   "outputs": [
    {
     "ename": "TypeError",
     "evalue": "expected str, bytes or os.PathLike object, not list",
     "output_type": "error",
     "traceback": [
      "\u001b[1;31m---------------------------------------------------------------------------\u001b[0m",
      "\u001b[1;31mTypeError\u001b[0m                                 Traceback (most recent call last)",
      "\u001b[1;32m<ipython-input-66-c07a06baa5ee>\u001b[0m in \u001b[0;36m<module>\u001b[1;34m\u001b[0m\n\u001b[0;32m      1\u001b[0m \u001b[1;31m# 不能直接传入list\u001b[0m\u001b[1;33m\u001b[0m\u001b[1;33m\u001b[0m\u001b[1;33m\u001b[0m\u001b[0m\n\u001b[1;32m----> 2\u001b[1;33m \u001b[0mos\u001b[0m\u001b[1;33m.\u001b[0m\u001b[0mpath\u001b[0m\u001b[1;33m.\u001b[0m\u001b[0mjoin\u001b[0m\u001b[1;33m(\u001b[0m\u001b[0mlst\u001b[0m\u001b[1;33m)\u001b[0m\u001b[1;33m\u001b[0m\u001b[1;33m\u001b[0m\u001b[0m\n\u001b[0m",
      "\u001b[1;32md:\\ProgramData\\Anaconda3\\lib\\ntpath.py\u001b[0m in \u001b[0;36mjoin\u001b[1;34m(path, *paths)\u001b[0m\n\u001b[0;32m     74\u001b[0m \u001b[1;31m# Join two (or more) paths.\u001b[0m\u001b[1;33m\u001b[0m\u001b[1;33m\u001b[0m\u001b[1;33m\u001b[0m\u001b[0m\n\u001b[0;32m     75\u001b[0m \u001b[1;32mdef\u001b[0m \u001b[0mjoin\u001b[0m\u001b[1;33m(\u001b[0m\u001b[0mpath\u001b[0m\u001b[1;33m,\u001b[0m \u001b[1;33m*\u001b[0m\u001b[0mpaths\u001b[0m\u001b[1;33m)\u001b[0m\u001b[1;33m:\u001b[0m\u001b[1;33m\u001b[0m\u001b[1;33m\u001b[0m\u001b[0m\n\u001b[1;32m---> 76\u001b[1;33m     \u001b[0mpath\u001b[0m \u001b[1;33m=\u001b[0m \u001b[0mos\u001b[0m\u001b[1;33m.\u001b[0m\u001b[0mfspath\u001b[0m\u001b[1;33m(\u001b[0m\u001b[0mpath\u001b[0m\u001b[1;33m)\u001b[0m\u001b[1;33m\u001b[0m\u001b[1;33m\u001b[0m\u001b[0m\n\u001b[0m\u001b[0;32m     77\u001b[0m     \u001b[1;32mif\u001b[0m \u001b[0misinstance\u001b[0m\u001b[1;33m(\u001b[0m\u001b[0mpath\u001b[0m\u001b[1;33m,\u001b[0m \u001b[0mbytes\u001b[0m\u001b[1;33m)\u001b[0m\u001b[1;33m:\u001b[0m\u001b[1;33m\u001b[0m\u001b[1;33m\u001b[0m\u001b[0m\n\u001b[0;32m     78\u001b[0m         \u001b[0msep\u001b[0m \u001b[1;33m=\u001b[0m \u001b[1;34mb'\\\\'\u001b[0m\u001b[1;33m\u001b[0m\u001b[1;33m\u001b[0m\u001b[0m\n",
      "\u001b[1;31mTypeError\u001b[0m: expected str, bytes or os.PathLike object, not list"
     ]
    }
   ],
   "source": [
    "# 不能直接传入list\n",
    "os.path.join(lst) "
   ]
  },
  {
   "cell_type": "code",
   "execution_count": 67,
   "metadata": {},
   "outputs": [
    {
     "ename": "TypeError",
     "evalue": "expected str, bytes or os.PathLike object, not tuple",
     "output_type": "error",
     "traceback": [
      "\u001b[1;31m---------------------------------------------------------------------------\u001b[0m",
      "\u001b[1;31mTypeError\u001b[0m                                 Traceback (most recent call last)",
      "\u001b[1;32m<ipython-input-67-7acb7b44c708>\u001b[0m in \u001b[0;36m<module>\u001b[1;34m\u001b[0m\n\u001b[0;32m      1\u001b[0m \u001b[1;31m#\u001b[0m\u001b[1;33m\u001b[0m\u001b[1;33m\u001b[0m\u001b[1;33m\u001b[0m\u001b[0m\n\u001b[1;32m----> 2\u001b[1;33m \u001b[0mos\u001b[0m\u001b[1;33m.\u001b[0m\u001b[0mpath\u001b[0m\u001b[1;33m.\u001b[0m\u001b[0mjoin\u001b[0m\u001b[1;33m(\u001b[0m\u001b[0mtuple\u001b[0m\u001b[1;33m(\u001b[0m\u001b[0mlst\u001b[0m\u001b[1;33m)\u001b[0m\u001b[1;33m)\u001b[0m\u001b[1;33m\u001b[0m\u001b[1;33m\u001b[0m\u001b[0m\n\u001b[0m",
      "\u001b[1;32md:\\ProgramData\\Anaconda3\\lib\\ntpath.py\u001b[0m in \u001b[0;36mjoin\u001b[1;34m(path, *paths)\u001b[0m\n\u001b[0;32m     74\u001b[0m \u001b[1;31m# Join two (or more) paths.\u001b[0m\u001b[1;33m\u001b[0m\u001b[1;33m\u001b[0m\u001b[1;33m\u001b[0m\u001b[0m\n\u001b[0;32m     75\u001b[0m \u001b[1;32mdef\u001b[0m \u001b[0mjoin\u001b[0m\u001b[1;33m(\u001b[0m\u001b[0mpath\u001b[0m\u001b[1;33m,\u001b[0m \u001b[1;33m*\u001b[0m\u001b[0mpaths\u001b[0m\u001b[1;33m)\u001b[0m\u001b[1;33m:\u001b[0m\u001b[1;33m\u001b[0m\u001b[1;33m\u001b[0m\u001b[0m\n\u001b[1;32m---> 76\u001b[1;33m     \u001b[0mpath\u001b[0m \u001b[1;33m=\u001b[0m \u001b[0mos\u001b[0m\u001b[1;33m.\u001b[0m\u001b[0mfspath\u001b[0m\u001b[1;33m(\u001b[0m\u001b[0mpath\u001b[0m\u001b[1;33m)\u001b[0m\u001b[1;33m\u001b[0m\u001b[1;33m\u001b[0m\u001b[0m\n\u001b[0m\u001b[0;32m     77\u001b[0m     \u001b[1;32mif\u001b[0m \u001b[0misinstance\u001b[0m\u001b[1;33m(\u001b[0m\u001b[0mpath\u001b[0m\u001b[1;33m,\u001b[0m \u001b[0mbytes\u001b[0m\u001b[1;33m)\u001b[0m\u001b[1;33m:\u001b[0m\u001b[1;33m\u001b[0m\u001b[1;33m\u001b[0m\u001b[0m\n\u001b[0;32m     78\u001b[0m         \u001b[0msep\u001b[0m \u001b[1;33m=\u001b[0m \u001b[1;34mb'\\\\'\u001b[0m\u001b[1;33m\u001b[0m\u001b[1;33m\u001b[0m\u001b[0m\n",
      "\u001b[1;31mTypeError\u001b[0m: expected str, bytes or os.PathLike object, not tuple"
     ]
    }
   ],
   "source": [
    "# tuple也不行\n",
    "os.path.join(tuple(lst)) "
   ]
  },
  {
   "cell_type": "code",
   "execution_count": 68,
   "metadata": {},
   "outputs": [
    {
     "data": {
      "text/plain": [
       "'D:\\\\Py\\\\note\\\\data\\\\test2.txt'"
      ]
     },
     "execution_count": 68,
     "metadata": {},
     "output_type": "execute_result"
    }
   ],
   "source": [
    "# 对上述法遇到的问题的解决方案之一\n",
    "os.path.sep.join(lst)"
   ]
  },
  {
   "cell_type": "code",
   "execution_count": 69,
   "metadata": {},
   "outputs": [
    {
     "data": {
      "text/plain": [
       "'D:\\\\Py\\\\note\\\\data\\\\test2.txt'"
      ]
     },
     "execution_count": 69,
     "metadata": {},
     "output_type": "execute_result"
    }
   ],
   "source": [
    "os.path.join(os.path.dirname(filepath),os.path.basename(filepath))\n",
    "# 必须传入多个字符串类型的参数"
   ]
  },
  {
   "cell_type": "code",
   "execution_count": 70,
   "metadata": {},
   "outputs": [
    {
     "data": {
      "text/plain": [
       "'D:\\\\Py\\\\note\\\\data\\\\test2.txt'"
      ]
     },
     "execution_count": 70,
     "metadata": {},
     "output_type": "execute_result"
    }
   ],
   "source": [
    "os.path.join(os.path.dirname(os.path.dirname(filepath)),os.path.dirname(filepath),os.path.basename(filepath))\n",
    "# 组合会去重?"
   ]
  },
  {
   "cell_type": "code",
   "execution_count": 71,
   "metadata": {},
   "outputs": [
    {
     "data": {
      "text/plain": [
       "('D:\\\\Py\\\\note', 'D:\\\\Py\\\\note\\\\data', 'test2.txt')"
      ]
     },
     "execution_count": 71,
     "metadata": {},
     "output_type": "execute_result"
    }
   ],
   "source": [
    "os.path.dirname(os.path.dirname(filepath)),os.path.dirname(filepath),os.path.basename(filepath)"
   ]
  },
  {
   "cell_type": "code",
   "execution_count": 72,
   "metadata": {},
   "outputs": [
    {
     "data": {
      "text/plain": [
       "'D:\\\\Py\\\\note\\\\data\\\\test2.txt'"
      ]
     },
     "execution_count": 72,
     "metadata": {},
     "output_type": "execute_result"
    }
   ],
   "source": [
    "os.path.join('D:\\\\Py\\\\note', 'D:\\\\Py\\\\note\\\\data', 'test2.txt')\n",
    "# 传入的路径有重合的层级时, 会自动识别"
   ]
  },
  {
   "cell_type": "code",
   "execution_count": 94,
   "metadata": {
    "collapsed": true,
    "jupyter": {
     "outputs_hidden": true
    }
   },
   "outputs": [
    {
     "data": {
      "text/plain": [
       "\u001b[1;31mSignature:\u001b[0m \u001b[0mos\u001b[0m\u001b[1;33m.\u001b[0m\u001b[0mpath\u001b[0m\u001b[1;33m.\u001b[0m\u001b[0mjoin\u001b[0m\u001b[1;33m(\u001b[0m\u001b[0mpath\u001b[0m\u001b[1;33m,\u001b[0m \u001b[1;33m*\u001b[0m\u001b[0mpaths\u001b[0m\u001b[1;33m)\u001b[0m\u001b[1;33m\u001b[0m\u001b[1;33m\u001b[0m\u001b[0m\n",
       "\u001b[1;31mDocstring:\u001b[0m <no docstring>\n",
       "\u001b[1;31mSource:\u001b[0m   \n",
       "\u001b[1;32mdef\u001b[0m \u001b[0mjoin\u001b[0m\u001b[1;33m(\u001b[0m\u001b[0mpath\u001b[0m\u001b[1;33m,\u001b[0m \u001b[1;33m*\u001b[0m\u001b[0mpaths\u001b[0m\u001b[1;33m)\u001b[0m\u001b[1;33m:\u001b[0m\u001b[1;33m\n",
       "\u001b[0m    \u001b[0mpath\u001b[0m \u001b[1;33m=\u001b[0m \u001b[0mos\u001b[0m\u001b[1;33m.\u001b[0m\u001b[0mfspath\u001b[0m\u001b[1;33m(\u001b[0m\u001b[0mpath\u001b[0m\u001b[1;33m)\u001b[0m\u001b[1;33m\n",
       "\u001b[0m    \u001b[1;32mif\u001b[0m \u001b[0misinstance\u001b[0m\u001b[1;33m(\u001b[0m\u001b[0mpath\u001b[0m\u001b[1;33m,\u001b[0m \u001b[0mbytes\u001b[0m\u001b[1;33m)\u001b[0m\u001b[1;33m:\u001b[0m\u001b[1;33m\n",
       "\u001b[0m        \u001b[0msep\u001b[0m \u001b[1;33m=\u001b[0m \u001b[1;34mb'\\\\'\u001b[0m\u001b[1;33m\n",
       "\u001b[0m        \u001b[0mseps\u001b[0m \u001b[1;33m=\u001b[0m \u001b[1;34mb'\\\\/'\u001b[0m\u001b[1;33m\n",
       "\u001b[0m        \u001b[0mcolon\u001b[0m \u001b[1;33m=\u001b[0m \u001b[1;34mb':'\u001b[0m\u001b[1;33m\n",
       "\u001b[0m    \u001b[1;32melse\u001b[0m\u001b[1;33m:\u001b[0m\u001b[1;33m\n",
       "\u001b[0m        \u001b[0msep\u001b[0m \u001b[1;33m=\u001b[0m \u001b[1;34m'\\\\'\u001b[0m\u001b[1;33m\n",
       "\u001b[0m        \u001b[0mseps\u001b[0m \u001b[1;33m=\u001b[0m \u001b[1;34m'\\\\/'\u001b[0m\u001b[1;33m\n",
       "\u001b[0m        \u001b[0mcolon\u001b[0m \u001b[1;33m=\u001b[0m \u001b[1;34m':'\u001b[0m\u001b[1;33m\n",
       "\u001b[0m    \u001b[1;32mtry\u001b[0m\u001b[1;33m:\u001b[0m\u001b[1;33m\n",
       "\u001b[0m        \u001b[1;32mif\u001b[0m \u001b[1;32mnot\u001b[0m \u001b[0mpaths\u001b[0m\u001b[1;33m:\u001b[0m\u001b[1;33m\n",
       "\u001b[0m            \u001b[0mpath\u001b[0m\u001b[1;33m[\u001b[0m\u001b[1;33m:\u001b[0m\u001b[1;36m0\u001b[0m\u001b[1;33m]\u001b[0m \u001b[1;33m+\u001b[0m \u001b[0msep\u001b[0m  \u001b[1;31m#23780: Ensure compatible data type even if p is null.\u001b[0m\u001b[1;33m\n",
       "\u001b[0m        \u001b[0mresult_drive\u001b[0m\u001b[1;33m,\u001b[0m \u001b[0mresult_path\u001b[0m \u001b[1;33m=\u001b[0m \u001b[0msplitdrive\u001b[0m\u001b[1;33m(\u001b[0m\u001b[0mpath\u001b[0m\u001b[1;33m)\u001b[0m\u001b[1;33m\n",
       "\u001b[0m        \u001b[1;32mfor\u001b[0m \u001b[0mp\u001b[0m \u001b[1;32min\u001b[0m \u001b[0mmap\u001b[0m\u001b[1;33m(\u001b[0m\u001b[0mos\u001b[0m\u001b[1;33m.\u001b[0m\u001b[0mfspath\u001b[0m\u001b[1;33m,\u001b[0m \u001b[0mpaths\u001b[0m\u001b[1;33m)\u001b[0m\u001b[1;33m:\u001b[0m\u001b[1;33m\n",
       "\u001b[0m            \u001b[0mp_drive\u001b[0m\u001b[1;33m,\u001b[0m \u001b[0mp_path\u001b[0m \u001b[1;33m=\u001b[0m \u001b[0msplitdrive\u001b[0m\u001b[1;33m(\u001b[0m\u001b[0mp\u001b[0m\u001b[1;33m)\u001b[0m\u001b[1;33m\n",
       "\u001b[0m            \u001b[1;32mif\u001b[0m \u001b[0mp_path\u001b[0m \u001b[1;32mand\u001b[0m \u001b[0mp_path\u001b[0m\u001b[1;33m[\u001b[0m\u001b[1;36m0\u001b[0m\u001b[1;33m]\u001b[0m \u001b[1;32min\u001b[0m \u001b[0mseps\u001b[0m\u001b[1;33m:\u001b[0m\u001b[1;33m\n",
       "\u001b[0m                \u001b[1;31m# Second path is absolute\u001b[0m\u001b[1;33m\n",
       "\u001b[0m                \u001b[1;32mif\u001b[0m \u001b[0mp_drive\u001b[0m \u001b[1;32mor\u001b[0m \u001b[1;32mnot\u001b[0m \u001b[0mresult_drive\u001b[0m\u001b[1;33m:\u001b[0m\u001b[1;33m\n",
       "\u001b[0m                    \u001b[0mresult_drive\u001b[0m \u001b[1;33m=\u001b[0m \u001b[0mp_drive\u001b[0m\u001b[1;33m\n",
       "\u001b[0m                \u001b[0mresult_path\u001b[0m \u001b[1;33m=\u001b[0m \u001b[0mp_path\u001b[0m\u001b[1;33m\n",
       "\u001b[0m                \u001b[1;32mcontinue\u001b[0m\u001b[1;33m\n",
       "\u001b[0m            \u001b[1;32melif\u001b[0m \u001b[0mp_drive\u001b[0m \u001b[1;32mand\u001b[0m \u001b[0mp_drive\u001b[0m \u001b[1;33m!=\u001b[0m \u001b[0mresult_drive\u001b[0m\u001b[1;33m:\u001b[0m\u001b[1;33m\n",
       "\u001b[0m                \u001b[1;32mif\u001b[0m \u001b[0mp_drive\u001b[0m\u001b[1;33m.\u001b[0m\u001b[0mlower\u001b[0m\u001b[1;33m(\u001b[0m\u001b[1;33m)\u001b[0m \u001b[1;33m!=\u001b[0m \u001b[0mresult_drive\u001b[0m\u001b[1;33m.\u001b[0m\u001b[0mlower\u001b[0m\u001b[1;33m(\u001b[0m\u001b[1;33m)\u001b[0m\u001b[1;33m:\u001b[0m\u001b[1;33m\n",
       "\u001b[0m                    \u001b[1;31m# Different drives => ignore the first path entirely\u001b[0m\u001b[1;33m\n",
       "\u001b[0m                    \u001b[0mresult_drive\u001b[0m \u001b[1;33m=\u001b[0m \u001b[0mp_drive\u001b[0m\u001b[1;33m\n",
       "\u001b[0m                    \u001b[0mresult_path\u001b[0m \u001b[1;33m=\u001b[0m \u001b[0mp_path\u001b[0m\u001b[1;33m\n",
       "\u001b[0m                    \u001b[1;32mcontinue\u001b[0m\u001b[1;33m\n",
       "\u001b[0m                \u001b[1;31m# Same drive in different case\u001b[0m\u001b[1;33m\n",
       "\u001b[0m                \u001b[0mresult_drive\u001b[0m \u001b[1;33m=\u001b[0m \u001b[0mp_drive\u001b[0m\u001b[1;33m\n",
       "\u001b[0m            \u001b[1;31m# Second path is relative to the first\u001b[0m\u001b[1;33m\n",
       "\u001b[0m            \u001b[1;32mif\u001b[0m \u001b[0mresult_path\u001b[0m \u001b[1;32mand\u001b[0m \u001b[0mresult_path\u001b[0m\u001b[1;33m[\u001b[0m\u001b[1;33m-\u001b[0m\u001b[1;36m1\u001b[0m\u001b[1;33m]\u001b[0m \u001b[1;32mnot\u001b[0m \u001b[1;32min\u001b[0m \u001b[0mseps\u001b[0m\u001b[1;33m:\u001b[0m\u001b[1;33m\n",
       "\u001b[0m                \u001b[0mresult_path\u001b[0m \u001b[1;33m=\u001b[0m \u001b[0mresult_path\u001b[0m \u001b[1;33m+\u001b[0m \u001b[0msep\u001b[0m\u001b[1;33m\n",
       "\u001b[0m            \u001b[0mresult_path\u001b[0m \u001b[1;33m=\u001b[0m \u001b[0mresult_path\u001b[0m \u001b[1;33m+\u001b[0m \u001b[0mp_path\u001b[0m\u001b[1;33m\n",
       "\u001b[0m        \u001b[1;31m## add separator between UNC and non-absolute path\u001b[0m\u001b[1;33m\n",
       "\u001b[0m        \u001b[1;32mif\u001b[0m \u001b[1;33m(\u001b[0m\u001b[0mresult_path\u001b[0m \u001b[1;32mand\u001b[0m \u001b[0mresult_path\u001b[0m\u001b[1;33m[\u001b[0m\u001b[1;36m0\u001b[0m\u001b[1;33m]\u001b[0m \u001b[1;32mnot\u001b[0m \u001b[1;32min\u001b[0m \u001b[0mseps\u001b[0m \u001b[1;32mand\u001b[0m\u001b[1;33m\n",
       "\u001b[0m            \u001b[0mresult_drive\u001b[0m \u001b[1;32mand\u001b[0m \u001b[0mresult_drive\u001b[0m\u001b[1;33m[\u001b[0m\u001b[1;33m-\u001b[0m\u001b[1;36m1\u001b[0m\u001b[1;33m:\u001b[0m\u001b[1;33m]\u001b[0m \u001b[1;33m!=\u001b[0m \u001b[0mcolon\u001b[0m\u001b[1;33m)\u001b[0m\u001b[1;33m:\u001b[0m\u001b[1;33m\n",
       "\u001b[0m            \u001b[1;32mreturn\u001b[0m \u001b[0mresult_drive\u001b[0m \u001b[1;33m+\u001b[0m \u001b[0msep\u001b[0m \u001b[1;33m+\u001b[0m \u001b[0mresult_path\u001b[0m\u001b[1;33m\n",
       "\u001b[0m        \u001b[1;32mreturn\u001b[0m \u001b[0mresult_drive\u001b[0m \u001b[1;33m+\u001b[0m \u001b[0mresult_path\u001b[0m\u001b[1;33m\n",
       "\u001b[0m    \u001b[1;32mexcept\u001b[0m \u001b[1;33m(\u001b[0m\u001b[0mTypeError\u001b[0m\u001b[1;33m,\u001b[0m \u001b[0mAttributeError\u001b[0m\u001b[1;33m,\u001b[0m \u001b[0mBytesWarning\u001b[0m\u001b[1;33m)\u001b[0m\u001b[1;33m:\u001b[0m\u001b[1;33m\n",
       "\u001b[0m        \u001b[0mgenericpath\u001b[0m\u001b[1;33m.\u001b[0m\u001b[0m_check_arg_types\u001b[0m\u001b[1;33m(\u001b[0m\u001b[1;34m'join'\u001b[0m\u001b[1;33m,\u001b[0m \u001b[0mpath\u001b[0m\u001b[1;33m,\u001b[0m \u001b[1;33m*\u001b[0m\u001b[0mpaths\u001b[0m\u001b[1;33m)\u001b[0m\u001b[1;33m\n",
       "\u001b[0m        \u001b[1;32mraise\u001b[0m\u001b[1;33m\u001b[0m\u001b[1;33m\u001b[0m\u001b[0m\n",
       "\u001b[1;31mFile:\u001b[0m      d:\\programdata\\anaconda3\\lib\\ntpath.py\n",
       "\u001b[1;31mType:\u001b[0m      function\n"
      ]
     },
     "metadata": {},
     "output_type": "display_data"
    }
   ],
   "source": [
    "os.path.join??"
   ]
  },
  {
   "cell_type": "code",
   "execution_count": null,
   "metadata": {},
   "outputs": [],
   "source": []
  },
  {
   "cell_type": "code",
   "execution_count": null,
   "metadata": {},
   "outputs": [],
   "source": []
  },
  {
   "cell_type": "code",
   "execution_count": null,
   "metadata": {},
   "outputs": [],
   "source": []
  },
  {
   "cell_type": "markdown",
   "metadata": {},
   "source": [
    "#### 绝对路径和相对路径的转换   \n",
    "* **绝对路径** 是从根文件夹开始,直到文件所在的文件夹的路径表示法,例如:  'C:\\Program Files\\Internet Explorer'表示C盘的ie 浏览器所在的路径.在Linux操作系统上,绝对路径类似于'/home/yanzf/Py/OfficeAutomation'.    \n",
    "* **相对路径** 是从当前工作目录算起,直到文件所在的文件夹的路径表示法.例如: '.\\data' 表示当前工作目录下的data文件夹\n",
    "    * 相对路径中的单个的点('.')表示\"这个文件夹\",就是当前工作目录.\n",
    "       例如: '.\\' 表示当前工作目录,上述的 '.\\data'表示当前工作目录下的data文件夹\n",
    "    * 如果要表示父文件夹,使用 '..'.\n",
    "       例如,当前工作目录的父文件夹为'..',父文件夹的父文件夹为'..\\..'   \n",
    "\n",
    "`os.path.abspath()`函数可以给出已知相对路径的绝对路径.接下来我们用该函数验证一下上述的内容."
   ]
  },
  {
   "cell_type": "code",
   "execution_count": 68,
   "metadata": {},
   "outputs": [
    {
     "data": {
      "text/plain": [
       "('D:\\\\Py\\\\OfficeAutomation', 'D:\\\\Py\\\\OfficeAutomation')"
      ]
     },
     "execution_count": 68,
     "metadata": {},
     "output_type": "execute_result"
    }
   ],
   "source": [
    "# 当前工作目录的相对路径转为绝对路径\n",
    "os.path.abspath('.'),os.path.abspath('.//')"
   ]
  },
  {
   "cell_type": "code",
   "execution_count": 44,
   "metadata": {},
   "outputs": [
    {
     "data": {
      "text/plain": [
       "'D:\\\\Py'"
      ]
     },
     "execution_count": 44,
     "metadata": {},
     "output_type": "execute_result"
    }
   ],
   "source": [
    "# 当前工作目录的父文件夹的绝对路径\n",
    "os.path.abspath('..')"
   ]
  },
  {
   "cell_type": "code",
   "execution_count": 72,
   "metadata": {},
   "outputs": [
    {
     "ename": "SyntaxError",
     "evalue": "EOL while scanning string literal (<ipython-input-72-4546d778a70e>, line 3)",
     "output_type": "error",
     "traceback": [
      "\u001b[1;36m  File \u001b[1;32m\"<ipython-input-72-4546d778a70e>\"\u001b[1;36m, line \u001b[1;32m3\u001b[0m\n\u001b[1;33m    os.path.abspath('..\\')\u001b[0m\n\u001b[1;37m                          ^\u001b[0m\n\u001b[1;31mSyntaxError\u001b[0m\u001b[1;31m:\u001b[0m EOL while scanning string literal\n"
     ]
    }
   ],
   "source": [
    "# 当前工作目录的父文件夹的绝对路径\n",
    "#os.path.abspath(r'..\\')\n",
    "os.path.abspath('..\\')\n",
    "# 最后不能加多余的\\,否则会报错,因为一个\"\\\"表示转义"
   ]
  },
  {
   "cell_type": "code",
   "execution_count": 73,
   "metadata": {},
   "outputs": [
    {
     "data": {
      "text/plain": [
       "'D:\\\\Py'"
      ]
     },
     "execution_count": 73,
     "metadata": {},
     "output_type": "execute_result"
    }
   ],
   "source": [
    "os.path.abspath('..\\\\')\n",
    "#加两个\"\\\"就正常了"
   ]
  },
  {
   "cell_type": "markdown",
   "metadata": {},
   "source": [
    "* os.path.abspath 返回绝对路径"
   ]
  },
  {
   "cell_type": "code",
   "execution_count": 46,
   "metadata": {},
   "outputs": [
    {
     "data": {
      "text/plain": [
       "'D:\\\\'"
      ]
     },
     "execution_count": 46,
     "metadata": {},
     "output_type": "execute_result"
    }
   ],
   "source": [
    "# 当前工作目录的父文件夹的父文件夹的绝对路径\n",
    "# 已经是根目录了\n",
    "os.path.abspath('..\\..')"
   ]
  },
  {
   "cell_type": "code",
   "execution_count": 47,
   "metadata": {},
   "outputs": [
    {
     "data": {
      "text/plain": [
       "'D:\\\\'"
      ]
     },
     "execution_count": 47,
     "metadata": {},
     "output_type": "execute_result"
    }
   ],
   "source": [
    "# 再往上求根目录,还是最终的根目录\n",
    "os.path.abspath('..\\..\\..')"
   ]
  },
  {
   "cell_type": "code",
   "execution_count": 48,
   "metadata": {},
   "outputs": [
    {
     "data": {
      "text/plain": [
       "'D:\\\\Py\\\\OfficeAutomation'"
      ]
     },
     "execution_count": 48,
     "metadata": {},
     "output_type": "execute_result"
    }
   ],
   "source": [
    "# 使用os.path.abspath() 函数给出当前工作目录的绝对路径\n",
    "# '.'是相对路径表示法,表示当前工作目录\n",
    "os.path.abspath('.')"
   ]
  },
  {
   "cell_type": "markdown",
   "metadata": {},
   "source": [
    "#### 计算相对路径\n",
    "* os.path.relpath(path,start) 函数可以计算出从start路径出发,到达path路径的相对路径表示"
   ]
  },
  {
   "cell_type": "code",
   "execution_count": 49,
   "metadata": {},
   "outputs": [
    {
     "data": {
      "text/plain": [
       "'..\\\\..\\\\..\\\\Program Files\\\\Internet Explorer'"
      ]
     },
     "execution_count": 49,
     "metadata": {},
     "output_type": "execute_result"
    }
   ],
   "source": [
    "# 例如,从\"C:\\Users\\Administrator\\Links\"到 ie 浏览器的相对路径表示\n",
    "os.path.relpath(r'C:\\Program Files\\Internet Explorer',r'C:\\Users\\Administrator\\Links')\n",
    "# 如果两个路径不在同一个分区,则会报错\n",
    "# ValueError: path is on mount 'C:', start on mount 'D:'"
   ]
  },
  {
   "cell_type": "code",
   "execution_count": 50,
   "metadata": {},
   "outputs": [
    {
     "data": {
      "text/plain": [
       "'..\\\\..\\\\ProgramData\\\\Anaconda3'"
      ]
     },
     "execution_count": 50,
     "metadata": {},
     "output_type": "execute_result"
    }
   ],
   "source": [
    "# start可以使用相对路径,例如:计算当前目录('.')到anaconda3所在文件夹的相对路径\n",
    "os.path.relpath(r'D:\\ProgramData\\Anaconda3','.')"
   ]
  },
  {
   "cell_type": "code",
   "execution_count": 51,
   "metadata": {},
   "outputs": [
    {
     "ename": "ValueError",
     "evalue": "path is on mount 'C:', start on mount 'D:'",
     "output_type": "error",
     "traceback": [
      "\u001b[1;31m---------------------------------------------------------------------------\u001b[0m",
      "\u001b[1;31mValueError\u001b[0m                                Traceback (most recent call last)",
      "\u001b[1;32m<ipython-input-51-44ba20d8facb>\u001b[0m in \u001b[0;36m<module>\u001b[1;34m\u001b[0m\n\u001b[0;32m      2\u001b[0m \u001b[1;31m# 例如,求当前目录(D盘)到 ie 浏览器的相对路径\u001b[0m\u001b[1;33m\u001b[0m\u001b[1;33m\u001b[0m\u001b[1;33m\u001b[0m\u001b[0m\n\u001b[0;32m      3\u001b[0m \u001b[1;31m# ValueError: path is on mount 'C:', start on mount 'D:'\u001b[0m\u001b[1;33m\u001b[0m\u001b[1;33m\u001b[0m\u001b[1;33m\u001b[0m\u001b[0m\n\u001b[1;32m----> 4\u001b[1;33m \u001b[0mos\u001b[0m\u001b[1;33m.\u001b[0m\u001b[0mpath\u001b[0m\u001b[1;33m.\u001b[0m\u001b[0mrelpath\u001b[0m\u001b[1;33m(\u001b[0m\u001b[1;34mr'C:\\Program Files\\Internet Explorer'\u001b[0m\u001b[1;33m,\u001b[0m\u001b[1;34m'.'\u001b[0m\u001b[1;33m)\u001b[0m\u001b[1;33m\u001b[0m\u001b[1;33m\u001b[0m\u001b[0m\n\u001b[0m",
      "\u001b[1;32mD:\\ProgramData\\Anaconda3\\lib\\ntpath.py\u001b[0m in \u001b[0;36mrelpath\u001b[1;34m(path, start)\u001b[0m\n\u001b[0;32m    701\u001b[0m         \u001b[0mpath_drive\u001b[0m\u001b[1;33m,\u001b[0m \u001b[0mpath_rest\u001b[0m \u001b[1;33m=\u001b[0m \u001b[0msplitdrive\u001b[0m\u001b[1;33m(\u001b[0m\u001b[0mpath_abs\u001b[0m\u001b[1;33m)\u001b[0m\u001b[1;33m\u001b[0m\u001b[1;33m\u001b[0m\u001b[0m\n\u001b[0;32m    702\u001b[0m         \u001b[1;32mif\u001b[0m \u001b[0mnormcase\u001b[0m\u001b[1;33m(\u001b[0m\u001b[0mstart_drive\u001b[0m\u001b[1;33m)\u001b[0m \u001b[1;33m!=\u001b[0m \u001b[0mnormcase\u001b[0m\u001b[1;33m(\u001b[0m\u001b[0mpath_drive\u001b[0m\u001b[1;33m)\u001b[0m\u001b[1;33m:\u001b[0m\u001b[1;33m\u001b[0m\u001b[1;33m\u001b[0m\u001b[0m\n\u001b[1;32m--> 703\u001b[1;33m             raise ValueError(\"path is on mount %r, start on mount %r\" % (\n\u001b[0m\u001b[0;32m    704\u001b[0m                 path_drive, start_drive))\n\u001b[0;32m    705\u001b[0m \u001b[1;33m\u001b[0m\u001b[0m\n",
      "\u001b[1;31mValueError\u001b[0m: path is on mount 'C:', start on mount 'D:'"
     ]
    }
   ],
   "source": [
    "# 但如果两个目录不在同一个分区,则会报错\n",
    "# 例如,求当前目录(D盘)到 ie 浏览器的相对路径\n",
    "# ValueError: path is on mount 'C:', start on mount 'D:'\n",
    "os.path.relpath(r'C:\\Program Files\\Internet Explorer','.')"
   ]
  },
  {
   "cell_type": "code",
   "execution_count": 52,
   "metadata": {
    "collapsed": true,
    "jupyter": {
     "outputs_hidden": true
    }
   },
   "outputs": [
    {
     "data": {
      "text/plain": [
       "\u001b[1;31mSignature:\u001b[0m \u001b[0mos\u001b[0m\u001b[1;33m.\u001b[0m\u001b[0mpath\u001b[0m\u001b[1;33m.\u001b[0m\u001b[0mrelpath\u001b[0m\u001b[1;33m(\u001b[0m\u001b[0mpath\u001b[0m\u001b[1;33m,\u001b[0m \u001b[0mstart\u001b[0m\u001b[1;33m=\u001b[0m\u001b[1;32mNone\u001b[0m\u001b[1;33m)\u001b[0m\u001b[1;33m\u001b[0m\u001b[1;33m\u001b[0m\u001b[0m\n",
       "\u001b[1;31mSource:\u001b[0m   \n",
       "\u001b[1;32mdef\u001b[0m \u001b[0mrelpath\u001b[0m\u001b[1;33m(\u001b[0m\u001b[0mpath\u001b[0m\u001b[1;33m,\u001b[0m \u001b[0mstart\u001b[0m\u001b[1;33m=\u001b[0m\u001b[1;32mNone\u001b[0m\u001b[1;33m)\u001b[0m\u001b[1;33m:\u001b[0m\u001b[1;33m\n",
       "\u001b[0m    \u001b[1;34m\"\"\"Return a relative version of a path\"\"\"\u001b[0m\u001b[1;33m\n",
       "\u001b[0m    \u001b[0mpath\u001b[0m \u001b[1;33m=\u001b[0m \u001b[0mos\u001b[0m\u001b[1;33m.\u001b[0m\u001b[0mfspath\u001b[0m\u001b[1;33m(\u001b[0m\u001b[0mpath\u001b[0m\u001b[1;33m)\u001b[0m\u001b[1;33m\n",
       "\u001b[0m    \u001b[1;32mif\u001b[0m \u001b[0misinstance\u001b[0m\u001b[1;33m(\u001b[0m\u001b[0mpath\u001b[0m\u001b[1;33m,\u001b[0m \u001b[0mbytes\u001b[0m\u001b[1;33m)\u001b[0m\u001b[1;33m:\u001b[0m\u001b[1;33m\n",
       "\u001b[0m        \u001b[0msep\u001b[0m \u001b[1;33m=\u001b[0m \u001b[1;34mb'\\\\'\u001b[0m\u001b[1;33m\n",
       "\u001b[0m        \u001b[0mcurdir\u001b[0m \u001b[1;33m=\u001b[0m \u001b[1;34mb'.'\u001b[0m\u001b[1;33m\n",
       "\u001b[0m        \u001b[0mpardir\u001b[0m \u001b[1;33m=\u001b[0m \u001b[1;34mb'..'\u001b[0m\u001b[1;33m\n",
       "\u001b[0m    \u001b[1;32melse\u001b[0m\u001b[1;33m:\u001b[0m\u001b[1;33m\n",
       "\u001b[0m        \u001b[0msep\u001b[0m \u001b[1;33m=\u001b[0m \u001b[1;34m'\\\\'\u001b[0m\u001b[1;33m\n",
       "\u001b[0m        \u001b[0mcurdir\u001b[0m \u001b[1;33m=\u001b[0m \u001b[1;34m'.'\u001b[0m\u001b[1;33m\n",
       "\u001b[0m        \u001b[0mpardir\u001b[0m \u001b[1;33m=\u001b[0m \u001b[1;34m'..'\u001b[0m\u001b[1;33m\n",
       "\u001b[0m\u001b[1;33m\n",
       "\u001b[0m    \u001b[1;32mif\u001b[0m \u001b[0mstart\u001b[0m \u001b[1;32mis\u001b[0m \u001b[1;32mNone\u001b[0m\u001b[1;33m:\u001b[0m\u001b[1;33m\n",
       "\u001b[0m        \u001b[0mstart\u001b[0m \u001b[1;33m=\u001b[0m \u001b[0mcurdir\u001b[0m\u001b[1;33m\n",
       "\u001b[0m\u001b[1;33m\n",
       "\u001b[0m    \u001b[1;32mif\u001b[0m \u001b[1;32mnot\u001b[0m \u001b[0mpath\u001b[0m\u001b[1;33m:\u001b[0m\u001b[1;33m\n",
       "\u001b[0m        \u001b[1;32mraise\u001b[0m \u001b[0mValueError\u001b[0m\u001b[1;33m(\u001b[0m\u001b[1;34m\"no path specified\"\u001b[0m\u001b[1;33m)\u001b[0m\u001b[1;33m\n",
       "\u001b[0m\u001b[1;33m\n",
       "\u001b[0m    \u001b[0mstart\u001b[0m \u001b[1;33m=\u001b[0m \u001b[0mos\u001b[0m\u001b[1;33m.\u001b[0m\u001b[0mfspath\u001b[0m\u001b[1;33m(\u001b[0m\u001b[0mstart\u001b[0m\u001b[1;33m)\u001b[0m\u001b[1;33m\n",
       "\u001b[0m    \u001b[1;32mtry\u001b[0m\u001b[1;33m:\u001b[0m\u001b[1;33m\n",
       "\u001b[0m        \u001b[0mstart_abs\u001b[0m \u001b[1;33m=\u001b[0m \u001b[0mabspath\u001b[0m\u001b[1;33m(\u001b[0m\u001b[0mnormpath\u001b[0m\u001b[1;33m(\u001b[0m\u001b[0mstart\u001b[0m\u001b[1;33m)\u001b[0m\u001b[1;33m)\u001b[0m\u001b[1;33m\n",
       "\u001b[0m        \u001b[0mpath_abs\u001b[0m \u001b[1;33m=\u001b[0m \u001b[0mabspath\u001b[0m\u001b[1;33m(\u001b[0m\u001b[0mnormpath\u001b[0m\u001b[1;33m(\u001b[0m\u001b[0mpath\u001b[0m\u001b[1;33m)\u001b[0m\u001b[1;33m)\u001b[0m\u001b[1;33m\n",
       "\u001b[0m        \u001b[0mstart_drive\u001b[0m\u001b[1;33m,\u001b[0m \u001b[0mstart_rest\u001b[0m \u001b[1;33m=\u001b[0m \u001b[0msplitdrive\u001b[0m\u001b[1;33m(\u001b[0m\u001b[0mstart_abs\u001b[0m\u001b[1;33m)\u001b[0m\u001b[1;33m\n",
       "\u001b[0m        \u001b[0mpath_drive\u001b[0m\u001b[1;33m,\u001b[0m \u001b[0mpath_rest\u001b[0m \u001b[1;33m=\u001b[0m \u001b[0msplitdrive\u001b[0m\u001b[1;33m(\u001b[0m\u001b[0mpath_abs\u001b[0m\u001b[1;33m)\u001b[0m\u001b[1;33m\n",
       "\u001b[0m        \u001b[1;32mif\u001b[0m \u001b[0mnormcase\u001b[0m\u001b[1;33m(\u001b[0m\u001b[0mstart_drive\u001b[0m\u001b[1;33m)\u001b[0m \u001b[1;33m!=\u001b[0m \u001b[0mnormcase\u001b[0m\u001b[1;33m(\u001b[0m\u001b[0mpath_drive\u001b[0m\u001b[1;33m)\u001b[0m\u001b[1;33m:\u001b[0m\u001b[1;33m\n",
       "\u001b[0m            \u001b[1;32mraise\u001b[0m \u001b[0mValueError\u001b[0m\u001b[1;33m(\u001b[0m\u001b[1;34m\"path is on mount %r, start on mount %r\"\u001b[0m \u001b[1;33m%\u001b[0m \u001b[1;33m(\u001b[0m\u001b[1;33m\n",
       "\u001b[0m                \u001b[0mpath_drive\u001b[0m\u001b[1;33m,\u001b[0m \u001b[0mstart_drive\u001b[0m\u001b[1;33m)\u001b[0m\u001b[1;33m)\u001b[0m\u001b[1;33m\n",
       "\u001b[0m\u001b[1;33m\n",
       "\u001b[0m        \u001b[0mstart_list\u001b[0m \u001b[1;33m=\u001b[0m \u001b[1;33m[\u001b[0m\u001b[0mx\u001b[0m \u001b[1;32mfor\u001b[0m \u001b[0mx\u001b[0m \u001b[1;32min\u001b[0m \u001b[0mstart_rest\u001b[0m\u001b[1;33m.\u001b[0m\u001b[0msplit\u001b[0m\u001b[1;33m(\u001b[0m\u001b[0msep\u001b[0m\u001b[1;33m)\u001b[0m \u001b[1;32mif\u001b[0m \u001b[0mx\u001b[0m\u001b[1;33m]\u001b[0m\u001b[1;33m\n",
       "\u001b[0m        \u001b[0mpath_list\u001b[0m \u001b[1;33m=\u001b[0m \u001b[1;33m[\u001b[0m\u001b[0mx\u001b[0m \u001b[1;32mfor\u001b[0m \u001b[0mx\u001b[0m \u001b[1;32min\u001b[0m \u001b[0mpath_rest\u001b[0m\u001b[1;33m.\u001b[0m\u001b[0msplit\u001b[0m\u001b[1;33m(\u001b[0m\u001b[0msep\u001b[0m\u001b[1;33m)\u001b[0m \u001b[1;32mif\u001b[0m \u001b[0mx\u001b[0m\u001b[1;33m]\u001b[0m\u001b[1;33m\n",
       "\u001b[0m        \u001b[1;31m# Work out how much of the filepath is shared by start and path.\u001b[0m\u001b[1;33m\n",
       "\u001b[0m        \u001b[0mi\u001b[0m \u001b[1;33m=\u001b[0m \u001b[1;36m0\u001b[0m\u001b[1;33m\n",
       "\u001b[0m        \u001b[1;32mfor\u001b[0m \u001b[0me1\u001b[0m\u001b[1;33m,\u001b[0m \u001b[0me2\u001b[0m \u001b[1;32min\u001b[0m \u001b[0mzip\u001b[0m\u001b[1;33m(\u001b[0m\u001b[0mstart_list\u001b[0m\u001b[1;33m,\u001b[0m \u001b[0mpath_list\u001b[0m\u001b[1;33m)\u001b[0m\u001b[1;33m:\u001b[0m\u001b[1;33m\n",
       "\u001b[0m            \u001b[1;32mif\u001b[0m \u001b[0mnormcase\u001b[0m\u001b[1;33m(\u001b[0m\u001b[0me1\u001b[0m\u001b[1;33m)\u001b[0m \u001b[1;33m!=\u001b[0m \u001b[0mnormcase\u001b[0m\u001b[1;33m(\u001b[0m\u001b[0me2\u001b[0m\u001b[1;33m)\u001b[0m\u001b[1;33m:\u001b[0m\u001b[1;33m\n",
       "\u001b[0m                \u001b[1;32mbreak\u001b[0m\u001b[1;33m\n",
       "\u001b[0m            \u001b[0mi\u001b[0m \u001b[1;33m+=\u001b[0m \u001b[1;36m1\u001b[0m\u001b[1;33m\n",
       "\u001b[0m\u001b[1;33m\n",
       "\u001b[0m        \u001b[0mrel_list\u001b[0m \u001b[1;33m=\u001b[0m \u001b[1;33m[\u001b[0m\u001b[0mpardir\u001b[0m\u001b[1;33m]\u001b[0m \u001b[1;33m*\u001b[0m \u001b[1;33m(\u001b[0m\u001b[0mlen\u001b[0m\u001b[1;33m(\u001b[0m\u001b[0mstart_list\u001b[0m\u001b[1;33m)\u001b[0m\u001b[1;33m-\u001b[0m\u001b[0mi\u001b[0m\u001b[1;33m)\u001b[0m \u001b[1;33m+\u001b[0m \u001b[0mpath_list\u001b[0m\u001b[1;33m[\u001b[0m\u001b[0mi\u001b[0m\u001b[1;33m:\u001b[0m\u001b[1;33m]\u001b[0m\u001b[1;33m\n",
       "\u001b[0m        \u001b[1;32mif\u001b[0m \u001b[1;32mnot\u001b[0m \u001b[0mrel_list\u001b[0m\u001b[1;33m:\u001b[0m\u001b[1;33m\n",
       "\u001b[0m            \u001b[1;32mreturn\u001b[0m \u001b[0mcurdir\u001b[0m\u001b[1;33m\n",
       "\u001b[0m        \u001b[1;32mreturn\u001b[0m \u001b[0mjoin\u001b[0m\u001b[1;33m(\u001b[0m\u001b[1;33m*\u001b[0m\u001b[0mrel_list\u001b[0m\u001b[1;33m)\u001b[0m\u001b[1;33m\n",
       "\u001b[0m    \u001b[1;32mexcept\u001b[0m \u001b[1;33m(\u001b[0m\u001b[0mTypeError\u001b[0m\u001b[1;33m,\u001b[0m \u001b[0mValueError\u001b[0m\u001b[1;33m,\u001b[0m \u001b[0mAttributeError\u001b[0m\u001b[1;33m,\u001b[0m \u001b[0mBytesWarning\u001b[0m\u001b[1;33m,\u001b[0m \u001b[0mDeprecationWarning\u001b[0m\u001b[1;33m)\u001b[0m\u001b[1;33m:\u001b[0m\u001b[1;33m\n",
       "\u001b[0m        \u001b[0mgenericpath\u001b[0m\u001b[1;33m.\u001b[0m\u001b[0m_check_arg_types\u001b[0m\u001b[1;33m(\u001b[0m\u001b[1;34m'relpath'\u001b[0m\u001b[1;33m,\u001b[0m \u001b[0mpath\u001b[0m\u001b[1;33m,\u001b[0m \u001b[0mstart\u001b[0m\u001b[1;33m)\u001b[0m\u001b[1;33m\n",
       "\u001b[0m        \u001b[1;32mraise\u001b[0m\u001b[1;33m\u001b[0m\u001b[1;33m\u001b[0m\u001b[0m\n",
       "\u001b[1;31mFile:\u001b[0m      d:\\programdata\\anaconda3\\lib\\ntpath.py\n",
       "\u001b[1;31mType:\u001b[0m      function\n"
      ]
     },
     "metadata": {},
     "output_type": "display_data"
    }
   ],
   "source": [
    "os.path.relpath??"
   ]
  },
  {
   "cell_type": "markdown",
   "metadata": {},
   "source": [
    "#### 列出目录下的所有文件\n",
    "`os.listdir`函数可以列出当前目录下的文件和子目录,但不会列出子文件夹下的文件."
   ]
  },
  {
   "cell_type": "code",
   "execution_count": 8,
   "metadata": {},
   "outputs": [
    {
     "data": {
      "text/plain": [
       "['.ipynb_checkpoints',\n",
       " '11-OS&file.ipynb',\n",
       " 'readme.md',\n",
       " 'Task01 文件自动化处理&邮件批量处理.md',\n",
       " 'task01.ipynb',\n",
       " 'Task02 Python与Excel.md',\n",
       " 'Task03 python与word.md',\n",
       " 'Task04 Python操作PDF.md',\n",
       " 'Task05 爬虫入门与综合应用.md',\n",
       " 'test',\n",
       " '图片']"
      ]
     },
     "execution_count": 8,
     "metadata": {},
     "output_type": "execute_result"
    }
   ],
   "source": [
    "os.listdir(os.getcwd())"
   ]
  },
  {
   "cell_type": "markdown",
   "metadata": {},
   "source": [
    "* 思考题:如果想要获取目录下的所有文件名,包括子文件夹下的,应该怎么做?"
   ]
  },
  {
   "cell_type": "code",
   "execution_count": null,
   "metadata": {},
   "outputs": [],
   "source": []
  },
  {
   "cell_type": "markdown",
   "metadata": {},
   "source": [
    "#### 重命名文件(或文件夹)"
   ]
  },
  {
   "cell_type": "code",
   "execution_count": 10,
   "metadata": {},
   "outputs": [],
   "source": [
    "#重命名文件(或文件夹)\n",
    "#将test文件夹重命名为data1\n",
    "os.rename('test','data1')"
   ]
  },
  {
   "cell_type": "code",
   "execution_count": 11,
   "metadata": {},
   "outputs": [
    {
     "data": {
      "text/plain": [
       "['.ipynb_checkpoints',\n",
       " '11-OS&file.ipynb',\n",
       " 'data1',\n",
       " 'readme.md',\n",
       " 'Task01 文件自动化处理&邮件批量处理.md',\n",
       " 'task01.ipynb',\n",
       " 'Task02 Python与Excel.md',\n",
       " 'Task03 python与word.md',\n",
       " 'Task04 Python操作PDF.md',\n",
       " 'Task05 爬虫入门与综合应用.md',\n",
       " '图片']"
      ]
     },
     "execution_count": 11,
     "metadata": {},
     "output_type": "execute_result"
    }
   ],
   "source": [
    "#检查修改结果\n",
    "os.listdir(os.getcwd())"
   ]
  },
  {
   "cell_type": "markdown",
   "metadata": {},
   "source": [
    "#### 路径有效性检测\n",
    "刚刚我们在修改工作目录的时候发现,如果传入的路径不存在,程序就会报错.   \n",
    "当然我们人工操作时,就可以及时根据报错修改为正确的路径.   \n",
    "但如果是在自动化运行程序的时候,我们希望能够避免路径错误这种问题,因此,这时就需要路径有效性检测函数的帮助了.   \n",
    "能够提供这个功能的函数有两种:一种是isdir/isfile,分别对应于检测文件夹(路径)和文件是否存在;另一种是exists函数,可以同时兼容文件夹和文件.    \n",
    "\n",
    "\n",
    "`os.path.exists(path)`：如果path参数所指的文件或文件夹存在，则返回True,否则返回False.     \n",
    "`os.path.isfile(path)`：如果path参数存在，并且是一个文件，则返回True,否则返回False.   \n",
    "`os.path.isdir(path)`：如果path参数存在，并且是一个文件夹，则返回True,否则返回False.   "
   ]
  },
  {
   "cell_type": "code",
   "execution_count": null,
   "metadata": {},
   "outputs": [],
   "source": [
    "# 检查是否存在这样一个文件夹\n",
    "os.path.isdir(r'D:\\Py\\OfficeAutomation\\data')"
   ]
  },
  {
   "cell_type": "code",
   "execution_count": null,
   "metadata": {},
   "outputs": [],
   "source": [
    "#检查路径是否存在\n",
    "os.path.exists(r'D:\\Py\\OfficeAutomation\\data')"
   ]
  },
  {
   "cell_type": "code",
   "execution_count": null,
   "metadata": {},
   "outputs": [],
   "source": [
    "# 检查文件是否存在\n",
    "os.path.exists(r'D:\\Py\\OfficeAutomation\\data\\log.txt')"
   ]
  },
  {
   "cell_type": "code",
   "execution_count": null,
   "metadata": {},
   "outputs": [],
   "source": [
    "# 检查文件是否存在\n",
    "os.path.isfile(r'D:\\Py\\OfficeAutomation\\data\\log.txt')"
   ]
  },
  {
   "cell_type": "code",
   "execution_count": null,
   "metadata": {},
   "outputs": [],
   "source": [
    "# 检查文件是否存在(传入目录总是False)\n",
    "os.path.isfile(r'D:\\Py\\OfficeAutomation\\data')"
   ]
  },
  {
   "cell_type": "markdown",
   "metadata": {},
   "source": [
    "####  创建单级目录\n",
    "回到我们的办公自动化的探索上来.     \n",
    "在进行了路径有效性检测之后,如果路径有效,则可以使用`chdir`函数把当前工作目录更改为我们希望的目录.   \n",
    "如果检测后发现该目录不存在,我们希望能够创建这样一个目录,这时需要使用`mkdir`或`makedir`函数."
   ]
  },
  {
   "cell_type": "code",
   "execution_count": 75,
   "metadata": {},
   "outputs": [],
   "source": [
    "os.mkdir(r'D:\\Py\\OfficeAutomation\\data')"
   ]
  },
  {
   "cell_type": "markdown",
   "metadata": {},
   "source": [
    "使用`mkdir`函数正确创建文件夹后,并不会有任何的反馈,这时可以再次使用路径检测函数"
   ]
  },
  {
   "cell_type": "code",
   "execution_count": 76,
   "metadata": {},
   "outputs": [
    {
     "data": {
      "text/plain": [
       "True"
      ]
     },
     "execution_count": 76,
     "metadata": {},
     "output_type": "execute_result"
    }
   ],
   "source": [
    "os.path.isdir(r'D:\\Py\\OfficeAutomation\\data')"
   ]
  },
  {
   "cell_type": "code",
   "execution_count": 77,
   "metadata": {},
   "outputs": [
    {
     "data": {
      "text/plain": [
       "True"
      ]
     },
     "execution_count": 77,
     "metadata": {},
     "output_type": "execute_result"
    }
   ],
   "source": [
    "os.path.exists(r'D:\\Py\\OfficeAutomation\\data')"
   ]
  },
  {
   "cell_type": "markdown",
   "metadata": {},
   "source": [
    "但是如果想要直接使用`mkdir`创建多级目录的文件夹,则会抛出异常."
   ]
  },
  {
   "cell_type": "code",
   "execution_count": 78,
   "metadata": {},
   "outputs": [
    {
     "ename": "FileNotFoundError",
     "evalue": "[WinError 3] 系统找不到指定的路径。: 'D:\\\\Py\\\\OfficeAutomation\\\\data\\\\t01\\\\614'",
     "output_type": "error",
     "traceback": [
      "\u001b[1;31m---------------------------------------------------------------------------\u001b[0m",
      "\u001b[1;31mFileNotFoundError\u001b[0m                         Traceback (most recent call last)",
      "\u001b[1;32m<ipython-input-78-fe70be8df43c>\u001b[0m in \u001b[0;36m<module>\u001b[1;34m\u001b[0m\n\u001b[1;32m----> 1\u001b[1;33m \u001b[0mos\u001b[0m\u001b[1;33m.\u001b[0m\u001b[0mmkdir\u001b[0m\u001b[1;33m(\u001b[0m\u001b[1;34mr'D:\\Py\\OfficeAutomation\\data\\t01\\614'\u001b[0m\u001b[1;33m)\u001b[0m\u001b[1;33m\u001b[0m\u001b[1;33m\u001b[0m\u001b[0m\n\u001b[0m",
      "\u001b[1;31mFileNotFoundError\u001b[0m: [WinError 3] 系统找不到指定的路径。: 'D:\\\\Py\\\\OfficeAutomation\\\\data\\\\t01\\\\614'"
     ]
    }
   ],
   "source": [
    "os.mkdir(r'D:\\Py\\OfficeAutomation\\data\\t01\\614')"
   ]
  },
  {
   "cell_type": "markdown",
   "metadata": {},
   "source": [
    "####  创建多级目录\n",
    "os.makedirs 可以创建多层文件夹(注意结尾有s),也就是达到递归使用`mkdir`创建多层目录的目的.   \n",
    "如果该目录已存在则会抛出异常(因此我们可以在创建之前先使用路径有效性检测)."
   ]
  },
  {
   "cell_type": "code",
   "execution_count": 79,
   "metadata": {},
   "outputs": [],
   "source": [
    "os.makedirs(r'D:\\Py\\OfficeAutomation\\data\\t01\\614')"
   ]
  },
  {
   "cell_type": "code",
   "execution_count": 80,
   "metadata": {},
   "outputs": [
    {
     "data": {
      "text/plain": [
       "True"
      ]
     },
     "execution_count": 80,
     "metadata": {},
     "output_type": "execute_result"
    }
   ],
   "source": [
    "#检测多级目录创建是否成功\n",
    "os.path.isdir(r'D:\\Py\\OfficeAutomation\\data\\t01\\614')"
   ]
  },
  {
   "cell_type": "markdown",
   "metadata": {},
   "source": [
    "#### 删除文件夹 \n",
    "和创建目录类似,删除目录也有两个方法,分别用于删除单级目录和逐层删除所有非空目录\n",
    "    * os.rmdir(path) 用于删除单层目录。仅当这文件夹是空的才可以, 否则, 抛出 OSError 。\n",
    "    * os.removedirs(path) 递归删除目录，从子目录到父目录逐层尝试删除，遇到目录非空则抛出异常。"
   ]
  },
  {
   "cell_type": "code",
   "execution_count": 81,
   "metadata": {},
   "outputs": [
    {
     "ename": "OSError",
     "evalue": "[WinError 145] 目录不是空的。: 'D:\\\\Py\\\\OfficeAutomation\\\\data\\\\t01\\\\614'",
     "output_type": "error",
     "traceback": [
      "\u001b[1;31m---------------------------------------------------------------------------\u001b[0m",
      "\u001b[1;31mOSError\u001b[0m                                   Traceback (most recent call last)",
      "\u001b[1;32m<ipython-input-81-5a81cf159745>\u001b[0m in \u001b[0;36m<module>\u001b[1;34m\u001b[0m\n\u001b[1;32m----> 1\u001b[1;33m \u001b[0mos\u001b[0m\u001b[1;33m.\u001b[0m\u001b[0mremovedirs\u001b[0m\u001b[1;33m(\u001b[0m\u001b[1;34mr'D:\\Py\\OfficeAutomation\\data\\t01\\614'\u001b[0m\u001b[1;33m)\u001b[0m\u001b[1;33m\u001b[0m\u001b[1;33m\u001b[0m\u001b[0m\n\u001b[0m",
      "\u001b[1;32mD:\\ProgramData\\Anaconda3\\lib\\os.py\u001b[0m in \u001b[0;36mremovedirs\u001b[1;34m(name)\u001b[0m\n\u001b[0;32m    239\u001b[0m \u001b[1;33m\u001b[0m\u001b[0m\n\u001b[0;32m    240\u001b[0m     \"\"\"\n\u001b[1;32m--> 241\u001b[1;33m     \u001b[0mrmdir\u001b[0m\u001b[1;33m(\u001b[0m\u001b[0mname\u001b[0m\u001b[1;33m)\u001b[0m\u001b[1;33m\u001b[0m\u001b[1;33m\u001b[0m\u001b[0m\n\u001b[0m\u001b[0;32m    242\u001b[0m     \u001b[0mhead\u001b[0m\u001b[1;33m,\u001b[0m \u001b[0mtail\u001b[0m \u001b[1;33m=\u001b[0m \u001b[0mpath\u001b[0m\u001b[1;33m.\u001b[0m\u001b[0msplit\u001b[0m\u001b[1;33m(\u001b[0m\u001b[0mname\u001b[0m\u001b[1;33m)\u001b[0m\u001b[1;33m\u001b[0m\u001b[1;33m\u001b[0m\u001b[0m\n\u001b[0;32m    243\u001b[0m     \u001b[1;32mif\u001b[0m \u001b[1;32mnot\u001b[0m \u001b[0mtail\u001b[0m\u001b[1;33m:\u001b[0m\u001b[1;33m\u001b[0m\u001b[1;33m\u001b[0m\u001b[0m\n",
      "\u001b[1;31mOSError\u001b[0m: [WinError 145] 目录不是空的。: 'D:\\\\Py\\\\OfficeAutomation\\\\data\\\\t01\\\\614'"
     ]
    }
   ],
   "source": [
    "os.removedirs(r'D:\\Py\\OfficeAutomation\\data\\t01\\614')"
   ]
  },
  {
   "cell_type": "code",
   "execution_count": 82,
   "metadata": {},
   "outputs": [
    {
     "data": {
      "text/plain": [
       "True"
      ]
     },
     "execution_count": 82,
     "metadata": {},
     "output_type": "execute_result"
    }
   ],
   "source": [
    "os.path.isdir(r'D:\\Py\\OfficeAutomation\\data\\t01\\614')"
   ]
  },
  {
   "cell_type": "code",
   "execution_count": 83,
   "metadata": {},
   "outputs": [
    {
     "ename": "NotADirectoryError",
     "evalue": "[WinError 267] 目录名称无效。: 'D:\\\\Py\\\\OfficeAutomation\\\\data\\\\t01\\\\614\\\\615.txt'",
     "output_type": "error",
     "traceback": [
      "\u001b[1;31m---------------------------------------------------------------------------\u001b[0m",
      "\u001b[1;31mNotADirectoryError\u001b[0m                        Traceback (most recent call last)",
      "\u001b[1;32m<ipython-input-83-3271dbd5493a>\u001b[0m in \u001b[0;36m<module>\u001b[1;34m\u001b[0m\n\u001b[1;32m----> 1\u001b[1;33m \u001b[0mos\u001b[0m\u001b[1;33m.\u001b[0m\u001b[0mremovedirs\u001b[0m\u001b[1;33m(\u001b[0m\u001b[1;34mr'D:\\Py\\OfficeAutomation\\data\\t01\\614\\615.txt'\u001b[0m\u001b[1;33m)\u001b[0m\u001b[1;33m\u001b[0m\u001b[1;33m\u001b[0m\u001b[0m\n\u001b[0m",
      "\u001b[1;32mD:\\ProgramData\\Anaconda3\\lib\\os.py\u001b[0m in \u001b[0;36mremovedirs\u001b[1;34m(name)\u001b[0m\n\u001b[0;32m    239\u001b[0m \u001b[1;33m\u001b[0m\u001b[0m\n\u001b[0;32m    240\u001b[0m     \"\"\"\n\u001b[1;32m--> 241\u001b[1;33m     \u001b[0mrmdir\u001b[0m\u001b[1;33m(\u001b[0m\u001b[0mname\u001b[0m\u001b[1;33m)\u001b[0m\u001b[1;33m\u001b[0m\u001b[1;33m\u001b[0m\u001b[0m\n\u001b[0m\u001b[0;32m    242\u001b[0m     \u001b[0mhead\u001b[0m\u001b[1;33m,\u001b[0m \u001b[0mtail\u001b[0m \u001b[1;33m=\u001b[0m \u001b[0mpath\u001b[0m\u001b[1;33m.\u001b[0m\u001b[0msplit\u001b[0m\u001b[1;33m(\u001b[0m\u001b[0mname\u001b[0m\u001b[1;33m)\u001b[0m\u001b[1;33m\u001b[0m\u001b[1;33m\u001b[0m\u001b[0m\n\u001b[0;32m    243\u001b[0m     \u001b[1;32mif\u001b[0m \u001b[1;32mnot\u001b[0m \u001b[0mtail\u001b[0m\u001b[1;33m:\u001b[0m\u001b[1;33m\u001b[0m\u001b[1;33m\u001b[0m\u001b[0m\n",
      "\u001b[1;31mNotADirectoryError\u001b[0m: [WinError 267] 目录名称无效。: 'D:\\\\Py\\\\OfficeAutomation\\\\data\\\\t01\\\\614\\\\615.txt'"
     ]
    }
   ],
   "source": [
    "#removedirs方法不能用于删除文件\n",
    "os.removedirs(r'D:\\Py\\OfficeAutomation\\data\\t01\\614\\615.txt')"
   ]
  },
  {
   "cell_type": "markdown",
   "metadata": {},
   "source": [
    "#### 读取或创建一个文本文件   \n",
    "Python 中的 open 函数用来从磁盘读取文件. 相关参数及作用可参见函数说明."
   ]
  },
  {
   "cell_type": "code",
   "execution_count": 91,
   "metadata": {
    "collapsed": true,
    "jupyter": {
     "outputs_hidden": true
    }
   },
   "outputs": [
    {
     "data": {
      "text/plain": [
       "\u001b[1;31mSignature:\u001b[0m\n",
       "\u001b[0mopen\u001b[0m\u001b[1;33m(\u001b[0m\u001b[1;33m\n",
       "\u001b[0m    \u001b[0mfile\u001b[0m\u001b[1;33m,\u001b[0m\u001b[1;33m\n",
       "\u001b[0m    \u001b[0mmode\u001b[0m\u001b[1;33m=\u001b[0m\u001b[1;34m'r'\u001b[0m\u001b[1;33m,\u001b[0m\u001b[1;33m\n",
       "\u001b[0m    \u001b[0mbuffering\u001b[0m\u001b[1;33m=\u001b[0m\u001b[1;33m-\u001b[0m\u001b[1;36m1\u001b[0m\u001b[1;33m,\u001b[0m\u001b[1;33m\n",
       "\u001b[0m    \u001b[0mencoding\u001b[0m\u001b[1;33m=\u001b[0m\u001b[1;32mNone\u001b[0m\u001b[1;33m,\u001b[0m\u001b[1;33m\n",
       "\u001b[0m    \u001b[0merrors\u001b[0m\u001b[1;33m=\u001b[0m\u001b[1;32mNone\u001b[0m\u001b[1;33m,\u001b[0m\u001b[1;33m\n",
       "\u001b[0m    \u001b[0mnewline\u001b[0m\u001b[1;33m=\u001b[0m\u001b[1;32mNone\u001b[0m\u001b[1;33m,\u001b[0m\u001b[1;33m\n",
       "\u001b[0m    \u001b[0mclosefd\u001b[0m\u001b[1;33m=\u001b[0m\u001b[1;32mTrue\u001b[0m\u001b[1;33m,\u001b[0m\u001b[1;33m\n",
       "\u001b[0m    \u001b[0mopener\u001b[0m\u001b[1;33m=\u001b[0m\u001b[1;32mNone\u001b[0m\u001b[1;33m,\u001b[0m\u001b[1;33m\n",
       "\u001b[0m\u001b[1;33m)\u001b[0m\u001b[1;33m\u001b[0m\u001b[1;33m\u001b[0m\u001b[0m\n",
       "\u001b[1;31mDocstring:\u001b[0m\n",
       "Open file and return a stream.  Raise OSError upon failure.\n",
       "\n",
       "file is either a text or byte string giving the name (and the path\n",
       "if the file isn't in the current working directory) of the file to\n",
       "be opened or an integer file descriptor of the file to be\n",
       "wrapped. (If a file descriptor is given, it is closed when the\n",
       "returned I/O object is closed, unless closefd is set to False.)\n",
       "\n",
       "mode is an optional string that specifies the mode in which the file\n",
       "is opened. It defaults to 'r' which means open for reading in text\n",
       "mode.  Other common values are 'w' for writing (truncating the file if\n",
       "it already exists), 'x' for creating and writing to a new file, and\n",
       "'a' for appending (which on some Unix systems, means that all writes\n",
       "append to the end of the file regardless of the current seek position).\n",
       "In text mode, if encoding is not specified the encoding used is platform\n",
       "dependent: locale.getpreferredencoding(False) is called to get the\n",
       "current locale encoding. (For reading and writing raw bytes use binary\n",
       "mode and leave encoding unspecified.) The available modes are:\n",
       "\n",
       "========= ===============================================================\n",
       "Character Meaning\n",
       "--------- ---------------------------------------------------------------\n",
       "'r'       open for reading (default)\n",
       "'w'       open for writing, truncating the file first\n",
       "'x'       create a new file and open it for writing\n",
       "'a'       open for writing, appending to the end of the file if it exists\n",
       "'b'       binary mode\n",
       "'t'       text mode (default)\n",
       "'+'       open a disk file for updating (reading and writing)\n",
       "'U'       universal newline mode (deprecated)\n",
       "========= ===============================================================\n",
       "\n",
       "The default mode is 'rt' (open for reading text). For binary random\n",
       "access, the mode 'w+b' opens and truncates the file to 0 bytes, while\n",
       "'r+b' opens the file without truncation. The 'x' mode implies 'w' and\n",
       "raises an `FileExistsError` if the file already exists.\n",
       "\n",
       "Python distinguishes between files opened in binary and text modes,\n",
       "even when the underlying operating system doesn't. Files opened in\n",
       "binary mode (appending 'b' to the mode argument) return contents as\n",
       "bytes objects without any decoding. In text mode (the default, or when\n",
       "'t' is appended to the mode argument), the contents of the file are\n",
       "returned as strings, the bytes having been first decoded using a\n",
       "platform-dependent encoding or using the specified encoding if given.\n",
       "\n",
       "'U' mode is deprecated and will raise an exception in future versions\n",
       "of Python.  It has no effect in Python 3.  Use newline to control\n",
       "universal newlines mode.\n",
       "\n",
       "buffering is an optional integer used to set the buffering policy.\n",
       "Pass 0 to switch buffering off (only allowed in binary mode), 1 to select\n",
       "line buffering (only usable in text mode), and an integer > 1 to indicate\n",
       "the size of a fixed-size chunk buffer.  When no buffering argument is\n",
       "given, the default buffering policy works as follows:\n",
       "\n",
       "* Binary files are buffered in fixed-size chunks; the size of the buffer\n",
       "  is chosen using a heuristic trying to determine the underlying device's\n",
       "  \"block size\" and falling back on `io.DEFAULT_BUFFER_SIZE`.\n",
       "  On many systems, the buffer will typically be 4096 or 8192 bytes long.\n",
       "\n",
       "* \"Interactive\" text files (files for which isatty() returns True)\n",
       "  use line buffering.  Other text files use the policy described above\n",
       "  for binary files.\n",
       "\n",
       "encoding is the name of the encoding used to decode or encode the\n",
       "file. This should only be used in text mode. The default encoding is\n",
       "platform dependent, but any encoding supported by Python can be\n",
       "passed.  See the codecs module for the list of supported encodings.\n",
       "\n",
       "errors is an optional string that specifies how encoding errors are to\n",
       "be handled---this argument should not be used in binary mode. Pass\n",
       "'strict' to raise a ValueError exception if there is an encoding error\n",
       "(the default of None has the same effect), or pass 'ignore' to ignore\n",
       "errors. (Note that ignoring encoding errors can lead to data loss.)\n",
       "See the documentation for codecs.register or run 'help(codecs.Codec)'\n",
       "for a list of the permitted encoding error strings.\n",
       "\n",
       "newline controls how universal newlines works (it only applies to text\n",
       "mode). It can be None, '', '\\n', '\\r', and '\\r\\n'.  It works as\n",
       "follows:\n",
       "\n",
       "* On input, if newline is None, universal newlines mode is\n",
       "  enabled. Lines in the input can end in '\\n', '\\r', or '\\r\\n', and\n",
       "  these are translated into '\\n' before being returned to the\n",
       "  caller. If it is '', universal newline mode is enabled, but line\n",
       "  endings are returned to the caller untranslated. If it has any of\n",
       "  the other legal values, input lines are only terminated by the given\n",
       "  string, and the line ending is returned to the caller untranslated.\n",
       "\n",
       "* On output, if newline is None, any '\\n' characters written are\n",
       "  translated to the system default line separator, os.linesep. If\n",
       "  newline is '' or '\\n', no translation takes place. If newline is any\n",
       "  of the other legal values, any '\\n' characters written are translated\n",
       "  to the given string.\n",
       "\n",
       "If closefd is False, the underlying file descriptor will be kept open\n",
       "when the file is closed. This does not work when a file name is given\n",
       "and must be True in that case.\n",
       "\n",
       "A custom opener can be used by passing a callable as *opener*. The\n",
       "underlying file descriptor for the file object is then obtained by\n",
       "calling *opener* with (*file*, *flags*). *opener* must return an open\n",
       "file descriptor (passing os.open as *opener* results in functionality\n",
       "similar to passing None).\n",
       "\n",
       "open() returns a file object whose type depends on the mode, and\n",
       "through which the standard file operations such as reading and writing\n",
       "are performed. When open() is used to open a file in a text mode ('w',\n",
       "'r', 'wt', 'rt', etc.), it returns a TextIOWrapper. When used to open\n",
       "a file in a binary mode, the returned class varies: in read binary\n",
       "mode, it returns a BufferedReader; in write binary and append binary\n",
       "modes, it returns a BufferedWriter, and in read/write mode, it returns\n",
       "a BufferedRandom.\n",
       "\n",
       "It is also possible to use a string or bytearray as a file for both\n",
       "reading and writing. For strings StringIO can be used like a file\n",
       "opened in a text mode, and for bytes a BytesIO can be used like a file\n",
       "opened in a binary mode.\n",
       "\u001b[1;31mType:\u001b[0m      builtin_function_or_method\n"
      ]
     },
     "metadata": {},
     "output_type": "display_data"
    }
   ],
   "source": [
    "open??"
   ]
  },
  {
   "cell_type": "code",
   "execution_count": 92,
   "metadata": {},
   "outputs": [
    {
     "name": "stdout",
     "output_type": "stream",
     "text": [
      "This is a file with some english words.\n",
      "And more.\n",
      "And so on.\n",
      "123.\n",
      "456.\n"
     ]
    }
   ],
   "source": [
    "# 使用python 打开(不含中文字符的)文件 \n",
    "# 使用相对路径,使用双斜杠\n",
    "with open('English.txt') as file_object:\n",
    "    contents = file_object.read()\n",
    "print(contents)"
   ]
  },
  {
   "cell_type": "code",
   "execution_count": 93,
   "metadata": {},
   "outputs": [
    {
     "ename": "UnicodeDecodeError",
     "evalue": "'gbk' codec can't decode byte 0xac in position 9: illegal multibyte sequence",
     "output_type": "error",
     "traceback": [
      "\u001b[1;31m---------------------------------------------------------------------------\u001b[0m",
      "\u001b[1;31mUnicodeDecodeError\u001b[0m                        Traceback (most recent call last)",
      "\u001b[1;32m<ipython-input-93-b62fb3b0d41c>\u001b[0m in \u001b[0;36m<module>\u001b[1;34m\u001b[0m\n\u001b[0;32m      1\u001b[0m \u001b[1;31m# 对于含有中文字符的\u001b[0m\u001b[1;33m\u001b[0m\u001b[1;33m\u001b[0m\u001b[1;33m\u001b[0m\u001b[0m\n\u001b[0;32m      2\u001b[0m \u001b[1;32mwith\u001b[0m \u001b[0mopen\u001b[0m\u001b[1;33m(\u001b[0m\u001b[1;34m'Chinese.txt'\u001b[0m\u001b[1;33m)\u001b[0m \u001b[1;32mas\u001b[0m \u001b[0mfile_object\u001b[0m\u001b[1;33m:\u001b[0m \u001b[1;31m#使用反斜杠 #提示有gbk编码的中文,打开看实际是utf-8的编码\u001b[0m\u001b[1;33m\u001b[0m\u001b[1;33m\u001b[0m\u001b[0m\n\u001b[1;32m----> 3\u001b[1;33m     \u001b[0mcontents\u001b[0m \u001b[1;33m=\u001b[0m \u001b[0mfile_object\u001b[0m\u001b[1;33m.\u001b[0m\u001b[0mread\u001b[0m\u001b[1;33m(\u001b[0m\u001b[1;33m)\u001b[0m\u001b[1;33m\u001b[0m\u001b[1;33m\u001b[0m\u001b[0m\n\u001b[0m\u001b[0;32m      4\u001b[0m \u001b[0mprint\u001b[0m\u001b[1;33m(\u001b[0m\u001b[0mcontents\u001b[0m\u001b[1;33m)\u001b[0m\u001b[1;33m\u001b[0m\u001b[1;33m\u001b[0m\u001b[0m\n\u001b[0;32m      5\u001b[0m \u001b[1;31m# 有中文无法正确读取\u001b[0m\u001b[1;33m\u001b[0m\u001b[1;33m\u001b[0m\u001b[1;33m\u001b[0m\u001b[0m\n",
      "\u001b[1;31mUnicodeDecodeError\u001b[0m: 'gbk' codec can't decode byte 0xac in position 9: illegal multibyte sequence"
     ]
    }
   ],
   "source": [
    "# 对于含有中文字符的\n",
    "with open('Chinese.txt') as file_object: #使用反斜杠 #提示有gbk编码的中文,打开看实际是utf-8的编码\n",
    "    contents = file_object.read()\n",
    "print(contents)\n",
    "# 有中文无法正确读取\n",
    "# gbk编码的中文,需要改变编码为utf8,并在open函数的参数中指定编码"
   ]
  },
  {
   "cell_type": "code",
   "execution_count": 94,
   "metadata": {},
   "outputs": [
    {
     "name": "stdout",
     "output_type": "stream",
     "text": [
      "first\n",
      "第二行\n",
      "third\n",
      "第四行\n",
      "\n"
     ]
    }
   ],
   "source": [
    "# open 函数增加参数encoding='utf-8' 能够正常打开含有汉字的文档了-- 但并不是所有中文文件增加了该参数都能打开\n",
    "# 有时候需要使用文本编辑器,如 notepad++, vscode 等等,打开文件后,使用另存为方法修改编码为 utf-8 等等方法进行预处理\n",
    "with open('Chinese.txt','r',encoding='utf-8') as file_object: #使用反斜杠 \n",
    "    contents = file_object.read()\n",
    "print(contents)"
   ]
  },
  {
   "cell_type": "code",
   "execution_count": 96,
   "metadata": {},
   "outputs": [
    {
     "name": "stdout",
     "output_type": "stream",
     "text": [
      "first\n",
      "第二行\n",
      "third\n",
      "第四行\n",
      "\n"
     ]
    }
   ],
   "source": [
    "with open(r'D:\\Py\\OfficeAutomation\\Chinese.txt',encoding='utf-8') as file_object: #使用反斜杠 # 打开test1.txt,另存为时,改为ascii编码,不再报错,并且中文显示正常了.\n",
    "    contents = file_object.read()\n",
    "print(contents)"
   ]
  },
  {
   "cell_type": "code",
   "execution_count": null,
   "metadata": {},
   "outputs": [],
   "source": [
    "# 关于编码(特别是中文编码)的坑还有很多\n"
   ]
  },
  {
   "cell_type": "code",
   "execution_count": 131,
   "metadata": {},
   "outputs": [
    {
     "data": {
      "text/plain": [
       "\"Chinese_People's Republic of China.936\""
      ]
     },
     "execution_count": 131,
     "metadata": {},
     "output_type": "execute_result"
    }
   ],
   "source": [
    "import locale\n",
    "locale.setlocale(locale.LC_CTYPE, 'chinese')"
   ]
  },
  {
   "cell_type": "code",
   "execution_count": 132,
   "metadata": {},
   "outputs": [
    {
     "ename": "UnicodeDecodeError",
     "evalue": "'gbk' codec can't decode byte 0xad in position 49: illegal multibyte sequence",
     "output_type": "error",
     "traceback": [
      "\u001b[1;31m---------------------------------------------------------------------------\u001b[0m",
      "\u001b[1;31mUnicodeDecodeError\u001b[0m                        Traceback (most recent call last)",
      "\u001b[1;32m<ipython-input-132-068bfff02641>\u001b[0m in \u001b[0;36m<module>\u001b[1;34m\u001b[0m\n\u001b[0;32m      1\u001b[0m \u001b[1;31m# 对于含有中文字符的\u001b[0m\u001b[1;33m\u001b[0m\u001b[1;33m\u001b[0m\u001b[1;33m\u001b[0m\u001b[0m\n\u001b[0;32m      2\u001b[0m \u001b[1;32mwith\u001b[0m \u001b[0mopen\u001b[0m\u001b[1;33m(\u001b[0m\u001b[1;34m'data/test.txt'\u001b[0m\u001b[1;33m)\u001b[0m \u001b[1;32mas\u001b[0m \u001b[0mfile_object\u001b[0m\u001b[1;33m:\u001b[0m \u001b[1;31m#使用反斜杠 #提示有gbk编码的中文,打开看实际是utf-8的编码\u001b[0m\u001b[1;33m\u001b[0m\u001b[1;33m\u001b[0m\u001b[0m\n\u001b[1;32m----> 3\u001b[1;33m     \u001b[0mcontents\u001b[0m \u001b[1;33m=\u001b[0m \u001b[0mfile_object\u001b[0m\u001b[1;33m.\u001b[0m\u001b[0mread\u001b[0m\u001b[1;33m(\u001b[0m\u001b[1;33m)\u001b[0m\u001b[1;33m\u001b[0m\u001b[1;33m\u001b[0m\u001b[0m\n\u001b[0m\u001b[0;32m      4\u001b[0m \u001b[0mprint\u001b[0m\u001b[1;33m(\u001b[0m\u001b[0mcontents\u001b[0m\u001b[1;33m)\u001b[0m\u001b[1;33m\u001b[0m\u001b[1;33m\u001b[0m\u001b[0m\n\u001b[0;32m      5\u001b[0m \u001b[1;31m# 有中文无法正确读取\u001b[0m\u001b[1;33m\u001b[0m\u001b[1;33m\u001b[0m\u001b[1;33m\u001b[0m\u001b[0m\n",
      "\u001b[1;31mUnicodeDecodeError\u001b[0m: 'gbk' codec can't decode byte 0xad in position 49: illegal multibyte sequence"
     ]
    }
   ],
   "source": [
    "# 对于含有中文字符的\n",
    "with open('data/test.txt') as file_object: #使用反斜杠 #提示有gbk编码的中文,打开看实际是utf-8的编码\n",
    "    contents = file_object.read()\n",
    "print(contents)\n",
    "# 有中文无法正确读取\n",
    "# gbk编码的中文,需要改变编码为utf8,并在open函数的参数中指定编码"
   ]
  },
  {
   "cell_type": "markdown",
   "metadata": {},
   "source": [
    "`os`模块似乎并没有创建文件的方法, 不过`Python`的`open`函数就可以以\"直接'打开'一个不存在的文件\"的方式来创建文件.   \n",
    "以最简单的文本文件的创建为例:"
   ]
  },
  {
   "cell_type": "code",
   "execution_count": 88,
   "metadata": {},
   "outputs": [],
   "source": [
    "filename = r'D:\\Py\\OfficeAutomation\\data\\t01\\614\\615.txt'\n",
    "with open(filename, 'w') as file_object:\n",
    "    file_object.write(\"This is a txt file.\")"
   ]
  },
  {
   "cell_type": "code",
   "execution_count": 89,
   "metadata": {},
   "outputs": [
    {
     "data": {
      "text/plain": [
       "True"
      ]
     },
     "execution_count": 89,
     "metadata": {},
     "output_type": "execute_result"
    }
   ],
   "source": [
    "#创建成功后并没有输出.\n",
    "#为了检测创建结果,可以使用os.path.exists,也可以尝试打开该文件\n",
    "#方法1:检测文件是否存在\n",
    "os.path.exists(r'D:\\Py\\OfficeAutomation\\data\\t01\\614\\615.txt')"
   ]
  },
  {
   "cell_type": "code",
   "execution_count": 90,
   "metadata": {},
   "outputs": [
    {
     "name": "stdout",
     "output_type": "stream",
     "text": [
      "This is a txt file.\n"
     ]
    }
   ],
   "source": [
    "#方法2:尝试打开文件\n",
    "with open(r'D:\\Py\\OfficeAutomation\\data\\t01\\614\\615.txt') as file_object:\n",
    "    contents = file_object.read()\n",
    "print(contents)"
   ]
  },
  {
   "cell_type": "markdown",
   "metadata": {},
   "source": [
    "#### 删除文件\n",
    "删除目录的方法`rmdir`和`removedirs`不能用于删除文件.    \n",
    "删除文件,需要使用`os.remove`方法."
   ]
  },
  {
   "cell_type": "code",
   "execution_count": 84,
   "metadata": {},
   "outputs": [],
   "source": [
    "#删除成功后没有输出,并且不能恢复,因此要慎重\n",
    "os.remove(r'D:\\Py\\OfficeAutomation\\data\\t01\\614\\615.txt')"
   ]
  },
  {
   "cell_type": "code",
   "execution_count": 85,
   "metadata": {},
   "outputs": [
    {
     "data": {
      "text/plain": [
       "False"
      ]
     },
     "execution_count": 85,
     "metadata": {},
     "output_type": "execute_result"
    }
   ],
   "source": [
    "#检测是否删除成功\n",
    "os.path.exists(r'D:\\Py\\OfficeAutomation\\data\\t01\\614\\615.txt')"
   ]
  },
  {
   "cell_type": "markdown",
   "metadata": {},
   "source": [
    "#### 查看指定文件的大小\n",
    "`os.path.getsize()`函数可以返回指定文件的字节数."
   ]
  },
  {
   "cell_type": "code",
   "execution_count": null,
   "metadata": {},
   "outputs": [],
   "source": [
    "os.path.getsize('readme.md')"
   ]
  },
  {
   "cell_type": "markdown",
   "metadata": {},
   "source": [
    "如果想要获取某个文件夹下所有文件的总大小,可以配合`listdir`函数使用(但不能获取子文件夹下的文件大小)"
   ]
  },
  {
   "cell_type": "code",
   "execution_count": null,
   "metadata": {},
   "outputs": [],
   "source": [
    "totalSize = 0\n",
    "for filename in os.listdir(os.getcwd()):\n",
    "    print(filename,os.path.getsize(os.path.join('D:\\\\Py\\\\OfficeAutomation',filename)))\n",
    "    totalSize = totalSize + os.path.getsize(os.path.join('D:\\\\Py\\\\OfficeAutomation',filename))\n",
    "    #totalSize +=  os.path.getsize(os.path.join('D:\\\\Py\\\\OfficeAutomation',filename))\n",
    "print(totalSize)"
   ]
  },
  {
   "cell_type": "code",
   "execution_count": null,
   "metadata": {},
   "outputs": [],
   "source": []
  },
  {
   "cell_type": "code",
   "execution_count": null,
   "metadata": {},
   "outputs": [],
   "source": []
  },
  {
   "cell_type": "code",
   "execution_count": null,
   "metadata": {},
   "outputs": [],
   "source": []
  },
  {
   "cell_type": "markdown",
   "metadata": {},
   "source": [
    "#### 遍历目录树"
   ]
  },
  {
   "cell_type": "code",
   "execution_count": null,
   "metadata": {},
   "outputs": [],
   "source": []
  },
  {
   "cell_type": "markdown",
   "metadata": {},
   "source": [
    "#### 使用`os.walk(path)`获取指定目录及其子文件夹下的所有文件名(包括完整路径)\n",
    "在之前学习`listdir`时,我们发现,该函数只能返回path参数下的所有文件和文件夹,但不能返回path下的子文件夹中的文件.     \n",
    "借助于`walk`函数,我们可以构造一个函数,输出指定目录下的所有文件,也包括子文件夹下的文件,将结果返回为一个list.\n",
    "\n",
    "`os.walk(path)`:传入一个文件夹的路径，在for循环语句中使用os.walk()函数，遍历目录树，和range()函数遍历一个范围的数字类似。不同的是，os.walk()在循环的每次迭代中，返回三个值：\n",
    "\n",
    "1. 当前文件夹称的字符串   \n",
    "2. 当前文件夹中子文件夹的字符串的列表   \n",
    "3. 当前文件夹中文件的字符串的列表    \n",
    "\n",
    "注: 当前文件夹是指for循环当前迭代的文件夹. 程序的当前工作目录,不会因为`os.walk()`而改变."
   ]
  },
  {
   "cell_type": "code",
   "execution_count": 53,
   "metadata": {
    "collapsed": true,
    "jupyter": {
     "outputs_hidden": true
    }
   },
   "outputs": [
    {
     "data": {
      "text/plain": [
       "\u001b[1;31mSignature:\u001b[0m \u001b[0mos\u001b[0m\u001b[1;33m.\u001b[0m\u001b[0mwalk\u001b[0m\u001b[1;33m(\u001b[0m\u001b[0mtop\u001b[0m\u001b[1;33m,\u001b[0m \u001b[0mtopdown\u001b[0m\u001b[1;33m=\u001b[0m\u001b[1;32mTrue\u001b[0m\u001b[1;33m,\u001b[0m \u001b[0monerror\u001b[0m\u001b[1;33m=\u001b[0m\u001b[1;32mNone\u001b[0m\u001b[1;33m,\u001b[0m \u001b[0mfollowlinks\u001b[0m\u001b[1;33m=\u001b[0m\u001b[1;32mFalse\u001b[0m\u001b[1;33m)\u001b[0m\u001b[1;33m\u001b[0m\u001b[1;33m\u001b[0m\u001b[0m\n",
       "\u001b[1;31mSource:\u001b[0m   \n",
       "\u001b[1;32mdef\u001b[0m \u001b[0mwalk\u001b[0m\u001b[1;33m(\u001b[0m\u001b[0mtop\u001b[0m\u001b[1;33m,\u001b[0m \u001b[0mtopdown\u001b[0m\u001b[1;33m=\u001b[0m\u001b[1;32mTrue\u001b[0m\u001b[1;33m,\u001b[0m \u001b[0monerror\u001b[0m\u001b[1;33m=\u001b[0m\u001b[1;32mNone\u001b[0m\u001b[1;33m,\u001b[0m \u001b[0mfollowlinks\u001b[0m\u001b[1;33m=\u001b[0m\u001b[1;32mFalse\u001b[0m\u001b[1;33m)\u001b[0m\u001b[1;33m:\u001b[0m\u001b[1;33m\n",
       "\u001b[0m    \u001b[1;34m\"\"\"Directory tree generator.\n",
       "\n",
       "    For each directory in the directory tree rooted at top (including top\n",
       "    itself, but excluding '.' and '..'), yields a 3-tuple\n",
       "\n",
       "        dirpath, dirnames, filenames\n",
       "\n",
       "    dirpath is a string, the path to the directory.  dirnames is a list of\n",
       "    the names of the subdirectories in dirpath (excluding '.' and '..').\n",
       "    filenames is a list of the names of the non-directory files in dirpath.\n",
       "    Note that the names in the lists are just names, with no path components.\n",
       "    To get a full path (which begins with top) to a file or directory in\n",
       "    dirpath, do os.path.join(dirpath, name).\n",
       "\n",
       "    If optional arg 'topdown' is true or not specified, the triple for a\n",
       "    directory is generated before the triples for any of its subdirectories\n",
       "    (directories are generated top down).  If topdown is false, the triple\n",
       "    for a directory is generated after the triples for all of its\n",
       "    subdirectories (directories are generated bottom up).\n",
       "\n",
       "    When topdown is true, the caller can modify the dirnames list in-place\n",
       "    (e.g., via del or slice assignment), and walk will only recurse into the\n",
       "    subdirectories whose names remain in dirnames; this can be used to prune the\n",
       "    search, or to impose a specific order of visiting.  Modifying dirnames when\n",
       "    topdown is false has no effect on the behavior of os.walk(), since the\n",
       "    directories in dirnames have already been generated by the time dirnames\n",
       "    itself is generated. No matter the value of topdown, the list of\n",
       "    subdirectories is retrieved before the tuples for the directory and its\n",
       "    subdirectories are generated.\n",
       "\n",
       "    By default errors from the os.scandir() call are ignored.  If\n",
       "    optional arg 'onerror' is specified, it should be a function; it\n",
       "    will be called with one argument, an OSError instance.  It can\n",
       "    report the error to continue with the walk, or raise the exception\n",
       "    to abort the walk.  Note that the filename is available as the\n",
       "    filename attribute of the exception object.\n",
       "\n",
       "    By default, os.walk does not follow symbolic links to subdirectories on\n",
       "    systems that support them.  In order to get this functionality, set the\n",
       "    optional argument 'followlinks' to true.\n",
       "\n",
       "    Caution:  if you pass a relative pathname for top, don't change the\n",
       "    current working directory between resumptions of walk.  walk never\n",
       "    changes the current directory, and assumes that the client doesn't\n",
       "    either.\n",
       "\n",
       "    Example:\n",
       "\n",
       "    import os\n",
       "    from os.path import join, getsize\n",
       "    for root, dirs, files in os.walk('python/Lib/email'):\n",
       "        print(root, \"consumes\", end=\"\")\n",
       "        print(sum(getsize(join(root, name)) for name in files), end=\"\")\n",
       "        print(\"bytes in\", len(files), \"non-directory files\")\n",
       "        if 'CVS' in dirs:\n",
       "            dirs.remove('CVS')  # don't visit CVS directories\n",
       "\n",
       "    \"\"\"\u001b[0m\u001b[1;33m\n",
       "\u001b[0m    \u001b[0mtop\u001b[0m \u001b[1;33m=\u001b[0m \u001b[0mfspath\u001b[0m\u001b[1;33m(\u001b[0m\u001b[0mtop\u001b[0m\u001b[1;33m)\u001b[0m\u001b[1;33m\n",
       "\u001b[0m    \u001b[0mdirs\u001b[0m \u001b[1;33m=\u001b[0m \u001b[1;33m[\u001b[0m\u001b[1;33m]\u001b[0m\u001b[1;33m\n",
       "\u001b[0m    \u001b[0mnondirs\u001b[0m \u001b[1;33m=\u001b[0m \u001b[1;33m[\u001b[0m\u001b[1;33m]\u001b[0m\u001b[1;33m\n",
       "\u001b[0m    \u001b[0mwalk_dirs\u001b[0m \u001b[1;33m=\u001b[0m \u001b[1;33m[\u001b[0m\u001b[1;33m]\u001b[0m\u001b[1;33m\n",
       "\u001b[0m\u001b[1;33m\n",
       "\u001b[0m    \u001b[1;31m# We may not have read permission for top, in which case we can't\u001b[0m\u001b[1;33m\n",
       "\u001b[0m    \u001b[1;31m# get a list of the files the directory contains.  os.walk\u001b[0m\u001b[1;33m\n",
       "\u001b[0m    \u001b[1;31m# always suppressed the exception then, rather than blow up for a\u001b[0m\u001b[1;33m\n",
       "\u001b[0m    \u001b[1;31m# minor reason when (say) a thousand readable directories are still\u001b[0m\u001b[1;33m\n",
       "\u001b[0m    \u001b[1;31m# left to visit.  That logic is copied here.\u001b[0m\u001b[1;33m\n",
       "\u001b[0m    \u001b[1;32mtry\u001b[0m\u001b[1;33m:\u001b[0m\u001b[1;33m\n",
       "\u001b[0m        \u001b[1;31m# Note that scandir is global in this module due\u001b[0m\u001b[1;33m\n",
       "\u001b[0m        \u001b[1;31m# to earlier import-*.\u001b[0m\u001b[1;33m\n",
       "\u001b[0m        \u001b[0mscandir_it\u001b[0m \u001b[1;33m=\u001b[0m \u001b[0mscandir\u001b[0m\u001b[1;33m(\u001b[0m\u001b[0mtop\u001b[0m\u001b[1;33m)\u001b[0m\u001b[1;33m\n",
       "\u001b[0m    \u001b[1;32mexcept\u001b[0m \u001b[0mOSError\u001b[0m \u001b[1;32mas\u001b[0m \u001b[0merror\u001b[0m\u001b[1;33m:\u001b[0m\u001b[1;33m\n",
       "\u001b[0m        \u001b[1;32mif\u001b[0m \u001b[0monerror\u001b[0m \u001b[1;32mis\u001b[0m \u001b[1;32mnot\u001b[0m \u001b[1;32mNone\u001b[0m\u001b[1;33m:\u001b[0m\u001b[1;33m\n",
       "\u001b[0m            \u001b[0monerror\u001b[0m\u001b[1;33m(\u001b[0m\u001b[0merror\u001b[0m\u001b[1;33m)\u001b[0m\u001b[1;33m\n",
       "\u001b[0m        \u001b[1;32mreturn\u001b[0m\u001b[1;33m\n",
       "\u001b[0m\u001b[1;33m\n",
       "\u001b[0m    \u001b[1;32mwith\u001b[0m \u001b[0mscandir_it\u001b[0m\u001b[1;33m:\u001b[0m\u001b[1;33m\n",
       "\u001b[0m        \u001b[1;32mwhile\u001b[0m \u001b[1;32mTrue\u001b[0m\u001b[1;33m:\u001b[0m\u001b[1;33m\n",
       "\u001b[0m            \u001b[1;32mtry\u001b[0m\u001b[1;33m:\u001b[0m\u001b[1;33m\n",
       "\u001b[0m                \u001b[1;32mtry\u001b[0m\u001b[1;33m:\u001b[0m\u001b[1;33m\n",
       "\u001b[0m                    \u001b[0mentry\u001b[0m \u001b[1;33m=\u001b[0m \u001b[0mnext\u001b[0m\u001b[1;33m(\u001b[0m\u001b[0mscandir_it\u001b[0m\u001b[1;33m)\u001b[0m\u001b[1;33m\n",
       "\u001b[0m                \u001b[1;32mexcept\u001b[0m \u001b[0mStopIteration\u001b[0m\u001b[1;33m:\u001b[0m\u001b[1;33m\n",
       "\u001b[0m                    \u001b[1;32mbreak\u001b[0m\u001b[1;33m\n",
       "\u001b[0m            \u001b[1;32mexcept\u001b[0m \u001b[0mOSError\u001b[0m \u001b[1;32mas\u001b[0m \u001b[0merror\u001b[0m\u001b[1;33m:\u001b[0m\u001b[1;33m\n",
       "\u001b[0m                \u001b[1;32mif\u001b[0m \u001b[0monerror\u001b[0m \u001b[1;32mis\u001b[0m \u001b[1;32mnot\u001b[0m \u001b[1;32mNone\u001b[0m\u001b[1;33m:\u001b[0m\u001b[1;33m\n",
       "\u001b[0m                    \u001b[0monerror\u001b[0m\u001b[1;33m(\u001b[0m\u001b[0merror\u001b[0m\u001b[1;33m)\u001b[0m\u001b[1;33m\n",
       "\u001b[0m                \u001b[1;32mreturn\u001b[0m\u001b[1;33m\n",
       "\u001b[0m\u001b[1;33m\n",
       "\u001b[0m            \u001b[1;32mtry\u001b[0m\u001b[1;33m:\u001b[0m\u001b[1;33m\n",
       "\u001b[0m                \u001b[0mis_dir\u001b[0m \u001b[1;33m=\u001b[0m \u001b[0mentry\u001b[0m\u001b[1;33m.\u001b[0m\u001b[0mis_dir\u001b[0m\u001b[1;33m(\u001b[0m\u001b[1;33m)\u001b[0m\u001b[1;33m\n",
       "\u001b[0m            \u001b[1;32mexcept\u001b[0m \u001b[0mOSError\u001b[0m\u001b[1;33m:\u001b[0m\u001b[1;33m\n",
       "\u001b[0m                \u001b[1;31m# If is_dir() raises an OSError, consider that the entry is not\u001b[0m\u001b[1;33m\n",
       "\u001b[0m                \u001b[1;31m# a directory, same behaviour than os.path.isdir().\u001b[0m\u001b[1;33m\n",
       "\u001b[0m                \u001b[0mis_dir\u001b[0m \u001b[1;33m=\u001b[0m \u001b[1;32mFalse\u001b[0m\u001b[1;33m\n",
       "\u001b[0m\u001b[1;33m\n",
       "\u001b[0m            \u001b[1;32mif\u001b[0m \u001b[0mis_dir\u001b[0m\u001b[1;33m:\u001b[0m\u001b[1;33m\n",
       "\u001b[0m                \u001b[0mdirs\u001b[0m\u001b[1;33m.\u001b[0m\u001b[0mappend\u001b[0m\u001b[1;33m(\u001b[0m\u001b[0mentry\u001b[0m\u001b[1;33m.\u001b[0m\u001b[0mname\u001b[0m\u001b[1;33m)\u001b[0m\u001b[1;33m\n",
       "\u001b[0m            \u001b[1;32melse\u001b[0m\u001b[1;33m:\u001b[0m\u001b[1;33m\n",
       "\u001b[0m                \u001b[0mnondirs\u001b[0m\u001b[1;33m.\u001b[0m\u001b[0mappend\u001b[0m\u001b[1;33m(\u001b[0m\u001b[0mentry\u001b[0m\u001b[1;33m.\u001b[0m\u001b[0mname\u001b[0m\u001b[1;33m)\u001b[0m\u001b[1;33m\n",
       "\u001b[0m\u001b[1;33m\n",
       "\u001b[0m            \u001b[1;32mif\u001b[0m \u001b[1;32mnot\u001b[0m \u001b[0mtopdown\u001b[0m \u001b[1;32mand\u001b[0m \u001b[0mis_dir\u001b[0m\u001b[1;33m:\u001b[0m\u001b[1;33m\n",
       "\u001b[0m                \u001b[1;31m# Bottom-up: recurse into sub-directory, but exclude symlinks to\u001b[0m\u001b[1;33m\n",
       "\u001b[0m                \u001b[1;31m# directories if followlinks is False\u001b[0m\u001b[1;33m\n",
       "\u001b[0m                \u001b[1;32mif\u001b[0m \u001b[0mfollowlinks\u001b[0m\u001b[1;33m:\u001b[0m\u001b[1;33m\n",
       "\u001b[0m                    \u001b[0mwalk_into\u001b[0m \u001b[1;33m=\u001b[0m \u001b[1;32mTrue\u001b[0m\u001b[1;33m\n",
       "\u001b[0m                \u001b[1;32melse\u001b[0m\u001b[1;33m:\u001b[0m\u001b[1;33m\n",
       "\u001b[0m                    \u001b[1;32mtry\u001b[0m\u001b[1;33m:\u001b[0m\u001b[1;33m\n",
       "\u001b[0m                        \u001b[0mis_symlink\u001b[0m \u001b[1;33m=\u001b[0m \u001b[0mentry\u001b[0m\u001b[1;33m.\u001b[0m\u001b[0mis_symlink\u001b[0m\u001b[1;33m(\u001b[0m\u001b[1;33m)\u001b[0m\u001b[1;33m\n",
       "\u001b[0m                    \u001b[1;32mexcept\u001b[0m \u001b[0mOSError\u001b[0m\u001b[1;33m:\u001b[0m\u001b[1;33m\n",
       "\u001b[0m                        \u001b[1;31m# If is_symlink() raises an OSError, consider that the\u001b[0m\u001b[1;33m\n",
       "\u001b[0m                        \u001b[1;31m# entry is not a symbolic link, same behaviour than\u001b[0m\u001b[1;33m\n",
       "\u001b[0m                        \u001b[1;31m# os.path.islink().\u001b[0m\u001b[1;33m\n",
       "\u001b[0m                        \u001b[0mis_symlink\u001b[0m \u001b[1;33m=\u001b[0m \u001b[1;32mFalse\u001b[0m\u001b[1;33m\n",
       "\u001b[0m                    \u001b[0mwalk_into\u001b[0m \u001b[1;33m=\u001b[0m \u001b[1;32mnot\u001b[0m \u001b[0mis_symlink\u001b[0m\u001b[1;33m\n",
       "\u001b[0m\u001b[1;33m\n",
       "\u001b[0m                \u001b[1;32mif\u001b[0m \u001b[0mwalk_into\u001b[0m\u001b[1;33m:\u001b[0m\u001b[1;33m\n",
       "\u001b[0m                    \u001b[0mwalk_dirs\u001b[0m\u001b[1;33m.\u001b[0m\u001b[0mappend\u001b[0m\u001b[1;33m(\u001b[0m\u001b[0mentry\u001b[0m\u001b[1;33m.\u001b[0m\u001b[0mpath\u001b[0m\u001b[1;33m)\u001b[0m\u001b[1;33m\n",
       "\u001b[0m\u001b[1;33m\n",
       "\u001b[0m    \u001b[1;31m# Yield before recursion if going top down\u001b[0m\u001b[1;33m\n",
       "\u001b[0m    \u001b[1;32mif\u001b[0m \u001b[0mtopdown\u001b[0m\u001b[1;33m:\u001b[0m\u001b[1;33m\n",
       "\u001b[0m        \u001b[1;32myield\u001b[0m \u001b[0mtop\u001b[0m\u001b[1;33m,\u001b[0m \u001b[0mdirs\u001b[0m\u001b[1;33m,\u001b[0m \u001b[0mnondirs\u001b[0m\u001b[1;33m\n",
       "\u001b[0m\u001b[1;33m\n",
       "\u001b[0m        \u001b[1;31m# Recurse into sub-directories\u001b[0m\u001b[1;33m\n",
       "\u001b[0m        \u001b[0mislink\u001b[0m\u001b[1;33m,\u001b[0m \u001b[0mjoin\u001b[0m \u001b[1;33m=\u001b[0m \u001b[0mpath\u001b[0m\u001b[1;33m.\u001b[0m\u001b[0mislink\u001b[0m\u001b[1;33m,\u001b[0m \u001b[0mpath\u001b[0m\u001b[1;33m.\u001b[0m\u001b[0mjoin\u001b[0m\u001b[1;33m\n",
       "\u001b[0m        \u001b[1;32mfor\u001b[0m \u001b[0mdirname\u001b[0m \u001b[1;32min\u001b[0m \u001b[0mdirs\u001b[0m\u001b[1;33m:\u001b[0m\u001b[1;33m\n",
       "\u001b[0m            \u001b[0mnew_path\u001b[0m \u001b[1;33m=\u001b[0m \u001b[0mjoin\u001b[0m\u001b[1;33m(\u001b[0m\u001b[0mtop\u001b[0m\u001b[1;33m,\u001b[0m \u001b[0mdirname\u001b[0m\u001b[1;33m)\u001b[0m\u001b[1;33m\n",
       "\u001b[0m            \u001b[1;31m# Issue #23605: os.path.islink() is used instead of caching\u001b[0m\u001b[1;33m\n",
       "\u001b[0m            \u001b[1;31m# entry.is_symlink() result during the loop on os.scandir() because\u001b[0m\u001b[1;33m\n",
       "\u001b[0m            \u001b[1;31m# the caller can replace the directory entry during the \"yield\"\u001b[0m\u001b[1;33m\n",
       "\u001b[0m            \u001b[1;31m# above.\u001b[0m\u001b[1;33m\n",
       "\u001b[0m            \u001b[1;32mif\u001b[0m \u001b[0mfollowlinks\u001b[0m \u001b[1;32mor\u001b[0m \u001b[1;32mnot\u001b[0m \u001b[0mislink\u001b[0m\u001b[1;33m(\u001b[0m\u001b[0mnew_path\u001b[0m\u001b[1;33m)\u001b[0m\u001b[1;33m:\u001b[0m\u001b[1;33m\n",
       "\u001b[0m                \u001b[1;32myield\u001b[0m \u001b[1;32mfrom\u001b[0m \u001b[0mwalk\u001b[0m\u001b[1;33m(\u001b[0m\u001b[0mnew_path\u001b[0m\u001b[1;33m,\u001b[0m \u001b[0mtopdown\u001b[0m\u001b[1;33m,\u001b[0m \u001b[0monerror\u001b[0m\u001b[1;33m,\u001b[0m \u001b[0mfollowlinks\u001b[0m\u001b[1;33m)\u001b[0m\u001b[1;33m\n",
       "\u001b[0m    \u001b[1;32melse\u001b[0m\u001b[1;33m:\u001b[0m\u001b[1;33m\n",
       "\u001b[0m        \u001b[1;31m# Recurse into sub-directories\u001b[0m\u001b[1;33m\n",
       "\u001b[0m        \u001b[1;32mfor\u001b[0m \u001b[0mnew_path\u001b[0m \u001b[1;32min\u001b[0m \u001b[0mwalk_dirs\u001b[0m\u001b[1;33m:\u001b[0m\u001b[1;33m\n",
       "\u001b[0m            \u001b[1;32myield\u001b[0m \u001b[1;32mfrom\u001b[0m \u001b[0mwalk\u001b[0m\u001b[1;33m(\u001b[0m\u001b[0mnew_path\u001b[0m\u001b[1;33m,\u001b[0m \u001b[0mtopdown\u001b[0m\u001b[1;33m,\u001b[0m \u001b[0monerror\u001b[0m\u001b[1;33m,\u001b[0m \u001b[0mfollowlinks\u001b[0m\u001b[1;33m)\u001b[0m\u001b[1;33m\n",
       "\u001b[0m        \u001b[1;31m# Yield after recursion if going bottom up\u001b[0m\u001b[1;33m\n",
       "\u001b[0m        \u001b[1;32myield\u001b[0m \u001b[0mtop\u001b[0m\u001b[1;33m,\u001b[0m \u001b[0mdirs\u001b[0m\u001b[1;33m,\u001b[0m \u001b[0mnondirs\u001b[0m\u001b[1;33m\u001b[0m\u001b[1;33m\u001b[0m\u001b[0m\n",
       "\u001b[1;31mFile:\u001b[0m      d:\\programdata\\anaconda3\\lib\\os.py\n",
       "\u001b[1;31mType:\u001b[0m      function\n"
      ]
     },
     "metadata": {},
     "output_type": "display_data"
    }
   ],
   "source": [
    "os.walk??\n",
    "# 返回值是一个三元组"
   ]
  },
  {
   "cell_type": "code",
   "execution_count": 54,
   "metadata": {},
   "outputs": [
    {
     "name": "stdout",
     "output_type": "stream",
     "text": [
      "i D:\\Py\\OfficeAutomation\\图片\n",
      "j []\n",
      "k ['Excel.png', 'excel到word.xlsx', 'image-20210518151332873.png', 'image-20210518154517118.png', 'pycharm1.png', 'pycharm2.png', 'SD文件夹1.png', '参会人名单.png', '周杰伦.jpg', '图5.1.png', '安装docx.png', '邀请函样式.png', '页眉页脚设置.png']\n"
     ]
    }
   ],
   "source": [
    "#没有子文件夹的情况\n",
    "for i,j,k in os.walk(r'D:\\Py\\OfficeAutomation\\图片'):\n",
    "    print(\"i\",i)\n",
    "    print(\"j\",j)\n",
    "    print(\"k\",k)"
   ]
  },
  {
   "cell_type": "code",
   "execution_count": 55,
   "metadata": {},
   "outputs": [
    {
     "name": "stdout",
     "output_type": "stream",
     "text": [
      "i D:\\Py\\OfficeAutomation\\data1\n",
      "j ['sd']\n",
      "k []\n",
      "i D:\\Py\\OfficeAutomation\\data1\\sd\n",
      "j ['subfolder-1']\n",
      "k ['1-s2.0-S0096300312006704-main.pdf', '1-s2.0-S0096300312009551-main.pdf', '1-s2.0-S0096300313000052-main.pdf', '1-s2.0-S0165168411001010-main.pdf', '1-s2.0-S0377042710005030-main.pdf', '1-s2.0-S0377042712001045-main.pdf', '1-s2.0-S0377042712001586-main.pdf', '1-s2.0-S0893965912000778-main.pdf', '1-s2.0-S0893965912001395-main.pdf', '1-s2.0-S1007570405000341-main.pdf', '1-s2.0-S1051200413001164-main (1).pdf', '1-s2.0-S2210650211000721-main.pdf']\n",
      "i D:\\Py\\OfficeAutomation\\data1\\sd\\subfolder-1\n",
      "j ['subfolder-2']\n",
      "k ['1-s2.0-0045794994004275-main.pdf', '1-s2.0-S0307904X1100641X-main.pdf', '1-s2.0-S037704271200533X-main.pdf', '1-s2.0-S088875430500039X-main.pdf', '1-s2.0-S089396591200287X-main.pdf']\n",
      "i D:\\Py\\OfficeAutomation\\data1\\sd\\subfolder-1\\subfolder-2\n",
      "j []\n",
      "k ['1-s2.0-S0096300312006704-main.pdf', '1-s2.0-S0096300312009551-main.pdf', '1-s2.0-S0096300313000052-main.pdf']\n"
     ]
    }
   ],
   "source": [
    "#有子文件夹的情况\n",
    "for i,j,k in os.walk(r'D:\\Py\\OfficeAutomation\\data1'):\n",
    "    print(\"i\",i)\n",
    "    print(\"j\",j)\n",
    "    print(\"k\",k)"
   ]
  },
  {
   "cell_type": "markdown",
   "metadata": {},
   "source": [
    "基于以上的观察,我们可以发现,只要对`k`中的元素,增加`j`中的文件夹名,再增加`i`中的路径, 就能得到指定目录下的所有文件包含完整路径的文件名.因此我们构造获取指定目录及其子文件夹下所有文件包含完整路径的文件名的函数如下:"
   ]
  },
  {
   "cell_type": "code",
   "execution_count": 59,
   "metadata": {},
   "outputs": [],
   "source": [
    "def dirfiles(path):\n",
    "    lst = []\n",
    "    for dirpath, dirnames, filenames in os.walk(path):\n",
    "        for file in filenames:\n",
    "            fullpath = os.path.join(dirpath, file)\n",
    "            lst.append(fullpath)\n",
    "    return lst"
   ]
  },
  {
   "cell_type": "code",
   "execution_count": 60,
   "metadata": {},
   "outputs": [
    {
     "data": {
      "text/plain": [
       "20"
      ]
     },
     "execution_count": 60,
     "metadata": {},
     "output_type": "execute_result"
    }
   ],
   "source": [
    "len(dirfiles(r'D:\\Py\\OfficeAutomation\\data1'))"
   ]
  },
  {
   "cell_type": "code",
   "execution_count": 61,
   "metadata": {},
   "outputs": [
    {
     "data": {
      "text/plain": [
       "['D:\\\\Py\\\\OfficeAutomation\\\\data1\\\\sd\\\\1-s2.0-S0096300312006704-main.pdf',\n",
       " 'D:\\\\Py\\\\OfficeAutomation\\\\data1\\\\sd\\\\1-s2.0-S0096300312009551-main.pdf',\n",
       " 'D:\\\\Py\\\\OfficeAutomation\\\\data1\\\\sd\\\\1-s2.0-S0096300313000052-main.pdf',\n",
       " 'D:\\\\Py\\\\OfficeAutomation\\\\data1\\\\sd\\\\1-s2.0-S0165168411001010-main.pdf',\n",
       " 'D:\\\\Py\\\\OfficeAutomation\\\\data1\\\\sd\\\\1-s2.0-S0377042710005030-main.pdf',\n",
       " 'D:\\\\Py\\\\OfficeAutomation\\\\data1\\\\sd\\\\1-s2.0-S0377042712001045-main.pdf',\n",
       " 'D:\\\\Py\\\\OfficeAutomation\\\\data1\\\\sd\\\\1-s2.0-S0377042712001586-main.pdf',\n",
       " 'D:\\\\Py\\\\OfficeAutomation\\\\data1\\\\sd\\\\1-s2.0-S0893965912000778-main.pdf',\n",
       " 'D:\\\\Py\\\\OfficeAutomation\\\\data1\\\\sd\\\\1-s2.0-S0893965912001395-main.pdf',\n",
       " 'D:\\\\Py\\\\OfficeAutomation\\\\data1\\\\sd\\\\1-s2.0-S1007570405000341-main.pdf',\n",
       " 'D:\\\\Py\\\\OfficeAutomation\\\\data1\\\\sd\\\\1-s2.0-S1051200413001164-main (1).pdf',\n",
       " 'D:\\\\Py\\\\OfficeAutomation\\\\data1\\\\sd\\\\1-s2.0-S2210650211000721-main.pdf',\n",
       " 'D:\\\\Py\\\\OfficeAutomation\\\\data1\\\\sd\\\\subfolder-1\\\\1-s2.0-0045794994004275-main.pdf',\n",
       " 'D:\\\\Py\\\\OfficeAutomation\\\\data1\\\\sd\\\\subfolder-1\\\\1-s2.0-S0307904X1100641X-main.pdf',\n",
       " 'D:\\\\Py\\\\OfficeAutomation\\\\data1\\\\sd\\\\subfolder-1\\\\1-s2.0-S037704271200533X-main.pdf',\n",
       " 'D:\\\\Py\\\\OfficeAutomation\\\\data1\\\\sd\\\\subfolder-1\\\\1-s2.0-S088875430500039X-main.pdf',\n",
       " 'D:\\\\Py\\\\OfficeAutomation\\\\data1\\\\sd\\\\subfolder-1\\\\1-s2.0-S089396591200287X-main.pdf',\n",
       " 'D:\\\\Py\\\\OfficeAutomation\\\\data1\\\\sd\\\\subfolder-1\\\\subfolder-2\\\\1-s2.0-S0096300312006704-main.pdf',\n",
       " 'D:\\\\Py\\\\OfficeAutomation\\\\data1\\\\sd\\\\subfolder-1\\\\subfolder-2\\\\1-s2.0-S0096300312009551-main.pdf',\n",
       " 'D:\\\\Py\\\\OfficeAutomation\\\\data1\\\\sd\\\\subfolder-1\\\\subfolder-2\\\\1-s2.0-S0096300313000052-main.pdf']"
      ]
     },
     "execution_count": 61,
     "metadata": {},
     "output_type": "execute_result"
    }
   ],
   "source": [
    "dirfiles(r'D:\\Py\\OfficeAutomation\\data1')\n",
    "# . 表示当前路径, 由于传入的是相对路径, 返回的list 也是相对路径下的文件列表"
   ]
  },
  {
   "cell_type": "markdown",
   "metadata": {},
   "source": [
    "#### 计算文件夹下所有文件(包括子文件夹)的总大小\n",
    "有了上述获取指定目录及其子文件夹下所有文件的函数,我们就可以结合`getsize`函数来获取指定目录下所有文件的大小的函数了."
   ]
  },
  {
   "cell_type": "code",
   "execution_count": 62,
   "metadata": {},
   "outputs": [],
   "source": [
    "# 复用walk方法获取文件列表的方法dirfiles,然后使用getsize函数分别计算每个文件大小并求和\n",
    "def gettotalsizebywalk(path):\n",
    "    filelist=dirfiles(path)\n",
    "    totalsize=0\n",
    "    for file in filelist:\n",
    "        totalsize = totalsize + os.path.getsize(file)\n",
    "    return totalsize"
   ]
  },
  {
   "cell_type": "code",
   "execution_count": 63,
   "metadata": {},
   "outputs": [
    {
     "data": {
      "text/plain": [
       "9386248"
      ]
     },
     "execution_count": 63,
     "metadata": {},
     "output_type": "execute_result"
    }
   ],
   "source": [
    "gettotalsizebywalk(path = r'D:\\Py\\OfficeAutomation\\data1')\n"
   ]
  },
  {
   "cell_type": "markdown",
   "metadata": {},
   "source": [
    "在文件夹中使用鼠标右键的属性查看SD文件夹的大小   \n",
    "![SD1](.\\图片\\SD文件夹1.png)"
   ]
  },
  {
   "cell_type": "markdown",
   "metadata": {},
   "source": [
    "#### 批量重命名文件\n",
    "实际工作场景中,经常会有一些批量重命名文件的需求.   \n",
    "考虑如下问题: 从某数据库下载的全文文件均为字符和数字混合的命名方式, 现在希望用文章标题对文件名进行重命名. 文章标题保存在列表title中"
   ]
  },
  {
   "cell_type": "code",
   "execution_count": 20,
   "metadata": {},
   "outputs": [
    {
     "data": {
      "text/plain": [
       "['1-s2.0-S0096300312006704-main.pdf',\n",
       " '1-s2.0-S0096300312009551-main.pdf',\n",
       " '1-s2.0-S0096300313000052-main.pdf',\n",
       " '1-s2.0-S0165168411001010-main.pdf',\n",
       " '1-s2.0-S0377042710005030-main.pdf',\n",
       " '1-s2.0-S0377042712001045-main.pdf',\n",
       " '1-s2.0-S0377042712001586-main.pdf',\n",
       " '1-s2.0-S0893965912000778-main.pdf',\n",
       " '1-s2.0-S0893965912001395-main.pdf',\n",
       " '1-s2.0-S1007570405000341-main.pdf',\n",
       " '1-s2.0-S2210650211000721-main.pdf']"
      ]
     },
     "execution_count": 20,
     "metadata": {},
     "output_type": "execute_result"
    }
   ],
   "source": [
    "#filelist = dirfiles(r'C:\\Users\\Administrator\\Documents\\NoteExpress\\Libraries\\FullText\\sd')\n",
    "import re\n",
    "filepath = r'D:\\Py\\OfficeAutomation\\data1\\sd'\n",
    "filelist = [i for i in os.listdir(filepath) if re.search('main.pdf$',i)]\n",
    "filelist"
   ]
  },
  {
   "cell_type": "code",
   "execution_count": 21,
   "metadata": {},
   "outputs": [],
   "source": [
    "title = ['Some efficient derivative free methods with memory for solving nonlinear equations',\n",
    "'A derivative-free method for solving box-constrained underdetermined nonlinear systems of equations',\n",
    "'Superlinear bracketing method for solving nonlinear equations',\n",
    "'A tracker-aware detector threshold optimization formulation for tracking maneuvering targets in clutter',\n",
    "'Steffensen type methods for solving nonlinear equations',\n",
    "'Iterative methods for solving nonlinear equations with finitely many roots in an interval',\n",
    "'A new technique to obtain derivative-free optimal iterative methods for solving nonlinear equations',\n",
    "'Combined bracketing methods for solving nonlinear equations',\n",
    "'A cubically convergent Steffensen-like method for solving nonlinear equations',\n",
    "'Unscented fuzzy-controlled current statistic model and adaptive filtering for tracking maneuvering targets',\n",
    "'An interacting Fuzzy-Fading-Memory-based Augmented Kalman Filtering method for maneuvering target tracking']"
   ]
  },
  {
   "cell_type": "code",
   "execution_count": null,
   "metadata": {},
   "outputs": [],
   "source": [
    "len(filelist),len(title)"
   ]
  },
  {
   "cell_type": "code",
   "execution_count": null,
   "metadata": {},
   "outputs": [],
   "source": [
    "fullpath = [os.path.join(filepath,i) for i in filelist]\n",
    "fullpath"
   ]
  },
  {
   "cell_type": "code",
   "execution_count": null,
   "metadata": {},
   "outputs": [],
   "source": [
    "newnames = [os.path.join(filepath,i)+'.pdf' for i in title]\n",
    "newnames"
   ]
  },
  {
   "cell_type": "code",
   "execution_count": null,
   "metadata": {},
   "outputs": [],
   "source": [
    "for i in range(len(fullpath)):\n",
    "    os.rename(fullpath[i],newnames[i])"
   ]
  },
  {
   "cell_type": "code",
   "execution_count": null,
   "metadata": {},
   "outputs": [],
   "source": [
    "# 检查修改结果\n",
    "[i for i in os.listdir(filepath) if re.search('.pdf$',i)]\n",
    "# 修改成功"
   ]
  },
  {
   "cell_type": "code",
   "execution_count": null,
   "metadata": {},
   "outputs": [],
   "source": []
  },
  {
   "cell_type": "code",
   "execution_count": null,
   "metadata": {},
   "outputs": [],
   "source": []
  },
  {
   "cell_type": "code",
   "execution_count": null,
   "metadata": {},
   "outputs": [],
   "source": []
  },
  {
   "cell_type": "code",
   "execution_count": null,
   "metadata": {},
   "outputs": [],
   "source": []
  },
  {
   "cell_type": "code",
   "execution_count": null,
   "metadata": {},
   "outputs": [],
   "source": []
  },
  {
   "cell_type": "markdown",
   "metadata": {},
   "source": [
    "# 组织文件\n",
    "在这一节,我们主要关注于使用`shutil`模块来批量地进行文件及文件夹的复制,移动,重命名,压缩等等操作.   \n",
    "\n",
    "shutil(或称为shell工具)模块中包含一些函数,可以在Python程序中复制,移动,重命名和删除文件.   \n"
   ]
  },
  {
   "cell_type": "code",
   "execution_count": null,
   "metadata": {},
   "outputs": [],
   "source": [
    "import shutil"
   ]
  },
  {
   "cell_type": "markdown",
   "metadata": {},
   "source": [
    "#### 复制文件和文件夹\n",
    "shutil.copy(source, destination)：将路径source处的文件复制到路径 destination处的文件夹（source 和 destination 都是字符串），并返回新复制文件绝对路径字符串。\n",
    "\n",
    "其中destination可以是：\n",
    "\n",
    "1）、一个文件的名称，则将source文件复制为新名称的destination\n",
    "\n",
    "2）、一个文件夹，则将source文件复制到destination中\n",
    "\n",
    "3）、若这个文件夹不存在，则将source目标文件内的内容复制到destination中,若destination文件夹不存在，则自动生成该文件。(慎用，因为会将source文件复制为一个没有扩展名的名字为destination的文件，这往往不是我们希望的)"
   ]
  },
  {
   "cell_type": "code",
   "execution_count": null,
   "metadata": {},
   "outputs": [],
   "source": [
    "import shutil\n",
    "shutil.copy('D:\\\\Datawhale\\\\python办公自动化\\\\bacon.txt', 'D:\\\\Datawhale\\\\practice')\n",
    "os.getcwd()\n",
    "shutil.copy('D:\\\\Datawhale\\\\python办公自动化\\\\capitalsquiz_answers1.txt', 'D:\\\\Datawhale\\\\practice\\\\bacon.txt')\n",
    "shutil.copy('D:\\\\Datawhale\\\\python办公自动化\\\\bacon.txt', 'D:\\\\Datawhale\\\\exercise')"
   ]
  },
  {
   "cell_type": "markdown",
   "metadata": {},
   "source": [
    "shutil.copytree(source, destination) :将路径source处的文件夹，包括其包含的文件夹和文件，复制到路径destination处的文件夹,并返回新复制文件夹绝对路径字符串。\n",
    "\n",
    "注：destination处的文件夹为新创建的文件夹，如已存在，则会报错"
   ]
  },
  {
   "cell_type": "code",
   "execution_count": null,
   "metadata": {},
   "outputs": [],
   "source": [
    "import shutil\n",
    "shutil.copytree('D:\\\\Datawhale\\\\python办公自动化','D:\\\\Datawhale\\\\practice')"
   ]
  },
  {
   "cell_type": "markdown",
   "metadata": {},
   "source": [
    "#### 文件和文件夹的移动与改名\n",
    "shutil.move(source, destination)：将路径 source 处的文件/文件夹移动到路径destination，并返回新位置的绝对路径的字符串。\n",
    "\n",
    "1)、如果source和destination是文件夹，且destination已存在，则会将source文件夹下所有内容复制到destination文件夹中。移动。\n",
    "\n",
    "2）、如果source是文件夹，destination不存在，则会将source文件夹下所有内容复制到destination文件夹中，source原文件夹名称将被替换为destination文件夹名。 移动+重命名\n",
    "\n",
    "3）、如果source和destination是文件，source处的文件将被移动到destination处的位置，并以destination处的文件名进行命名，移动+重命名。\n",
    "\n",
    "注意：如果destination中有原来已经存在同名文件，移动后，会被覆写，所以应当特别注意。"
   ]
  },
  {
   "cell_type": "code",
   "execution_count": null,
   "metadata": {},
   "outputs": [],
   "source": [
    "import shutil\n",
    "shutil.move('D:\\\\Datawhale\\\\practice','D:\\\\Datawhale\\\\docu')\n",
    "shutil.move('D:\\\\Datawhale\\\\practice','D:\\\\Datawhale\\\\docue')\n",
    "shutil.move('D:\\\\Datawhale\\\\docue\\\\bacon.txt','D:\\\\Datawhale\\\\docu\\\\egg.txt')"
   ]
  },
  {
   "cell_type": "markdown",
   "metadata": {},
   "source": [
    "#### 永久删除文件和文件夹\n",
    "os.unlink(path): 删除path处的文件。\n",
    "\n",
    "os.rmdir(path): 删除path处的文件夹。该文件夹必须为空，其中没有任何文件和文件夹。\n",
    "\n",
    "shutil.rmtree(path):删除 path 处的文件夹，它包含的所有文件和文件夹都会被删除。\n",
    "\n",
    "注意：使用时，需要非常小心，避免删错文件，一般在第一次运行时，注释掉这些程序，并加上print()函数来帮助查看是否是想要删除的文件。"
   ]
  },
  {
   "cell_type": "code",
   "execution_count": null,
   "metadata": {},
   "outputs": [],
   "source": [
    "#建议先指定操作的文件夹，并查看\n",
    "os.chdir('D:\\\\Datawhale\\\\docue')\n",
    "os.getcwd()\n",
    "import os\n",
    "for filename in os.listdir():\n",
    "    if filename.endswith('.dir'):\n",
    "        #os.unlink(filename)\n",
    "        print(filename)"
   ]
  },
  {
   "cell_type": "markdown",
   "metadata": {},
   "source": [
    "#### 用send2trash模块安全地删除\n",
    "shutil.rmtree(path)会不可恢复的删除文件和文件夹，用起来会有危险。因此使用第三方的send2trash模块，可以将文件或文件夹发送到计算机的垃圾箱或回收站，而不是永久删除。因程序缺陷而用send2trash 删除的某些你不想删除的东西，稍后可以从垃圾箱恢复。\n",
    "\n",
    "注意：使用时，需要非常小心，避免删错文件，一般在第一次运行时，注释掉这些程序，并加上print()函数来帮助查看是否是想要删除的文件。"
   ]
  },
  {
   "cell_type": "code",
   "execution_count": 38,
   "metadata": {},
   "outputs": [
    {
     "name": "stdout",
     "output_type": "stream",
     "text": [
      "Requirement already satisfied: send2trash in d:\\programdata\\anaconda3\\lib\\site-packages (1.5.0)\n"
     ]
    }
   ],
   "source": [
    "#安装send2trash模块\n",
    "!pip install send2trash"
   ]
  },
  {
   "cell_type": "code",
   "execution_count": null,
   "metadata": {},
   "outputs": [],
   "source": [
    "import send2trash\n",
    "send2trash.send2trash('bacon.txt')"
   ]
  },
  {
   "cell_type": "code",
   "execution_count": null,
   "metadata": {},
   "outputs": [],
   "source": []
  },
  {
   "cell_type": "markdown",
   "metadata": {},
   "source": [
    "# 文件读写相关操作"
   ]
  },
  {
   "cell_type": "code",
   "execution_count": null,
   "metadata": {},
   "outputs": [],
   "source": [
    "1.1.6 文件读写过程\n",
    "读写文件3个步骤：\n",
    "\n",
    "1.调用open()函数，返回一个File对象。\n",
    "\n",
    "2.调用File对象的read()或write()方法。\n",
    "\n",
    "3.调用File对象的close()方法，关闭该文件。\n",
    "\n",
    "1.1.6.1 用open()函数打开文件\n",
    "要用open()函数打开一个文件，就要向它传递一个字符串路径，表明希望打开的文件。这既可以是绝对路径，也可以是相对路径。open()函数返回一个File对象。 先用TextEdit创建一个文本文件，名为hello.txt。输入Hello World!作为该文本文件的内容，将它保存在你的用户文件夹中。\n",
    "\n",
    "helloFile = open('D:\\\\Datawhale\\\\python办公自动化\\\\hello.txt')\n",
    "print(helloFile)\n",
    "可以看到，调用open()函数将会返回一个File对象。当你需要读取或写入该文件，就可以调用helloFile变量中的File对象的方法。\n",
    "\n",
    "1.1.6.2 读取文件内容\n",
    "有了File对象，我们就可以开始从它读取内容。\n",
    "\n",
    "read():读取文件内容。\n",
    "\n",
    "readlines():按行读取文件中的内容，取得一个字符串列表，列表中每个字符串是文本中的一行且以\\n结束。\n",
    "\n",
    "helloContent = helloFile.read()\n",
    "helloContent\n",
    "sonnetFile = open('D:\\\\Datawhale\\\\python办公自动化\\\\hello.txt')\n",
    "sonnetFile.readlines()\n",
    "1.1.6.3 写入文件\n",
    "需要用“写模式”‘w’和“添加模式”'a'打开一个文件，而不能用读模式打开文件。 “写模式”将覆写原有的文件，从头开始。“添加模式”将在已有文件的末尾添加文本。\n",
    "\n",
    "baconFile = open('bacon.txt','w')\n",
    "baconFile.write('Hello world!\\n')\n",
    "baconFile.close()  #注意，关闭后，才能完成写入，从txt文件中看到写入的内容。\n",
    "baconFile = open('bacon.txt','a')\n",
    "baconFile.write('Bacon is not a vegetable.')\n",
    "baconFile.close() \n",
    "baconFile = open('bacon.txt')\n",
    "content = baconFile.read()\n",
    "baconFile.close()\n",
    "print(content)\n",
    "注意，write()方法不会像print()函数那样，在字符串的末尾自动添加换行字符。必须自己添加该字符。\n",
    "\n",
    "1.1.6.3 保存变量\n",
    "1)、shelve模块\n",
    "\n",
    "用shelve模块，可以将Python中的变量保存到二进制的shelf文件中。这样，程序就可以从硬盘中恢复变量的数据。\n",
    "\n",
    "import shelve\n",
    "shelfFile = shelve.open('mydata')\n",
    "cats = ['Zonphie','Pooka','Simon']\n",
    "shelfFile['cats'] = cats\n",
    "shelfFile.close()\n",
    "在Windows上运行前面的代码，我们会看到当前工作目录下有3个新文件：mydata.bak、mydata.dat和mydata.dir。在OS X上，只会创建一个mydata.db文件。\n",
    "\n",
    "重新打开这些文件，取出数据。注意：shelf值不必用读模式或写模式打开，因为打开后，既能读又能写。\n",
    "\n",
    "shelfFile = shelve.open('mydata')\n",
    "type(shelfFile)\n",
    "shelve.DbfilenameShelf\n",
    "shelfFile['cats']\n",
    "shelfFile.close()\n",
    "就像字典一样，shelf值有keys()和values()方法，返回shelf中键和值的类似列表的值。但是这些方法返回类似列表的值，却不是真正的列表，所以应该将它们传递给list()函数，取得列表的形式。\n",
    "\n",
    "shelfFile = shelve.open('mydata')\n",
    "list(shelfFile.keys())\n",
    "list(shelfFile.values())\n",
    "shelfFile.close()\n",
    "2)、用pprint.pformat()函数保存变量\n",
    "\n",
    "pprint.pformat()函数返回要打印的内容的文本字符串，这个字符串既易于阅读，也是语法上正确的Python代码。\n",
    "\n",
    "假如，有一个字典，保存在一个变量中，希望保存这个变量和它的内容，以便将来使用。pprint.pformat()函数将提供一个字符串，我们可以将它写入.py文件。这个文件可以成为我们自己的模块，如果需要使用存储其中的变量，就可以导入它。\n",
    "\n",
    "import  pprint\n",
    "cats = [{'name':'Zophie','desc':'chubby'},{'name':'Pooka','desc':'fluffy'}]\n",
    "pprint.pformat(cats)\n",
    "fileObj = open('myCats.py','w')\n",
    "fileObj.write('cats = '+pprint.pformat(cats)+'\\n')\n",
    "fileObj.close()\n",
    "import语句导入的模块本身就是Python脚本。如果来自pprint.pformat()的字符串保存为一个.py文件，该文件就是一个可以导入的模块。\n",
    "\n",
    "import myCats\n",
    "myCats.cats\n",
    "myCats.cats[0]\n",
    "myCats.cats[0]['name']\n"
   ]
  },
  {
   "cell_type": "markdown",
   "metadata": {},
   "source": [
    "# 练习\n"
   ]
  },
  {
   "cell_type": "markdown",
   "metadata": {},
   "source": [
    "#### 综合练习1:生成随机的测验试卷文件\n",
    "假如你是一位地理老师， 班上有 35 名学生， 你希望进行美国各州首府的一个 小测验。不妙的是，班里有几个坏蛋， 你无法确信学生不会作弊。你希望随机调整 问题的次序， 这样每份试卷都是独一无二的， 这让任何人都不能从其他人那里抄袭答案。当然，手工完成这件事又费时又无聊。 好在， 你懂一些 Python。\n",
    "\n",
    "下面是程序所做的事：\n",
    "\n",
    "* 创建 35 份不同的测验试卷。\n",
    "\n",
    "* 为每份试卷创建 50 个多重选择题，次序随机。\n",
    "\n",
    "* 为每个问题提供一个正确答案和 3 个随机的错误答案，次序随机。\n",
    "\n",
    "* 将测验试卷写到 35 个文本文件中。\n",
    "\n",
    "* 将答案写到 35 个文本文件中。\n",
    "\n",
    "这意味着代码需要做下面的事：\n",
    "\n",
    "* 将州和它们的首府保存在一个字典中。\n",
    "\n",
    "* 针对测验文本文件和答案文本文件，调用 open()、 write()和 close()。\n",
    "\n",
    "* 利用 random.shuffle()随机调整问题和多重选项的次序。"
   ]
  },
  {
   "cell_type": "code",
   "execution_count": null,
   "metadata": {},
   "outputs": [],
   "source": [
    "capitals = {'Alabama': 'Montgomery', 'Alaska': 'Juneau', 'Arizona': 'Phoenix',\n",
    "'Arkansas': 'Little Rock', 'California': 'Sacramento', 'Colorado': 'Denver',\n",
    "'Connecticut': 'Hartford', 'Delaware': 'Dover', 'Florida': 'Tallahassee',\n",
    "'Georgia': 'Atlanta', 'Hawaii': 'Honolulu', 'Idaho': 'Boise', 'Illinois':\n",
    "'Springfield', 'Indiana': 'Indianapolis', 'Iowa': 'Des Moines', 'Kansas':\n",
    "'Topeka', 'Kentucky': 'Frankfort', 'Louisiana': 'Baton Rouge', 'Maine':\n",
    "'Augusta', 'Maryland': 'Annapolis', 'Massachusetts': 'Boston', 'Michigan':\n",
    "'Lansing', 'Minnesota': 'Saint Paul', 'Mississippi': 'Jackson', 'Missouri':\n",
    "'Jefferson City', 'Montana': 'Helena', 'Nebraska': 'Lincoln', 'Nevada':\n",
    "'Carson City', 'New Hampshire': 'Concord', 'New Jersey': 'Trenton', 'New'\n",
    "'Mexico': 'Santa Fe', 'New York': 'Albany', 'North Carolina': 'Raleigh',\n",
    "'North Dakota': 'Bismarck', 'Ohio': 'Columbus', 'Oklahoma': 'Oklahoma City',\n",
    "'Oregon': 'Salem', 'Pennsylvania': 'Harrisburg', 'Rhode Island': 'Providence',\n",
    "'South Carolina': 'Columbia', 'South Dakota': 'Pierre', 'Tennessee':\n",
    "'Nashville', 'Texas': 'Austin', 'Utah': 'Salt Lake City', 'Vermont':\n",
    "'Montpelier', 'Virginia': 'Richmond', 'Washington': 'Olympia', 'West'\n",
    "'Virginia': 'Charleston', 'Wisconsin': 'Madison', 'Wyoming': 'Cheyenne'}"
   ]
  },
  {
   "cell_type": "markdown",
   "metadata": {},
   "source": [
    "练习\n",
    "1）、编写一个程序，遍历一个目录树，查找特定扩展名的文件（诸如.pdf 或.jpg）。不论这些文件的位置在哪里， 将它们拷贝到一个新的文件夹中。\n",
    "\n",
    "2） 、一些不需要的、 巨大的文件或文件夹占据了硬盘的空间， 这并不少见。如果你试图释放计算机上的空间， 那么删除不想要的巨大文件效果最好。但首先你必须找到它们。编写一个程序， 遍历一个目录树， 查找特别大的文件或文件夹， 比方说， 超过100MB 的文件（回忆一下，要获得文件的大小，可以使用 os 模块的 os.path.getsize()）。将这些文件的绝对路径打印到屏幕上。\n",
    "\n",
    "3）、编写一个程序， 在一个文件夹中， 找到所有带指定前缀的文件， 诸如 spam001.txt,spam002.txt 等，并定位缺失的编号（例如存在 spam001.txt 和 spam003.txt， 但不存在 spam002.txt）。让该程序对所有后面的文件改名， 消除缺失的编号。作为附加的挑战，编写另一个程序，在一些连续编号的文件中，空出一些编号，以便加入新的文件。"
   ]
  },
  {
   "cell_type": "markdown",
   "metadata": {},
   "source": [
    "# 自动发送邮件\n",
    "[应该另外设置为独立的一章]\n",
    "使用Python实现自动化邮件发送，可以让你摆脱繁琐的重复性业务，节省非常多的时间。\n",
    "\n",
    "Python有两个内置库：smtplib和email，能够实现邮件功能，smtplib库负责发送邮件，email库负责构造邮件格式和内容。\n",
    "\n",
    "邮件发送需要遵守SMTP协议，Python内置对SMTP的支持，可以发送纯文本邮件、HTML邮件以及带附件的邮件。\n"
   ]
  },
  {
   "cell_type": "code",
   "execution_count": null,
   "metadata": {},
   "outputs": [],
   "source": [
    "#1 先导入相关的库和方法\n",
    "import smtplib  #导入库\n",
    "from smtplib import SMTP_SSL  #加密邮件内容，防止中途被截获\n",
    "from email.mime.text import  MIMEText   #构造邮件的正文\n",
    "from email.mime.image import MIMEImage  #构造邮件的图片\n",
    "from email.mime.multipart import MIMEMultipart   #把邮件的各个部分装在一起，邮件的主体\n",
    "from email.header import Header   #邮件的文件头，标题，收件人\n",
    "#2 设置邮箱域名、发件人邮箱、邮箱授权码、收件人邮箱\n",
    "host_server = 'smtp.163.com' #sina 邮箱smtp服务器                 #smtp 服务器的地址\n",
    "sender_163 = 'pythonauto_emai@163.com'                   #sender_163为发件人的邮箱\n",
    "pwd = 'DYEPOGLZDZYLOMRI'                    #pwd为邮箱的授权码'DYEPOGLZDZYLOMRI'\n",
    "#也可以自己注册个邮箱，邮箱授权码'DYEPOGLZDZYLOMRI' 获取方式可参考#http://help.163.com/14/0923/22/A6S1FMJD00754KNP.html\n",
    "receiver = '********@163.com'      \n",
    "#3 构建MIMEMultipart对象代表邮件本身，可以往里面添加文本、图片、附件等\n",
    "msg = MIMEMultipart()    #邮件主体\n",
    "#4 设置邮件头部内容\n",
    "mail_title = 'python办公自动化邮件'   # 邮件标题\n",
    "msg[\"Subject\"] = Header(mail_title,'utf-8')  #装入主体\n",
    "msg[\"From\"] = sender_163           #寄件人\n",
    "msg[\"To\"] = Header(\"测试邮箱\",'utf-8') #标题\n",
    "#5 添加正文文本\n",
    "mail_content = \"您好，这是使用python登录163邮箱发送邮件的测试\"   #邮件的正文内容\n",
    "message_text = MIMEText(mail_content,'plain','utf-8')   #构造文本,参数1：正文内容，参数2：文本格式，参数3：编码方式\n",
    "msg.attach(message_text)    # 向MIMEMultipart对象中添加文本对象\n",
    "#6 添加图片\n",
    "image_data = open('cat.jpg','rb')   # 二进制读取图片\n",
    "message_image = MIMEImage(image_data.read())  # 设置读取获取的二进制数据\n",
    "image_data.close()       # 关闭刚才打开的文件\n",
    "msg.attach(message_image)  # 添加图片文件到邮件信息当中去\n",
    "# 7 添加附件(excel表格)\n",
    "atta = MIMEText(open('cat.xlsx', 'rb').read(), 'base64', 'utf-8')   # 构造附件\n",
    "atta[\"Content-Disposition\"] = 'attachment; filename=\"cat.xlsx\"'  # 设置附件信息\n",
    "msg.attach(atta)       ## 添加附件到邮件信息当中去\n",
    "#8 发送邮件\n",
    "smtp = SMTP_SSL(host_server)       #SSL登录  创建SMTP对象\n",
    "smtp.login(sender_163,pwd)         ## 登录邮箱，传递参数1：邮箱地址，参数2：邮箱授权码\n",
    "smtp.sendmail(sender_163,receiver,msg.as_string()) # 发送邮件，传递参数1：发件人邮箱地址，参数2：收件人邮箱地址，参数3：把邮件内容格式改为str\n",
    "print(\"邮件发送成功\")\n",
    "smtp.quit         # 关闭SMTP对象"
   ]
  },
  {
   "cell_type": "code",
   "execution_count": null,
   "metadata": {},
   "outputs": [],
   "source": []
  }
 ],
 "metadata": {
  "kernelspec": {
   "display_name": "Python 3",
   "language": "python",
   "name": "python3"
  },
  "language_info": {
   "codemirror_mode": {
    "name": "ipython",
    "version": 3
   },
   "file_extension": ".py",
   "mimetype": "text/x-python",
   "name": "python",
   "nbconvert_exporter": "python",
   "pygments_lexer": "ipython3",
   "version": "3.8.3"
  },
  "toc-autonumbering": false
 },
 "nbformat": 4,
 "nbformat_minor": 4
}
