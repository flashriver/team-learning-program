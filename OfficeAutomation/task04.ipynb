{
 "cells": [
  {
   "cell_type": "markdown",
   "metadata": {},
   "source": [
    "- Python操作PDF\n",
    "[20210620 created]\n",
    "PDF是互联网世界最为广泛使用的非自由文本类型,它的特点是内容和排版都是固化的,不能直接进行文字等内容方面或排版的修改.这种特性使得它成为最为广泛使用的固定文本的发布和传播方式.    \n",
    "\n",
    "这一部分的学习内容包含"
   ]
  },
  {
   "cell_type": "markdown",
   "metadata": {},
   "source": [
    "* pdf文件结构: \n",
    "\n",
    "参考资料\n",
    "https://blog.csdn.net/mouday/article/details/85048495   \n",
    "https://blog.csdn.net/liuhuai12345/article/details/50424663   \n",
    "https://blog.csdn.net/bobob/article/details/4328426   \n"
   ]
  },
  {
   "cell_type": "markdown",
   "metadata": {},
   "source": [
    "# 读取PDF\n",
    "能够打开并读取PDF格式文件的Python相关的库有很多,每种都有其自身特点和优势.   \n",
    "本节内容主要聚焦于使用PyPDF2和pdfplumber打开和读取PDF文件中的文本,表格和图片等类型的内容."
   ]
  },
  {
   "cell_type": "markdown",
   "metadata": {},
   "source": [
    "#### 打开PDF"
   ]
  },
  {
   "cell_type": "code",
   "execution_count": null,
   "metadata": {},
   "outputs": [],
   "source": []
  },
  {
   "cell_type": "markdown",
   "metadata": {},
   "source": [
    "#### 提取PDF的文本"
   ]
  },
  {
   "cell_type": "code",
   "execution_count": null,
   "metadata": {},
   "outputs": [],
   "source": []
  },
  {
   "cell_type": "markdown",
   "metadata": {},
   "source": [
    "#### 提取PDF的表格"
   ]
  },
  {
   "cell_type": "code",
   "execution_count": null,
   "metadata": {},
   "outputs": [],
   "source": []
  },
  {
   "cell_type": "markdown",
   "metadata": {},
   "source": [
    "#### 提取PDF的图片"
   ]
  },
  {
   "cell_type": "code",
   "execution_count": null,
   "metadata": {},
   "outputs": [],
   "source": []
  },
  {
   "cell_type": "markdown",
   "metadata": {},
   "source": [
    "#### 提取PDF页面大小"
   ]
  },
  {
   "cell_type": "code",
   "execution_count": null,
   "metadata": {},
   "outputs": [],
   "source": []
  },
  {
   "cell_type": "markdown",
   "metadata": {},
   "source": [
    "#### 提取PDF的元数据\n",
    "PDF的元数据是指PDF文件的描述信息,包括"
   ]
  },
  {
   "cell_type": "code",
   "execution_count": null,
   "metadata": {},
   "outputs": [],
   "source": []
  },
  {
   "cell_type": "markdown",
   "metadata": {},
   "source": [
    "#### 提取PDF的目录\n",
    "有些PDF文件提供了目录,特别是一些从带目录的word文件转化而来的PDF.使用pdfminer和pumpdf等库都可以获取带有目录结构的PDF文件的目录.  \n",
    "\n",
    "参考资料:     \n",
    "[1] PyMuPDF的官方文档 https://pymupdf.readthedocs.io/en/latest/ "
   ]
  },
  {
   "cell_type": "code",
   "execution_count": 6,
   "metadata": {},
   "outputs": [
    {
     "name": "stdout",
     "output_type": "stream",
     "text": [
      "Collecting PyMuPDF\n",
      "  Downloading PyMuPDF-1.18.14-cp38-cp38-win_amd64.whl (5.4 MB)\n",
      "Installing collected packages: PyMuPDF\n",
      "Successfully installed PyMuPDF-1.18.14\n"
     ]
    }
   ],
   "source": [
    "!pip install PyMuPDF"
   ]
  },
  {
   "cell_type": "code",
   "execution_count": 7,
   "metadata": {},
   "outputs": [
    {
     "name": "stdout",
     "output_type": "stream",
     "text": [
      "\n",
      "PyMuPDF 1.18.14: Python bindings for the MuPDF 1.18.0 library.\n",
      "Version date: 2021-06-01 08:11:38.\n",
      "Built for Python 3.8 on win32 (64-bit).\n",
      "\n"
     ]
    }
   ],
   "source": [
    "# 导入PyMuPDF库-注意导入时的库名称和安装时的不一样\n",
    "import fitz\n",
    "# 查看该库的相关信息\n",
    "print(fitz.__doc__)"
   ]
  },
  {
   "cell_type": "code",
   "execution_count": 41,
   "metadata": {},
   "outputs": [
    {
     "data": {
      "text/plain": [
       "fitz.Document('D:/Python/XWLW20200303/rawdata/2015年6月-83-81/2012225010240_75540\\251010_S114527刘华-2.pdf')"
      ]
     },
     "execution_count": 41,
     "metadata": {},
     "output_type": "execute_result"
    }
   ],
   "source": [
    "# 打开PDF文件\n",
    "filename = 'D:/Python/XWLW20200303/rawdata/2015年6月-83-81/2012225010240_75540\\\\251010_S114527刘华-2.pdf'\n",
    "doc = fitz.open(filename)     # or fitz.Document(filename)\n",
    "doc"
   ]
  },
  {
   "cell_type": "code",
   "execution_count": null,
   "metadata": {},
   "outputs": [],
   "source": []
  },
  {
   "cell_type": "markdown",
   "metadata": {},
   "source": []
  },
  {
   "cell_type": "code",
   "execution_count": 42,
   "metadata": {},
   "outputs": [],
   "source": [
    "## 使用pymupdf获取目录\n",
    "toc = doc.getToC()"
   ]
  },
  {
   "cell_type": "code",
   "execution_count": 43,
   "metadata": {
    "collapsed": true,
    "jupyter": {
     "outputs_hidden": true
    }
   },
   "outputs": [
    {
     "data": {
      "text/plain": [
       "[[1, '1.绪论', 9],\n",
       " [2, '1.1 选题的背景和意义', 9],\n",
       " [3, '1.1.1 建立和完善国库集中收付制度的必要性', 9],\n",
       " [3, '1.1.2 本文的理论价值与现实意义', 11],\n",
       " [2, '1.2 国内外研究现状', 11],\n",
       " [2, '1.3 研究思路与结构安排', 13],\n",
       " [2, '1.4 创新及不足', 14],\n",
       " [1, '2.国库集中收付制度的基本概念与理论基础', 15],\n",
       " [2, '2.1 基本概念的界定', 15],\n",
       " [3, '2.1.1 国库', 15],\n",
       " [3, '2.1.2 国库集中收付制度', 15],\n",
       " [3, '2.1.3 国库单一账户体系', 15],\n",
       " [2, '2.2 相关理论', 15],\n",
       " [3, '2.2.1 公共财政理论', 15],\n",
       " [3, '2.2.2 委托代理理论', 17],\n",
       " [3, '2.2.3 公共选择理论', 18],\n",
       " [1, '3.四川省国库集中收付改革的基本状况', 20],\n",
       " [2, '3.1 改革的背景', 20],\n",
       " [3, '3.1.1 改革前的收支管理模式及弊端', 20],\n",
       " [3, '3.1.2 四川实行实行国库集中收付制度改革的有利条件', 22],\n",
       " [2, '3.2 四川国库集中收付改革的现状', 22],\n",
       " [3, '3.2.1 四川省国库集中收付改革的基本路径和原则', 22],\n",
       " [3, '3.2.2 改革坚持的原则', 23],\n",
       " [3, '3.2.3 改革的具体内容', 24],\n",
       " [3, '3.2.4 改革取得的成效', 25],\n",
       " [1, '4.四川省国库集中收付制度改革中的问题及分析', 28],\n",
       " [2, '4.1 改革中存在的普遍问题', 28],\n",
       " [3, '4.1.1 国库集中收付制度相关法律法规不完善', 28],\n",
       " [3, '4.1.2 各地市州改革步调不一', 28],\n",
       " [3, '4.1.3 与相关配套改革未有机衔接', 28],\n",
       " [3, '4.1.4 既得利益受损和预算意识不强阻碍改革', 29],\n",
       " [3, '4.1.5 预算执行监督体系还有待完善', 30],\n",
       " [2, '4.2 改革中存在的具体业务问题', 30],\n",
       " [3, '4.2.1 财政收入征收方面的问题', 30],\n",
       " [3, '4.2.2 支出管理改革存在的问题', 31],\n",
       " [3, '4.2.3 业务流程方面的问题', 32],\n",
       " [2, '4.3 国库现金管理工作有待完善', 32],\n",
       " [1, '5.完善四川省国库集中收付制度改革的对策建议', 34],\n",
       " [2, '5.1 明确深化改革的基本思路和基本原则', 34],\n",
       " [3, '5.1.1 深化改革的目标', 34],\n",
       " [3, '5.1.2 深化改革的基本思路', 34],\n",
       " [3, '5.1.3 深化国库集中收付制度改革应坚持的几项原则', 35],\n",
       " [2, '5.2 进一步健全国库管理相关法规制度', 36],\n",
       " [2, '5.3 加快财政国库信息化建设', 37],\n",
       " [3, '5.3.1 完善已有的财政业务应用系统', 38],\n",
       " [3, '5.3.2 加强网络基础设施建设', 38],\n",
       " [3, '5.3.3 做好数据开发和处理工作，服务财政科学决策', 38],\n",
       " [3, '5.3.4 加强财政资金安全监管，保证信息安全', 38],\n",
       " [2, '5.4 加强财政工作的科学化精细化管理', 39],\n",
       " [3, '5.4.1 建立完整的政府预算体系', 39],\n",
       " [3, '5.4.2 加强预算编制管理', 40],\n",
       " [3, '5.4.3 加强支出预算执行管理', 40],\n",
       " [3, '5.4.4 深化收入收缴制度改革', 41],\n",
       " [3, '5.4.5 深入推进乡镇国库集中支付改革', 42],\n",
       " [2, '5.5 改革财政预算会计制度', 46],\n",
       " [2, '5.6 创新国库现金管理方式，积极开展国库现金管理', 47],\n",
       " [3, '5.6.1 国库现金管理的原则', 47],\n",
       " [3, '5.6.2 国库现金管理的运作方式', 47],\n",
       " [3, '5.6.3 国库现金管理的操作要求', 48],\n",
       " [2, '5.7 完善国库集中收付系统监督制约机制', 48],\n",
       " [3, '5.7.1 财政内部监督', 49],\n",
       " [3, '5.7.2 人大监督', 49],\n",
       " [3, '5.7.3 审计监督', 49],\n",
       " [3, '5.7.4 社会监督', 50],\n",
       " [1, '6.结论', 51],\n",
       " [1, '参考文献', 52],\n",
       " [1, '声  明', 53],\n",
       " [1, '致  谢', 54]]"
      ]
     },
     "execution_count": 43,
     "metadata": {},
     "output_type": "execute_result"
    }
   ],
   "source": [
    "toc\n",
    "# 得到的目录是由列表构成的列表,格式为 [[lvl, title, page, …], …] "
   ]
  },
  {
   "cell_type": "code",
   "execution_count": null,
   "metadata": {},
   "outputs": [],
   "source": [
    "#\n",
    "toc = "
   ]
  },
  {
   "cell_type": "code",
   "execution_count": null,
   "metadata": {},
   "outputs": [],
   "source": []
  },
  {
   "cell_type": "code",
   "execution_count": null,
   "metadata": {},
   "outputs": [],
   "source": []
  },
  {
   "cell_type": "markdown",
   "metadata": {},
   "source": [
    "# 操作PDF\n",
    "操作PDF这一节我们聚焦于使用Python工具来对PDF文件进行各种修改操作.   \n",
    "正如我们在开篇时提到的,对于非自由文本格式的PDF文件,通常而言,一个PDF文件是无法直接进行编辑修改的.但既然通过上一节的学习,我们已经可以将PDF文件的各个组成要素提取出来,那么我们自然可以更进一步,将这些要素中的一部分进行修改替换并保存,进而达到\"修改\"PDF的目的."
   ]
  },
  {
   "cell_type": "markdown",
   "metadata": {},
   "source": [
    "#### 批量拆分PDF"
   ]
  },
  {
   "cell_type": "code",
   "execution_count": null,
   "metadata": {},
   "outputs": [],
   "source": []
  },
  {
   "cell_type": "code",
   "execution_count": null,
   "metadata": {},
   "outputs": [],
   "source": []
  },
  {
   "cell_type": "markdown",
   "metadata": {},
   "source": [
    "#### 批量合并PDF"
   ]
  },
  {
   "cell_type": "code",
   "execution_count": null,
   "metadata": {},
   "outputs": [],
   "source": []
  },
  {
   "cell_type": "code",
   "execution_count": null,
   "metadata": {},
   "outputs": [],
   "source": []
  },
  {
   "cell_type": "markdown",
   "metadata": {},
   "source": [
    "#### 为PDF添加水印"
   ]
  },
  {
   "cell_type": "code",
   "execution_count": null,
   "metadata": {},
   "outputs": [],
   "source": []
  },
  {
   "cell_type": "markdown",
   "metadata": {},
   "source": [
    "#### 去除PDF的水印\n",
    "添加水印是为了在一定程度上保护知识产权不被盗用,但在使用中可能会带来一些不便.    \n",
    "如果你有一批被加了水印的PDF,想要去除其中的水印,也是可以使用PyPDF2等Python库来去除水印的.当然,实现难度视水印类型而不同."
   ]
  },
  {
   "cell_type": "code",
   "execution_count": null,
   "metadata": {},
   "outputs": [],
   "source": [
    "# 参考 https://www.pythonheidong.com/blog/article/174503/3bc131772ea89be8776b/\n"
   ]
  },
  {
   "cell_type": "markdown",
   "metadata": {},
   "source": [
    "#### 加密与解密"
   ]
  },
  {
   "cell_type": "code",
   "execution_count": null,
   "metadata": {},
   "outputs": [],
   "source": []
  },
  {
   "cell_type": "markdown",
   "metadata": {},
   "source": [
    "# PDF相关的格式转换"
   ]
  },
  {
   "cell_type": "markdown",
   "metadata": {},
   "source": [
    "## 其他格式转为PDF"
   ]
  },
  {
   "cell_type": "markdown",
   "metadata": {},
   "source": [
    "#### 转换(合并)图片为PDF"
   ]
  },
  {
   "cell_type": "markdown",
   "metadata": {},
   "source": [
    "#### 转换文本文件为PDF"
   ]
  },
  {
   "cell_type": "markdown",
   "metadata": {},
   "source": [
    "#### 转换markdown为PDF*\n",
    "wkhtmltopdf和md2pdf库可以将markdown格式的文件转换为PDF.   \n",
    "参考:   \n",
    "[1]https://www.cnblogs.com/Wshile/p/13194019.html"
   ]
  },
  {
   "cell_type": "markdown",
   "metadata": {},
   "source": [
    "#### 转换word文件为PDF*\n",
    "在windows操作系统下,如果安装了恰当的office版本,则可以使用office提供的工具将word文件批量转换为PDF."
   ]
  },
  {
   "cell_type": "code",
   "execution_count": null,
   "metadata": {},
   "outputs": [],
   "source": []
  },
  {
   "cell_type": "markdown",
   "metadata": {},
   "source": [
    "## PDF转为其他格式"
   ]
  },
  {
   "cell_type": "markdown",
   "metadata": {},
   "source": [
    "#### 将PDF转为图片\n",
    "将PDF转为图片有很多实现方法,例如pdf2image库,pymupdf库,等等,每种实现方式各有其优点,我们逐一来介绍一下相关方法.\n",
    "* pdf2image库的convert_from_path方法能够将参数指定路径的pdf转为图片格式,默认"
   ]
  },
  {
   "cell_type": "code",
   "execution_count": 2,
   "metadata": {},
   "outputs": [
    {
     "name": "stdout",
     "output_type": "stream",
     "text": [
      "Collecting pdf2image\n",
      "  Downloading pdf2image-1.15.1-py3-none-any.whl (10 kB)\n",
      "Requirement already satisfied: pillow in d:\\programdata\\anaconda3\\lib\\site-packages (from pdf2image) (7.2.0)\n",
      "Installing collected packages: pdf2image\n",
      "Successfully installed pdf2image-1.15.1\n"
     ]
    }
   ],
   "source": [
    "!pip install pdf2image"
   ]
  },
  {
   "cell_type": "code",
   "execution_count": 3,
   "metadata": {},
   "outputs": [],
   "source": [
    "from pdf2image import convert_from_path#,convert_from_bytes"
   ]
  },
  {
   "cell_type": "code",
   "execution_count": 4,
   "metadata": {
    "collapsed": true,
    "jupyter": {
     "outputs_hidden": true
    }
   },
   "outputs": [
    {
     "data": {
      "text/plain": [
       "\u001b[1;31mSignature:\u001b[0m\n",
       "\u001b[0mconvert_from_path\u001b[0m\u001b[1;33m(\u001b[0m\u001b[1;33m\n",
       "\u001b[0m    \u001b[0mpdf_path\u001b[0m\u001b[1;33m,\u001b[0m\u001b[1;33m\n",
       "\u001b[0m    \u001b[0mdpi\u001b[0m\u001b[1;33m=\u001b[0m\u001b[1;36m200\u001b[0m\u001b[1;33m,\u001b[0m\u001b[1;33m\n",
       "\u001b[0m    \u001b[0moutput_folder\u001b[0m\u001b[1;33m=\u001b[0m\u001b[1;32mNone\u001b[0m\u001b[1;33m,\u001b[0m\u001b[1;33m\n",
       "\u001b[0m    \u001b[0mfirst_page\u001b[0m\u001b[1;33m=\u001b[0m\u001b[1;32mNone\u001b[0m\u001b[1;33m,\u001b[0m\u001b[1;33m\n",
       "\u001b[0m    \u001b[0mlast_page\u001b[0m\u001b[1;33m=\u001b[0m\u001b[1;32mNone\u001b[0m\u001b[1;33m,\u001b[0m\u001b[1;33m\n",
       "\u001b[0m    \u001b[0mfmt\u001b[0m\u001b[1;33m=\u001b[0m\u001b[1;34m'ppm'\u001b[0m\u001b[1;33m,\u001b[0m\u001b[1;33m\n",
       "\u001b[0m    \u001b[0mjpegopt\u001b[0m\u001b[1;33m=\u001b[0m\u001b[1;32mNone\u001b[0m\u001b[1;33m,\u001b[0m\u001b[1;33m\n",
       "\u001b[0m    \u001b[0mthread_count\u001b[0m\u001b[1;33m=\u001b[0m\u001b[1;36m1\u001b[0m\u001b[1;33m,\u001b[0m\u001b[1;33m\n",
       "\u001b[0m    \u001b[0muserpw\u001b[0m\u001b[1;33m=\u001b[0m\u001b[1;32mNone\u001b[0m\u001b[1;33m,\u001b[0m\u001b[1;33m\n",
       "\u001b[0m    \u001b[0muse_cropbox\u001b[0m\u001b[1;33m=\u001b[0m\u001b[1;32mFalse\u001b[0m\u001b[1;33m,\u001b[0m\u001b[1;33m\n",
       "\u001b[0m    \u001b[0mstrict\u001b[0m\u001b[1;33m=\u001b[0m\u001b[1;32mFalse\u001b[0m\u001b[1;33m,\u001b[0m\u001b[1;33m\n",
       "\u001b[0m    \u001b[0mtransparent\u001b[0m\u001b[1;33m=\u001b[0m\u001b[1;32mFalse\u001b[0m\u001b[1;33m,\u001b[0m\u001b[1;33m\n",
       "\u001b[0m    \u001b[0msingle_file\u001b[0m\u001b[1;33m=\u001b[0m\u001b[1;32mFalse\u001b[0m\u001b[1;33m,\u001b[0m\u001b[1;33m\n",
       "\u001b[0m    \u001b[0moutput_file\u001b[0m\u001b[1;33m=\u001b[0m\u001b[1;33m<\u001b[0m\u001b[0mpdf2image\u001b[0m\u001b[1;33m.\u001b[0m\u001b[0mgenerators\u001b[0m\u001b[1;33m.\u001b[0m\u001b[0mThreadSafeGenerator\u001b[0m \u001b[0mobject\u001b[0m \u001b[0mat\u001b[0m \u001b[1;36m0x00000225B593DA30\u001b[0m\u001b[1;33m>\u001b[0m\u001b[1;33m,\u001b[0m\u001b[1;33m\n",
       "\u001b[0m    \u001b[0mpoppler_path\u001b[0m\u001b[1;33m=\u001b[0m\u001b[1;32mNone\u001b[0m\u001b[1;33m,\u001b[0m\u001b[1;33m\n",
       "\u001b[0m    \u001b[0mgrayscale\u001b[0m\u001b[1;33m=\u001b[0m\u001b[1;32mFalse\u001b[0m\u001b[1;33m,\u001b[0m\u001b[1;33m\n",
       "\u001b[0m    \u001b[0msize\u001b[0m\u001b[1;33m=\u001b[0m\u001b[1;32mNone\u001b[0m\u001b[1;33m,\u001b[0m\u001b[1;33m\n",
       "\u001b[0m    \u001b[0mpaths_only\u001b[0m\u001b[1;33m=\u001b[0m\u001b[1;32mFalse\u001b[0m\u001b[1;33m,\u001b[0m\u001b[1;33m\n",
       "\u001b[0m    \u001b[0muse_pdftocairo\u001b[0m\u001b[1;33m=\u001b[0m\u001b[1;32mFalse\u001b[0m\u001b[1;33m,\u001b[0m\u001b[1;33m\n",
       "\u001b[0m    \u001b[0mtimeout\u001b[0m\u001b[1;33m=\u001b[0m\u001b[1;32mNone\u001b[0m\u001b[1;33m,\u001b[0m\u001b[1;33m\n",
       "\u001b[0m\u001b[1;33m)\u001b[0m\u001b[1;33m\u001b[0m\u001b[1;33m\u001b[0m\u001b[0m\n",
       "\u001b[1;31mSource:\u001b[0m   \n",
       "\u001b[1;32mdef\u001b[0m \u001b[0mconvert_from_path\u001b[0m\u001b[1;33m(\u001b[0m\u001b[1;33m\n",
       "\u001b[0m    \u001b[0mpdf_path\u001b[0m\u001b[1;33m,\u001b[0m\u001b[1;33m\n",
       "\u001b[0m    \u001b[0mdpi\u001b[0m\u001b[1;33m=\u001b[0m\u001b[1;36m200\u001b[0m\u001b[1;33m,\u001b[0m\u001b[1;33m\n",
       "\u001b[0m    \u001b[0moutput_folder\u001b[0m\u001b[1;33m=\u001b[0m\u001b[1;32mNone\u001b[0m\u001b[1;33m,\u001b[0m\u001b[1;33m\n",
       "\u001b[0m    \u001b[0mfirst_page\u001b[0m\u001b[1;33m=\u001b[0m\u001b[1;32mNone\u001b[0m\u001b[1;33m,\u001b[0m\u001b[1;33m\n",
       "\u001b[0m    \u001b[0mlast_page\u001b[0m\u001b[1;33m=\u001b[0m\u001b[1;32mNone\u001b[0m\u001b[1;33m,\u001b[0m\u001b[1;33m\n",
       "\u001b[0m    \u001b[0mfmt\u001b[0m\u001b[1;33m=\u001b[0m\u001b[1;34m\"ppm\"\u001b[0m\u001b[1;33m,\u001b[0m\u001b[1;33m\n",
       "\u001b[0m    \u001b[0mjpegopt\u001b[0m\u001b[1;33m=\u001b[0m\u001b[1;32mNone\u001b[0m\u001b[1;33m,\u001b[0m\u001b[1;33m\n",
       "\u001b[0m    \u001b[0mthread_count\u001b[0m\u001b[1;33m=\u001b[0m\u001b[1;36m1\u001b[0m\u001b[1;33m,\u001b[0m\u001b[1;33m\n",
       "\u001b[0m    \u001b[0muserpw\u001b[0m\u001b[1;33m=\u001b[0m\u001b[1;32mNone\u001b[0m\u001b[1;33m,\u001b[0m\u001b[1;33m\n",
       "\u001b[0m    \u001b[0muse_cropbox\u001b[0m\u001b[1;33m=\u001b[0m\u001b[1;32mFalse\u001b[0m\u001b[1;33m,\u001b[0m\u001b[1;33m\n",
       "\u001b[0m    \u001b[0mstrict\u001b[0m\u001b[1;33m=\u001b[0m\u001b[1;32mFalse\u001b[0m\u001b[1;33m,\u001b[0m\u001b[1;33m\n",
       "\u001b[0m    \u001b[0mtransparent\u001b[0m\u001b[1;33m=\u001b[0m\u001b[1;32mFalse\u001b[0m\u001b[1;33m,\u001b[0m\u001b[1;33m\n",
       "\u001b[0m    \u001b[0msingle_file\u001b[0m\u001b[1;33m=\u001b[0m\u001b[1;32mFalse\u001b[0m\u001b[1;33m,\u001b[0m\u001b[1;33m\n",
       "\u001b[0m    \u001b[0moutput_file\u001b[0m\u001b[1;33m=\u001b[0m\u001b[0muuid_generator\u001b[0m\u001b[1;33m(\u001b[0m\u001b[1;33m)\u001b[0m\u001b[1;33m,\u001b[0m\u001b[1;33m\n",
       "\u001b[0m    \u001b[0mpoppler_path\u001b[0m\u001b[1;33m=\u001b[0m\u001b[1;32mNone\u001b[0m\u001b[1;33m,\u001b[0m\u001b[1;33m\n",
       "\u001b[0m    \u001b[0mgrayscale\u001b[0m\u001b[1;33m=\u001b[0m\u001b[1;32mFalse\u001b[0m\u001b[1;33m,\u001b[0m\u001b[1;33m\n",
       "\u001b[0m    \u001b[0msize\u001b[0m\u001b[1;33m=\u001b[0m\u001b[1;32mNone\u001b[0m\u001b[1;33m,\u001b[0m\u001b[1;33m\n",
       "\u001b[0m    \u001b[0mpaths_only\u001b[0m\u001b[1;33m=\u001b[0m\u001b[1;32mFalse\u001b[0m\u001b[1;33m,\u001b[0m\u001b[1;33m\n",
       "\u001b[0m    \u001b[0muse_pdftocairo\u001b[0m\u001b[1;33m=\u001b[0m\u001b[1;32mFalse\u001b[0m\u001b[1;33m,\u001b[0m\u001b[1;33m\n",
       "\u001b[0m    \u001b[0mtimeout\u001b[0m\u001b[1;33m=\u001b[0m\u001b[1;32mNone\u001b[0m\u001b[1;33m,\u001b[0m\u001b[1;33m\n",
       "\u001b[0m\u001b[1;33m)\u001b[0m\u001b[1;33m:\u001b[0m\u001b[1;33m\n",
       "\u001b[0m    \u001b[1;34m\"\"\"\n",
       "        Description: Convert PDF to Image will throw whenever one of the condition is reached\n",
       "        Parameters:\n",
       "            pdf_path -> Path to the PDF that you want to convert\n",
       "            dpi -> Image quality in DPI (default 200)\n",
       "            output_folder -> Write the resulting images to a folder (instead of directly in memory)\n",
       "            first_page -> First page to process\n",
       "            last_page -> Last page to process before stopping\n",
       "            fmt -> Output image format\n",
       "            jpegopt -> jpeg options `quality`, `progressive`, and `optimize` (only for jpeg format)\n",
       "            thread_count -> How many threads we are allowed to spawn for processing\n",
       "            userpw -> PDF's password\n",
       "            use_cropbox -> Use cropbox instead of mediabox\n",
       "            strict -> When a Syntax Error is thrown, it will be raised as an Exception\n",
       "            transparent -> Output with a transparent background instead of a white one.\n",
       "            single_file -> Uses the -singlefile option from pdftoppm/pdftocairo\n",
       "            output_file -> What is the output filename or generator\n",
       "            poppler_path -> Path to look for poppler binaries\n",
       "            grayscale -> Output grayscale image(s)\n",
       "            size -> Size of the resulting image(s), uses the Pillow (width, height) standard\n",
       "            paths_only -> Don't load image(s), return paths instead (requires output_folder)\n",
       "            use_pdftocairo -> Use pdftocairo instead of pdftoppm, may help performance\n",
       "            timeout -> Raise PDFPopplerTimeoutError after the given time\n",
       "    \"\"\"\u001b[0m\u001b[1;33m\n",
       "\u001b[0m\u001b[1;33m\n",
       "\u001b[0m    \u001b[1;32mif\u001b[0m \u001b[0muse_pdftocairo\u001b[0m \u001b[1;32mand\u001b[0m \u001b[0mfmt\u001b[0m \u001b[1;33m==\u001b[0m \u001b[1;34m\"ppm\"\u001b[0m\u001b[1;33m:\u001b[0m\u001b[1;33m\n",
       "\u001b[0m        \u001b[0mfmt\u001b[0m \u001b[1;33m=\u001b[0m \u001b[1;34m\"png\"\u001b[0m\u001b[1;33m\n",
       "\u001b[0m\u001b[1;33m\n",
       "\u001b[0m    \u001b[1;31m# We make sure that if passed arguments are Path objects, they're converted to strings\u001b[0m\u001b[1;33m\n",
       "\u001b[0m    \u001b[1;32mif\u001b[0m \u001b[0misinstance\u001b[0m\u001b[1;33m(\u001b[0m\u001b[0mpdf_path\u001b[0m\u001b[1;33m,\u001b[0m \u001b[0mpathlib\u001b[0m\u001b[1;33m.\u001b[0m\u001b[0mPurePath\u001b[0m\u001b[1;33m)\u001b[0m\u001b[1;33m:\u001b[0m\u001b[1;33m\n",
       "\u001b[0m        \u001b[0mpdf_path\u001b[0m \u001b[1;33m=\u001b[0m \u001b[0mpdf_path\u001b[0m\u001b[1;33m.\u001b[0m\u001b[0mas_posix\u001b[0m\u001b[1;33m(\u001b[0m\u001b[1;33m)\u001b[0m\u001b[1;33m\n",
       "\u001b[0m\u001b[1;33m\n",
       "\u001b[0m    \u001b[1;32mif\u001b[0m \u001b[0misinstance\u001b[0m\u001b[1;33m(\u001b[0m\u001b[0moutput_folder\u001b[0m\u001b[1;33m,\u001b[0m \u001b[0mpathlib\u001b[0m\u001b[1;33m.\u001b[0m\u001b[0mPurePath\u001b[0m\u001b[1;33m)\u001b[0m\u001b[1;33m:\u001b[0m\u001b[1;33m\n",
       "\u001b[0m        \u001b[0moutput_folder\u001b[0m \u001b[1;33m=\u001b[0m \u001b[0moutput_folder\u001b[0m\u001b[1;33m.\u001b[0m\u001b[0mas_posix\u001b[0m\u001b[1;33m(\u001b[0m\u001b[1;33m)\u001b[0m\u001b[1;33m\n",
       "\u001b[0m\u001b[1;33m\n",
       "\u001b[0m    \u001b[1;32mif\u001b[0m \u001b[0misinstance\u001b[0m\u001b[1;33m(\u001b[0m\u001b[0mpoppler_path\u001b[0m\u001b[1;33m,\u001b[0m \u001b[0mpathlib\u001b[0m\u001b[1;33m.\u001b[0m\u001b[0mPurePath\u001b[0m\u001b[1;33m)\u001b[0m\u001b[1;33m:\u001b[0m\u001b[1;33m\n",
       "\u001b[0m        \u001b[0mpoppler_path\u001b[0m \u001b[1;33m=\u001b[0m \u001b[0mpoppler_path\u001b[0m\u001b[1;33m.\u001b[0m\u001b[0mas_posix\u001b[0m\u001b[1;33m(\u001b[0m\u001b[1;33m)\u001b[0m\u001b[1;33m\n",
       "\u001b[0m\u001b[1;33m\n",
       "\u001b[0m    \u001b[0mpage_count\u001b[0m \u001b[1;33m=\u001b[0m \u001b[0mpdfinfo_from_path\u001b[0m\u001b[1;33m(\u001b[0m\u001b[0mpdf_path\u001b[0m\u001b[1;33m,\u001b[0m \u001b[0muserpw\u001b[0m\u001b[1;33m,\u001b[0m \u001b[0mpoppler_path\u001b[0m\u001b[1;33m=\u001b[0m\u001b[0mpoppler_path\u001b[0m\u001b[1;33m)\u001b[0m\u001b[1;33m[\u001b[0m\u001b[1;34m\"Pages\"\u001b[0m\u001b[1;33m]\u001b[0m\u001b[1;33m\n",
       "\u001b[0m\u001b[1;33m\n",
       "\u001b[0m    \u001b[1;31m# We start by getting the output format, the buffer processing function and if we need pdftocairo\u001b[0m\u001b[1;33m\n",
       "\u001b[0m    \u001b[0mparsed_fmt\u001b[0m\u001b[1;33m,\u001b[0m \u001b[0mfinal_extension\u001b[0m\u001b[1;33m,\u001b[0m \u001b[0mparse_buffer_func\u001b[0m\u001b[1;33m,\u001b[0m \u001b[0muse_pdfcairo_format\u001b[0m \u001b[1;33m=\u001b[0m \u001b[0m_parse_format\u001b[0m\u001b[1;33m(\u001b[0m\u001b[1;33m\n",
       "\u001b[0m        \u001b[0mfmt\u001b[0m\u001b[1;33m,\u001b[0m \u001b[0mgrayscale\u001b[0m\u001b[1;33m\n",
       "\u001b[0m    \u001b[1;33m)\u001b[0m\u001b[1;33m\n",
       "\u001b[0m\u001b[1;33m\n",
       "\u001b[0m    \u001b[1;31m# We use pdftocairo is the format requires it OR we need a transparent output\u001b[0m\u001b[1;33m\n",
       "\u001b[0m    \u001b[0muse_pdfcairo\u001b[0m \u001b[1;33m=\u001b[0m \u001b[1;33m(\u001b[0m\u001b[1;33m\n",
       "\u001b[0m        \u001b[0muse_pdftocairo\u001b[0m\u001b[1;33m\n",
       "\u001b[0m        \u001b[1;32mor\u001b[0m \u001b[0muse_pdfcairo_format\u001b[0m\u001b[1;33m\n",
       "\u001b[0m        \u001b[1;32mor\u001b[0m \u001b[1;33m(\u001b[0m\u001b[0mtransparent\u001b[0m \u001b[1;32mand\u001b[0m \u001b[0mparsed_fmt\u001b[0m \u001b[1;32min\u001b[0m \u001b[0mTRANSPARENT_FILE_TYPES\u001b[0m\u001b[1;33m)\u001b[0m\u001b[1;33m\n",
       "\u001b[0m    \u001b[1;33m)\u001b[0m\u001b[1;33m\n",
       "\u001b[0m\u001b[1;33m\n",
       "\u001b[0m    \u001b[0mpoppler_version_major\u001b[0m\u001b[1;33m,\u001b[0m \u001b[0mpoppler_version_minor\u001b[0m \u001b[1;33m=\u001b[0m \u001b[0m_get_poppler_version\u001b[0m\u001b[1;33m(\u001b[0m\u001b[1;33m\n",
       "\u001b[0m        \u001b[1;34m\"pdftocairo\"\u001b[0m \u001b[1;32mif\u001b[0m \u001b[0muse_pdfcairo\u001b[0m \u001b[1;32melse\u001b[0m \u001b[1;34m\"pdftoppm\"\u001b[0m\u001b[1;33m,\u001b[0m \u001b[0mpoppler_path\u001b[0m\u001b[1;33m=\u001b[0m\u001b[0mpoppler_path\u001b[0m\u001b[1;33m\n",
       "\u001b[0m    \u001b[1;33m)\u001b[0m\u001b[1;33m\n",
       "\u001b[0m\u001b[1;33m\n",
       "\u001b[0m    \u001b[1;32mif\u001b[0m \u001b[0mpoppler_version_major\u001b[0m \u001b[1;33m==\u001b[0m \u001b[1;36m0\u001b[0m \u001b[1;32mand\u001b[0m \u001b[0mpoppler_version_minor\u001b[0m \u001b[1;33m<=\u001b[0m \u001b[1;36m57\u001b[0m\u001b[1;33m:\u001b[0m\u001b[1;33m\n",
       "\u001b[0m        \u001b[0mjpegopt\u001b[0m \u001b[1;33m=\u001b[0m \u001b[1;32mNone\u001b[0m\u001b[1;33m\n",
       "\u001b[0m\u001b[1;33m\n",
       "\u001b[0m    \u001b[1;31m# If output_file isn't a generator, it will be turned into one\u001b[0m\u001b[1;33m\n",
       "\u001b[0m    \u001b[1;32mif\u001b[0m \u001b[1;32mnot\u001b[0m \u001b[0misinstance\u001b[0m\u001b[1;33m(\u001b[0m\u001b[0moutput_file\u001b[0m\u001b[1;33m,\u001b[0m \u001b[0mtypes\u001b[0m\u001b[1;33m.\u001b[0m\u001b[0mGeneratorType\u001b[0m\u001b[1;33m)\u001b[0m \u001b[1;32mand\u001b[0m \u001b[1;32mnot\u001b[0m \u001b[0misinstance\u001b[0m\u001b[1;33m(\u001b[0m\u001b[1;33m\n",
       "\u001b[0m        \u001b[0moutput_file\u001b[0m\u001b[1;33m,\u001b[0m \u001b[0mThreadSafeGenerator\u001b[0m\u001b[1;33m\n",
       "\u001b[0m    \u001b[1;33m)\u001b[0m\u001b[1;33m:\u001b[0m\u001b[1;33m\n",
       "\u001b[0m        \u001b[1;32mif\u001b[0m \u001b[0msingle_file\u001b[0m\u001b[1;33m:\u001b[0m\u001b[1;33m\n",
       "\u001b[0m            \u001b[0moutput_file\u001b[0m \u001b[1;33m=\u001b[0m \u001b[0miter\u001b[0m\u001b[1;33m(\u001b[0m\u001b[1;33m[\u001b[0m\u001b[0moutput_file\u001b[0m\u001b[1;33m]\u001b[0m\u001b[1;33m)\u001b[0m\u001b[1;33m\n",
       "\u001b[0m        \u001b[1;32melse\u001b[0m\u001b[1;33m:\u001b[0m\u001b[1;33m\n",
       "\u001b[0m            \u001b[0moutput_file\u001b[0m \u001b[1;33m=\u001b[0m \u001b[0mcounter_generator\u001b[0m\u001b[1;33m(\u001b[0m\u001b[0moutput_file\u001b[0m\u001b[1;33m)\u001b[0m\u001b[1;33m\n",
       "\u001b[0m\u001b[1;33m\n",
       "\u001b[0m    \u001b[1;32mif\u001b[0m \u001b[0mthread_count\u001b[0m \u001b[1;33m<\u001b[0m \u001b[1;36m1\u001b[0m\u001b[1;33m:\u001b[0m\u001b[1;33m\n",
       "\u001b[0m        \u001b[0mthread_count\u001b[0m \u001b[1;33m=\u001b[0m \u001b[1;36m1\u001b[0m\u001b[1;33m\n",
       "\u001b[0m\u001b[1;33m\n",
       "\u001b[0m    \u001b[1;32mif\u001b[0m \u001b[0mfirst_page\u001b[0m \u001b[1;32mis\u001b[0m \u001b[1;32mNone\u001b[0m \u001b[1;32mor\u001b[0m \u001b[0mfirst_page\u001b[0m \u001b[1;33m<\u001b[0m \u001b[1;36m1\u001b[0m\u001b[1;33m:\u001b[0m\u001b[1;33m\n",
       "\u001b[0m        \u001b[0mfirst_page\u001b[0m \u001b[1;33m=\u001b[0m \u001b[1;36m1\u001b[0m\u001b[1;33m\n",
       "\u001b[0m\u001b[1;33m\n",
       "\u001b[0m    \u001b[1;32mif\u001b[0m \u001b[0mlast_page\u001b[0m \u001b[1;32mis\u001b[0m \u001b[1;32mNone\u001b[0m \u001b[1;32mor\u001b[0m \u001b[0mlast_page\u001b[0m \u001b[1;33m>\u001b[0m \u001b[0mpage_count\u001b[0m\u001b[1;33m:\u001b[0m\u001b[1;33m\n",
       "\u001b[0m        \u001b[0mlast_page\u001b[0m \u001b[1;33m=\u001b[0m \u001b[0mpage_count\u001b[0m\u001b[1;33m\n",
       "\u001b[0m\u001b[1;33m\n",
       "\u001b[0m    \u001b[1;32mif\u001b[0m \u001b[0mfirst_page\u001b[0m \u001b[1;33m>\u001b[0m \u001b[0mlast_page\u001b[0m\u001b[1;33m:\u001b[0m\u001b[1;33m\n",
       "\u001b[0m        \u001b[1;32mreturn\u001b[0m \u001b[1;33m[\u001b[0m\u001b[1;33m]\u001b[0m\u001b[1;33m\n",
       "\u001b[0m\u001b[1;33m\n",
       "\u001b[0m    \u001b[0mauto_temp_dir\u001b[0m \u001b[1;33m=\u001b[0m \u001b[1;32mFalse\u001b[0m\u001b[1;33m\n",
       "\u001b[0m    \u001b[1;32mif\u001b[0m \u001b[0moutput_folder\u001b[0m \u001b[1;32mis\u001b[0m \u001b[1;32mNone\u001b[0m \u001b[1;32mand\u001b[0m \u001b[0muse_pdfcairo\u001b[0m\u001b[1;33m:\u001b[0m\u001b[1;33m\n",
       "\u001b[0m        \u001b[0mauto_temp_dir\u001b[0m \u001b[1;33m=\u001b[0m \u001b[1;32mTrue\u001b[0m\u001b[1;33m\n",
       "\u001b[0m        \u001b[0moutput_folder\u001b[0m \u001b[1;33m=\u001b[0m \u001b[0mtempfile\u001b[0m\u001b[1;33m.\u001b[0m\u001b[0mmkdtemp\u001b[0m\u001b[1;33m(\u001b[0m\u001b[1;33m)\u001b[0m\u001b[1;33m\n",
       "\u001b[0m\u001b[1;33m\n",
       "\u001b[0m    \u001b[1;31m# Recalculate page count based on first and last page\u001b[0m\u001b[1;33m\n",
       "\u001b[0m    \u001b[0mpage_count\u001b[0m \u001b[1;33m=\u001b[0m \u001b[0mlast_page\u001b[0m \u001b[1;33m-\u001b[0m \u001b[0mfirst_page\u001b[0m \u001b[1;33m+\u001b[0m \u001b[1;36m1\u001b[0m\u001b[1;33m\n",
       "\u001b[0m\u001b[1;33m\n",
       "\u001b[0m    \u001b[1;32mif\u001b[0m \u001b[0mthread_count\u001b[0m \u001b[1;33m>\u001b[0m \u001b[0mpage_count\u001b[0m\u001b[1;33m:\u001b[0m\u001b[1;33m\n",
       "\u001b[0m        \u001b[0mthread_count\u001b[0m \u001b[1;33m=\u001b[0m \u001b[0mpage_count\u001b[0m\u001b[1;33m\n",
       "\u001b[0m\u001b[1;33m\n",
       "\u001b[0m    \u001b[0mreminder\u001b[0m \u001b[1;33m=\u001b[0m \u001b[0mpage_count\u001b[0m \u001b[1;33m%\u001b[0m \u001b[0mthread_count\u001b[0m\u001b[1;33m\n",
       "\u001b[0m    \u001b[0mcurrent_page\u001b[0m \u001b[1;33m=\u001b[0m \u001b[0mfirst_page\u001b[0m\u001b[1;33m\n",
       "\u001b[0m    \u001b[0mprocesses\u001b[0m \u001b[1;33m=\u001b[0m \u001b[1;33m[\u001b[0m\u001b[1;33m]\u001b[0m\u001b[1;33m\n",
       "\u001b[0m    \u001b[1;32mfor\u001b[0m \u001b[0m_\u001b[0m \u001b[1;32min\u001b[0m \u001b[0mrange\u001b[0m\u001b[1;33m(\u001b[0m\u001b[0mthread_count\u001b[0m\u001b[1;33m)\u001b[0m\u001b[1;33m:\u001b[0m\u001b[1;33m\n",
       "\u001b[0m        \u001b[0mthread_output_file\u001b[0m \u001b[1;33m=\u001b[0m \u001b[0mnext\u001b[0m\u001b[1;33m(\u001b[0m\u001b[0moutput_file\u001b[0m\u001b[1;33m)\u001b[0m\u001b[1;33m\n",
       "\u001b[0m\u001b[1;33m\n",
       "\u001b[0m        \u001b[1;31m# Get the number of pages the thread will be processing\u001b[0m\u001b[1;33m\n",
       "\u001b[0m        \u001b[0mthread_page_count\u001b[0m \u001b[1;33m=\u001b[0m \u001b[0mpage_count\u001b[0m \u001b[1;33m//\u001b[0m \u001b[0mthread_count\u001b[0m \u001b[1;33m+\u001b[0m \u001b[0mint\u001b[0m\u001b[1;33m(\u001b[0m\u001b[0mreminder\u001b[0m \u001b[1;33m>\u001b[0m \u001b[1;36m0\u001b[0m\u001b[1;33m)\u001b[0m\u001b[1;33m\n",
       "\u001b[0m        \u001b[1;31m# Build the command accordingly\u001b[0m\u001b[1;33m\n",
       "\u001b[0m        \u001b[0margs\u001b[0m \u001b[1;33m=\u001b[0m \u001b[0m_build_command\u001b[0m\u001b[1;33m(\u001b[0m\u001b[1;33m\n",
       "\u001b[0m            \u001b[1;33m[\u001b[0m\u001b[1;34m\"-r\"\u001b[0m\u001b[1;33m,\u001b[0m \u001b[0mstr\u001b[0m\u001b[1;33m(\u001b[0m\u001b[0mdpi\u001b[0m\u001b[1;33m)\u001b[0m\u001b[1;33m,\u001b[0m \u001b[0mpdf_path\u001b[0m\u001b[1;33m]\u001b[0m\u001b[1;33m,\u001b[0m\u001b[1;33m\n",
       "\u001b[0m            \u001b[0moutput_folder\u001b[0m\u001b[1;33m,\u001b[0m\u001b[1;33m\n",
       "\u001b[0m            \u001b[0mcurrent_page\u001b[0m\u001b[1;33m,\u001b[0m\u001b[1;33m\n",
       "\u001b[0m            \u001b[0mcurrent_page\u001b[0m \u001b[1;33m+\u001b[0m \u001b[0mthread_page_count\u001b[0m \u001b[1;33m-\u001b[0m \u001b[1;36m1\u001b[0m\u001b[1;33m,\u001b[0m\u001b[1;33m\n",
       "\u001b[0m            \u001b[0mparsed_fmt\u001b[0m\u001b[1;33m,\u001b[0m\u001b[1;33m\n",
       "\u001b[0m            \u001b[0mjpegopt\u001b[0m\u001b[1;33m,\u001b[0m\u001b[1;33m\n",
       "\u001b[0m            \u001b[0mthread_output_file\u001b[0m\u001b[1;33m,\u001b[0m\u001b[1;33m\n",
       "\u001b[0m            \u001b[0muserpw\u001b[0m\u001b[1;33m,\u001b[0m\u001b[1;33m\n",
       "\u001b[0m            \u001b[0muse_cropbox\u001b[0m\u001b[1;33m,\u001b[0m\u001b[1;33m\n",
       "\u001b[0m            \u001b[0mtransparent\u001b[0m\u001b[1;33m,\u001b[0m\u001b[1;33m\n",
       "\u001b[0m            \u001b[0msingle_file\u001b[0m\u001b[1;33m,\u001b[0m\u001b[1;33m\n",
       "\u001b[0m            \u001b[0mgrayscale\u001b[0m\u001b[1;33m,\u001b[0m\u001b[1;33m\n",
       "\u001b[0m            \u001b[0msize\u001b[0m\u001b[1;33m,\u001b[0m\u001b[1;33m\n",
       "\u001b[0m        \u001b[1;33m)\u001b[0m\u001b[1;33m\n",
       "\u001b[0m\u001b[1;33m\n",
       "\u001b[0m        \u001b[1;32mif\u001b[0m \u001b[0muse_pdfcairo\u001b[0m\u001b[1;33m:\u001b[0m\u001b[1;33m\n",
       "\u001b[0m            \u001b[0margs\u001b[0m \u001b[1;33m=\u001b[0m \u001b[1;33m[\u001b[0m\u001b[0m_get_command_path\u001b[0m\u001b[1;33m(\u001b[0m\u001b[1;34m\"pdftocairo\"\u001b[0m\u001b[1;33m,\u001b[0m \u001b[0mpoppler_path\u001b[0m\u001b[1;33m)\u001b[0m\u001b[1;33m]\u001b[0m \u001b[1;33m+\u001b[0m \u001b[0margs\u001b[0m\u001b[1;33m\n",
       "\u001b[0m        \u001b[1;32melse\u001b[0m\u001b[1;33m:\u001b[0m\u001b[1;33m\n",
       "\u001b[0m            \u001b[0margs\u001b[0m \u001b[1;33m=\u001b[0m \u001b[1;33m[\u001b[0m\u001b[0m_get_command_path\u001b[0m\u001b[1;33m(\u001b[0m\u001b[1;34m\"pdftoppm\"\u001b[0m\u001b[1;33m,\u001b[0m \u001b[0mpoppler_path\u001b[0m\u001b[1;33m)\u001b[0m\u001b[1;33m]\u001b[0m \u001b[1;33m+\u001b[0m \u001b[0margs\u001b[0m\u001b[1;33m\n",
       "\u001b[0m\u001b[1;33m\n",
       "\u001b[0m        \u001b[1;31m# Update page values\u001b[0m\u001b[1;33m\n",
       "\u001b[0m        \u001b[0mcurrent_page\u001b[0m \u001b[1;33m=\u001b[0m \u001b[0mcurrent_page\u001b[0m \u001b[1;33m+\u001b[0m \u001b[0mthread_page_count\u001b[0m\u001b[1;33m\n",
       "\u001b[0m        \u001b[0mreminder\u001b[0m \u001b[1;33m-=\u001b[0m \u001b[0mint\u001b[0m\u001b[1;33m(\u001b[0m\u001b[0mreminder\u001b[0m \u001b[1;33m>\u001b[0m \u001b[1;36m0\u001b[0m\u001b[1;33m)\u001b[0m\u001b[1;33m\n",
       "\u001b[0m        \u001b[1;31m# Add poppler path to LD_LIBRARY_PATH\u001b[0m\u001b[1;33m\n",
       "\u001b[0m        \u001b[0menv\u001b[0m \u001b[1;33m=\u001b[0m \u001b[0mos\u001b[0m\u001b[1;33m.\u001b[0m\u001b[0menviron\u001b[0m\u001b[1;33m.\u001b[0m\u001b[0mcopy\u001b[0m\u001b[1;33m(\u001b[0m\u001b[1;33m)\u001b[0m\u001b[1;33m\n",
       "\u001b[0m        \u001b[1;32mif\u001b[0m \u001b[0mpoppler_path\u001b[0m \u001b[1;32mis\u001b[0m \u001b[1;32mnot\u001b[0m \u001b[1;32mNone\u001b[0m\u001b[1;33m:\u001b[0m\u001b[1;33m\n",
       "\u001b[0m            \u001b[0menv\u001b[0m\u001b[1;33m[\u001b[0m\u001b[1;34m\"LD_LIBRARY_PATH\"\u001b[0m\u001b[1;33m]\u001b[0m \u001b[1;33m=\u001b[0m \u001b[0mpoppler_path\u001b[0m \u001b[1;33m+\u001b[0m \u001b[1;34m\":\"\u001b[0m \u001b[1;33m+\u001b[0m \u001b[0menv\u001b[0m\u001b[1;33m.\u001b[0m\u001b[0mget\u001b[0m\u001b[1;33m(\u001b[0m\u001b[1;34m\"LD_LIBRARY_PATH\"\u001b[0m\u001b[1;33m,\u001b[0m \u001b[1;34m\"\"\u001b[0m\u001b[1;33m)\u001b[0m\u001b[1;33m\n",
       "\u001b[0m        \u001b[1;31m# Spawn the process and save its uuid\u001b[0m\u001b[1;33m\n",
       "\u001b[0m        \u001b[0mstartupinfo\u001b[0m\u001b[1;33m=\u001b[0m\u001b[1;32mNone\u001b[0m\u001b[1;33m\n",
       "\u001b[0m        \u001b[1;32mif\u001b[0m \u001b[0mplatform\u001b[0m\u001b[1;33m.\u001b[0m\u001b[0msystem\u001b[0m\u001b[1;33m(\u001b[0m\u001b[1;33m)\u001b[0m \u001b[1;33m==\u001b[0m \u001b[1;34m'Windows'\u001b[0m\u001b[1;33m:\u001b[0m\u001b[1;33m\n",
       "\u001b[0m            \u001b[1;31m# this startupinfo structure prevents a console window from popping up on Windows\u001b[0m\u001b[1;33m\n",
       "\u001b[0m            \u001b[0mstartupinfo\u001b[0m \u001b[1;33m=\u001b[0m \u001b[0msubprocess\u001b[0m\u001b[1;33m.\u001b[0m\u001b[0mSTARTUPINFO\u001b[0m\u001b[1;33m(\u001b[0m\u001b[1;33m)\u001b[0m\u001b[1;33m\n",
       "\u001b[0m            \u001b[0mstartupinfo\u001b[0m\u001b[1;33m.\u001b[0m\u001b[0mdwFlags\u001b[0m \u001b[1;33m|=\u001b[0m \u001b[0msubprocess\u001b[0m\u001b[1;33m.\u001b[0m\u001b[0mSTARTF_USESHOWWINDOW\u001b[0m\u001b[1;33m\n",
       "\u001b[0m        \u001b[0mprocesses\u001b[0m\u001b[1;33m.\u001b[0m\u001b[0mappend\u001b[0m\u001b[1;33m(\u001b[0m\u001b[1;33m\n",
       "\u001b[0m            \u001b[1;33m(\u001b[0m\u001b[0mthread_output_file\u001b[0m\u001b[1;33m,\u001b[0m \u001b[0mPopen\u001b[0m\u001b[1;33m(\u001b[0m\u001b[0margs\u001b[0m\u001b[1;33m,\u001b[0m \u001b[0menv\u001b[0m\u001b[1;33m=\u001b[0m\u001b[0menv\u001b[0m\u001b[1;33m,\u001b[0m \u001b[0mstdout\u001b[0m\u001b[1;33m=\u001b[0m\u001b[0mPIPE\u001b[0m\u001b[1;33m,\u001b[0m \u001b[0mstderr\u001b[0m\u001b[1;33m=\u001b[0m\u001b[0mPIPE\u001b[0m\u001b[1;33m,\u001b[0m \u001b[0mstartupinfo\u001b[0m\u001b[1;33m=\u001b[0m\u001b[0mstartupinfo\u001b[0m\u001b[1;33m)\u001b[0m\u001b[1;33m)\u001b[0m\u001b[1;33m\n",
       "\u001b[0m        \u001b[1;33m)\u001b[0m\u001b[1;33m\n",
       "\u001b[0m\u001b[1;33m\n",
       "\u001b[0m    \u001b[0mimages\u001b[0m \u001b[1;33m=\u001b[0m \u001b[1;33m[\u001b[0m\u001b[1;33m]\u001b[0m\u001b[1;33m\n",
       "\u001b[0m\u001b[1;33m\n",
       "\u001b[0m    \u001b[1;32mfor\u001b[0m \u001b[0muid\u001b[0m\u001b[1;33m,\u001b[0m \u001b[0mproc\u001b[0m \u001b[1;32min\u001b[0m \u001b[0mprocesses\u001b[0m\u001b[1;33m:\u001b[0m\u001b[1;33m\n",
       "\u001b[0m        \u001b[1;32mtry\u001b[0m\u001b[1;33m:\u001b[0m\u001b[1;33m\n",
       "\u001b[0m            \u001b[0mdata\u001b[0m\u001b[1;33m,\u001b[0m \u001b[0merr\u001b[0m \u001b[1;33m=\u001b[0m \u001b[0mproc\u001b[0m\u001b[1;33m.\u001b[0m\u001b[0mcommunicate\u001b[0m\u001b[1;33m(\u001b[0m\u001b[0mtimeout\u001b[0m\u001b[1;33m=\u001b[0m\u001b[0mtimeout\u001b[0m\u001b[1;33m)\u001b[0m\u001b[1;33m\n",
       "\u001b[0m        \u001b[1;32mexcept\u001b[0m \u001b[0mTimeoutExpired\u001b[0m\u001b[1;33m:\u001b[0m\u001b[1;33m\n",
       "\u001b[0m            \u001b[0mproc\u001b[0m\u001b[1;33m.\u001b[0m\u001b[0mkill\u001b[0m\u001b[1;33m(\u001b[0m\u001b[1;33m)\u001b[0m\u001b[1;33m\n",
       "\u001b[0m            \u001b[0mouts\u001b[0m\u001b[1;33m,\u001b[0m \u001b[0merrs\u001b[0m \u001b[1;33m=\u001b[0m \u001b[0mproc\u001b[0m\u001b[1;33m.\u001b[0m\u001b[0mcommunicate\u001b[0m\u001b[1;33m(\u001b[0m\u001b[1;33m)\u001b[0m\u001b[1;33m\n",
       "\u001b[0m            \u001b[1;32mraise\u001b[0m \u001b[0mPDFPopplerTimeoutError\u001b[0m\u001b[1;33m(\u001b[0m\u001b[1;34m\"Run poppler poppler timeout.\"\u001b[0m\u001b[1;33m)\u001b[0m\u001b[1;33m\n",
       "\u001b[0m\u001b[1;33m\n",
       "\u001b[0m        \u001b[1;32mif\u001b[0m \u001b[1;34mb\"Syntax Error\"\u001b[0m \u001b[1;32min\u001b[0m \u001b[0merr\u001b[0m \u001b[1;32mand\u001b[0m \u001b[0mstrict\u001b[0m\u001b[1;33m:\u001b[0m\u001b[1;33m\n",
       "\u001b[0m            \u001b[1;32mraise\u001b[0m \u001b[0mPDFSyntaxError\u001b[0m\u001b[1;33m(\u001b[0m\u001b[0merr\u001b[0m\u001b[1;33m.\u001b[0m\u001b[0mdecode\u001b[0m\u001b[1;33m(\u001b[0m\u001b[1;34m\"utf8\"\u001b[0m\u001b[1;33m,\u001b[0m \u001b[1;34m\"ignore\"\u001b[0m\u001b[1;33m)\u001b[0m\u001b[1;33m)\u001b[0m\u001b[1;33m\n",
       "\u001b[0m\u001b[1;33m\n",
       "\u001b[0m        \u001b[1;32mif\u001b[0m \u001b[0moutput_folder\u001b[0m \u001b[1;32mis\u001b[0m \u001b[1;32mnot\u001b[0m \u001b[1;32mNone\u001b[0m\u001b[1;33m:\u001b[0m\u001b[1;33m\n",
       "\u001b[0m            \u001b[0mimages\u001b[0m \u001b[1;33m+=\u001b[0m \u001b[0m_load_from_output_folder\u001b[0m\u001b[1;33m(\u001b[0m\u001b[1;33m\n",
       "\u001b[0m                \u001b[0moutput_folder\u001b[0m\u001b[1;33m,\u001b[0m \u001b[0muid\u001b[0m\u001b[1;33m,\u001b[0m \u001b[0mfinal_extension\u001b[0m\u001b[1;33m,\u001b[0m \u001b[0mpaths_only\u001b[0m\u001b[1;33m,\u001b[0m \u001b[0min_memory\u001b[0m\u001b[1;33m=\u001b[0m\u001b[0mauto_temp_dir\u001b[0m\u001b[1;33m\n",
       "\u001b[0m            \u001b[1;33m)\u001b[0m\u001b[1;33m\n",
       "\u001b[0m        \u001b[1;32melse\u001b[0m\u001b[1;33m:\u001b[0m\u001b[1;33m\n",
       "\u001b[0m            \u001b[0mimages\u001b[0m \u001b[1;33m+=\u001b[0m \u001b[0mparse_buffer_func\u001b[0m\u001b[1;33m(\u001b[0m\u001b[0mdata\u001b[0m\u001b[1;33m)\u001b[0m\u001b[1;33m\n",
       "\u001b[0m\u001b[1;33m\n",
       "\u001b[0m    \u001b[1;32mif\u001b[0m \u001b[0mauto_temp_dir\u001b[0m\u001b[1;33m:\u001b[0m\u001b[1;33m\n",
       "\u001b[0m        \u001b[0mshutil\u001b[0m\u001b[1;33m.\u001b[0m\u001b[0mrmtree\u001b[0m\u001b[1;33m(\u001b[0m\u001b[0moutput_folder\u001b[0m\u001b[1;33m)\u001b[0m\u001b[1;33m\n",
       "\u001b[0m\u001b[1;33m\n",
       "\u001b[0m    \u001b[1;32mreturn\u001b[0m \u001b[0mimages\u001b[0m\u001b[1;33m\u001b[0m\u001b[1;33m\u001b[0m\u001b[0m\n",
       "\u001b[1;31mFile:\u001b[0m      d:\\programdata\\anaconda3\\lib\\site-packages\\pdf2image\\pdf2image.py\n",
       "\u001b[1;31mType:\u001b[0m      function\n"
      ]
     },
     "metadata": {},
     "output_type": "display_data"
    }
   ],
   "source": [
    "# 另外的参考 https://blog.csdn.net/qq_30159015/article/details/80200202\n",
    "# \n",
    "#  如果使用SSD，使用输出文件夹的速度要快得多。否则，i/o通常会成为瓶颈。\n",
    "#  使用多个线程可以给一些好处，但是避免超过4个，因为这会导致i/o瓶颈；\n",
    "#  如果i/o是瓶颈，使用JPEG格式可以带来显著的效果。\n",
    "#  PNG格式相当慢；\n",
    "#  在pdftoppm中不存在任何异常，因此任何不能被转换/处理的文件都将返回空的图像列表。\n",
    "convert_from_path??\n",
    "# 参数\n",
    "# pdf_path, Path to the PDF that you want to convert 要转换的PDF文档路径\n",
    "# dpi=200, Image quality in DPI (default 200) DPI中的图像质量（默认为200），Windows默认为96dpi\n",
    "# output_folder = None, Write the resulting images to a folder (instead of directly in memory) \n",
    "# # 将生成的图像写入文件夹（而不是直接写入内存）若是path不做指定的话，path的默认地址是：C:\\Users\\pzhang7\\AppData\\Local\\Temp\\生成的uuid4。\n",
    "# first_page = None, First page to process 允许设置由pdftoppm处理的第一个页面；从哪一页开始转换，默认是PDF的第一页\n",
    "# last_page = None, Last page to process before stopping 允许设置最后一页由pdftoppm处理；转换到哪一页，默认是PDF的最后一页\n",
    "# fmt：Output image format 允许指定输出格式。目前支持的格式是jpg、png和ppm；输出图像格式默认格式是ppm，还可以设置为png和jpeg等\n",
    "# # 关于ppm格式: https://blog.csdn.net/kinghzkingkkk/article/details/70226214\n",
    "# jpegopt = None, jpeg options `quality`, `progressive`, and `optimize` (only for jpeg format)\n",
    "# thread_count = 1 ：How many threads we are allowed to spawn for processing 允许设置用于转换的线程数；允许生成多少个线程进行处理，一般不超过4个线程；\n",
    "# userpw = None, PDF's password. PDF的密码（若有密码的话需要添加）\n",
    "# use_cropbox = False, Use cropbox instead of mediabox. 使用cropbox而不是mediabox\n",
    "# strict = False, When a Syntax Error is thrown, it will be raised as an Exception. 参数允许您使用自定义类型PDFSyntaxError捕获pdftoppm语法错误\n",
    "# transparent = False, Output with a transparent background instead of a white one. 参数允许生成没有背景的图像，而不是通常的白色图像(为此需要pdftocairo)\n",
    "# single_file = False, Uses the -singlefile option from pdftoppm/pdftocairo. 使用pdftoppm / pdftocairo中的-singlefile选项\n",
    "# output_file = <pdf2image.generators.ThreadSafeGenerator object at 0x0000000005045A48>, What is the output filename or generator. 输出文件名是什么\n",
    "# poppler_path = None, Path to look for poppler binaries. 查找poppler二进制文件的路径，允许用户使用poppler_path指定poppler的安装路径；默认不指定的话需要将bin添加到系统PATH\n",
    "# grayscale = False, Output grayscale image(s)\n",
    "# size = None, Size of the resulting image(s), uses the Pillow (width, height) standard\n",
    "# paths_only = False,Don't load image(s), return paths instead (requires output_folder)\n",
    "# \n",
    "# 参数说明的另一个来源: https://cloud.tencent.com/developer/article/1481638\n",
    "## pdf2image应该也可以对指定区域进行截取"
   ]
  },
  {
   "cell_type": "code",
   "execution_count": null,
   "metadata": {},
   "outputs": [],
   "source": []
  },
  {
   "cell_type": "code",
   "execution_count": null,
   "metadata": {},
   "outputs": [],
   "source": []
  },
  {
   "cell_type": "markdown",
   "metadata": {},
   "source": [
    "#### PDF转为word*\n",
    "很多时候我们需要将无法编辑的PDF转为格式相同或近似的可编辑的word文件.  \n",
    "使用Python的库\n",
    "\n",
    "参考资料:    \n",
    "[1]https://www.cnblogs.com/Wshile/p/13194019.html"
   ]
  },
  {
   "cell_type": "code",
   "execution_count": null,
   "metadata": {},
   "outputs": [],
   "source": []
  },
  {
   "cell_type": "code",
   "execution_count": null,
   "metadata": {},
   "outputs": [],
   "source": []
  },
  {
   "cell_type": "markdown",
   "metadata": {},
   "source": [
    "# 制作PDF"
   ]
  },
  {
   "cell_type": "markdown",
   "metadata": {},
   "source": [
    "上一节我们介绍了把其他类型的文件如图片,文本和word等格式转换为PDF格式,这种操作也是在制作PDF,但这种\"制作\"的本质是文件类型的转换,不涉及格式调整等操作,相对简单而能够做的事情较少.    \n",
    "这一节我们介绍从字符串文本,表格,图片等等基本的文件素材按照一定的样式去拼接构造PDF文件的过程,和读取操作PDF所使用的工具不同,这一节我们使用reportlab库.   \n",
    "首先我们从一个简单的水印文件的制作来管窥reportlab库的一斑."
   ]
  },
  {
   "cell_type": "markdown",
   "metadata": {},
   "source": [
    "#### 制作PDF水印文件"
   ]
  },
  {
   "cell_type": "code",
   "execution_count": null,
   "metadata": {},
   "outputs": [],
   "source": []
  },
  {
   "cell_type": "code",
   "execution_count": null,
   "metadata": {},
   "outputs": [],
   "source": []
  },
  {
   "cell_type": "code",
   "execution_count": null,
   "metadata": {},
   "outputs": [],
   "source": []
  },
  {
   "cell_type": "markdown",
   "metadata": {},
   "source": [
    "# 项目实战"
   ]
  },
  {
   "cell_type": "markdown",
   "metadata": {},
   "source": [
    "#### 批量添加不同的水印\n",
    "某机构有一批古籍扫描的PDF文件(从图片格式合并而成)想要发布给社会公众.拟按照古籍种类,合并成PDF文件,并在每一页添加不同的水印.请编写相关代码."
   ]
  },
  {
   "cell_type": "code",
   "execution_count": null,
   "metadata": {},
   "outputs": [],
   "source": []
  },
  {
   "cell_type": "code",
   "execution_count": null,
   "metadata": {},
   "outputs": [],
   "source": [
    "####\n"
   ]
  }
 ],
 "metadata": {
  "kernelspec": {
   "display_name": "Python 3",
   "language": "python",
   "name": "python3"
  },
  "language_info": {
   "codemirror_mode": {
    "name": "ipython",
    "version": 3
   },
   "file_extension": ".py",
   "mimetype": "text/x-python",
   "name": "python",
   "nbconvert_exporter": "python",
   "pygments_lexer": "ipython3",
   "version": "3.8.3"
  }
 },
 "nbformat": 4,
 "nbformat_minor": 4
}
