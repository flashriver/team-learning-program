{
 "cells": [
  {
   "cell_type": "markdown",
   "metadata": {},
   "source": [
    "- Python操作PDF\n",
    "[20210620 created, 20210621 last updated]\n",
    "PDF是互联网世界最为广泛使用的非自由文本类型,它的特点是内容和排版都是固化的,不能直接进行文字等内容方面或排版的修改.这种特性使得它成为最为广泛使用的固定文本的发布和传播方式.    \n",
    "\n",
    "这一部分的学习内容包含\n"
   ]
  },
  {
   "cell_type": "markdown",
   "metadata": {},
   "source": [
    "# PDF再认识\n",
    "在开始使用Python自动化批量处理PDF文件之前,我们有必要对PDF这种熟悉但又陌生的文件格式进行一些必要的再认识.   \n",
    "PDF 表示 Portable Document Format, 可以译为便携式文档格式, 使用.pdf 文件扩展名, 是由 Adodbe Systems开发的平台无关的文件格式, 它可以在各种操作系统上忠实再现原稿的样式和文本,图像等细节,它是一种可移植文档格式."
   ]
  },
  {
   "cell_type": "markdown",
   "metadata": {},
   "source": [
    "### PDF文件结构: \n",
    "从不同的角度出发,可以有几种不同的PDF文件结构类型.例如,从抽象的角度来说,在物理结构上,PDF文件可以分为:\n",
    "* 文件头 Header\n",
    "    这里包含PDF文件格式的版本号.文件头是PDF文件的第一行,格式如下:      \n",
    "    %PDF-1.4   \n",
    "    这是个固定格式，表示这个PDF文件遵循的PDF规范版本，目前PDF的生成工具，除了官方的acrobat，其他生成的以1.4版本的居多。对于做PDF开发来说，一个最简单的原则就是生成PDF的时候尽量符合低版本规范，以保证大多数解析器能支持；解析PDF的时候尽量支持高版本的规范，以保证支持大多数工具生成的PDF文件。\n",
    "\n",
    "    从1.4版本以后，PDF文件的版本并不唯一的只是在这里表示了，可能后面会改写（catalog的Version词条），所以解析PDF的时候，如果这里的版本大于等于1.4，应该再比较一下catalog里面的version，取其中高一点的版本。\n",
    "\n",
    "* 文件体 Body\n",
    "    文件体是PDF文件的内容所在的部分,它包含了若干个间接对象 (obj对象), 这些对象构成了PDF文件的具体内容如字体,页面,图像等等. \n",
    "* 交叉引用表 Cross-reference table\n",
    "    用来索引各个obj 对象在文档中的位置,以实现随机访问.\n",
    "* 文件尾 Trailer\n",
    "    文件尾(Trailer)声明了交叉引用表的地址,指明文件体的根对象(Catalog),还保存了加密等安全信息.    \n",
    "当然,一个复杂的PDF的抽象物理结构可能会比上边列四项更复杂.例如,虽然文件头只有一个,但其他部分可能会有多个,这通常是由于将多个PDF合并\n",
    "\n",
    "另一方面,非常形象地,从形式上来看,PDF文件是由若干\"页\"构成的,每一页的版面格式或许相同,或许不同,但它是可以按照\"页\"来进行划分的,特别是对于长PDF文档,通过页码来定位显得尤为方便.这一点有别于没有分页的txt文档或者网页.由于PDF采用了分页的结构,在PyPDF2等库就可以按\"页\"对PDF进行操作.\n",
    "\n",
    "\n",
    "参考资料\n",
    "https://blog.csdn.net/mouday/article/details/85048495   \n",
    "https://blog.csdn.net/liuhuai12345/article/details/50424663   \n",
    "https://blog.csdn.net/bobob/article/details/4328426   \n",
    "https://blog.csdn.net/bobob/article/details/4328426\n"
   ]
  },
  {
   "cell_type": "markdown",
   "metadata": {},
   "source": [
    "# 读取PDF\n",
    "能够打开并读取PDF格式文件的Python相关的库有很多,每种都有其自身特点和优势.   \n",
    "本节内容主要聚焦于使用PyPDF2和pdfplumber打开和读取PDF文件中的文本,表格和图片等类型的内容.    \n",
    "\n",
    "二者的官方网站分别为:\n",
    "- PyPDF2：https://pythonhosted.org/PyPDF2/\n",
    "\n",
    "- pdfplumber：https://github.com/jsvine/pdfplumber"
   ]
  },
  {
   "cell_type": "code",
   "execution_count": 10,
   "metadata": {},
   "outputs": [
    {
     "name": "stdout",
     "output_type": "stream",
     "text": [
      "Collecting PyPDF2\n",
      "  Downloading PyPDF2-1.26.0.tar.gz (77 kB)\n",
      "Building wheels for collected packages: PyPDF2\n",
      "  Building wheel for PyPDF2 (setup.py): started\n",
      "  Building wheel for PyPDF2 (setup.py): finished with status 'done'\n",
      "  Created wheel for PyPDF2: filename=PyPDF2-1.26.0-py3-none-any.whl size=61087 sha256=dc60786d77c9d9ad8dc207e5798f72538c99ecc1f451b62f57f1333b5752089c\n",
      "  Stored in directory: c:\\users\\liby\\appdata\\local\\pip\\cache\\wheels\\b1\\1a\\8f\\a4c34be976825a2f7948d0fa40907598d69834f8ab5889de11\n",
      "Successfully built PyPDF2\n",
      "Installing collected packages: PyPDF2\n",
      "Successfully installed PyPDF2-1.26.0\n"
     ]
    }
   ],
   "source": [
    "#安装 PyPDF2(注意大小写)\n",
    "!pip install PyPDF2"
   ]
  },
  {
   "cell_type": "markdown",
   "metadata": {},
   "source": [
    "#### 打开PDF\n",
    "能够处理PDF的各种库,都有各种不同的打开PDF的方式. "
   ]
  },
  {
   "cell_type": "code",
   "execution_count": 45,
   "metadata": {},
   "outputs": [],
   "source": [
    "# 1.使用 PyPDF2 库的 PdfFileReader 打开硬盘上的PDF文件\n",
    "from PyPDF2 import PdfFileReader\n",
    "pdf_1 = PdfFileReader(r'D:\\Py\\OfficeAutomation\\Python自动化办公（6月组队学习）.pdf')"
   ]
  },
  {
   "cell_type": "code",
   "execution_count": 46,
   "metadata": {},
   "outputs": [
    {
     "data": {
      "text/plain": [
       "PyPDF2.pdf.PdfFileReader"
      ]
     },
     "execution_count": 46,
     "metadata": {},
     "output_type": "execute_result"
    }
   ],
   "source": [
    "type(pdf_1)"
   ]
  },
  {
   "cell_type": "code",
   "execution_count": 47,
   "metadata": {},
   "outputs": [
    {
     "name": "stdout",
     "output_type": "stream",
     "text": [
      "<PyPDF2.pdf.PdfFileReader object at 0x00000225B89C79D0>\n"
     ]
    }
   ],
   "source": [
    "print(pdf_1) # 这个数据对象类型是不能直接访问到的."
   ]
  },
  {
   "cell_type": "markdown",
   "metadata": {},
   "source": [
    "使用 PyPDF2 库的 PdfFileReader 打开硬盘上的PDF文件后,得到了一个 PyPDF2.pdf.PdfFileReader 类型的对象.我们不能直接使用Python的一些方法访问这个特殊类型的数据对象,必须借助于这个特殊类型对象的一些方法来获取相关信息.   \n",
    "首先我们查看一下这个特殊对象的属性和方法."
   ]
  },
  {
   "cell_type": "code",
   "execution_count": 48,
   "metadata": {},
   "outputs": [
    {
     "name": "stdout",
     "output_type": "stream",
     "text": [
      "['__class__', '__delattr__', '__dict__', '__dir__', '__doc__', '__eq__', '__format__', '__ge__', '__getattribute__', '__gt__', '__hash__', '__init__', '__init_subclass__', '__le__', '__lt__', '__module__', '__ne__', '__new__', '__reduce__', '__reduce_ex__', '__repr__', '__setattr__', '__sizeof__', '__str__', '__subclasshook__', '__weakref__', '_authenticateUserPassword', '_buildDestination', '_buildField', '_buildOutline', '_checkKids', '_decrypt', '_decryptObject', '_flatten', '_getObjectFromStream', '_getPageNumberByIndirect', '_override_encryption', '_pageId2Num', '_pairs', '_writeField', '_zeroXref', 'cacheGetIndirectObject', 'cacheIndirectObject', 'decrypt', 'documentInfo', 'flattenedPages', 'getDestinationPageNumber', 'getDocumentInfo', 'getFields', 'getFormTextFields', 'getIsEncrypted', 'getNamedDestinations', 'getNumPages', 'getObject', 'getOutlines', 'getPage', 'getPageLayout', 'getPageMode', 'getPageNumber', 'getXmpMetadata', 'isEncrypted', 'namedDestinations', 'numPages', 'outlines', 'pageLayout', 'pageMode', 'pages', 'read', 'readNextEndLine', 'readObjectHeader', 'resolvedObjects', 'stream', 'strict', 'trailer', 'xmpMetadata', 'xref', 'xrefIndex', 'xref_objStm']\n"
     ]
    }
   ],
   "source": [
    "print(dir(pdf_1))"
   ]
  },
  {
   "cell_type": "code",
   "execution_count": 20,
   "metadata": {
    "collapsed": true,
    "jupyter": {
     "outputs_hidden": true
    }
   },
   "outputs": [
    {
     "name": "stdout",
     "output_type": "stream",
     "text": [
      "Help on PdfFileReader in module PyPDF2.pdf object:\n",
      "\n",
      "class PdfFileReader(builtins.object)\n",
      " |  PdfFileReader(stream, strict=True, warndest=None, overwriteWarnings=True)\n",
      " |  \n",
      " |  Initializes a PdfFileReader object.  This operation can take some time, as\n",
      " |  the PDF stream's cross-reference tables are read into memory.\n",
      " |  \n",
      " |  :param stream: A File object or an object that supports the standard read\n",
      " |      and seek methods similar to a File object. Could also be a\n",
      " |      string representing a path to a PDF file.\n",
      " |  :param bool strict: Determines whether user should be warned of all\n",
      " |      problems and also causes some correctable problems to be fatal.\n",
      " |      Defaults to ``True``.\n",
      " |  :param warndest: Destination for logging warnings (defaults to\n",
      " |      ``sys.stderr``).\n",
      " |  :param bool overwriteWarnings: Determines whether to override Python's\n",
      " |      ``warnings.py`` module with a custom implementation (defaults to\n",
      " |      ``True``).\n",
      " |  \n",
      " |  Methods defined here:\n",
      " |  \n",
      " |  __init__(self, stream, strict=True, warndest=None, overwriteWarnings=True)\n",
      " |      Initialize self.  See help(type(self)) for accurate signature.\n",
      " |  \n",
      " |  cacheGetIndirectObject(self, generation, idnum)\n",
      " |  \n",
      " |  cacheIndirectObject(self, generation, idnum, obj)\n",
      " |  \n",
      " |  decrypt(self, password)\n",
      " |      When using an encrypted / secured PDF file with the PDF Standard\n",
      " |      encryption handler, this function will allow the file to be decrypted.\n",
      " |      It checks the given password against the document's user password and\n",
      " |      owner password, and then stores the resulting decryption key if either\n",
      " |      password is correct.\n",
      " |      \n",
      " |      It does not matter which password was matched.  Both passwords provide\n",
      " |      the correct decryption key that will allow the document to be used with\n",
      " |      this library.\n",
      " |      \n",
      " |      :param str password: The password to match.\n",
      " |      :return: ``0`` if the password failed, ``1`` if the password matched the user\n",
      " |          password, and ``2`` if the password matched the owner password.\n",
      " |      :rtype: int\n",
      " |      :raises NotImplementedError: if document uses an unsupported encryption\n",
      " |          method.\n",
      " |  \n",
      " |  getDestinationPageNumber(self, destination)\n",
      " |      Retrieve page number of a given Destination object\n",
      " |      \n",
      " |      :param Destination destination: The destination to get page number.\n",
      " |           Should be an instance of\n",
      " |           :class:`Destination<PyPDF2.pdf.Destination>`\n",
      " |      :return: the page number or -1 if page not found\n",
      " |      :rtype: int\n",
      " |  \n",
      " |  getDocumentInfo(self)\n",
      " |      Retrieves the PDF file's document information dictionary, if it exists.\n",
      " |      Note that some PDF files use metadata streams instead of docinfo\n",
      " |      dictionaries, and these metadata streams will not be accessed by this\n",
      " |      function.\n",
      " |      \n",
      " |      :return: the document information of this PDF file\n",
      " |      :rtype: :class:`DocumentInformation<pdf.DocumentInformation>` or ``None`` if none exists.\n",
      " |  \n",
      " |  getFields(self, tree=None, retval=None, fileobj=None)\n",
      " |      Extracts field data if this PDF contains interactive form fields.\n",
      " |      The *tree* and *retval* parameters are for recursive use.\n",
      " |      \n",
      " |      :param fileobj: A file object (usually a text file) to write\n",
      " |          a report to on all interactive form fields found.\n",
      " |      :return: A dictionary where each key is a field name, and each\n",
      " |          value is a :class:`Field<PyPDF2.generic.Field>` object. By\n",
      " |          default, the mapping name is used for keys.\n",
      " |      :rtype: dict, or ``None`` if form data could not be located.\n",
      " |  \n",
      " |  getFormTextFields(self)\n",
      " |      Retrieves form fields from the document with textual data (inputs, dropdowns)\n",
      " |  \n",
      " |  getIsEncrypted(self)\n",
      " |  \n",
      " |  getNamedDestinations(self, tree=None, retval=None)\n",
      " |      Retrieves the named destinations present in the document.\n",
      " |      \n",
      " |      :return: a dictionary which maps names to\n",
      " |          :class:`Destinations<PyPDF2.generic.Destination>`.\n",
      " |      :rtype: dict\n",
      " |  \n",
      " |  getNumPages(self)\n",
      " |      Calculates the number of pages in this PDF file.\n",
      " |      \n",
      " |      :return: number of pages\n",
      " |      :rtype: int\n",
      " |      :raises PdfReadError: if file is encrypted and restrictions prevent\n",
      " |          this action.\n",
      " |  \n",
      " |  getObject(self, indirectReference)\n",
      " |  \n",
      " |  getOutlines(self, node=None, outlines=None)\n",
      " |      Retrieves the document outline present in the document.\n",
      " |      \n",
      " |      :return: a nested list of :class:`Destinations<PyPDF2.generic.Destination>`.\n",
      " |  \n",
      " |  getPage(self, pageNumber)\n",
      " |      Retrieves a page by number from this PDF file.\n",
      " |      \n",
      " |      :param int pageNumber: The page number to retrieve\n",
      " |          (pages begin at zero)\n",
      " |      :return: a :class:`PageObject<pdf.PageObject>` instance.\n",
      " |      :rtype: :class:`PageObject<pdf.PageObject>`\n",
      " |  \n",
      " |  getPageLayout(self)\n",
      " |      Get the page layout.\n",
      " |      See :meth:`setPageLayout()<PdfFileWriter.setPageLayout>`\n",
      " |      for a description of valid layouts.\n",
      " |      \n",
      " |      :return: Page layout currently being used.\n",
      " |      :rtype: ``str``, ``None`` if not specified\n",
      " |  \n",
      " |  getPageMode(self)\n",
      " |      Get the page mode.\n",
      " |      See :meth:`setPageMode()<PdfFileWriter.setPageMode>`\n",
      " |      for a description of valid modes.\n",
      " |      \n",
      " |      :return: Page mode currently being used.\n",
      " |      :rtype: ``str``, ``None`` if not specified\n",
      " |  \n",
      " |  getPageNumber(self, page)\n",
      " |      Retrieve page number of a given PageObject\n",
      " |      \n",
      " |      :param PageObject page: The page to get page number. Should be\n",
      " |          an instance of :class:`PageObject<PyPDF2.pdf.PageObject>`\n",
      " |      :return: the page number or -1 if page not found\n",
      " |      :rtype: int\n",
      " |  \n",
      " |  getXmpMetadata(self)\n",
      " |      Retrieves XMP (Extensible Metadata Platform) data from the PDF document\n",
      " |      root.\n",
      " |      \n",
      " |      :return: a :class:`XmpInformation<xmp.XmpInformation>`\n",
      " |          instance that can be used to access XMP metadata from the document.\n",
      " |      :rtype: :class:`XmpInformation<xmp.XmpInformation>` or\n",
      " |          ``None`` if no metadata was found on the document root.\n",
      " |  \n",
      " |  read(self, stream)\n",
      " |  \n",
      " |  readNextEndLine(self, stream)\n",
      " |  \n",
      " |  readObjectHeader(self, stream)\n",
      " |  \n",
      " |  ----------------------------------------------------------------------\n",
      " |  Readonly properties defined here:\n",
      " |  \n",
      " |  documentInfo\n",
      " |  \n",
      " |  isEncrypted\n",
      " |  \n",
      " |  namedDestinations\n",
      " |  \n",
      " |  numPages\n",
      " |  \n",
      " |  outlines\n",
      " |  \n",
      " |  pageLayout\n",
      " |      Get the page layout.\n",
      " |      See :meth:`setPageLayout()<PdfFileWriter.setPageLayout>`\n",
      " |      for a description of valid layouts.\n",
      " |      \n",
      " |      :return: Page layout currently being used.\n",
      " |      :rtype: ``str``, ``None`` if not specified\n",
      " |  \n",
      " |  pageMode\n",
      " |      Get the page mode.\n",
      " |      See :meth:`setPageMode()<PdfFileWriter.setPageMode>`\n",
      " |      for a description of valid modes.\n",
      " |      \n",
      " |      :return: Page mode currently being used.\n",
      " |      :rtype: ``str``, ``None`` if not specified\n",
      " |  \n",
      " |  pages\n",
      " |  \n",
      " |  xmpMetadata\n",
      " |  \n",
      " |  ----------------------------------------------------------------------\n",
      " |  Data descriptors defined here:\n",
      " |  \n",
      " |  __dict__\n",
      " |      dictionary for instance variables (if defined)\n",
      " |  \n",
      " |  __weakref__\n",
      " |      list of weak references to the object (if defined)\n",
      "\n"
     ]
    }
   ],
   "source": [
    "#使用help命令查看该类型对象的详细属性和方法\n",
    "help(pdf_1)"
   ]
  },
  {
   "cell_type": "code",
   "execution_count": null,
   "metadata": {},
   "outputs": [],
   "source": []
  },
  {
   "cell_type": "markdown",
   "metadata": {},
   "source": [
    "#### 获取PDF的总页数\n",
    "使用 PyPDF2.pdf.PdfFileReader 类型对象的 numPages 属性或者 getNumPages() 方法,可以获取到对应 PDF 文件的总页数."
   ]
  },
  {
   "cell_type": "code",
   "execution_count": 49,
   "metadata": {},
   "outputs": [
    {
     "data": {
      "text/plain": [
       "61"
      ]
     },
     "execution_count": 49,
     "metadata": {},
     "output_type": "execute_result"
    }
   ],
   "source": [
    "pdf_1.numPages"
   ]
  },
  {
   "cell_type": "code",
   "execution_count": 50,
   "metadata": {},
   "outputs": [
    {
     "data": {
      "text/plain": [
       "61"
      ]
     },
     "execution_count": 50,
     "metadata": {},
     "output_type": "execute_result"
    }
   ],
   "source": [
    "pdf_1.getNumPages() "
   ]
  },
  {
   "cell_type": "code",
   "execution_count": null,
   "metadata": {},
   "outputs": [],
   "source": [
    "注意,要区别于容易混淆的令一个方法 getPageNumber, 该方法是将一个PageObjct类型对象的所在页返回."
   ]
  },
  {
   "cell_type": "code",
   "execution_count": 16,
   "metadata": {},
   "outputs": [
    {
     "data": {
      "text/plain": [
       "\u001b[1;31mSignature:\u001b[0m \u001b[0mpdf_1\u001b[0m\u001b[1;33m.\u001b[0m\u001b[0mgetPageNumber\u001b[0m\u001b[1;33m(\u001b[0m\u001b[0mpage\u001b[0m\u001b[1;33m)\u001b[0m\u001b[1;33m\u001b[0m\u001b[1;33m\u001b[0m\u001b[0m\n",
       "\u001b[1;31mSource:\u001b[0m   \n",
       "    \u001b[1;32mdef\u001b[0m \u001b[0mgetPageNumber\u001b[0m\u001b[1;33m(\u001b[0m\u001b[0mself\u001b[0m\u001b[1;33m,\u001b[0m \u001b[0mpage\u001b[0m\u001b[1;33m)\u001b[0m\u001b[1;33m:\u001b[0m\u001b[1;33m\n",
       "\u001b[0m        \u001b[1;34m\"\"\"\n",
       "        Retrieve page number of a given PageObject\n",
       "\n",
       "        :param PageObject page: The page to get page number. Should be\n",
       "            an instance of :class:`PageObject<PyPDF2.pdf.PageObject>`\n",
       "        :return: the page number or -1 if page not found\n",
       "        :rtype: int\n",
       "        \"\"\"\u001b[0m\u001b[1;33m\n",
       "\u001b[0m        \u001b[0mindirectRef\u001b[0m \u001b[1;33m=\u001b[0m \u001b[0mpage\u001b[0m\u001b[1;33m.\u001b[0m\u001b[0mindirectRef\u001b[0m\u001b[1;33m\n",
       "\u001b[0m        \u001b[0mret\u001b[0m \u001b[1;33m=\u001b[0m \u001b[0mself\u001b[0m\u001b[1;33m.\u001b[0m\u001b[0m_getPageNumberByIndirect\u001b[0m\u001b[1;33m(\u001b[0m\u001b[0mindirectRef\u001b[0m\u001b[1;33m)\u001b[0m\u001b[1;33m\n",
       "\u001b[0m        \u001b[1;32mreturn\u001b[0m \u001b[0mret\u001b[0m\u001b[1;33m\u001b[0m\u001b[1;33m\u001b[0m\u001b[0m\n",
       "\u001b[1;31mFile:\u001b[0m      d:\\programdata\\anaconda3\\lib\\site-packages\\pypdf2\\pdf.py\n",
       "\u001b[1;31mType:\u001b[0m      method\n"
      ]
     },
     "metadata": {},
     "output_type": "display_data"
    }
   ],
   "source": [
    "pdf_1.getPageNumber??"
   ]
  },
  {
   "cell_type": "markdown",
   "metadata": {},
   "source": [
    "#### 获取PDF的每一页\n",
    "直观上,PDF是由一页一页的文件组成的,我们可以使用PdfFileReader对象的getPage方法获取PDF文件的指定页"
   ]
  },
  {
   "cell_type": "code",
   "execution_count": 51,
   "metadata": {},
   "outputs": [],
   "source": [
    "page_1 = pdf_1.getPage(0)  #使用PdfFileReader对象的getPage方法获取PDF文件的第一页"
   ]
  },
  {
   "cell_type": "code",
   "execution_count": 52,
   "metadata": {},
   "outputs": [
    {
     "data": {
      "text/plain": [
       "PyPDF2.pdf.PageObject"
      ]
     },
     "execution_count": 52,
     "metadata": {},
     "output_type": "execute_result"
    }
   ],
   "source": [
    "type(page_1)"
   ]
  },
  {
   "cell_type": "code",
   "execution_count": 53,
   "metadata": {},
   "outputs": [
    {
     "name": "stdout",
     "output_type": "stream",
     "text": [
      "{'/Type': '/Page', '/Parent': IndirectObject(19, 0), '/Resources': {'/Font': {'/F1': IndirectObject(1089, 0), '/F2': IndirectObject(1093, 0)}, '/ExtGState': {'/GS7': IndirectObject(1100, 0), '/GS8': IndirectObject(1101, 0)}, '/ProcSet': ['/PDF', '/Text', '/ImageB', '/ImageC', '/ImageI']}, '/MediaBox': [0, 0, 595.32, 841.92], '/Contents': IndirectObject(1102, 0), '/Group': {'/Type': '/Group', '/S': '/Transparency', '/CS': '/DeviceRGB'}, '/Tabs': '/S', '/StructParents': 0, '/CropBox': [0, 0, 595.32, 841.92], '/Rotate': 0, '/Annots': [IndirectObject(1103, 0)]}\n"
     ]
    }
   ],
   "source": [
    "print(page_1)"
   ]
  },
  {
   "cell_type": "code",
   "execution_count": null,
   "metadata": {},
   "outputs": [],
   "source": [
    "尝试使用上述print函数打印page_1后我们发现,似乎已经可以直接访问该种类型的对象了,"
   ]
  },
  {
   "cell_type": "code",
   "execution_count": 27,
   "metadata": {},
   "outputs": [
    {
     "name": "stdout",
     "output_type": "stream",
     "text": [
      "['__class__', '__contains__', '__delattr__', '__delitem__', '__dict__', '__dir__', '__doc__', '__eq__', '__format__', '__ge__', '__getattribute__', '__getitem__', '__gt__', '__hash__', '__init__', '__init_subclass__', '__iter__', '__le__', '__len__', '__lt__', '__module__', '__ne__', '__new__', '__reduce__', '__reduce_ex__', '__repr__', '__reversed__', '__setattr__', '__setitem__', '__sizeof__', '__str__', '__subclasshook__', '__weakref__', '_addTransformationMatrix', '_contentStreamRename', '_mergePage', '_mergeResources', '_pushPopGS', '_rotate', 'addTransformation', 'artBox', 'bleedBox', 'clear', 'compressContentStreams', 'copy', 'createBlankPage', 'cropBox', 'extractText', 'fromkeys', 'get', 'getContents', 'getObject', 'getXmpMetadata', 'indirectRef', 'items', 'keys', 'mediaBox', 'mergePage', 'mergeRotatedPage', 'mergeRotatedScaledPage', 'mergeRotatedScaledTranslatedPage', 'mergeRotatedTranslatedPage', 'mergeScaledPage', 'mergeScaledTranslatedPage', 'mergeTransformedPage', 'mergeTranslatedPage', 'pdf', 'pop', 'popitem', 'raw_get', 'readFromStream', 'rotateClockwise', 'rotateCounterClockwise', 'scale', 'scaleBy', 'scaleTo', 'setdefault', 'trimBox', 'update', 'values', 'writeToStream', 'xmpMetadata']\n"
     ]
    }
   ],
   "source": [
    "print(dir(page_1))"
   ]
  },
  {
   "cell_type": "markdown",
   "metadata": {},
   "source": [
    "#### 从PageObject对象创建PDF\n",
    "在 PyPDF2 中，与 PdfFileReader 对象相对的是 PdfFileWriter 对象，它可以创建\n",
    "一个新的 PDF 文件。但 PyPDF2 不能将任意文本写入 PDF，就像 Python 可以写入\n",
    "纯文本文件那样。PyPDF2 写入 PDF 的能力，仅限于从其他 PDF 中拷贝页面、旋转\n",
    "页面、重叠页面和加密文件。\n",
    "模块不允许直接编辑 PDF。必须创建一个新的 PDF，然后从已有的文档拷贝内\n",
    "容。本节的例子将遵循这种一般方式：\n",
    "1．打开一个或多个已有的 PDF（源 PDF），得到 PdfFileReader 对象。\n",
    "2．创建一个新的 PdfFileWriter 对象。\n",
    "3．将页面从 PdfFileReader 对象拷贝到 PdfFileWriter 对象中。\n",
    "4．最后，利用 PdfFileWriter 对象写入输出的 PDF。\n",
    "创建一个PdfFileWriter对象，只是在Python中创建了一个代表PDF文档的值，这并\n",
    "没有创建实际的PDF文件，要实际生成文件，必须调用PdfFileWriter对象的write()方法。\n",
    "write()方法接受一个普通的 File 对象，它以写二进制的模式打开。你可以用两\n",
    "个参数调用 Python 的 open()函数，得到这样的 File 对象：一个是要打开的 PDF 文\n",
    "件名字符串，一个是'wb'，表明文件应该以写二进制的模式打开。\n",
    "如果这听起来有些令人困惑，不用担心，在接下来的代码示例中，你会看到这\n",
    "种工作方式。"
   ]
  },
  {
   "cell_type": "code",
   "execution_count": 70,
   "metadata": {},
   "outputs": [],
   "source": [
    "# 导入所需要的函数\n",
    "from PyPDF2 import PdfFileWriter"
   ]
  },
  {
   "cell_type": "code",
   "execution_count": 71,
   "metadata": {},
   "outputs": [],
   "source": [
    "# 使用该函数创建一个不包含任何内容的 PdfFileWriter 对象\n",
    "writer = PdfFileWriter()"
   ]
  },
  {
   "cell_type": "code",
   "execution_count": 72,
   "metadata": {},
   "outputs": [
    {
     "data": {
      "text/plain": [
       "PyPDF2.pdf.PdfFileWriter"
      ]
     },
     "execution_count": 72,
     "metadata": {},
     "output_type": "execute_result"
    }
   ],
   "source": [
    "type(writer)"
   ]
  },
  {
   "cell_type": "code",
   "execution_count": 73,
   "metadata": {},
   "outputs": [
    {
     "name": "stdout",
     "output_type": "stream",
     "text": [
      "['__class__', '__delattr__', '__dict__', '__dir__', '__doc__', '__eq__', '__format__', '__ge__', '__getattribute__', '__gt__', '__hash__', '__init__', '__init_subclass__', '__le__', '__lt__', '__module__', '__ne__', '__new__', '__reduce__', '__reduce_ex__', '__repr__', '__setattr__', '__sizeof__', '__str__', '__subclasshook__', '__weakref__', '_addObject', '_addPage', '_header', '_info', '_objects', '_pages', '_root', '_root_object', '_sweepIndirectReferences', '_valid_layouts', '_valid_modes', 'addAttachment', 'addBlankPage', 'addBookmark', 'addBookmarkDestination', 'addBookmarkDict', 'addJS', 'addLink', 'addMetadata', 'addNamedDestination', 'addNamedDestinationObject', 'addPage', 'appendPagesFromReader', 'cloneDocumentFromReader', 'cloneReaderDocumentRoot', 'encrypt', 'getNamedDestRoot', 'getNumPages', 'getObject', 'getOutlineRoot', 'getPage', 'getPageLayout', 'getPageMode', 'getReference', 'insertBlankPage', 'insertPage', 'pageLayout', 'pageMode', 'removeImages', 'removeLinks', 'removeText', 'setPageLayout', 'setPageMode', 'updatePageFormFieldValues', 'write']\n"
     ]
    }
   ],
   "source": [
    "print(dir(writer))\n",
    "# 查看 PdfFileWriter 对象的方法\n",
    "# 其中的 addPage方法用于将一个 PageObject 对象添加到 PdfFileWriter 对象中去\n",
    "# write方法则用于将 PdfFileWriter 对象保存到硬盘上的文件"
   ]
  },
  {
   "cell_type": "code",
   "execution_count": null,
   "metadata": {},
   "outputs": [],
   "source": []
  },
  {
   "cell_type": "code",
   "execution_count": 74,
   "metadata": {},
   "outputs": [],
   "source": [
    "# 将上一步提取的讲义的第一页(也就是封面)添加到 PdfFileWriter 对象\n",
    "writer.addPage(page_1)"
   ]
  },
  {
   "cell_type": "code",
   "execution_count": 75,
   "metadata": {},
   "outputs": [],
   "source": [
    "# 构造输出文件名\n",
    "out_file_name = r'D:\\Py\\OfficeAutomation\\data1\\pdf\\cover.pdf' # 包含完整路径的PDF文件名--也可以用相对路径"
   ]
  },
  {
   "cell_type": "code",
   "execution_count": 76,
   "metadata": {},
   "outputs": [],
   "source": [
    "# 使用  PdfFileWriter 对象的write方法将该对象保存到硬盘\n",
    "with open(out_file_name, 'wb') as outfile:\n",
    "    writer.write(outfile)"
   ]
  },
  {
   "cell_type": "markdown",
   "metadata": {},
   "source": [
    "在最后一步,我们使用了with方法打开(其实在这里是创建,因为该文件之前并不存在)out_file_name文件,然后用 PdfFileWriter 对象的write方法保存到文件.    \n",
    "正如我们之前学过的那样,with方法打开文件的好处在于,它会在不再需要访问文件后将其关闭,这将会避免很多因文件未被关闭导致的报错.   \n",
    "与上述代码等价的方式是:"
   ]
  },
  {
   "cell_type": "code",
   "execution_count": 69,
   "metadata": {},
   "outputs": [],
   "source": [
    "outfile = open(out_file_name,'wb')\n",
    "writer.write(outfile)\n",
    "outfile.close() #显式地关闭文件."
   ]
  },
  {
   "cell_type": "markdown",
   "metadata": {},
   "source": [
    "#### 拆分PDF为单页\n",
    "有了上述的打开PDF,获取PDF地每一页和从PageObject对象创建PDF,我们就可以使用 PyPDF2 库来完成拆分PDF为单页的任务了.   \n",
    "基本步骤是:    \n",
    "\n",
    "首先使用 PdfFileReader 打开硬盘上的PDF文件,得到一个PDF对象;   \n",
    "然后用这个对象的 getPages方法, 获取PDF文件的每一页,分别创建 PageObject , 这些 PageObject 对象构成了一个list;   \n",
    "再用 PdfFileWriter 方法为每一个 PageObject 对象创建一个 PdfFileWriter 对象,然后分别将每一个 PageObject 对象添加到这个对象里;\n",
    "最后使用 PdfFileWriter 类型对象地write方法,将list的元素分别以不同地文件名保存到硬盘.\n"
   ]
  },
  {
   "cell_type": "code",
   "execution_count": 28,
   "metadata": {},
   "outputs": [],
   "source": [
    "# PyPDF2拆分pdf文件成单页\n",
    "from PyPDF2 import PdfFileReader, PdfFileWriter\n",
    "import os\n",
    "\n",
    "def split_pdf(infile, out_path):\n",
    "    \"\"\"\n",
    "    :param infile: 待拆分的pdf文件\n",
    "    :param out_path: 拆分成单页的pdf文件的存储路径\n",
    "    :return: 无\n",
    "    \"\"\"\n",
    "    if not os.path.exists(out_path):\n",
    "        os.makedirs(out_path)\n",
    "    with open(infile, 'rb') as infile:\n",
    "        reader = PdfFileReader(infile) # 使用PyPDF2的PdfFileReader函数读取pdf文件\n",
    "        number_of_pages = reader.getNumPages()  #使用PdfFileReader对象的getNumPages方法获取PDF文件的页数\n",
    "        for i in range(number_of_pages):\n",
    "            writer = PdfFileWriter()\n",
    "            writer.addPage(reader.getPage(i))\n",
    "            out_file_name = out_path + '\\\\page_' + str(i+1)+'.pdf' # 为拆分得到的单页PDF命名\n",
    "            with open(out_file_name, 'wb') as outfile:\n",
    "                writer.write(outfile)"
   ]
  },
  {
   "cell_type": "code",
   "execution_count": 31,
   "metadata": {},
   "outputs": [
    {
     "name": "stdout",
     "output_type": "stream",
     "text": [
      "Wall time: 786 ms\n"
     ]
    }
   ],
   "source": [
    "#测试\n",
    "%time split_pdf(r'D:\\Py\\OfficeAutomation\\Python自动化办公（6月组队学习）.pdf',r'D:\\Py\\OfficeAutomation\\data1\\pdf\\split')"
   ]
  },
  {
   "cell_type": "code",
   "execution_count": 32,
   "metadata": {
    "collapsed": true,
    "jupyter": {
     "outputs_hidden": true
    }
   },
   "outputs": [
    {
     "data": {
      "text/plain": [
       "['page_1.pdf',\n",
       " 'page_10.pdf',\n",
       " 'page_11.pdf',\n",
       " 'page_12.pdf',\n",
       " 'page_13.pdf',\n",
       " 'page_14.pdf',\n",
       " 'page_15.pdf',\n",
       " 'page_16.pdf',\n",
       " 'page_17.pdf',\n",
       " 'page_18.pdf',\n",
       " 'page_19.pdf',\n",
       " 'page_2.pdf',\n",
       " 'page_20.pdf',\n",
       " 'page_21.pdf',\n",
       " 'page_22.pdf',\n",
       " 'page_23.pdf',\n",
       " 'page_24.pdf',\n",
       " 'page_25.pdf',\n",
       " 'page_26.pdf',\n",
       " 'page_27.pdf',\n",
       " 'page_28.pdf',\n",
       " 'page_29.pdf',\n",
       " 'page_3.pdf',\n",
       " 'page_30.pdf',\n",
       " 'page_31.pdf',\n",
       " 'page_32.pdf',\n",
       " 'page_33.pdf',\n",
       " 'page_34.pdf',\n",
       " 'page_35.pdf',\n",
       " 'page_36.pdf',\n",
       " 'page_37.pdf',\n",
       " 'page_38.pdf',\n",
       " 'page_39.pdf',\n",
       " 'page_4.pdf',\n",
       " 'page_40.pdf',\n",
       " 'page_41.pdf',\n",
       " 'page_42.pdf',\n",
       " 'page_43.pdf',\n",
       " 'page_44.pdf',\n",
       " 'page_45.pdf',\n",
       " 'page_46.pdf',\n",
       " 'page_47.pdf',\n",
       " 'page_48.pdf',\n",
       " 'page_49.pdf',\n",
       " 'page_5.pdf',\n",
       " 'page_50.pdf',\n",
       " 'page_51.pdf',\n",
       " 'page_52.pdf',\n",
       " 'page_53.pdf',\n",
       " 'page_54.pdf',\n",
       " 'page_55.pdf',\n",
       " 'page_56.pdf',\n",
       " 'page_57.pdf',\n",
       " 'page_58.pdf',\n",
       " 'page_59.pdf',\n",
       " 'page_6.pdf',\n",
       " 'page_60.pdf',\n",
       " 'page_61.pdf',\n",
       " 'page_7.pdf',\n",
       " 'page_8.pdf',\n",
       " 'page_9.pdf']"
      ]
     },
     "execution_count": 32,
     "metadata": {},
     "output_type": "execute_result"
    }
   ],
   "source": [
    "os.listdir(r'D:\\Py\\OfficeAutomation\\data1\\pdf\\split')"
   ]
  },
  {
   "cell_type": "code",
   "execution_count": 83,
   "metadata": {},
   "outputs": [],
   "source": [
    "# 改进:\n",
    "# 1.增加返回值\n",
    "# 2.增加关闭infile以便于后续能进行删除或重写\n",
    "# PyPDF2拆分pdf文件成单页\n",
    "from PyPDF2 import PdfFileReader, PdfFileWriter\n",
    "import os\n",
    "\n",
    "def split_pdf_1(infile, out_path):\n",
    "    \"\"\"\n",
    "    :param infile: 待拆分的pdf文件\n",
    "    :param out_path: 拆分成单页的pdf文件的存储路径\n",
    "    :return: 无\n",
    "    \"\"\"\n",
    "    singlepdflist = [] # 存放拆分后的单个pdf文件的(包括路径的)文件名\n",
    "    if not os.path.exists(out_path): # 输出路径如果不存在, 则创建\n",
    "        os.makedirs(out_path)\n",
    "    #with open(infile, 'rb') as infile:\n",
    "    infile = open(infile, 'rb') #将 with open 改写,以便于显式地关闭 \n",
    "    reader = PdfFileReader(infile) # 使用PyPDF2的PdfFileReader函数读取pdf文件\n",
    "    number_of_pages = reader.getNumPages()  #使用PdfFileReader对象的getNumPages方法获取PDF文件的页数\n",
    "    for i in range(number_of_pages):#遍历infile中的每一页\n",
    "        writer = PdfFileWriter() # 为每一页pdf创建一个 PdfFileWriter 对象\n",
    "        writer.addPage(reader.getPage(i))# 将使用reader的getPage方法获取单页pdf,并将该单页添加到上一步创建的 writer 对象\n",
    "        out_file_name = out_path + '\\\\page_' + str(i+1)+'.pdf' # 为每一页的 writer 对象构造一个包括完整路径的输出文件名\n",
    "        singlepdflist.append(out_file_name) #将输出文件名添加到list中,以便于返回.\n",
    "        outfile = open(out_file_name, 'wb') #使用上述步骤构造的包括路径的文件名创建和打开空的pdf\n",
    "        writer.write(outfile) # 将单页 pdf 写入到上述空的pdf文件 \n",
    "        outfile.close() #显式地关闭单页 pdf 文件,以便于后续进行删除和重写等操作.\n",
    "    infile.close() #增加关闭原始多页 pdf 文件的步骤\n",
    "    return singlepdflist # 返回拆分后的单页pdf文件名(包括路径)"
   ]
  },
  {
   "cell_type": "code",
   "execution_count": 84,
   "metadata": {},
   "outputs": [
    {
     "name": "stdout",
     "output_type": "stream",
     "text": [
      "Wall time: 958 ms\n"
     ]
    }
   ],
   "source": [
    "#测试\n",
    "%time singlepdflist = split_pdf_1(r'D:\\Py\\OfficeAutomation\\Python自动化办公（6月组队学习）.pdf',r'D:\\Py\\OfficeAutomation\\data1\\pdf\\split_1')"
   ]
  },
  {
   "cell_type": "code",
   "execution_count": 86,
   "metadata": {
    "collapsed": true,
    "jupyter": {
     "outputs_hidden": true
    }
   },
   "outputs": [
    {
     "data": {
      "text/plain": [
       "['D:\\\\Py\\\\OfficeAutomation\\\\data1\\\\pdf\\\\split_1\\\\page_1.pdf',\n",
       " 'D:\\\\Py\\\\OfficeAutomation\\\\data1\\\\pdf\\\\split_1\\\\page_2.pdf',\n",
       " 'D:\\\\Py\\\\OfficeAutomation\\\\data1\\\\pdf\\\\split_1\\\\page_3.pdf',\n",
       " 'D:\\\\Py\\\\OfficeAutomation\\\\data1\\\\pdf\\\\split_1\\\\page_4.pdf',\n",
       " 'D:\\\\Py\\\\OfficeAutomation\\\\data1\\\\pdf\\\\split_1\\\\page_5.pdf',\n",
       " 'D:\\\\Py\\\\OfficeAutomation\\\\data1\\\\pdf\\\\split_1\\\\page_6.pdf',\n",
       " 'D:\\\\Py\\\\OfficeAutomation\\\\data1\\\\pdf\\\\split_1\\\\page_7.pdf',\n",
       " 'D:\\\\Py\\\\OfficeAutomation\\\\data1\\\\pdf\\\\split_1\\\\page_8.pdf',\n",
       " 'D:\\\\Py\\\\OfficeAutomation\\\\data1\\\\pdf\\\\split_1\\\\page_9.pdf',\n",
       " 'D:\\\\Py\\\\OfficeAutomation\\\\data1\\\\pdf\\\\split_1\\\\page_10.pdf',\n",
       " 'D:\\\\Py\\\\OfficeAutomation\\\\data1\\\\pdf\\\\split_1\\\\page_11.pdf',\n",
       " 'D:\\\\Py\\\\OfficeAutomation\\\\data1\\\\pdf\\\\split_1\\\\page_12.pdf',\n",
       " 'D:\\\\Py\\\\OfficeAutomation\\\\data1\\\\pdf\\\\split_1\\\\page_13.pdf',\n",
       " 'D:\\\\Py\\\\OfficeAutomation\\\\data1\\\\pdf\\\\split_1\\\\page_14.pdf',\n",
       " 'D:\\\\Py\\\\OfficeAutomation\\\\data1\\\\pdf\\\\split_1\\\\page_15.pdf',\n",
       " 'D:\\\\Py\\\\OfficeAutomation\\\\data1\\\\pdf\\\\split_1\\\\page_16.pdf',\n",
       " 'D:\\\\Py\\\\OfficeAutomation\\\\data1\\\\pdf\\\\split_1\\\\page_17.pdf',\n",
       " 'D:\\\\Py\\\\OfficeAutomation\\\\data1\\\\pdf\\\\split_1\\\\page_18.pdf',\n",
       " 'D:\\\\Py\\\\OfficeAutomation\\\\data1\\\\pdf\\\\split_1\\\\page_19.pdf',\n",
       " 'D:\\\\Py\\\\OfficeAutomation\\\\data1\\\\pdf\\\\split_1\\\\page_20.pdf',\n",
       " 'D:\\\\Py\\\\OfficeAutomation\\\\data1\\\\pdf\\\\split_1\\\\page_21.pdf',\n",
       " 'D:\\\\Py\\\\OfficeAutomation\\\\data1\\\\pdf\\\\split_1\\\\page_22.pdf',\n",
       " 'D:\\\\Py\\\\OfficeAutomation\\\\data1\\\\pdf\\\\split_1\\\\page_23.pdf',\n",
       " 'D:\\\\Py\\\\OfficeAutomation\\\\data1\\\\pdf\\\\split_1\\\\page_24.pdf',\n",
       " 'D:\\\\Py\\\\OfficeAutomation\\\\data1\\\\pdf\\\\split_1\\\\page_25.pdf',\n",
       " 'D:\\\\Py\\\\OfficeAutomation\\\\data1\\\\pdf\\\\split_1\\\\page_26.pdf',\n",
       " 'D:\\\\Py\\\\OfficeAutomation\\\\data1\\\\pdf\\\\split_1\\\\page_27.pdf',\n",
       " 'D:\\\\Py\\\\OfficeAutomation\\\\data1\\\\pdf\\\\split_1\\\\page_28.pdf',\n",
       " 'D:\\\\Py\\\\OfficeAutomation\\\\data1\\\\pdf\\\\split_1\\\\page_29.pdf',\n",
       " 'D:\\\\Py\\\\OfficeAutomation\\\\data1\\\\pdf\\\\split_1\\\\page_30.pdf',\n",
       " 'D:\\\\Py\\\\OfficeAutomation\\\\data1\\\\pdf\\\\split_1\\\\page_31.pdf',\n",
       " 'D:\\\\Py\\\\OfficeAutomation\\\\data1\\\\pdf\\\\split_1\\\\page_32.pdf',\n",
       " 'D:\\\\Py\\\\OfficeAutomation\\\\data1\\\\pdf\\\\split_1\\\\page_33.pdf',\n",
       " 'D:\\\\Py\\\\OfficeAutomation\\\\data1\\\\pdf\\\\split_1\\\\page_34.pdf',\n",
       " 'D:\\\\Py\\\\OfficeAutomation\\\\data1\\\\pdf\\\\split_1\\\\page_35.pdf',\n",
       " 'D:\\\\Py\\\\OfficeAutomation\\\\data1\\\\pdf\\\\split_1\\\\page_36.pdf',\n",
       " 'D:\\\\Py\\\\OfficeAutomation\\\\data1\\\\pdf\\\\split_1\\\\page_37.pdf',\n",
       " 'D:\\\\Py\\\\OfficeAutomation\\\\data1\\\\pdf\\\\split_1\\\\page_38.pdf',\n",
       " 'D:\\\\Py\\\\OfficeAutomation\\\\data1\\\\pdf\\\\split_1\\\\page_39.pdf',\n",
       " 'D:\\\\Py\\\\OfficeAutomation\\\\data1\\\\pdf\\\\split_1\\\\page_40.pdf',\n",
       " 'D:\\\\Py\\\\OfficeAutomation\\\\data1\\\\pdf\\\\split_1\\\\page_41.pdf',\n",
       " 'D:\\\\Py\\\\OfficeAutomation\\\\data1\\\\pdf\\\\split_1\\\\page_42.pdf',\n",
       " 'D:\\\\Py\\\\OfficeAutomation\\\\data1\\\\pdf\\\\split_1\\\\page_43.pdf',\n",
       " 'D:\\\\Py\\\\OfficeAutomation\\\\data1\\\\pdf\\\\split_1\\\\page_44.pdf',\n",
       " 'D:\\\\Py\\\\OfficeAutomation\\\\data1\\\\pdf\\\\split_1\\\\page_45.pdf',\n",
       " 'D:\\\\Py\\\\OfficeAutomation\\\\data1\\\\pdf\\\\split_1\\\\page_46.pdf',\n",
       " 'D:\\\\Py\\\\OfficeAutomation\\\\data1\\\\pdf\\\\split_1\\\\page_47.pdf',\n",
       " 'D:\\\\Py\\\\OfficeAutomation\\\\data1\\\\pdf\\\\split_1\\\\page_48.pdf',\n",
       " 'D:\\\\Py\\\\OfficeAutomation\\\\data1\\\\pdf\\\\split_1\\\\page_49.pdf',\n",
       " 'D:\\\\Py\\\\OfficeAutomation\\\\data1\\\\pdf\\\\split_1\\\\page_50.pdf',\n",
       " 'D:\\\\Py\\\\OfficeAutomation\\\\data1\\\\pdf\\\\split_1\\\\page_51.pdf',\n",
       " 'D:\\\\Py\\\\OfficeAutomation\\\\data1\\\\pdf\\\\split_1\\\\page_52.pdf',\n",
       " 'D:\\\\Py\\\\OfficeAutomation\\\\data1\\\\pdf\\\\split_1\\\\page_53.pdf',\n",
       " 'D:\\\\Py\\\\OfficeAutomation\\\\data1\\\\pdf\\\\split_1\\\\page_54.pdf',\n",
       " 'D:\\\\Py\\\\OfficeAutomation\\\\data1\\\\pdf\\\\split_1\\\\page_55.pdf',\n",
       " 'D:\\\\Py\\\\OfficeAutomation\\\\data1\\\\pdf\\\\split_1\\\\page_56.pdf',\n",
       " 'D:\\\\Py\\\\OfficeAutomation\\\\data1\\\\pdf\\\\split_1\\\\page_57.pdf',\n",
       " 'D:\\\\Py\\\\OfficeAutomation\\\\data1\\\\pdf\\\\split_1\\\\page_58.pdf',\n",
       " 'D:\\\\Py\\\\OfficeAutomation\\\\data1\\\\pdf\\\\split_1\\\\page_59.pdf',\n",
       " 'D:\\\\Py\\\\OfficeAutomation\\\\data1\\\\pdf\\\\split_1\\\\page_60.pdf',\n",
       " 'D:\\\\Py\\\\OfficeAutomation\\\\data1\\\\pdf\\\\split_1\\\\page_61.pdf']"
      ]
     },
     "execution_count": 86,
     "metadata": {},
     "output_type": "execute_result"
    }
   ],
   "source": [
    "singlepdflist"
   ]
  },
  {
   "cell_type": "markdown",
   "metadata": {},
   "source": [
    "#### 合并单页PDF\n",
    "拆分PDF为单页的逆过程就是合并单页PDF为一个PDF,基本思路和拆分PDF刚好相反:  "
   ]
  },
  {
   "cell_type": "code",
   "execution_count": 88,
   "metadata": {},
   "outputs": [],
   "source": [
    "# 改进\n",
    "# 合并pdf文档\n",
    "def mergePdf(inFileList, outFile):\n",
    "    '''\n",
    "    合并文档\n",
    "    :param inFileList: 要合并的文档的 list\n",
    "    :param outFile:    合并后的输出文件\n",
    "    :return:\n",
    "    '''\n",
    "    pdfFileWriter = PdfFileWriter()\n",
    "    for inFile in inFileList:\n",
    "        # 依次循环打开要合并文件\n",
    "        in_file = open(inFile, 'rb')\n",
    "        pdfReader = PdfFileReader(in_file)\n",
    "        numPages = pdfReader.getNumPages()\n",
    "        for i in range(0, numPages):\n",
    "            pageObj = pdfReader.getPage(i)#.copy() # 加上 .copy() 后无法写入\n",
    "            pdfFileWriter.addPage(pageObj)\n",
    "        #in_file.close() # 关闭会导致无内容写入,形成一个空的pdf.\n",
    "\n",
    "    # 最后,统一写入到输出文件中\n",
    "    out_file = open(outFile, 'wb')\n",
    "    #pdfFileWriter.write(open(outFile, 'wb'))\n",
    "    pdfFileWriter.write(out_file)\n",
    "    #out_file.close()\n",
    "    return outFile # 返回合并后的pdf文件名(包括路径)"
   ]
  },
  {
   "cell_type": "code",
   "execution_count": 89,
   "metadata": {},
   "outputs": [],
   "source": [
    "# 复用dirfiles,以便于从路径获取所有文件包含完整路径的文件名\n",
    "def dirfiles(path):\n",
    "    lst = []\n",
    "    for dirpath, dirnames, filenames in os.walk(path):\n",
    "        for file in filenames:\n",
    "            fullpath = os.path.join(dirpath, file)\n",
    "            lst.append(fullpath)\n",
    "    return lst"
   ]
  },
  {
   "cell_type": "code",
   "execution_count": 90,
   "metadata": {},
   "outputs": [
    {
     "name": "stdout",
     "output_type": "stream",
     "text": [
      "Wall time: 830 ms\n"
     ]
    },
    {
     "data": {
      "text/plain": [
       "'D:\\\\Py\\\\OfficeAutomation\\\\data1\\\\pdf\\\\办公自动化.pdf'"
      ]
     },
     "execution_count": 90,
     "metadata": {},
     "output_type": "execute_result"
    }
   ],
   "source": [
    "#测试\n",
    "inFileList = dirfiles(r'D:\\Py\\OfficeAutomation\\data1\\pdf\\split')\n",
    "outFile = r'D:\\Py\\OfficeAutomation\\data1\\pdf\\办公自动化.pdf'\n",
    "%time mergePdf(inFileList,outFile)"
   ]
  },
  {
   "cell_type": "code",
   "execution_count": 91,
   "metadata": {},
   "outputs": [
    {
     "data": {
      "text/plain": [
       "True"
      ]
     },
     "execution_count": 91,
     "metadata": {},
     "output_type": "execute_result"
    }
   ],
   "source": [
    "# 检测转换结果\n",
    "os.path.exists(outFile)"
   ]
  },
  {
   "cell_type": "markdown",
   "metadata": {},
   "source": [
    "打开文件之后发现,由于待合并的单页PDF顺序不合适,导致合并的结果是乱序的.想要修正这个问题,只需要合理地命名单页PDF的文件名,以便于能够将文件名按他们的页数排序."
   ]
  },
  {
   "cell_type": "code",
   "execution_count": 92,
   "metadata": {},
   "outputs": [
    {
     "name": "stdout",
     "output_type": "stream",
     "text": [
      "Wall time: 798 ms\n"
     ]
    },
    {
     "data": {
      "text/plain": [
       "'D:\\\\Py\\\\OfficeAutomation\\\\data1\\\\pdf\\\\办公自动化.pdf'"
      ]
     },
     "execution_count": 92,
     "metadata": {},
     "output_type": "execute_result"
    }
   ],
   "source": [
    "# 改为使用改进后的拆分PDF的函数得到的单页PDF的列表\n",
    "%time mergePdf(singlepdflist,outFile)"
   ]
  },
  {
   "cell_type": "markdown",
   "metadata": {},
   "source": [
    "一个问题:拆分又合并后,文件大小显著增大了.应该如何解决?"
   ]
  },
  {
   "cell_type": "markdown",
   "metadata": {},
   "source": [
    "#### 合并多个非单页的PDF\n"
   ]
  },
  {
   "cell_type": "code",
   "execution_count": null,
   "metadata": {},
   "outputs": [],
   "source": []
  },
  {
   "cell_type": "markdown",
   "metadata": {},
   "source": [
    "#### 提取PDF的文本"
   ]
  },
  {
   "cell_type": "code",
   "execution_count": 96,
   "metadata": {},
   "outputs": [
    {
     "name": "stdout",
     "output_type": "stream",
     "text": [
      " \n",
      " \n",
      " \n",
      " \n",
      "Python\n",
      "\n",
      " \n",
      "\n",
      "6\n",
      "\n",
      " \n",
      "\n"
     ]
    }
   ],
   "source": [
    "print(pdf_1.getPage(0).extractText())\n",
    "# 中文无法显示"
   ]
  },
  {
   "cell_type": "code",
   "execution_count": 78,
   "metadata": {},
   "outputs": [
    {
     "data": {
      "text/plain": [
       "\u001b[1;31mSignature:\u001b[0m \u001b[0mpage_1\u001b[0m\u001b[1;33m.\u001b[0m\u001b[0mextractText\u001b[0m\u001b[1;33m(\u001b[0m\u001b[1;33m)\u001b[0m\u001b[1;33m\u001b[0m\u001b[1;33m\u001b[0m\u001b[0m\n",
       "\u001b[1;31mSource:\u001b[0m   \n",
       "    \u001b[1;32mdef\u001b[0m \u001b[0mextractText\u001b[0m\u001b[1;33m(\u001b[0m\u001b[0mself\u001b[0m\u001b[1;33m)\u001b[0m\u001b[1;33m:\u001b[0m\u001b[1;33m\n",
       "\u001b[0m        \u001b[1;34m\"\"\"\n",
       "        Locate all text drawing commands, in the order they are provided in the\n",
       "        content stream, and extract the text.  This works well for some PDF\n",
       "        files, but poorly for others, depending on the generator used.  This will\n",
       "        be refined in the future.  Do not rely on the order of text coming out of\n",
       "        this function, as it will change if this function is made more\n",
       "        sophisticated.\n",
       "\n",
       "        :return: a unicode string object.\n",
       "        \"\"\"\u001b[0m\u001b[1;33m\n",
       "\u001b[0m        \u001b[0mtext\u001b[0m \u001b[1;33m=\u001b[0m \u001b[0mu_\u001b[0m\u001b[1;33m(\u001b[0m\u001b[1;34m\"\"\u001b[0m\u001b[1;33m)\u001b[0m\u001b[1;33m\n",
       "\u001b[0m        \u001b[0mcontent\u001b[0m \u001b[1;33m=\u001b[0m \u001b[0mself\u001b[0m\u001b[1;33m[\u001b[0m\u001b[1;34m\"/Contents\"\u001b[0m\u001b[1;33m]\u001b[0m\u001b[1;33m.\u001b[0m\u001b[0mgetObject\u001b[0m\u001b[1;33m(\u001b[0m\u001b[1;33m)\u001b[0m\u001b[1;33m\n",
       "\u001b[0m        \u001b[1;32mif\u001b[0m \u001b[1;32mnot\u001b[0m \u001b[0misinstance\u001b[0m\u001b[1;33m(\u001b[0m\u001b[0mcontent\u001b[0m\u001b[1;33m,\u001b[0m \u001b[0mContentStream\u001b[0m\u001b[1;33m)\u001b[0m\u001b[1;33m:\u001b[0m\u001b[1;33m\n",
       "\u001b[0m            \u001b[0mcontent\u001b[0m \u001b[1;33m=\u001b[0m \u001b[0mContentStream\u001b[0m\u001b[1;33m(\u001b[0m\u001b[0mcontent\u001b[0m\u001b[1;33m,\u001b[0m \u001b[0mself\u001b[0m\u001b[1;33m.\u001b[0m\u001b[0mpdf\u001b[0m\u001b[1;33m)\u001b[0m\u001b[1;33m\n",
       "\u001b[0m        \u001b[1;31m# Note: we check all strings are TextStringObjects.  ByteStringObjects\u001b[0m\u001b[1;33m\n",
       "\u001b[0m        \u001b[1;31m# are strings where the byte->string encoding was unknown, so adding\u001b[0m\u001b[1;33m\n",
       "\u001b[0m        \u001b[1;31m# them to the text here would be gibberish.\u001b[0m\u001b[1;33m\n",
       "\u001b[0m        \u001b[1;32mfor\u001b[0m \u001b[0moperands\u001b[0m\u001b[1;33m,\u001b[0m \u001b[0moperator\u001b[0m \u001b[1;32min\u001b[0m \u001b[0mcontent\u001b[0m\u001b[1;33m.\u001b[0m\u001b[0moperations\u001b[0m\u001b[1;33m:\u001b[0m\u001b[1;33m\n",
       "\u001b[0m            \u001b[1;32mif\u001b[0m \u001b[0moperator\u001b[0m \u001b[1;33m==\u001b[0m \u001b[0mb_\u001b[0m\u001b[1;33m(\u001b[0m\u001b[1;34m\"Tj\"\u001b[0m\u001b[1;33m)\u001b[0m\u001b[1;33m:\u001b[0m\u001b[1;33m\n",
       "\u001b[0m                \u001b[0m_text\u001b[0m \u001b[1;33m=\u001b[0m \u001b[0moperands\u001b[0m\u001b[1;33m[\u001b[0m\u001b[1;36m0\u001b[0m\u001b[1;33m]\u001b[0m\u001b[1;33m\n",
       "\u001b[0m                \u001b[1;32mif\u001b[0m \u001b[0misinstance\u001b[0m\u001b[1;33m(\u001b[0m\u001b[0m_text\u001b[0m\u001b[1;33m,\u001b[0m \u001b[0mTextStringObject\u001b[0m\u001b[1;33m)\u001b[0m\u001b[1;33m:\u001b[0m\u001b[1;33m\n",
       "\u001b[0m                    \u001b[0mtext\u001b[0m \u001b[1;33m+=\u001b[0m \u001b[0m_text\u001b[0m\u001b[1;33m\n",
       "\u001b[0m            \u001b[1;32melif\u001b[0m \u001b[0moperator\u001b[0m \u001b[1;33m==\u001b[0m \u001b[0mb_\u001b[0m\u001b[1;33m(\u001b[0m\u001b[1;34m\"T*\"\u001b[0m\u001b[1;33m)\u001b[0m\u001b[1;33m:\u001b[0m\u001b[1;33m\n",
       "\u001b[0m                \u001b[0mtext\u001b[0m \u001b[1;33m+=\u001b[0m \u001b[1;34m\"\\n\"\u001b[0m\u001b[1;33m\n",
       "\u001b[0m            \u001b[1;32melif\u001b[0m \u001b[0moperator\u001b[0m \u001b[1;33m==\u001b[0m \u001b[0mb_\u001b[0m\u001b[1;33m(\u001b[0m\u001b[1;34m\"'\"\u001b[0m\u001b[1;33m)\u001b[0m\u001b[1;33m:\u001b[0m\u001b[1;33m\n",
       "\u001b[0m                \u001b[0mtext\u001b[0m \u001b[1;33m+=\u001b[0m \u001b[1;34m\"\\n\"\u001b[0m\u001b[1;33m\n",
       "\u001b[0m                \u001b[0m_text\u001b[0m \u001b[1;33m=\u001b[0m \u001b[0moperands\u001b[0m\u001b[1;33m[\u001b[0m\u001b[1;36m0\u001b[0m\u001b[1;33m]\u001b[0m\u001b[1;33m\n",
       "\u001b[0m                \u001b[1;32mif\u001b[0m \u001b[0misinstance\u001b[0m\u001b[1;33m(\u001b[0m\u001b[0m_text\u001b[0m\u001b[1;33m,\u001b[0m \u001b[0mTextStringObject\u001b[0m\u001b[1;33m)\u001b[0m\u001b[1;33m:\u001b[0m\u001b[1;33m\n",
       "\u001b[0m                    \u001b[0mtext\u001b[0m \u001b[1;33m+=\u001b[0m \u001b[0moperands\u001b[0m\u001b[1;33m[\u001b[0m\u001b[1;36m0\u001b[0m\u001b[1;33m]\u001b[0m\u001b[1;33m\n",
       "\u001b[0m            \u001b[1;32melif\u001b[0m \u001b[0moperator\u001b[0m \u001b[1;33m==\u001b[0m \u001b[0mb_\u001b[0m\u001b[1;33m(\u001b[0m\u001b[1;34m'\"'\u001b[0m\u001b[1;33m)\u001b[0m\u001b[1;33m:\u001b[0m\u001b[1;33m\n",
       "\u001b[0m                \u001b[0m_text\u001b[0m \u001b[1;33m=\u001b[0m \u001b[0moperands\u001b[0m\u001b[1;33m[\u001b[0m\u001b[1;36m2\u001b[0m\u001b[1;33m]\u001b[0m\u001b[1;33m\n",
       "\u001b[0m                \u001b[1;32mif\u001b[0m \u001b[0misinstance\u001b[0m\u001b[1;33m(\u001b[0m\u001b[0m_text\u001b[0m\u001b[1;33m,\u001b[0m \u001b[0mTextStringObject\u001b[0m\u001b[1;33m)\u001b[0m\u001b[1;33m:\u001b[0m\u001b[1;33m\n",
       "\u001b[0m                    \u001b[0mtext\u001b[0m \u001b[1;33m+=\u001b[0m \u001b[1;34m\"\\n\"\u001b[0m\u001b[1;33m\n",
       "\u001b[0m                    \u001b[0mtext\u001b[0m \u001b[1;33m+=\u001b[0m \u001b[0m_text\u001b[0m\u001b[1;33m\n",
       "\u001b[0m            \u001b[1;32melif\u001b[0m \u001b[0moperator\u001b[0m \u001b[1;33m==\u001b[0m \u001b[0mb_\u001b[0m\u001b[1;33m(\u001b[0m\u001b[1;34m\"TJ\"\u001b[0m\u001b[1;33m)\u001b[0m\u001b[1;33m:\u001b[0m\u001b[1;33m\n",
       "\u001b[0m                \u001b[1;32mfor\u001b[0m \u001b[0mi\u001b[0m \u001b[1;32min\u001b[0m \u001b[0moperands\u001b[0m\u001b[1;33m[\u001b[0m\u001b[1;36m0\u001b[0m\u001b[1;33m]\u001b[0m\u001b[1;33m:\u001b[0m\u001b[1;33m\n",
       "\u001b[0m                    \u001b[1;32mif\u001b[0m \u001b[0misinstance\u001b[0m\u001b[1;33m(\u001b[0m\u001b[0mi\u001b[0m\u001b[1;33m,\u001b[0m \u001b[0mTextStringObject\u001b[0m\u001b[1;33m)\u001b[0m\u001b[1;33m:\u001b[0m\u001b[1;33m\n",
       "\u001b[0m                        \u001b[0mtext\u001b[0m \u001b[1;33m+=\u001b[0m \u001b[0mi\u001b[0m\u001b[1;33m\n",
       "\u001b[0m                \u001b[0mtext\u001b[0m \u001b[1;33m+=\u001b[0m \u001b[1;34m\"\\n\"\u001b[0m\u001b[1;33m\n",
       "\u001b[0m        \u001b[1;32mreturn\u001b[0m \u001b[0mtext\u001b[0m\u001b[1;33m\u001b[0m\u001b[1;33m\u001b[0m\u001b[0m\n",
       "\u001b[1;31mFile:\u001b[0m      d:\\programdata\\anaconda3\\lib\\site-packages\\pypdf2\\pdf.py\n",
       "\u001b[1;31mType:\u001b[0m      method\n"
      ]
     },
     "metadata": {},
     "output_type": "display_data"
    }
   ],
   "source": [
    "page_1.extractText??"
   ]
  },
  {
   "cell_type": "markdown",
   "metadata": {},
   "source": [
    "由于PyPDF2在提取文字时有问题,我们改为使用pdfplumber库来试试."
   ]
  },
  {
   "cell_type": "code",
   "execution_count": 93,
   "metadata": {},
   "outputs": [
    {
     "name": "stdout",
     "output_type": "stream",
     "text": [
      "Collecting pdfplumber\n",
      "  Downloading pdfplumber-0.5.28.tar.gz (45 kB)\n",
      "Collecting pdfminer.six==20200517\n",
      "  Downloading pdfminer.six-20200517-py3-none-any.whl (5.6 MB)\n",
      "Requirement already satisfied: Pillow>=7.0.0 in d:\\programdata\\anaconda3\\lib\\site-packages (from pdfplumber) (7.2.0)\n",
      "Collecting Wand\n",
      "  Downloading Wand-0.6.6-py2.py3-none-any.whl (138 kB)\n",
      "Requirement already satisfied: sortedcontainers in d:\\programdata\\anaconda3\\lib\\site-packages (from pdfminer.six==20200517->pdfplumber) (2.2.2)\n",
      "Collecting pycryptodome\n",
      "  Downloading pycryptodome-3.10.1-cp35-abi3-win_amd64.whl (1.6 MB)\n",
      "Requirement already satisfied: chardet; python_version > \"3.0\" in d:\\programdata\\anaconda3\\lib\\site-packages (from pdfminer.six==20200517->pdfplumber) (3.0.4)\n",
      "Building wheels for collected packages: pdfplumber\n",
      "  Building wheel for pdfplumber (setup.py): started\n",
      "  Building wheel for pdfplumber (setup.py): finished with status 'done'\n",
      "  Created wheel for pdfplumber: filename=pdfplumber-0.5.28-py3-none-any.whl size=32228 sha256=803875aacde5076085ec3dff6e483b6d9c210c2d38fed12fe89edb5c70fd9a44\n",
      "  Stored in directory: c:\\users\\liby\\appdata\\local\\pip\\cache\\wheels\\36\\61\\6d\\5fdf7f85a9598d42f094b4099be9a3dd9a887b25ca9b5a1bf4\n",
      "Successfully built pdfplumber\n",
      "Installing collected packages: pycryptodome, pdfminer.six, Wand, pdfplumber\n",
      "Successfully installed Wand-0.6.6 pdfminer.six-20200517 pdfplumber-0.5.28 pycryptodome-3.10.1\n"
     ]
    }
   ],
   "source": [
    "!pip install pdfplumber"
   ]
  },
  {
   "cell_type": "code",
   "execution_count": 94,
   "metadata": {},
   "outputs": [],
   "source": [
    "import pdfplumber"
   ]
  },
  {
   "cell_type": "code",
   "execution_count": 95,
   "metadata": {},
   "outputs": [
    {
     "name": "stdout",
     "output_type": "stream",
     "text": [
      " \n",
      " \n",
      " \n",
      " \n",
      "Python 自动化办公 \n",
      "（6 月组队学习） \n"
     ]
    }
   ],
   "source": [
    "with pdfplumber.open(r'D:\\Py\\OfficeAutomation\\Python自动化办公（6月组队学习）.pdf') as pdf:\n",
    "    page = pdf.pages[0]\n",
    "    print(page.extract_text())"
   ]
  },
  {
   "cell_type": "code",
   "execution_count": 100,
   "metadata": {},
   "outputs": [
    {
     "name": "stdout",
     "output_type": "stream",
     "text": [
      "我们也可以调用os.path.dirname()和os.path.basename(),将它们的返回值放在一个元组中，从而得到\n",
      "同样的元组。\n",
      "(os.path.dirname(caFilePath),os.path.basename(caFilePath))  #\n",
      "('D:\\\\Datawhale\\\\python办公自动化', 'python课程画图.pptx')\n",
      "如果我们想返回每个文件夹的字符串的列表。用os.path.split()无法得到，我们可以用split()字\n",
      "符串方法，并根据os.path.sep 中的字符串进行分割。os.path.sep 变量设置为正确的文件夹分割斜\n",
      "杠。\n",
      "caFilePath.split(os.path.sep)   #['D:', 'Datawhale', 'python办公自动化', 'python课\n",
      "程画图.pptx']\n",
      "1.1.3.3 路径有效性检查  \n",
      "如果提供的路径不存在，很多Python函数就会崩溃并报错。os.path模块提供了一些函数，用于检测给\n",
      "定的路径是否存在，以及判定是文件还是文件。\n",
      "os.path.exists(path)：如果path参数所指的文件或文件夹存在，则返回True,否则返回False。\n",
      "os.path.isfile(path)：如果path参数存在，并且是一个文件，则返回True,否则返回False。\n",
      "os.path.isdir(path)：如果path参数存在，并且是一个文件夹，则返回True,否则返回False。\n",
      "os.path.exists('C:\\\\Windows')\n",
      "os.path.exists('C:\\\\else')\n",
      "os.path.isfile('D:\\\\Datawhale\\\\python办公自动化\\\\python课程画图.pptx')\n",
      "os.path.isfile('D:\\\\Datawhale\\\\python办公自动化')\n",
      "os.path.isdir('D:\\\\Datawhale\\\\python办公自动化\\\\python课程画图.pptx')\n",
      "os.path.isdir('D:\\\\Datawhale\\\\python办公自动化')\n",
      "1.1.4 文件及文件夹操作  \n",
      "1.1.4.1 用os.makedirs()创建新文件夹  \n",
      "注：os.makedirs()可以创建所有必要的中间文件夹。\n",
      "import os\n",
      "os.makedirs('D:\\\\Datawhale\\\\practice')  #查看目录，已创建，若文件夹已存在，不会覆盖，会报\n",
      "错\n"
     ]
    }
   ],
   "source": [
    "with pdfplumber.open(r'D:\\Py\\OfficeAutomation\\Python自动化办公（6月组队学习）.pdf') as pdf:\n",
    "    page = pdf.pages[4]\n",
    "    print(page.extract_text())\n",
    "# 第二页中文未显示,第3,4,5页均正常"
   ]
  },
  {
   "cell_type": "markdown",
   "metadata": {},
   "source": [
    "注意到可以逐页提取文字,因此如果要提取整个文档的文字,只需逐页去提取文字再合并到一个字符串里就可以了."
   ]
  },
  {
   "cell_type": "code",
   "execution_count": null,
   "metadata": {},
   "outputs": [],
   "source": []
  },
  {
   "cell_type": "markdown",
   "metadata": {},
   "source": [
    "#### 提取PDF的表格"
   ]
  },
  {
   "cell_type": "code",
   "execution_count": 101,
   "metadata": {},
   "outputs": [],
   "source": [
    "filepath = r'D:\\Py\\OfficeAutomation\\data1\\pdf\\易方达中小盘混合型证券投资基金2020年中期报告.pdf'"
   ]
  },
  {
   "cell_type": "code",
   "execution_count": 106,
   "metadata": {},
   "outputs": [],
   "source": [
    "with pdfplumber.open(filepath) as pdf:\n",
    "    # 获取第18页数据\n",
    "    page = pdf.pages[6]\n",
    "    # 如果一页有一个表格，设置表格的第一行为表头，其余为数据\n",
    "    table_info = page.extract_table()\n",
    "    #df_table = pd.DataFrame(table_info[1:], columns=table_info[0])\n",
    "    #df_table.to_csv('dmeo.csv', index=False, encoding='gbk')"
   ]
  },
  {
   "cell_type": "markdown",
   "metadata": {},
   "source": [
    "上面代码可以获取到第 7 页的表格内容.我们试着打印一下获取到的表格:"
   ]
  },
  {
   "cell_type": "code",
   "execution_count": 107,
   "metadata": {},
   "outputs": [
    {
     "name": "stdout",
     "output_type": "stream",
     "text": [
      "[['阶段', '份额净值增\\n长率①', '份额净值增\\n长率标准差\\n②', '业绩比较基\\n准收益率③', '业绩比较基\\n准收益率标\\n准差④', '①－③', '②－④'], ['过去一个月', '10.21%', '1.24%', '7.12%', '0.67%', '3.09%', '0.57%'], ['过去三个月', '28.19%', '1.21%', '11.55%', '0.82%', '16.64%', '0.39%'], ['过去六个月', '22.17%', '1.67%', '7.15%', '1.33%', '15.02%', '0.34%'], ['过去一年', '34.15%', '1.40%', '13.29%', '1.08%', '20.86%', '0.32%'], ['过去三年', '99.78%', '1.50%', '-0.02%', '1.08%', '99.80%', '0.42%'], ['自基金合同生\\n效起至今', '661.08%', '1.44%', '57.23%', '1.37%', '603.85%', '0.07%']]\n"
     ]
    }
   ],
   "source": [
    "print(table_info)"
   ]
  },
  {
   "cell_type": "markdown",
   "metadata": {},
   "source": [
    "如果希望继续使用Python对这个表格进行一些处理,那可以使用pandas从这个嵌套list构造一个DataFrame对象:"
   ]
  },
  {
   "cell_type": "code",
   "execution_count": 108,
   "metadata": {},
   "outputs": [
    {
     "data": {
      "text/html": [
       "<div>\n",
       "<style scoped>\n",
       "    .dataframe tbody tr th:only-of-type {\n",
       "        vertical-align: middle;\n",
       "    }\n",
       "\n",
       "    .dataframe tbody tr th {\n",
       "        vertical-align: top;\n",
       "    }\n",
       "\n",
       "    .dataframe thead th {\n",
       "        text-align: right;\n",
       "    }\n",
       "</style>\n",
       "<table border=\"1\" class=\"dataframe\">\n",
       "  <thead>\n",
       "    <tr style=\"text-align: right;\">\n",
       "      <th></th>\n",
       "      <th>阶段</th>\n",
       "      <th>份额净值增\\n长率①</th>\n",
       "      <th>份额净值增\\n长率标准差\\n②</th>\n",
       "      <th>业绩比较基\\n准收益率③</th>\n",
       "      <th>业绩比较基\\n准收益率标\\n准差④</th>\n",
       "      <th>①－③</th>\n",
       "      <th>②－④</th>\n",
       "    </tr>\n",
       "  </thead>\n",
       "  <tbody>\n",
       "    <tr>\n",
       "      <th>0</th>\n",
       "      <td>过去一个月</td>\n",
       "      <td>10.21%</td>\n",
       "      <td>1.24%</td>\n",
       "      <td>7.12%</td>\n",
       "      <td>0.67%</td>\n",
       "      <td>3.09%</td>\n",
       "      <td>0.57%</td>\n",
       "    </tr>\n",
       "    <tr>\n",
       "      <th>1</th>\n",
       "      <td>过去三个月</td>\n",
       "      <td>28.19%</td>\n",
       "      <td>1.21%</td>\n",
       "      <td>11.55%</td>\n",
       "      <td>0.82%</td>\n",
       "      <td>16.64%</td>\n",
       "      <td>0.39%</td>\n",
       "    </tr>\n",
       "    <tr>\n",
       "      <th>2</th>\n",
       "      <td>过去六个月</td>\n",
       "      <td>22.17%</td>\n",
       "      <td>1.67%</td>\n",
       "      <td>7.15%</td>\n",
       "      <td>1.33%</td>\n",
       "      <td>15.02%</td>\n",
       "      <td>0.34%</td>\n",
       "    </tr>\n",
       "    <tr>\n",
       "      <th>3</th>\n",
       "      <td>过去一年</td>\n",
       "      <td>34.15%</td>\n",
       "      <td>1.40%</td>\n",
       "      <td>13.29%</td>\n",
       "      <td>1.08%</td>\n",
       "      <td>20.86%</td>\n",
       "      <td>0.32%</td>\n",
       "    </tr>\n",
       "    <tr>\n",
       "      <th>4</th>\n",
       "      <td>过去三年</td>\n",
       "      <td>99.78%</td>\n",
       "      <td>1.50%</td>\n",
       "      <td>-0.02%</td>\n",
       "      <td>1.08%</td>\n",
       "      <td>99.80%</td>\n",
       "      <td>0.42%</td>\n",
       "    </tr>\n",
       "    <tr>\n",
       "      <th>5</th>\n",
       "      <td>自基金合同生\\n效起至今</td>\n",
       "      <td>661.08%</td>\n",
       "      <td>1.44%</td>\n",
       "      <td>57.23%</td>\n",
       "      <td>1.37%</td>\n",
       "      <td>603.85%</td>\n",
       "      <td>0.07%</td>\n",
       "    </tr>\n",
       "  </tbody>\n",
       "</table>\n",
       "</div>"
      ],
      "text/plain": [
       "             阶段 份额净值增\\n长率① 份额净值增\\n长率标准差\\n② 业绩比较基\\n准收益率③ 业绩比较基\\n准收益率标\\n准差④  \\\n",
       "0         过去一个月     10.21%           1.24%        7.12%             0.67%   \n",
       "1         过去三个月     28.19%           1.21%       11.55%             0.82%   \n",
       "2         过去六个月     22.17%           1.67%        7.15%             1.33%   \n",
       "3          过去一年     34.15%           1.40%       13.29%             1.08%   \n",
       "4          过去三年     99.78%           1.50%       -0.02%             1.08%   \n",
       "5  自基金合同生\\n效起至今    661.08%           1.44%       57.23%             1.37%   \n",
       "\n",
       "       ①－③    ②－④  \n",
       "0    3.09%  0.57%  \n",
       "1   16.64%  0.39%  \n",
       "2   15.02%  0.34%  \n",
       "3   20.86%  0.32%  \n",
       "4   99.80%  0.42%  \n",
       "5  603.85%  0.07%  "
      ]
     },
     "execution_count": 108,
     "metadata": {},
     "output_type": "execute_result"
    }
   ],
   "source": [
    "import pandas as pd\n",
    "df_table = pd.DataFrame(table_info[1:], columns=table_info[0])\n",
    "df_table"
   ]
  },
  {
   "cell_type": "code",
   "execution_count": null,
   "metadata": {},
   "outputs": [],
   "source": [
    "正如在task02学过的那样,DataFrame类型的数据对象,可以使用to_csv和to_excel保存为csv或excel文件."
   ]
  },
  {
   "cell_type": "code",
   "execution_count": 113,
   "metadata": {},
   "outputs": [],
   "source": [
    "#df_table.to_csv('dmeo.csv', index=False, encoding='gbk')# 保存为csv文件\n",
    "df_table.to_excel('dmeo.xlsx', index=False, engine='openpyxl')# 保存为excel文件"
   ]
  },
  {
   "cell_type": "markdown",
   "metadata": {},
   "source": [
    "但是，如果说第 18 页有多个表格内容呢?    \n",
    "如果只有一个表格,则读取到的表格会被存成二维数组.如果有表格,那么每个表格还是会被保存为二维数组,然后这些二维数组又组成了一个三维数组.    \n",
    "因此,我们只要遍历这个三维数组,就可以得到该页的每一个表格数据.有多个表格时,需要将 extract_table 函数 改成 extract_tables :    \n",
    "具体代码如下："
   ]
  },
  {
   "cell_type": "code",
   "execution_count": null,
   "metadata": {},
   "outputs": [],
   "source": [
    "# 如果一页有多个表格，对应的数据是一个三维数组\n",
    "tables_info = page.extract_tables()\n",
    "for index in range(len(tables_info)):\n",
    "    # 设置表格的第一行为表头，其余为数据\n",
    "    df_table = pd.DataFrame(tables_info[index][1:], columns=tables_info[index][0])\n",
    "    print(df_table)\n",
    "    # df_table.to_csv('dmeo.csv', index=False, encoding='gbk')\n"
   ]
  },
  {
   "cell_type": "code",
   "execution_count": null,
   "metadata": {},
   "outputs": [],
   "source": [
    "以“易方达中小盘混合型证券投资基金2020年中期报告” 第 xx 页的第一个表格为例：\n"
   ]
  },
  {
   "cell_type": "code",
   "execution_count": null,
   "metadata": {},
   "outputs": [],
   "source": []
  },
  {
   "cell_type": "markdown",
   "metadata": {},
   "source": [
    "#### 提取PDF的图片\n",
    "提取图片：顾名思义，就是将内容中的图片都提取出来；转存为图片：则是将每一页的 PDF 内容存成一页一页的图片，下一小节会详细说明\n",
    "\n",
    "转存为图片中，需要用到一个模块叫 fitz，fitz 的最新版 1.18.13，非最新版的在部分函数名称上存在差异，代码中会标记出来\n",
    "\n",
    "使用 fitz 需要先安装 PyMuPDF 模块，安装方式如下：\n",
    "\n",
    "pip install PyMuPDF\n",
    "\n",
    "提取图片的整体逻辑如下：\n",
    "\n",
    "* 使用 fitz 打开文档，获取文档详细数据\n",
    "* 遍历每一个元素，通过正则找到图片的索引位置\n",
    "* 使用 Pixmap 将索引对应的元素生成图片\n",
    "* 通过 size 函数过滤较小的图片"
   ]
  },
  {
   "cell_type": "code",
   "execution_count": null,
   "metadata": {},
   "outputs": [],
   "source": []
  },
  {
   "cell_type": "markdown",
   "metadata": {},
   "source": [
    "#### 提取PDF页面大小"
   ]
  },
  {
   "cell_type": "code",
   "execution_count": null,
   "metadata": {},
   "outputs": [],
   "source": []
  },
  {
   "cell_type": "markdown",
   "metadata": {},
   "source": [
    "#### 提取PDF的元数据\n",
    "PDF的元数据是指PDF文件的描述信息,包括"
   ]
  },
  {
   "cell_type": "code",
   "execution_count": null,
   "metadata": {},
   "outputs": [],
   "source": []
  },
  {
   "cell_type": "markdown",
   "metadata": {},
   "source": [
    "#### 提取PDF的目录\n",
    "有些PDF文件提供了目录,特别是一些从带目录的word文件转化而来的PDF.使用pdfminer和pumpdf等库都可以获取带有目录结构的PDF文件的目录.  \n",
    "\n",
    "参考资料:     \n",
    "[1] PyMuPDF的官方文档 https://pymupdf.readthedocs.io/en/latest/ "
   ]
  },
  {
   "cell_type": "code",
   "execution_count": 6,
   "metadata": {},
   "outputs": [
    {
     "name": "stdout",
     "output_type": "stream",
     "text": [
      "Collecting PyMuPDF\n",
      "  Downloading PyMuPDF-1.18.14-cp38-cp38-win_amd64.whl (5.4 MB)\n",
      "Installing collected packages: PyMuPDF\n",
      "Successfully installed PyMuPDF-1.18.14\n"
     ]
    }
   ],
   "source": [
    "!pip install PyMuPDF"
   ]
  },
  {
   "cell_type": "code",
   "execution_count": 7,
   "metadata": {},
   "outputs": [
    {
     "name": "stdout",
     "output_type": "stream",
     "text": [
      "\n",
      "PyMuPDF 1.18.14: Python bindings for the MuPDF 1.18.0 library.\n",
      "Version date: 2021-06-01 08:11:38.\n",
      "Built for Python 3.8 on win32 (64-bit).\n",
      "\n"
     ]
    }
   ],
   "source": [
    "# 导入PyMuPDF库-注意导入时的库名称和安装时的不一样\n",
    "import fitz\n",
    "# 查看该库的相关信息\n",
    "print(fitz.__doc__)"
   ]
  },
  {
   "cell_type": "code",
   "execution_count": 41,
   "metadata": {},
   "outputs": [
    {
     "data": {
      "text/plain": [
       "fitz.Document('D:/Python/XWLW20200303/rawdata/2015年6月-83-81/2012225010240_75540\\251010_S114527刘华-2.pdf')"
      ]
     },
     "execution_count": 41,
     "metadata": {},
     "output_type": "execute_result"
    }
   ],
   "source": [
    "# 打开PDF文件\n",
    "filename = 'D:/Python/XWLW20200303/rawdata/2015年6月-83-81/2012225010240_75540\\\\251010_S114527刘华-2.pdf'\n",
    "doc = fitz.open(filename)     # or fitz.Document(filename)\n",
    "doc"
   ]
  },
  {
   "cell_type": "code",
   "execution_count": null,
   "metadata": {},
   "outputs": [],
   "source": []
  },
  {
   "cell_type": "markdown",
   "metadata": {},
   "source": []
  },
  {
   "cell_type": "code",
   "execution_count": 42,
   "metadata": {},
   "outputs": [],
   "source": [
    "## 使用pymupdf获取目录\n",
    "toc = doc.getToC()"
   ]
  },
  {
   "cell_type": "code",
   "execution_count": 43,
   "metadata": {
    "collapsed": true,
    "jupyter": {
     "outputs_hidden": true
    }
   },
   "outputs": [
    {
     "data": {
      "text/plain": [
       "[[1, '1.绪论', 9],\n",
       " [2, '1.1 选题的背景和意义', 9],\n",
       " [3, '1.1.1 建立和完善国库集中收付制度的必要性', 9],\n",
       " [3, '1.1.2 本文的理论价值与现实意义', 11],\n",
       " [2, '1.2 国内外研究现状', 11],\n",
       " [2, '1.3 研究思路与结构安排', 13],\n",
       " [2, '1.4 创新及不足', 14],\n",
       " [1, '2.国库集中收付制度的基本概念与理论基础', 15],\n",
       " [2, '2.1 基本概念的界定', 15],\n",
       " [3, '2.1.1 国库', 15],\n",
       " [3, '2.1.2 国库集中收付制度', 15],\n",
       " [3, '2.1.3 国库单一账户体系', 15],\n",
       " [2, '2.2 相关理论', 15],\n",
       " [3, '2.2.1 公共财政理论', 15],\n",
       " [3, '2.2.2 委托代理理论', 17],\n",
       " [3, '2.2.3 公共选择理论', 18],\n",
       " [1, '3.四川省国库集中收付改革的基本状况', 20],\n",
       " [2, '3.1 改革的背景', 20],\n",
       " [3, '3.1.1 改革前的收支管理模式及弊端', 20],\n",
       " [3, '3.1.2 四川实行实行国库集中收付制度改革的有利条件', 22],\n",
       " [2, '3.2 四川国库集中收付改革的现状', 22],\n",
       " [3, '3.2.1 四川省国库集中收付改革的基本路径和原则', 22],\n",
       " [3, '3.2.2 改革坚持的原则', 23],\n",
       " [3, '3.2.3 改革的具体内容', 24],\n",
       " [3, '3.2.4 改革取得的成效', 25],\n",
       " [1, '4.四川省国库集中收付制度改革中的问题及分析', 28],\n",
       " [2, '4.1 改革中存在的普遍问题', 28],\n",
       " [3, '4.1.1 国库集中收付制度相关法律法规不完善', 28],\n",
       " [3, '4.1.2 各地市州改革步调不一', 28],\n",
       " [3, '4.1.3 与相关配套改革未有机衔接', 28],\n",
       " [3, '4.1.4 既得利益受损和预算意识不强阻碍改革', 29],\n",
       " [3, '4.1.5 预算执行监督体系还有待完善', 30],\n",
       " [2, '4.2 改革中存在的具体业务问题', 30],\n",
       " [3, '4.2.1 财政收入征收方面的问题', 30],\n",
       " [3, '4.2.2 支出管理改革存在的问题', 31],\n",
       " [3, '4.2.3 业务流程方面的问题', 32],\n",
       " [2, '4.3 国库现金管理工作有待完善', 32],\n",
       " [1, '5.完善四川省国库集中收付制度改革的对策建议', 34],\n",
       " [2, '5.1 明确深化改革的基本思路和基本原则', 34],\n",
       " [3, '5.1.1 深化改革的目标', 34],\n",
       " [3, '5.1.2 深化改革的基本思路', 34],\n",
       " [3, '5.1.3 深化国库集中收付制度改革应坚持的几项原则', 35],\n",
       " [2, '5.2 进一步健全国库管理相关法规制度', 36],\n",
       " [2, '5.3 加快财政国库信息化建设', 37],\n",
       " [3, '5.3.1 完善已有的财政业务应用系统', 38],\n",
       " [3, '5.3.2 加强网络基础设施建设', 38],\n",
       " [3, '5.3.3 做好数据开发和处理工作，服务财政科学决策', 38],\n",
       " [3, '5.3.4 加强财政资金安全监管，保证信息安全', 38],\n",
       " [2, '5.4 加强财政工作的科学化精细化管理', 39],\n",
       " [3, '5.4.1 建立完整的政府预算体系', 39],\n",
       " [3, '5.4.2 加强预算编制管理', 40],\n",
       " [3, '5.4.3 加强支出预算执行管理', 40],\n",
       " [3, '5.4.4 深化收入收缴制度改革', 41],\n",
       " [3, '5.4.5 深入推进乡镇国库集中支付改革', 42],\n",
       " [2, '5.5 改革财政预算会计制度', 46],\n",
       " [2, '5.6 创新国库现金管理方式，积极开展国库现金管理', 47],\n",
       " [3, '5.6.1 国库现金管理的原则', 47],\n",
       " [3, '5.6.2 国库现金管理的运作方式', 47],\n",
       " [3, '5.6.3 国库现金管理的操作要求', 48],\n",
       " [2, '5.7 完善国库集中收付系统监督制约机制', 48],\n",
       " [3, '5.7.1 财政内部监督', 49],\n",
       " [3, '5.7.2 人大监督', 49],\n",
       " [3, '5.7.3 审计监督', 49],\n",
       " [3, '5.7.4 社会监督', 50],\n",
       " [1, '6.结论', 51],\n",
       " [1, '参考文献', 52],\n",
       " [1, '声  明', 53],\n",
       " [1, '致  谢', 54]]"
      ]
     },
     "execution_count": 43,
     "metadata": {},
     "output_type": "execute_result"
    }
   ],
   "source": [
    "toc\n",
    "# 得到的目录是由列表构成的列表,格式为 [[lvl, title, page, …], …] "
   ]
  },
  {
   "cell_type": "code",
   "execution_count": null,
   "metadata": {},
   "outputs": [],
   "source": []
  },
  {
   "cell_type": "code",
   "execution_count": null,
   "metadata": {},
   "outputs": [],
   "source": []
  },
  {
   "cell_type": "code",
   "execution_count": null,
   "metadata": {},
   "outputs": [],
   "source": []
  },
  {
   "cell_type": "markdown",
   "metadata": {},
   "source": [
    "# 操作PDF\n",
    "操作PDF这一节我们聚焦于使用Python工具来对PDF文件进行各种修改操作.   \n",
    "正如我们在开篇时提到的,对于非自由文本格式的PDF文件,通常而言,一个PDF文件是无法直接进行编辑修改的.但既然通过上一节的学习,我们已经可以将PDF文件的各个组成要素提取出来,那么我们自然可以更进一步,将这些要素中的一部分进行修改替换并保存,进而达到\"修改\"PDF的目的."
   ]
  },
  {
   "cell_type": "code",
   "execution_count": null,
   "metadata": {},
   "outputs": [],
   "source": []
  },
  {
   "cell_type": "markdown",
   "metadata": {},
   "source": [
    "#### 为PDF添加水印"
   ]
  },
  {
   "cell_type": "code",
   "execution_count": null,
   "metadata": {},
   "outputs": [],
   "source": []
  },
  {
   "cell_type": "markdown",
   "metadata": {},
   "source": [
    "#### 去除PDF的水印*\n",
    "添加水印是为了在一定程度上保护知识产权不被盗用,但在使用中可能会带来一些不便.    \n",
    "如果你有一批被加了水印的PDF,想要去除其中的水印,也是可以使用PyPDF2等Python库来去除水印的.当然,实现难度视水印类型而不同."
   ]
  },
  {
   "cell_type": "code",
   "execution_count": null,
   "metadata": {},
   "outputs": [],
   "source": [
    "# 参考 https://www.pythonheidong.com/blog/article/174503/3bc131772ea89be8776b/\n"
   ]
  },
  {
   "cell_type": "markdown",
   "metadata": {},
   "source": [
    "#### 加密与解密"
   ]
  },
  {
   "cell_type": "code",
   "execution_count": null,
   "metadata": {},
   "outputs": [],
   "source": []
  },
  {
   "cell_type": "markdown",
   "metadata": {},
   "source": [
    "# PDF相关的格式转换"
   ]
  },
  {
   "cell_type": "markdown",
   "metadata": {},
   "source": [
    "## 其他格式转为PDF"
   ]
  },
  {
   "cell_type": "markdown",
   "metadata": {},
   "source": [
    "#### 转换(合并)图片为PDF\n",
    "\n"
   ]
  },
  {
   "cell_type": "code",
   "execution_count": null,
   "metadata": {},
   "outputs": [],
   "source": []
  },
  {
   "cell_type": "code",
   "execution_count": null,
   "metadata": {},
   "outputs": [],
   "source": [
    "#使用pdf2image,reportlab先将pdf拆分成单页并转成图片,然后把单页图片再合并为pdf.\n",
    "# 为convert_from_path增加参数\n",
    "# PDF转图片,再将图片转为PDF--并合并pdf\n",
    "from reportlab.lib.pagesizes import A4,A3,A2,A1, legal, landscape\n",
    "from reportlab.lib.units import cm\n",
    "from reportlab.pdfgen import canvas\n",
    "from pdf2image import convert_from_path\n",
    "import tempfile\n",
    "\n",
    "def cfp_pdf2png2pdf(filename, outputDir=None,pdf_file_out_path=None): #\n",
    "    #print('filename=', filename)\n",
    "    #print('outputDir=', outputDir)\n",
    "    if outputDir == None:\n",
    "        outputDir= r\"C:\\Users\\Administrator\\Python\\XWLW-56\\rawdata\\temp57\"\n",
    "    if pdf_file_out_path == None:\n",
    "        pdf_file_out_path = r\"C:\\Users\\Administrator\\Python\\XWLW-56\\rawdata\\test57\"\n",
    "    pdf_file_out = pdf_file_out_path + \"\\\\0507_\"+ os.path.basename(filename)\n",
    "    #r\"C:\\Users\\Administrator\\Python\\XWLW-56\\rawdata\\test57\\add_watermark_0_251010_2012225010245谭驰-57.pdf\"\n",
    "    document_width,document_height = A4\n",
    "    print_width  = document_width\n",
    "    print_height = document_height\n",
    "    pdf_writer = PdfFileWriter()\n",
    "    with tempfile.TemporaryDirectory() as path:\n",
    "        images = convert_from_path(filename,dpi=300,fmt=\"ppm\", thread_count = 4, grayscale = True, transparent = True)#增加参数 \n",
    "        # 使用 pdf2image 的convert_from_path将pdf转为图片\n",
    "        for index,img in enumerate(images):\n",
    "            img.save('%s/page_%s.jpg' % (outputDir, index))#将每个图片保存和重命名\n",
    "            c = canvas.Canvas('%s/page_%s.pdf' % (outputDir, index), pagesize=(21*cm, 29.7*cm)) #为每个图片创建一个单页的pdf文件\n",
    "            c.drawImage('%s/page_%s.jpg' % (outputDir, index),x=0,y=0,width=document_width,height=document_height) #在pdf文件c中添加保存的图片\n",
    "            c.setFillAlpha(0.6)\n",
    "            c.save() # 关闭并保存单页的pdf文件\n",
    "            #pdf_output = PdfFileWriter()\n",
    "            input_stream = open('%s/page_%s.pdf' % (outputDir, index), 'rb') \n",
    "            pdf_input = PdfFileReader(input_stream, strict=False)#读入保存的单页pdf文件\n",
    "            pageNum = pdf_input.getNumPages() #实际这里的 pagenum 只有一页\n",
    "            for i in range(pageNum): \n",
    "                page = pdf_input.getPage(i)\n",
    "                page.compressContentStreams()  # 压缩内容\n",
    "                pdf_writer.addPage(page)\n",
    "        pdf_writer.write(open(pdf_file_out, 'wb'),)\n",
    "        # close(pdf_file_out)\n",
    "    #return pdf_writer"
   ]
  },
  {
   "cell_type": "code",
   "execution_count": null,
   "metadata": {},
   "outputs": [],
   "source": []
  },
  {
   "cell_type": "code",
   "execution_count": null,
   "metadata": {},
   "outputs": [],
   "source": []
  },
  {
   "cell_type": "markdown",
   "metadata": {},
   "source": [
    "#### 转换文本文件为PDF\n",
    "使用multiBuild生成文字内容的pdf \n",
    "参考: https://www.cnblogs.com/hujq1029/p/7767980.html"
   ]
  },
  {
   "cell_type": "code",
   "execution_count": 122,
   "metadata": {},
   "outputs": [],
   "source": [
    "# 首先用以下程序输出可用字体名称\n",
    "# font_demo.py\n",
    "\n",
    "from reportlab.lib.pagesizes import letter\n",
    "from reportlab.pdfgen import canvas\n",
    "\n",
    "def font_demo(my_canvas, fonts):\n",
    "    pos_y = 750\n",
    "    for font in fonts:\n",
    "        my_canvas.setFont(font, 12)\n",
    "        my_canvas.drawString(30, pos_y, font)\n",
    "        pos_y -= 10\n",
    "\n",
    "if __name__ == '__main__':\n",
    "    my_canvas = canvas.Canvas(\"font_demo.pdf\", pagesize=letter)\n",
    "    fonts = my_canvas.getAvailableFonts()\n",
    "    font_demo(my_canvas, fonts)\n",
    "    my_canvas.save()\n",
    "# 输出文件的中文无法正常显示,这是什么原因?"
   ]
  },
  {
   "cell_type": "code",
   "execution_count": null,
   "metadata": {},
   "outputs": [],
   "source": []
  },
  {
   "cell_type": "code",
   "execution_count": 123,
   "metadata": {},
   "outputs": [
    {
     "data": {
      "text/plain": [
       "1"
      ]
     },
     "execution_count": 123,
     "metadata": {},
     "output_type": "execute_result"
    }
   ],
   "source": [
    "# 接下来根据参考生成文字内容的PDF--中文字体支持有问题\n",
    "from reportlab.lib.styles import getSampleStyleSheet\n",
    "from reportlab.platypus import Paragraph,SimpleDocTemplate\n",
    "from reportlab.lib import  colors\n",
    "from reportlab.pdfbase.pdfmetrics import registerFont, stringWidth\n",
    "from reportlab.pdfbase.ttfonts import TTFont\n",
    "\n",
    "\n",
    "Style=getSampleStyleSheet()\n",
    "\n",
    "bt = Style['Normal']     #字体的样式\n",
    "#pdfmetrics.registerFont(TTFont(\"SimSun\", \"SimSun.ttf\"))# 注册字体\n",
    "registerFont(TTFont(\"SimSun\", \"SimSun.ttf\"))# 注册字体\n",
    "bt.fontName='SimSun'    #使用的字体\n",
    "bt.fontSize=14          #字号\n",
    "bt.wordWrap = 'CJK' # wordWrap是自动换行属性的参数. 'CJK'是按照中文方式换行（可以在字符之间换行），用于英文中会截断单词造成阅读困难，英文方式为'Normal'（在空格出换行）\n",
    "bt.firstLineIndent = 24  #该属性支持第一行开头空格(24大约是两个字的宽度)\n",
    "bt.leading = 20             #该属性是设置行距\n",
    "bt.textColor = colors.blue # 颜色\n",
    "\n",
    "t = Paragraph('每个人都可以成为自己心目中想成为的那个人，但是我们基因中的原始本能会阻止我们迈出那一步，阻碍我们的力量源于生命的潜意识，比如懒惰以减少不必要的消耗，逃避以远离危险。本能是非常强大的，我们很难用意志去抵抗他，即使抵抗的了一时，但常常难以为继。单靠意志很难抵抗本能，得靠本能抵抗本能。在此，我设计了一种可执行的制度，可以将本能之间的对抗合理的开展开来。懒惰是一种强大的本能，所以活动参与者需要对自己有清楚的认知，防止造成不必要的损失。此活动源于组队学习押金制度的强化，但是其适用的场景更加丰富。'\n",
    "              ,bt) # 第一个参数是要制作成pdf的文本段落,第二个参数是前边定义的字体的样式. \n",
    "t_2 = Paragraph('二、参与者需提交一份如果未能完成计划所需要接受的惩罚，惩罚必须是合法的，而且无法反悔的，因此该惩罚执行的权利以及执行的条件应当在参与者参与活动之初，就已经完全的转交到执行者身上，执行者应当无法从惩罚的执行中受益。比如组队学习的押金将在学习未能完成的时候，执行者将不予返还。'\n",
    "                ,bt)\n",
    "\n",
    "ct=Style['Normal']\n",
    "#pdfmetrics.registerFont(TTFont(\"SimHei\", \"SimHei.ttf\"))# 注册字体\n",
    "#ct.fontName='SimHei'    #使用的字体\n",
    "ct.fontSize=12\n",
    "ct.alignment=1             #1=居中,0=左对齐,2=右对齐\n",
    "\n",
    "ct.textColor = colors.red # 颜色\n",
    "\n",
    "\n",
    "t_1 = Paragraph('一、参与者需要提交一份计划书；该计划书可以是日常计划，也可以是某个目标计划，但是计划书必须是切实可行的（切实可行是参与者自己判定，别人可以质疑，但不会替参与者决定），同时计划书应当考虑一切个人的突发因素，并进行排除或者约定。计划书的完成是有着明确的可以完全彻底量化的指标，任何人都可以依据该指标去毫无疑义地判定计划是否完成。'\n",
    "                ,ct) # 多个段落可通过创建多个Paragraph来实现.不同段落可使用不同的字体样式.--测试发现需要在定义完字体样式后定义段落\n",
    "\n",
    "\n",
    "pdf=SimpleDocTemplate('ppff.pdf')\n",
    "pdf.multiBuild([t, t_1, t_2])"
   ]
  },
  {
   "cell_type": "code",
   "execution_count": null,
   "metadata": {},
   "outputs": [],
   "source": []
  },
  {
   "cell_type": "markdown",
   "metadata": {},
   "source": [
    "#### 转换markdown为PDF*\n",
    "wkhtmltopdf和md2pdf库可以将markdown格式的文件转换为PDF.   \n",
    "参考:   \n",
    "[1]https://www.cnblogs.com/Wshile/p/13194019.html"
   ]
  },
  {
   "cell_type": "markdown",
   "metadata": {},
   "source": [
    "#### 转换word文件为PDF*\n",
    "在windows操作系统下,如果安装了恰当的office版本,则可以使用office提供的工具将word文件批量转换为PDF."
   ]
  },
  {
   "cell_type": "code",
   "execution_count": null,
   "metadata": {},
   "outputs": [],
   "source": []
  },
  {
   "cell_type": "markdown",
   "metadata": {},
   "source": [
    "## PDF转为其他格式"
   ]
  },
  {
   "cell_type": "markdown",
   "metadata": {},
   "source": [
    "#### 使用 pdf2image 将单页PDF转为图片\n",
    "将PDF转为图片有很多实现方法,例如pdf2image库,pymupdf库,等等,每种实现方式各有其优点,我们逐一来介绍一下相关方法.   \n",
    "首先从最简单的单页PDF转图片开始. pdf2image库的convert_from_path方法能够将参数指定路径的pdf转为图片格式,默认保存为ppm格式,可以通过fmt参数指定为jpg或png."
   ]
  },
  {
   "cell_type": "code",
   "execution_count": 2,
   "metadata": {},
   "outputs": [
    {
     "name": "stdout",
     "output_type": "stream",
     "text": [
      "Collecting pdf2image\n",
      "  Downloading pdf2image-1.15.1-py3-none-any.whl (10 kB)\n",
      "Requirement already satisfied: pillow in d:\\programdata\\anaconda3\\lib\\site-packages (from pdf2image) (7.2.0)\n",
      "Installing collected packages: pdf2image\n",
      "Successfully installed pdf2image-1.15.1\n"
     ]
    }
   ],
   "source": [
    "!pip install pdf2image"
   ]
  },
  {
   "cell_type": "code",
   "execution_count": 3,
   "metadata": {},
   "outputs": [],
   "source": [
    "from pdf2image import convert_from_path#,convert_from_bytes"
   ]
  },
  {
   "cell_type": "code",
   "execution_count": null,
   "metadata": {},
   "outputs": [],
   "source": []
  },
  {
   "cell_type": "code",
   "execution_count": 4,
   "metadata": {
    "collapsed": true,
    "jupyter": {
     "outputs_hidden": true
    }
   },
   "outputs": [
    {
     "data": {
      "text/plain": [
       "\u001b[1;31mSignature:\u001b[0m\n",
       "\u001b[0mconvert_from_path\u001b[0m\u001b[1;33m(\u001b[0m\u001b[1;33m\n",
       "\u001b[0m    \u001b[0mpdf_path\u001b[0m\u001b[1;33m,\u001b[0m\u001b[1;33m\n",
       "\u001b[0m    \u001b[0mdpi\u001b[0m\u001b[1;33m=\u001b[0m\u001b[1;36m200\u001b[0m\u001b[1;33m,\u001b[0m\u001b[1;33m\n",
       "\u001b[0m    \u001b[0moutput_folder\u001b[0m\u001b[1;33m=\u001b[0m\u001b[1;32mNone\u001b[0m\u001b[1;33m,\u001b[0m\u001b[1;33m\n",
       "\u001b[0m    \u001b[0mfirst_page\u001b[0m\u001b[1;33m=\u001b[0m\u001b[1;32mNone\u001b[0m\u001b[1;33m,\u001b[0m\u001b[1;33m\n",
       "\u001b[0m    \u001b[0mlast_page\u001b[0m\u001b[1;33m=\u001b[0m\u001b[1;32mNone\u001b[0m\u001b[1;33m,\u001b[0m\u001b[1;33m\n",
       "\u001b[0m    \u001b[0mfmt\u001b[0m\u001b[1;33m=\u001b[0m\u001b[1;34m'ppm'\u001b[0m\u001b[1;33m,\u001b[0m\u001b[1;33m\n",
       "\u001b[0m    \u001b[0mjpegopt\u001b[0m\u001b[1;33m=\u001b[0m\u001b[1;32mNone\u001b[0m\u001b[1;33m,\u001b[0m\u001b[1;33m\n",
       "\u001b[0m    \u001b[0mthread_count\u001b[0m\u001b[1;33m=\u001b[0m\u001b[1;36m1\u001b[0m\u001b[1;33m,\u001b[0m\u001b[1;33m\n",
       "\u001b[0m    \u001b[0muserpw\u001b[0m\u001b[1;33m=\u001b[0m\u001b[1;32mNone\u001b[0m\u001b[1;33m,\u001b[0m\u001b[1;33m\n",
       "\u001b[0m    \u001b[0muse_cropbox\u001b[0m\u001b[1;33m=\u001b[0m\u001b[1;32mFalse\u001b[0m\u001b[1;33m,\u001b[0m\u001b[1;33m\n",
       "\u001b[0m    \u001b[0mstrict\u001b[0m\u001b[1;33m=\u001b[0m\u001b[1;32mFalse\u001b[0m\u001b[1;33m,\u001b[0m\u001b[1;33m\n",
       "\u001b[0m    \u001b[0mtransparent\u001b[0m\u001b[1;33m=\u001b[0m\u001b[1;32mFalse\u001b[0m\u001b[1;33m,\u001b[0m\u001b[1;33m\n",
       "\u001b[0m    \u001b[0msingle_file\u001b[0m\u001b[1;33m=\u001b[0m\u001b[1;32mFalse\u001b[0m\u001b[1;33m,\u001b[0m\u001b[1;33m\n",
       "\u001b[0m    \u001b[0moutput_file\u001b[0m\u001b[1;33m=\u001b[0m\u001b[1;33m<\u001b[0m\u001b[0mpdf2image\u001b[0m\u001b[1;33m.\u001b[0m\u001b[0mgenerators\u001b[0m\u001b[1;33m.\u001b[0m\u001b[0mThreadSafeGenerator\u001b[0m \u001b[0mobject\u001b[0m \u001b[0mat\u001b[0m \u001b[1;36m0x00000225B593DA30\u001b[0m\u001b[1;33m>\u001b[0m\u001b[1;33m,\u001b[0m\u001b[1;33m\n",
       "\u001b[0m    \u001b[0mpoppler_path\u001b[0m\u001b[1;33m=\u001b[0m\u001b[1;32mNone\u001b[0m\u001b[1;33m,\u001b[0m\u001b[1;33m\n",
       "\u001b[0m    \u001b[0mgrayscale\u001b[0m\u001b[1;33m=\u001b[0m\u001b[1;32mFalse\u001b[0m\u001b[1;33m,\u001b[0m\u001b[1;33m\n",
       "\u001b[0m    \u001b[0msize\u001b[0m\u001b[1;33m=\u001b[0m\u001b[1;32mNone\u001b[0m\u001b[1;33m,\u001b[0m\u001b[1;33m\n",
       "\u001b[0m    \u001b[0mpaths_only\u001b[0m\u001b[1;33m=\u001b[0m\u001b[1;32mFalse\u001b[0m\u001b[1;33m,\u001b[0m\u001b[1;33m\n",
       "\u001b[0m    \u001b[0muse_pdftocairo\u001b[0m\u001b[1;33m=\u001b[0m\u001b[1;32mFalse\u001b[0m\u001b[1;33m,\u001b[0m\u001b[1;33m\n",
       "\u001b[0m    \u001b[0mtimeout\u001b[0m\u001b[1;33m=\u001b[0m\u001b[1;32mNone\u001b[0m\u001b[1;33m,\u001b[0m\u001b[1;33m\n",
       "\u001b[0m\u001b[1;33m)\u001b[0m\u001b[1;33m\u001b[0m\u001b[1;33m\u001b[0m\u001b[0m\n",
       "\u001b[1;31mSource:\u001b[0m   \n",
       "\u001b[1;32mdef\u001b[0m \u001b[0mconvert_from_path\u001b[0m\u001b[1;33m(\u001b[0m\u001b[1;33m\n",
       "\u001b[0m    \u001b[0mpdf_path\u001b[0m\u001b[1;33m,\u001b[0m\u001b[1;33m\n",
       "\u001b[0m    \u001b[0mdpi\u001b[0m\u001b[1;33m=\u001b[0m\u001b[1;36m200\u001b[0m\u001b[1;33m,\u001b[0m\u001b[1;33m\n",
       "\u001b[0m    \u001b[0moutput_folder\u001b[0m\u001b[1;33m=\u001b[0m\u001b[1;32mNone\u001b[0m\u001b[1;33m,\u001b[0m\u001b[1;33m\n",
       "\u001b[0m    \u001b[0mfirst_page\u001b[0m\u001b[1;33m=\u001b[0m\u001b[1;32mNone\u001b[0m\u001b[1;33m,\u001b[0m\u001b[1;33m\n",
       "\u001b[0m    \u001b[0mlast_page\u001b[0m\u001b[1;33m=\u001b[0m\u001b[1;32mNone\u001b[0m\u001b[1;33m,\u001b[0m\u001b[1;33m\n",
       "\u001b[0m    \u001b[0mfmt\u001b[0m\u001b[1;33m=\u001b[0m\u001b[1;34m\"ppm\"\u001b[0m\u001b[1;33m,\u001b[0m\u001b[1;33m\n",
       "\u001b[0m    \u001b[0mjpegopt\u001b[0m\u001b[1;33m=\u001b[0m\u001b[1;32mNone\u001b[0m\u001b[1;33m,\u001b[0m\u001b[1;33m\n",
       "\u001b[0m    \u001b[0mthread_count\u001b[0m\u001b[1;33m=\u001b[0m\u001b[1;36m1\u001b[0m\u001b[1;33m,\u001b[0m\u001b[1;33m\n",
       "\u001b[0m    \u001b[0muserpw\u001b[0m\u001b[1;33m=\u001b[0m\u001b[1;32mNone\u001b[0m\u001b[1;33m,\u001b[0m\u001b[1;33m\n",
       "\u001b[0m    \u001b[0muse_cropbox\u001b[0m\u001b[1;33m=\u001b[0m\u001b[1;32mFalse\u001b[0m\u001b[1;33m,\u001b[0m\u001b[1;33m\n",
       "\u001b[0m    \u001b[0mstrict\u001b[0m\u001b[1;33m=\u001b[0m\u001b[1;32mFalse\u001b[0m\u001b[1;33m,\u001b[0m\u001b[1;33m\n",
       "\u001b[0m    \u001b[0mtransparent\u001b[0m\u001b[1;33m=\u001b[0m\u001b[1;32mFalse\u001b[0m\u001b[1;33m,\u001b[0m\u001b[1;33m\n",
       "\u001b[0m    \u001b[0msingle_file\u001b[0m\u001b[1;33m=\u001b[0m\u001b[1;32mFalse\u001b[0m\u001b[1;33m,\u001b[0m\u001b[1;33m\n",
       "\u001b[0m    \u001b[0moutput_file\u001b[0m\u001b[1;33m=\u001b[0m\u001b[0muuid_generator\u001b[0m\u001b[1;33m(\u001b[0m\u001b[1;33m)\u001b[0m\u001b[1;33m,\u001b[0m\u001b[1;33m\n",
       "\u001b[0m    \u001b[0mpoppler_path\u001b[0m\u001b[1;33m=\u001b[0m\u001b[1;32mNone\u001b[0m\u001b[1;33m,\u001b[0m\u001b[1;33m\n",
       "\u001b[0m    \u001b[0mgrayscale\u001b[0m\u001b[1;33m=\u001b[0m\u001b[1;32mFalse\u001b[0m\u001b[1;33m,\u001b[0m\u001b[1;33m\n",
       "\u001b[0m    \u001b[0msize\u001b[0m\u001b[1;33m=\u001b[0m\u001b[1;32mNone\u001b[0m\u001b[1;33m,\u001b[0m\u001b[1;33m\n",
       "\u001b[0m    \u001b[0mpaths_only\u001b[0m\u001b[1;33m=\u001b[0m\u001b[1;32mFalse\u001b[0m\u001b[1;33m,\u001b[0m\u001b[1;33m\n",
       "\u001b[0m    \u001b[0muse_pdftocairo\u001b[0m\u001b[1;33m=\u001b[0m\u001b[1;32mFalse\u001b[0m\u001b[1;33m,\u001b[0m\u001b[1;33m\n",
       "\u001b[0m    \u001b[0mtimeout\u001b[0m\u001b[1;33m=\u001b[0m\u001b[1;32mNone\u001b[0m\u001b[1;33m,\u001b[0m\u001b[1;33m\n",
       "\u001b[0m\u001b[1;33m)\u001b[0m\u001b[1;33m:\u001b[0m\u001b[1;33m\n",
       "\u001b[0m    \u001b[1;34m\"\"\"\n",
       "        Description: Convert PDF to Image will throw whenever one of the condition is reached\n",
       "        Parameters:\n",
       "            pdf_path -> Path to the PDF that you want to convert\n",
       "            dpi -> Image quality in DPI (default 200)\n",
       "            output_folder -> Write the resulting images to a folder (instead of directly in memory)\n",
       "            first_page -> First page to process\n",
       "            last_page -> Last page to process before stopping\n",
       "            fmt -> Output image format\n",
       "            jpegopt -> jpeg options `quality`, `progressive`, and `optimize` (only for jpeg format)\n",
       "            thread_count -> How many threads we are allowed to spawn for processing\n",
       "            userpw -> PDF's password\n",
       "            use_cropbox -> Use cropbox instead of mediabox\n",
       "            strict -> When a Syntax Error is thrown, it will be raised as an Exception\n",
       "            transparent -> Output with a transparent background instead of a white one.\n",
       "            single_file -> Uses the -singlefile option from pdftoppm/pdftocairo\n",
       "            output_file -> What is the output filename or generator\n",
       "            poppler_path -> Path to look for poppler binaries\n",
       "            grayscale -> Output grayscale image(s)\n",
       "            size -> Size of the resulting image(s), uses the Pillow (width, height) standard\n",
       "            paths_only -> Don't load image(s), return paths instead (requires output_folder)\n",
       "            use_pdftocairo -> Use pdftocairo instead of pdftoppm, may help performance\n",
       "            timeout -> Raise PDFPopplerTimeoutError after the given time\n",
       "    \"\"\"\u001b[0m\u001b[1;33m\n",
       "\u001b[0m\u001b[1;33m\n",
       "\u001b[0m    \u001b[1;32mif\u001b[0m \u001b[0muse_pdftocairo\u001b[0m \u001b[1;32mand\u001b[0m \u001b[0mfmt\u001b[0m \u001b[1;33m==\u001b[0m \u001b[1;34m\"ppm\"\u001b[0m\u001b[1;33m:\u001b[0m\u001b[1;33m\n",
       "\u001b[0m        \u001b[0mfmt\u001b[0m \u001b[1;33m=\u001b[0m \u001b[1;34m\"png\"\u001b[0m\u001b[1;33m\n",
       "\u001b[0m\u001b[1;33m\n",
       "\u001b[0m    \u001b[1;31m# We make sure that if passed arguments are Path objects, they're converted to strings\u001b[0m\u001b[1;33m\n",
       "\u001b[0m    \u001b[1;32mif\u001b[0m \u001b[0misinstance\u001b[0m\u001b[1;33m(\u001b[0m\u001b[0mpdf_path\u001b[0m\u001b[1;33m,\u001b[0m \u001b[0mpathlib\u001b[0m\u001b[1;33m.\u001b[0m\u001b[0mPurePath\u001b[0m\u001b[1;33m)\u001b[0m\u001b[1;33m:\u001b[0m\u001b[1;33m\n",
       "\u001b[0m        \u001b[0mpdf_path\u001b[0m \u001b[1;33m=\u001b[0m \u001b[0mpdf_path\u001b[0m\u001b[1;33m.\u001b[0m\u001b[0mas_posix\u001b[0m\u001b[1;33m(\u001b[0m\u001b[1;33m)\u001b[0m\u001b[1;33m\n",
       "\u001b[0m\u001b[1;33m\n",
       "\u001b[0m    \u001b[1;32mif\u001b[0m \u001b[0misinstance\u001b[0m\u001b[1;33m(\u001b[0m\u001b[0moutput_folder\u001b[0m\u001b[1;33m,\u001b[0m \u001b[0mpathlib\u001b[0m\u001b[1;33m.\u001b[0m\u001b[0mPurePath\u001b[0m\u001b[1;33m)\u001b[0m\u001b[1;33m:\u001b[0m\u001b[1;33m\n",
       "\u001b[0m        \u001b[0moutput_folder\u001b[0m \u001b[1;33m=\u001b[0m \u001b[0moutput_folder\u001b[0m\u001b[1;33m.\u001b[0m\u001b[0mas_posix\u001b[0m\u001b[1;33m(\u001b[0m\u001b[1;33m)\u001b[0m\u001b[1;33m\n",
       "\u001b[0m\u001b[1;33m\n",
       "\u001b[0m    \u001b[1;32mif\u001b[0m \u001b[0misinstance\u001b[0m\u001b[1;33m(\u001b[0m\u001b[0mpoppler_path\u001b[0m\u001b[1;33m,\u001b[0m \u001b[0mpathlib\u001b[0m\u001b[1;33m.\u001b[0m\u001b[0mPurePath\u001b[0m\u001b[1;33m)\u001b[0m\u001b[1;33m:\u001b[0m\u001b[1;33m\n",
       "\u001b[0m        \u001b[0mpoppler_path\u001b[0m \u001b[1;33m=\u001b[0m \u001b[0mpoppler_path\u001b[0m\u001b[1;33m.\u001b[0m\u001b[0mas_posix\u001b[0m\u001b[1;33m(\u001b[0m\u001b[1;33m)\u001b[0m\u001b[1;33m\n",
       "\u001b[0m\u001b[1;33m\n",
       "\u001b[0m    \u001b[0mpage_count\u001b[0m \u001b[1;33m=\u001b[0m \u001b[0mpdfinfo_from_path\u001b[0m\u001b[1;33m(\u001b[0m\u001b[0mpdf_path\u001b[0m\u001b[1;33m,\u001b[0m \u001b[0muserpw\u001b[0m\u001b[1;33m,\u001b[0m \u001b[0mpoppler_path\u001b[0m\u001b[1;33m=\u001b[0m\u001b[0mpoppler_path\u001b[0m\u001b[1;33m)\u001b[0m\u001b[1;33m[\u001b[0m\u001b[1;34m\"Pages\"\u001b[0m\u001b[1;33m]\u001b[0m\u001b[1;33m\n",
       "\u001b[0m\u001b[1;33m\n",
       "\u001b[0m    \u001b[1;31m# We start by getting the output format, the buffer processing function and if we need pdftocairo\u001b[0m\u001b[1;33m\n",
       "\u001b[0m    \u001b[0mparsed_fmt\u001b[0m\u001b[1;33m,\u001b[0m \u001b[0mfinal_extension\u001b[0m\u001b[1;33m,\u001b[0m \u001b[0mparse_buffer_func\u001b[0m\u001b[1;33m,\u001b[0m \u001b[0muse_pdfcairo_format\u001b[0m \u001b[1;33m=\u001b[0m \u001b[0m_parse_format\u001b[0m\u001b[1;33m(\u001b[0m\u001b[1;33m\n",
       "\u001b[0m        \u001b[0mfmt\u001b[0m\u001b[1;33m,\u001b[0m \u001b[0mgrayscale\u001b[0m\u001b[1;33m\n",
       "\u001b[0m    \u001b[1;33m)\u001b[0m\u001b[1;33m\n",
       "\u001b[0m\u001b[1;33m\n",
       "\u001b[0m    \u001b[1;31m# We use pdftocairo is the format requires it OR we need a transparent output\u001b[0m\u001b[1;33m\n",
       "\u001b[0m    \u001b[0muse_pdfcairo\u001b[0m \u001b[1;33m=\u001b[0m \u001b[1;33m(\u001b[0m\u001b[1;33m\n",
       "\u001b[0m        \u001b[0muse_pdftocairo\u001b[0m\u001b[1;33m\n",
       "\u001b[0m        \u001b[1;32mor\u001b[0m \u001b[0muse_pdfcairo_format\u001b[0m\u001b[1;33m\n",
       "\u001b[0m        \u001b[1;32mor\u001b[0m \u001b[1;33m(\u001b[0m\u001b[0mtransparent\u001b[0m \u001b[1;32mand\u001b[0m \u001b[0mparsed_fmt\u001b[0m \u001b[1;32min\u001b[0m \u001b[0mTRANSPARENT_FILE_TYPES\u001b[0m\u001b[1;33m)\u001b[0m\u001b[1;33m\n",
       "\u001b[0m    \u001b[1;33m)\u001b[0m\u001b[1;33m\n",
       "\u001b[0m\u001b[1;33m\n",
       "\u001b[0m    \u001b[0mpoppler_version_major\u001b[0m\u001b[1;33m,\u001b[0m \u001b[0mpoppler_version_minor\u001b[0m \u001b[1;33m=\u001b[0m \u001b[0m_get_poppler_version\u001b[0m\u001b[1;33m(\u001b[0m\u001b[1;33m\n",
       "\u001b[0m        \u001b[1;34m\"pdftocairo\"\u001b[0m \u001b[1;32mif\u001b[0m \u001b[0muse_pdfcairo\u001b[0m \u001b[1;32melse\u001b[0m \u001b[1;34m\"pdftoppm\"\u001b[0m\u001b[1;33m,\u001b[0m \u001b[0mpoppler_path\u001b[0m\u001b[1;33m=\u001b[0m\u001b[0mpoppler_path\u001b[0m\u001b[1;33m\n",
       "\u001b[0m    \u001b[1;33m)\u001b[0m\u001b[1;33m\n",
       "\u001b[0m\u001b[1;33m\n",
       "\u001b[0m    \u001b[1;32mif\u001b[0m \u001b[0mpoppler_version_major\u001b[0m \u001b[1;33m==\u001b[0m \u001b[1;36m0\u001b[0m \u001b[1;32mand\u001b[0m \u001b[0mpoppler_version_minor\u001b[0m \u001b[1;33m<=\u001b[0m \u001b[1;36m57\u001b[0m\u001b[1;33m:\u001b[0m\u001b[1;33m\n",
       "\u001b[0m        \u001b[0mjpegopt\u001b[0m \u001b[1;33m=\u001b[0m \u001b[1;32mNone\u001b[0m\u001b[1;33m\n",
       "\u001b[0m\u001b[1;33m\n",
       "\u001b[0m    \u001b[1;31m# If output_file isn't a generator, it will be turned into one\u001b[0m\u001b[1;33m\n",
       "\u001b[0m    \u001b[1;32mif\u001b[0m \u001b[1;32mnot\u001b[0m \u001b[0misinstance\u001b[0m\u001b[1;33m(\u001b[0m\u001b[0moutput_file\u001b[0m\u001b[1;33m,\u001b[0m \u001b[0mtypes\u001b[0m\u001b[1;33m.\u001b[0m\u001b[0mGeneratorType\u001b[0m\u001b[1;33m)\u001b[0m \u001b[1;32mand\u001b[0m \u001b[1;32mnot\u001b[0m \u001b[0misinstance\u001b[0m\u001b[1;33m(\u001b[0m\u001b[1;33m\n",
       "\u001b[0m        \u001b[0moutput_file\u001b[0m\u001b[1;33m,\u001b[0m \u001b[0mThreadSafeGenerator\u001b[0m\u001b[1;33m\n",
       "\u001b[0m    \u001b[1;33m)\u001b[0m\u001b[1;33m:\u001b[0m\u001b[1;33m\n",
       "\u001b[0m        \u001b[1;32mif\u001b[0m \u001b[0msingle_file\u001b[0m\u001b[1;33m:\u001b[0m\u001b[1;33m\n",
       "\u001b[0m            \u001b[0moutput_file\u001b[0m \u001b[1;33m=\u001b[0m \u001b[0miter\u001b[0m\u001b[1;33m(\u001b[0m\u001b[1;33m[\u001b[0m\u001b[0moutput_file\u001b[0m\u001b[1;33m]\u001b[0m\u001b[1;33m)\u001b[0m\u001b[1;33m\n",
       "\u001b[0m        \u001b[1;32melse\u001b[0m\u001b[1;33m:\u001b[0m\u001b[1;33m\n",
       "\u001b[0m            \u001b[0moutput_file\u001b[0m \u001b[1;33m=\u001b[0m \u001b[0mcounter_generator\u001b[0m\u001b[1;33m(\u001b[0m\u001b[0moutput_file\u001b[0m\u001b[1;33m)\u001b[0m\u001b[1;33m\n",
       "\u001b[0m\u001b[1;33m\n",
       "\u001b[0m    \u001b[1;32mif\u001b[0m \u001b[0mthread_count\u001b[0m \u001b[1;33m<\u001b[0m \u001b[1;36m1\u001b[0m\u001b[1;33m:\u001b[0m\u001b[1;33m\n",
       "\u001b[0m        \u001b[0mthread_count\u001b[0m \u001b[1;33m=\u001b[0m \u001b[1;36m1\u001b[0m\u001b[1;33m\n",
       "\u001b[0m\u001b[1;33m\n",
       "\u001b[0m    \u001b[1;32mif\u001b[0m \u001b[0mfirst_page\u001b[0m \u001b[1;32mis\u001b[0m \u001b[1;32mNone\u001b[0m \u001b[1;32mor\u001b[0m \u001b[0mfirst_page\u001b[0m \u001b[1;33m<\u001b[0m \u001b[1;36m1\u001b[0m\u001b[1;33m:\u001b[0m\u001b[1;33m\n",
       "\u001b[0m        \u001b[0mfirst_page\u001b[0m \u001b[1;33m=\u001b[0m \u001b[1;36m1\u001b[0m\u001b[1;33m\n",
       "\u001b[0m\u001b[1;33m\n",
       "\u001b[0m    \u001b[1;32mif\u001b[0m \u001b[0mlast_page\u001b[0m \u001b[1;32mis\u001b[0m \u001b[1;32mNone\u001b[0m \u001b[1;32mor\u001b[0m \u001b[0mlast_page\u001b[0m \u001b[1;33m>\u001b[0m \u001b[0mpage_count\u001b[0m\u001b[1;33m:\u001b[0m\u001b[1;33m\n",
       "\u001b[0m        \u001b[0mlast_page\u001b[0m \u001b[1;33m=\u001b[0m \u001b[0mpage_count\u001b[0m\u001b[1;33m\n",
       "\u001b[0m\u001b[1;33m\n",
       "\u001b[0m    \u001b[1;32mif\u001b[0m \u001b[0mfirst_page\u001b[0m \u001b[1;33m>\u001b[0m \u001b[0mlast_page\u001b[0m\u001b[1;33m:\u001b[0m\u001b[1;33m\n",
       "\u001b[0m        \u001b[1;32mreturn\u001b[0m \u001b[1;33m[\u001b[0m\u001b[1;33m]\u001b[0m\u001b[1;33m\n",
       "\u001b[0m\u001b[1;33m\n",
       "\u001b[0m    \u001b[0mauto_temp_dir\u001b[0m \u001b[1;33m=\u001b[0m \u001b[1;32mFalse\u001b[0m\u001b[1;33m\n",
       "\u001b[0m    \u001b[1;32mif\u001b[0m \u001b[0moutput_folder\u001b[0m \u001b[1;32mis\u001b[0m \u001b[1;32mNone\u001b[0m \u001b[1;32mand\u001b[0m \u001b[0muse_pdfcairo\u001b[0m\u001b[1;33m:\u001b[0m\u001b[1;33m\n",
       "\u001b[0m        \u001b[0mauto_temp_dir\u001b[0m \u001b[1;33m=\u001b[0m \u001b[1;32mTrue\u001b[0m\u001b[1;33m\n",
       "\u001b[0m        \u001b[0moutput_folder\u001b[0m \u001b[1;33m=\u001b[0m \u001b[0mtempfile\u001b[0m\u001b[1;33m.\u001b[0m\u001b[0mmkdtemp\u001b[0m\u001b[1;33m(\u001b[0m\u001b[1;33m)\u001b[0m\u001b[1;33m\n",
       "\u001b[0m\u001b[1;33m\n",
       "\u001b[0m    \u001b[1;31m# Recalculate page count based on first and last page\u001b[0m\u001b[1;33m\n",
       "\u001b[0m    \u001b[0mpage_count\u001b[0m \u001b[1;33m=\u001b[0m \u001b[0mlast_page\u001b[0m \u001b[1;33m-\u001b[0m \u001b[0mfirst_page\u001b[0m \u001b[1;33m+\u001b[0m \u001b[1;36m1\u001b[0m\u001b[1;33m\n",
       "\u001b[0m\u001b[1;33m\n",
       "\u001b[0m    \u001b[1;32mif\u001b[0m \u001b[0mthread_count\u001b[0m \u001b[1;33m>\u001b[0m \u001b[0mpage_count\u001b[0m\u001b[1;33m:\u001b[0m\u001b[1;33m\n",
       "\u001b[0m        \u001b[0mthread_count\u001b[0m \u001b[1;33m=\u001b[0m \u001b[0mpage_count\u001b[0m\u001b[1;33m\n",
       "\u001b[0m\u001b[1;33m\n",
       "\u001b[0m    \u001b[0mreminder\u001b[0m \u001b[1;33m=\u001b[0m \u001b[0mpage_count\u001b[0m \u001b[1;33m%\u001b[0m \u001b[0mthread_count\u001b[0m\u001b[1;33m\n",
       "\u001b[0m    \u001b[0mcurrent_page\u001b[0m \u001b[1;33m=\u001b[0m \u001b[0mfirst_page\u001b[0m\u001b[1;33m\n",
       "\u001b[0m    \u001b[0mprocesses\u001b[0m \u001b[1;33m=\u001b[0m \u001b[1;33m[\u001b[0m\u001b[1;33m]\u001b[0m\u001b[1;33m\n",
       "\u001b[0m    \u001b[1;32mfor\u001b[0m \u001b[0m_\u001b[0m \u001b[1;32min\u001b[0m \u001b[0mrange\u001b[0m\u001b[1;33m(\u001b[0m\u001b[0mthread_count\u001b[0m\u001b[1;33m)\u001b[0m\u001b[1;33m:\u001b[0m\u001b[1;33m\n",
       "\u001b[0m        \u001b[0mthread_output_file\u001b[0m \u001b[1;33m=\u001b[0m \u001b[0mnext\u001b[0m\u001b[1;33m(\u001b[0m\u001b[0moutput_file\u001b[0m\u001b[1;33m)\u001b[0m\u001b[1;33m\n",
       "\u001b[0m\u001b[1;33m\n",
       "\u001b[0m        \u001b[1;31m# Get the number of pages the thread will be processing\u001b[0m\u001b[1;33m\n",
       "\u001b[0m        \u001b[0mthread_page_count\u001b[0m \u001b[1;33m=\u001b[0m \u001b[0mpage_count\u001b[0m \u001b[1;33m//\u001b[0m \u001b[0mthread_count\u001b[0m \u001b[1;33m+\u001b[0m \u001b[0mint\u001b[0m\u001b[1;33m(\u001b[0m\u001b[0mreminder\u001b[0m \u001b[1;33m>\u001b[0m \u001b[1;36m0\u001b[0m\u001b[1;33m)\u001b[0m\u001b[1;33m\n",
       "\u001b[0m        \u001b[1;31m# Build the command accordingly\u001b[0m\u001b[1;33m\n",
       "\u001b[0m        \u001b[0margs\u001b[0m \u001b[1;33m=\u001b[0m \u001b[0m_build_command\u001b[0m\u001b[1;33m(\u001b[0m\u001b[1;33m\n",
       "\u001b[0m            \u001b[1;33m[\u001b[0m\u001b[1;34m\"-r\"\u001b[0m\u001b[1;33m,\u001b[0m \u001b[0mstr\u001b[0m\u001b[1;33m(\u001b[0m\u001b[0mdpi\u001b[0m\u001b[1;33m)\u001b[0m\u001b[1;33m,\u001b[0m \u001b[0mpdf_path\u001b[0m\u001b[1;33m]\u001b[0m\u001b[1;33m,\u001b[0m\u001b[1;33m\n",
       "\u001b[0m            \u001b[0moutput_folder\u001b[0m\u001b[1;33m,\u001b[0m\u001b[1;33m\n",
       "\u001b[0m            \u001b[0mcurrent_page\u001b[0m\u001b[1;33m,\u001b[0m\u001b[1;33m\n",
       "\u001b[0m            \u001b[0mcurrent_page\u001b[0m \u001b[1;33m+\u001b[0m \u001b[0mthread_page_count\u001b[0m \u001b[1;33m-\u001b[0m \u001b[1;36m1\u001b[0m\u001b[1;33m,\u001b[0m\u001b[1;33m\n",
       "\u001b[0m            \u001b[0mparsed_fmt\u001b[0m\u001b[1;33m,\u001b[0m\u001b[1;33m\n",
       "\u001b[0m            \u001b[0mjpegopt\u001b[0m\u001b[1;33m,\u001b[0m\u001b[1;33m\n",
       "\u001b[0m            \u001b[0mthread_output_file\u001b[0m\u001b[1;33m,\u001b[0m\u001b[1;33m\n",
       "\u001b[0m            \u001b[0muserpw\u001b[0m\u001b[1;33m,\u001b[0m\u001b[1;33m\n",
       "\u001b[0m            \u001b[0muse_cropbox\u001b[0m\u001b[1;33m,\u001b[0m\u001b[1;33m\n",
       "\u001b[0m            \u001b[0mtransparent\u001b[0m\u001b[1;33m,\u001b[0m\u001b[1;33m\n",
       "\u001b[0m            \u001b[0msingle_file\u001b[0m\u001b[1;33m,\u001b[0m\u001b[1;33m\n",
       "\u001b[0m            \u001b[0mgrayscale\u001b[0m\u001b[1;33m,\u001b[0m\u001b[1;33m\n",
       "\u001b[0m            \u001b[0msize\u001b[0m\u001b[1;33m,\u001b[0m\u001b[1;33m\n",
       "\u001b[0m        \u001b[1;33m)\u001b[0m\u001b[1;33m\n",
       "\u001b[0m\u001b[1;33m\n",
       "\u001b[0m        \u001b[1;32mif\u001b[0m \u001b[0muse_pdfcairo\u001b[0m\u001b[1;33m:\u001b[0m\u001b[1;33m\n",
       "\u001b[0m            \u001b[0margs\u001b[0m \u001b[1;33m=\u001b[0m \u001b[1;33m[\u001b[0m\u001b[0m_get_command_path\u001b[0m\u001b[1;33m(\u001b[0m\u001b[1;34m\"pdftocairo\"\u001b[0m\u001b[1;33m,\u001b[0m \u001b[0mpoppler_path\u001b[0m\u001b[1;33m)\u001b[0m\u001b[1;33m]\u001b[0m \u001b[1;33m+\u001b[0m \u001b[0margs\u001b[0m\u001b[1;33m\n",
       "\u001b[0m        \u001b[1;32melse\u001b[0m\u001b[1;33m:\u001b[0m\u001b[1;33m\n",
       "\u001b[0m            \u001b[0margs\u001b[0m \u001b[1;33m=\u001b[0m \u001b[1;33m[\u001b[0m\u001b[0m_get_command_path\u001b[0m\u001b[1;33m(\u001b[0m\u001b[1;34m\"pdftoppm\"\u001b[0m\u001b[1;33m,\u001b[0m \u001b[0mpoppler_path\u001b[0m\u001b[1;33m)\u001b[0m\u001b[1;33m]\u001b[0m \u001b[1;33m+\u001b[0m \u001b[0margs\u001b[0m\u001b[1;33m\n",
       "\u001b[0m\u001b[1;33m\n",
       "\u001b[0m        \u001b[1;31m# Update page values\u001b[0m\u001b[1;33m\n",
       "\u001b[0m        \u001b[0mcurrent_page\u001b[0m \u001b[1;33m=\u001b[0m \u001b[0mcurrent_page\u001b[0m \u001b[1;33m+\u001b[0m \u001b[0mthread_page_count\u001b[0m\u001b[1;33m\n",
       "\u001b[0m        \u001b[0mreminder\u001b[0m \u001b[1;33m-=\u001b[0m \u001b[0mint\u001b[0m\u001b[1;33m(\u001b[0m\u001b[0mreminder\u001b[0m \u001b[1;33m>\u001b[0m \u001b[1;36m0\u001b[0m\u001b[1;33m)\u001b[0m\u001b[1;33m\n",
       "\u001b[0m        \u001b[1;31m# Add poppler path to LD_LIBRARY_PATH\u001b[0m\u001b[1;33m\n",
       "\u001b[0m        \u001b[0menv\u001b[0m \u001b[1;33m=\u001b[0m \u001b[0mos\u001b[0m\u001b[1;33m.\u001b[0m\u001b[0menviron\u001b[0m\u001b[1;33m.\u001b[0m\u001b[0mcopy\u001b[0m\u001b[1;33m(\u001b[0m\u001b[1;33m)\u001b[0m\u001b[1;33m\n",
       "\u001b[0m        \u001b[1;32mif\u001b[0m \u001b[0mpoppler_path\u001b[0m \u001b[1;32mis\u001b[0m \u001b[1;32mnot\u001b[0m \u001b[1;32mNone\u001b[0m\u001b[1;33m:\u001b[0m\u001b[1;33m\n",
       "\u001b[0m            \u001b[0menv\u001b[0m\u001b[1;33m[\u001b[0m\u001b[1;34m\"LD_LIBRARY_PATH\"\u001b[0m\u001b[1;33m]\u001b[0m \u001b[1;33m=\u001b[0m \u001b[0mpoppler_path\u001b[0m \u001b[1;33m+\u001b[0m \u001b[1;34m\":\"\u001b[0m \u001b[1;33m+\u001b[0m \u001b[0menv\u001b[0m\u001b[1;33m.\u001b[0m\u001b[0mget\u001b[0m\u001b[1;33m(\u001b[0m\u001b[1;34m\"LD_LIBRARY_PATH\"\u001b[0m\u001b[1;33m,\u001b[0m \u001b[1;34m\"\"\u001b[0m\u001b[1;33m)\u001b[0m\u001b[1;33m\n",
       "\u001b[0m        \u001b[1;31m# Spawn the process and save its uuid\u001b[0m\u001b[1;33m\n",
       "\u001b[0m        \u001b[0mstartupinfo\u001b[0m\u001b[1;33m=\u001b[0m\u001b[1;32mNone\u001b[0m\u001b[1;33m\n",
       "\u001b[0m        \u001b[1;32mif\u001b[0m \u001b[0mplatform\u001b[0m\u001b[1;33m.\u001b[0m\u001b[0msystem\u001b[0m\u001b[1;33m(\u001b[0m\u001b[1;33m)\u001b[0m \u001b[1;33m==\u001b[0m \u001b[1;34m'Windows'\u001b[0m\u001b[1;33m:\u001b[0m\u001b[1;33m\n",
       "\u001b[0m            \u001b[1;31m# this startupinfo structure prevents a console window from popping up on Windows\u001b[0m\u001b[1;33m\n",
       "\u001b[0m            \u001b[0mstartupinfo\u001b[0m \u001b[1;33m=\u001b[0m \u001b[0msubprocess\u001b[0m\u001b[1;33m.\u001b[0m\u001b[0mSTARTUPINFO\u001b[0m\u001b[1;33m(\u001b[0m\u001b[1;33m)\u001b[0m\u001b[1;33m\n",
       "\u001b[0m            \u001b[0mstartupinfo\u001b[0m\u001b[1;33m.\u001b[0m\u001b[0mdwFlags\u001b[0m \u001b[1;33m|=\u001b[0m \u001b[0msubprocess\u001b[0m\u001b[1;33m.\u001b[0m\u001b[0mSTARTF_USESHOWWINDOW\u001b[0m\u001b[1;33m\n",
       "\u001b[0m        \u001b[0mprocesses\u001b[0m\u001b[1;33m.\u001b[0m\u001b[0mappend\u001b[0m\u001b[1;33m(\u001b[0m\u001b[1;33m\n",
       "\u001b[0m            \u001b[1;33m(\u001b[0m\u001b[0mthread_output_file\u001b[0m\u001b[1;33m,\u001b[0m \u001b[0mPopen\u001b[0m\u001b[1;33m(\u001b[0m\u001b[0margs\u001b[0m\u001b[1;33m,\u001b[0m \u001b[0menv\u001b[0m\u001b[1;33m=\u001b[0m\u001b[0menv\u001b[0m\u001b[1;33m,\u001b[0m \u001b[0mstdout\u001b[0m\u001b[1;33m=\u001b[0m\u001b[0mPIPE\u001b[0m\u001b[1;33m,\u001b[0m \u001b[0mstderr\u001b[0m\u001b[1;33m=\u001b[0m\u001b[0mPIPE\u001b[0m\u001b[1;33m,\u001b[0m \u001b[0mstartupinfo\u001b[0m\u001b[1;33m=\u001b[0m\u001b[0mstartupinfo\u001b[0m\u001b[1;33m)\u001b[0m\u001b[1;33m)\u001b[0m\u001b[1;33m\n",
       "\u001b[0m        \u001b[1;33m)\u001b[0m\u001b[1;33m\n",
       "\u001b[0m\u001b[1;33m\n",
       "\u001b[0m    \u001b[0mimages\u001b[0m \u001b[1;33m=\u001b[0m \u001b[1;33m[\u001b[0m\u001b[1;33m]\u001b[0m\u001b[1;33m\n",
       "\u001b[0m\u001b[1;33m\n",
       "\u001b[0m    \u001b[1;32mfor\u001b[0m \u001b[0muid\u001b[0m\u001b[1;33m,\u001b[0m \u001b[0mproc\u001b[0m \u001b[1;32min\u001b[0m \u001b[0mprocesses\u001b[0m\u001b[1;33m:\u001b[0m\u001b[1;33m\n",
       "\u001b[0m        \u001b[1;32mtry\u001b[0m\u001b[1;33m:\u001b[0m\u001b[1;33m\n",
       "\u001b[0m            \u001b[0mdata\u001b[0m\u001b[1;33m,\u001b[0m \u001b[0merr\u001b[0m \u001b[1;33m=\u001b[0m \u001b[0mproc\u001b[0m\u001b[1;33m.\u001b[0m\u001b[0mcommunicate\u001b[0m\u001b[1;33m(\u001b[0m\u001b[0mtimeout\u001b[0m\u001b[1;33m=\u001b[0m\u001b[0mtimeout\u001b[0m\u001b[1;33m)\u001b[0m\u001b[1;33m\n",
       "\u001b[0m        \u001b[1;32mexcept\u001b[0m \u001b[0mTimeoutExpired\u001b[0m\u001b[1;33m:\u001b[0m\u001b[1;33m\n",
       "\u001b[0m            \u001b[0mproc\u001b[0m\u001b[1;33m.\u001b[0m\u001b[0mkill\u001b[0m\u001b[1;33m(\u001b[0m\u001b[1;33m)\u001b[0m\u001b[1;33m\n",
       "\u001b[0m            \u001b[0mouts\u001b[0m\u001b[1;33m,\u001b[0m \u001b[0merrs\u001b[0m \u001b[1;33m=\u001b[0m \u001b[0mproc\u001b[0m\u001b[1;33m.\u001b[0m\u001b[0mcommunicate\u001b[0m\u001b[1;33m(\u001b[0m\u001b[1;33m)\u001b[0m\u001b[1;33m\n",
       "\u001b[0m            \u001b[1;32mraise\u001b[0m \u001b[0mPDFPopplerTimeoutError\u001b[0m\u001b[1;33m(\u001b[0m\u001b[1;34m\"Run poppler poppler timeout.\"\u001b[0m\u001b[1;33m)\u001b[0m\u001b[1;33m\n",
       "\u001b[0m\u001b[1;33m\n",
       "\u001b[0m        \u001b[1;32mif\u001b[0m \u001b[1;34mb\"Syntax Error\"\u001b[0m \u001b[1;32min\u001b[0m \u001b[0merr\u001b[0m \u001b[1;32mand\u001b[0m \u001b[0mstrict\u001b[0m\u001b[1;33m:\u001b[0m\u001b[1;33m\n",
       "\u001b[0m            \u001b[1;32mraise\u001b[0m \u001b[0mPDFSyntaxError\u001b[0m\u001b[1;33m(\u001b[0m\u001b[0merr\u001b[0m\u001b[1;33m.\u001b[0m\u001b[0mdecode\u001b[0m\u001b[1;33m(\u001b[0m\u001b[1;34m\"utf8\"\u001b[0m\u001b[1;33m,\u001b[0m \u001b[1;34m\"ignore\"\u001b[0m\u001b[1;33m)\u001b[0m\u001b[1;33m)\u001b[0m\u001b[1;33m\n",
       "\u001b[0m\u001b[1;33m\n",
       "\u001b[0m        \u001b[1;32mif\u001b[0m \u001b[0moutput_folder\u001b[0m \u001b[1;32mis\u001b[0m \u001b[1;32mnot\u001b[0m \u001b[1;32mNone\u001b[0m\u001b[1;33m:\u001b[0m\u001b[1;33m\n",
       "\u001b[0m            \u001b[0mimages\u001b[0m \u001b[1;33m+=\u001b[0m \u001b[0m_load_from_output_folder\u001b[0m\u001b[1;33m(\u001b[0m\u001b[1;33m\n",
       "\u001b[0m                \u001b[0moutput_folder\u001b[0m\u001b[1;33m,\u001b[0m \u001b[0muid\u001b[0m\u001b[1;33m,\u001b[0m \u001b[0mfinal_extension\u001b[0m\u001b[1;33m,\u001b[0m \u001b[0mpaths_only\u001b[0m\u001b[1;33m,\u001b[0m \u001b[0min_memory\u001b[0m\u001b[1;33m=\u001b[0m\u001b[0mauto_temp_dir\u001b[0m\u001b[1;33m\n",
       "\u001b[0m            \u001b[1;33m)\u001b[0m\u001b[1;33m\n",
       "\u001b[0m        \u001b[1;32melse\u001b[0m\u001b[1;33m:\u001b[0m\u001b[1;33m\n",
       "\u001b[0m            \u001b[0mimages\u001b[0m \u001b[1;33m+=\u001b[0m \u001b[0mparse_buffer_func\u001b[0m\u001b[1;33m(\u001b[0m\u001b[0mdata\u001b[0m\u001b[1;33m)\u001b[0m\u001b[1;33m\n",
       "\u001b[0m\u001b[1;33m\n",
       "\u001b[0m    \u001b[1;32mif\u001b[0m \u001b[0mauto_temp_dir\u001b[0m\u001b[1;33m:\u001b[0m\u001b[1;33m\n",
       "\u001b[0m        \u001b[0mshutil\u001b[0m\u001b[1;33m.\u001b[0m\u001b[0mrmtree\u001b[0m\u001b[1;33m(\u001b[0m\u001b[0moutput_folder\u001b[0m\u001b[1;33m)\u001b[0m\u001b[1;33m\n",
       "\u001b[0m\u001b[1;33m\n",
       "\u001b[0m    \u001b[1;32mreturn\u001b[0m \u001b[0mimages\u001b[0m\u001b[1;33m\u001b[0m\u001b[1;33m\u001b[0m\u001b[0m\n",
       "\u001b[1;31mFile:\u001b[0m      d:\\programdata\\anaconda3\\lib\\site-packages\\pdf2image\\pdf2image.py\n",
       "\u001b[1;31mType:\u001b[0m      function\n"
      ]
     },
     "metadata": {},
     "output_type": "display_data"
    }
   ],
   "source": [
    "# 另外的参考 https://blog.csdn.net/qq_30159015/article/details/80200202\n",
    "# \n",
    "#  如果使用SSD，使用输出文件夹的速度要快得多。否则，i/o通常会成为瓶颈。\n",
    "#  使用多个线程可以给一些好处，但是避免超过4个，因为这会导致i/o瓶颈；\n",
    "#  如果i/o是瓶颈，使用JPEG格式可以带来显著的效果。\n",
    "#  PNG格式相当慢；\n",
    "#  在pdftoppm中不存在任何异常，因此任何不能被转换/处理的文件都将返回空的图像列表。\n",
    "convert_from_path??\n",
    "# 参数\n",
    "# pdf_path, Path to the PDF that you want to convert 要转换的PDF文档路径\n",
    "# dpi=200, Image quality in DPI (default 200) DPI中的图像质量（默认为200），Windows默认为96dpi\n",
    "# output_folder = None, Write the resulting images to a folder (instead of directly in memory) \n",
    "# # 将生成的图像写入文件夹（而不是直接写入内存）若是path不做指定的话，path的默认地址是：C:\\Users\\pzhang7\\AppData\\Local\\Temp\\生成的uuid4。\n",
    "# first_page = None, First page to process 允许设置由pdftoppm处理的第一个页面；从哪一页开始转换，默认是PDF的第一页\n",
    "# last_page = None, Last page to process before stopping 允许设置最后一页由pdftoppm处理；转换到哪一页，默认是PDF的最后一页\n",
    "# fmt：Output image format 允许指定输出格式。目前支持的格式是jpg、png和ppm；输出图像格式默认格式是ppm，还可以设置为png和jpeg等\n",
    "# # 关于ppm格式: https://blog.csdn.net/kinghzkingkkk/article/details/70226214\n",
    "# jpegopt = None, jpeg options `quality`, `progressive`, and `optimize` (only for jpeg format)\n",
    "# thread_count = 1 ：How many threads we are allowed to spawn for processing 允许设置用于转换的线程数；允许生成多少个线程进行处理，一般不超过4个线程；\n",
    "# userpw = None, PDF's password. PDF的密码（若有密码的话需要添加）\n",
    "# use_cropbox = False, Use cropbox instead of mediabox. 使用cropbox而不是mediabox\n",
    "# strict = False, When a Syntax Error is thrown, it will be raised as an Exception. 参数允许您使用自定义类型PDFSyntaxError捕获pdftoppm语法错误\n",
    "# transparent = False, Output with a transparent background instead of a white one. 参数允许生成没有背景的图像，而不是通常的白色图像(为此需要pdftocairo)\n",
    "# single_file = False, Uses the -singlefile option from pdftoppm/pdftocairo. 使用pdftoppm / pdftocairo中的-singlefile选项\n",
    "# output_file = <pdf2image.generators.ThreadSafeGenerator object at 0x0000000005045A48>, What is the output filename or generator. 输出文件名是什么\n",
    "# poppler_path = None, Path to look for poppler binaries. 查找poppler二进制文件的路径，允许用户使用poppler_path指定poppler的安装路径；默认不指定的话需要将bin添加到系统PATH\n",
    "# grayscale = False, Output grayscale image(s)\n",
    "# size = None, Size of the resulting image(s), uses the Pillow (width, height) standard\n",
    "# paths_only = False,Don't load image(s), return paths instead (requires output_folder)\n",
    "# \n",
    "# 参数说明的另一个来源: https://cloud.tencent.com/developer/article/1481638\n",
    "## pdf2image应该也可以对指定区域进行截取"
   ]
  },
  {
   "cell_type": "code",
   "execution_count": null,
   "metadata": {},
   "outputs": [],
   "source": []
  },
  {
   "cell_type": "markdown",
   "metadata": {},
   "source": [
    "#### 使用 pymupdf 将PDF文件的所有页面转为图片  \n",
    "比pdf2image更快  \n",
    "pip install pymupdf"
   ]
  },
  {
   "cell_type": "code",
   "execution_count": null,
   "metadata": {},
   "outputs": [],
   "source": [
    "# 将pdf的所有页面转为图片\n",
    "import sys, fitz, os, datetime\n",
    "\n",
    "def pyMuPDF_fitz_all(infile, outfilepath):\n",
    "    startTime_pdf2img = datetime.datetime.now()#开始时间\n",
    "    print(\"imagePath=\"+outfilepath)\n",
    "    pdfDoc = fitz.open(infile)\n",
    "    for pg in range(pdfDoc.pageCount): # 这个循环可以将整个PDF的每一页都转换为图片并保存\n",
    "        page = pdfDoc[pg]\n",
    "        rotate = int(0)\n",
    "        # 每个尺寸的缩放系数为1.3，这将为我们生成分辨率提高2.6的图像。\n",
    "        # 此处若是不做设置，默认图片大小为：792X612, dpi=96\n",
    "        zoom_x = 1.72 #(1.33333333-->1056x816)   (2-->1584x1224)\n",
    "        zoom_y = 1.87 # 调整为A4大小的长宽比\n",
    "        mat = fitz.Matrix(zoom_x, zoom_y).preRotate(rotate)\n",
    "        pix = page.getPixmap(matrix=mat, alpha=False)\n",
    "        pngname = outfilepath + \"\\\\\" + os.path.basename(infile) + '_'+str(pg)+\".png\"      \n",
    "        pix.writePNG(pngname)#将图片写入指定的文件夹内\n",
    "    endTime_pdf2img = datetime.datetime.now()#结束时间\n",
    "    print('总页数:{}, pdf2img时间:{}'.format(pdfDoc.pageCount,endTime_pdf2img - startTime_pdf2img))"
   ]
  },
  {
   "cell_type": "code",
   "execution_count": null,
   "metadata": {},
   "outputs": [],
   "source": [
    "# 将加密的pdf的每一页都转为图片--可以实现---85页用了5.2秒(转换速度也跟分辨率有关)\n",
    "infile = r'D:\\Python\\XWLW20200303\\rawdata\\2015年6月-83-81\\251010_0785022027戎鑫.pdf'\n",
    "outfilepath = r'D:\\Python\\XWLW20200303\\rawdata\\pic\\251010_0785022027戎鑫'\n",
    "pyMuPDF_fitz_all(infile, outfilepath)"
   ]
  },
  {
   "cell_type": "markdown",
   "metadata": {},
   "source": [
    "#### PDF转为word*\n",
    "很多时候我们需要将无法编辑的PDF转为格式相同或近似的可编辑的word文件.  \n",
    "使用Python的库\n",
    "\n",
    "参考资料:    \n",
    "[1]https://www.cnblogs.com/Wshile/p/13194019.html"
   ]
  },
  {
   "cell_type": "code",
   "execution_count": null,
   "metadata": {},
   "outputs": [],
   "source": []
  },
  {
   "cell_type": "code",
   "execution_count": null,
   "metadata": {},
   "outputs": [],
   "source": []
  },
  {
   "cell_type": "markdown",
   "metadata": {},
   "source": [
    "# 制作PDF"
   ]
  },
  {
   "cell_type": "markdown",
   "metadata": {},
   "source": [
    "上一节我们介绍了把其他类型的文件如图片,文本和word等格式转换为PDF格式,这种操作也是在制作PDF,但这种\"制作\"的本质是文件类型的转换,不涉及格式调整等操作,相对简单而能够做的事情较少.    \n",
    "这一节我们介绍从字符串文本,表格,图片等等基本的文件素材按照一定的样式去拼接构造PDF文件的过程,和读取操作PDF所使用的工具不同,这一节我们使用reportlab库.   \n",
    "首先我们从一个简单的水印文件的制作来管窥reportlab库的一斑."
   ]
  },
  {
   "cell_type": "markdown",
   "metadata": {},
   "source": [
    "#### 制作PDF水印文件\n",
    "能够生成PDF的Python库有很多,其中功能最强大的当属reportlab.  \n",
    "我们首先从制作一个简单的水印文件PDF着手."
   ]
  },
  {
   "cell_type": "code",
   "execution_count": 42,
   "metadata": {},
   "outputs": [
    {
     "name": "stdout",
     "output_type": "stream",
     "text": [
      "Collecting reportlab\n",
      "  Downloading reportlab-3.5.67-cp38-cp38-win_amd64.whl (2.3 MB)\n",
      "Requirement already satisfied: pillow>=4.0.0 in d:\\programdata\\anaconda3\\lib\\site-packages (from reportlab) (7.2.0)\n",
      "Installing collected packages: reportlab\n",
      "Successfully installed reportlab-3.5.67\n"
     ]
    }
   ],
   "source": [
    "!pip install reportlab"
   ]
  },
  {
   "cell_type": "code",
   "execution_count": 43,
   "metadata": {},
   "outputs": [],
   "source": [
    "from reportlab.lib.units import cm\n",
    "from reportlab.pdfgen import canvas\n",
    "from reportlab.pdfbase import pdfmetrics\n",
    "from reportlab.pdfbase.ttfonts import TTFont\n",
    "\n",
    "def create_watermark_1(content,wmfile='',wfont='SimSun',wfontsize=75):\n",
    "    if wmfile =='' :\n",
    "        file_name = \"mark.pdf\" #默认的水印文件名\n",
    "    else :\n",
    "        file_name = wmfile     #如果传入了水印文件名,就用传入的参数.\n",
    "    # 注册字体===每次使用都需要注册吗? 还是一次注册以后就可以一直用了?\n",
    "    pdfmetrics.registerFont(TTFont(\"SimSun\", \"SimSun.ttf\"))          # 注册 宋体\n",
    "    pdfmetrics.registerFont(TTFont('jiagu', 'HYChenTiJiaGuWen.ttf')) # 注册 汉仪陈体甲骨文\n",
    "    # 设置页面大小.默认大小为A4 = (21*cm,29.7*cm)\n",
    "    c = canvas.Canvas(file_name, pagesize=(21*cm, 29.7*cm)) #厘米单位的大小与像素,A4大小等等的换算,便于动态生成大小合适的水印\n",
    "    #c.translate(1*cm, 1*cm) # translate方法移动坐标原点(坐标系默认左下角为(0,0))\n",
    "    # 为cavas对象c设置字体       # 应用注册的字体 \n",
    "    #c.setFont(\"Helvetica\", 80) # 第一个参数为字体名称,第二个参数为字号\n",
    "    #c.setFont(\"SimSun\", 50)\n",
    "    #c.setFont(\"jiagu\", 50)     # 设置为甲骨文\n",
    "    c.setFont(wfont, wfontsize) # 根据传入的参数设置字体和字号\n",
    "    #c.setStrokeColorRGB(0.2,0.5,0.3)#(0, 1, 0)## 指定图形描边的颜色,不指定好像是用的黑色 #对文字好像没起作用\n",
    "    #c.setFillColorRGB(1,0,1)#(0, 1, 0)## 指定填充颜色 # 对文字好像没起作用\n",
    "    #c.line(5*cm,6*cm,18*cm,19*cm) # 绘制线段,参数(x1,y1, x2,y2)为起点和终点\n",
    "    #c.ellipse(5*cm,10*cm,9*cm,18*cm, stroke=1, fill=0) # 绘制椭圆, fill=0表示内部不填充,参数(x1,y1, x2,y2)表示什么?\n",
    "    #c.rect(cm, cm, 7*cm, 17*cm, fill=0) # 使用rect方法画一个矩形,左下角的点为(1*cm,1*cm),宽7厘米,高17厘米,fill参数指定是否填充,0或1\n",
    "    #c.arc(5*cm,6*cm,18*cm,19*cm) # 绘制弧形 #参数是什么意思?\n",
    "    c.rotate(52) # 旋转坐标系.\n",
    "    c.setFillColorRGB(0, 0, 0, 0.1) # 指定填充颜色和不透明度 #不透明度也会应用给文字,而不仅仅是绘制的形状内部\n",
    "    c.setFillAlpha(0.05) # 设置水印文字的不透明度,[0,1]之间的数字,1为不透明,0为透明\n",
    "    # 画几个文本,注意坐标系旋转的影响\n",
    "    #content = content.decode('utf-8') # 指定了中文字体,是不是就不需要再对文字进行解码编码了?\n",
    "    #c.drawString(13*cm, 26*cm, content) # 将content写入指定的位置--如果已经旋转过页面和重新设置过原点,就会按照旋转和平移后的坐标系进行写入\n",
    "    #c.drawString(0*cm, 0*cm, content)\n",
    "    c.drawString(4*cm,0*cm,content) \n",
    "    #c.setFillAlpha(0.6) #修改透明度\n",
    "    #c.drawString(6*cm,5*cm,content) #然后以新的透明度绘制新的水印 \n",
    "    # 关闭并保存pdf文件\n",
    "    c.save()\n",
    "    return file_name"
   ]
  },
  {
   "cell_type": "code",
   "execution_count": 44,
   "metadata": {},
   "outputs": [
    {
     "ename": "TTFError",
     "evalue": "Can't open file \"SimSun.ttf\"",
     "output_type": "error",
     "traceback": [
      "\u001b[1;31m---------------------------------------------------------------------------\u001b[0m",
      "\u001b[1;31mFileNotFoundError\u001b[0m                         Traceback (most recent call last)",
      "\u001b[1;32mD:\\ProgramData\\Anaconda3\\lib\\site-packages\\reportlab\\lib\\utils.py\u001b[0m in \u001b[0;36mopen_for_read\u001b[1;34m(name, mode)\u001b[0m\n\u001b[0;32m    700\u001b[0m         \u001b[1;32mtry\u001b[0m\u001b[1;33m:\u001b[0m\u001b[1;33m\u001b[0m\u001b[1;33m\u001b[0m\u001b[0m\n\u001b[1;32m--> 701\u001b[1;33m             \u001b[1;32mreturn\u001b[0m \u001b[0mopen_for_read_by_name\u001b[0m\u001b[1;33m(\u001b[0m\u001b[0mname\u001b[0m\u001b[1;33m,\u001b[0m\u001b[0mmode\u001b[0m\u001b[1;33m)\u001b[0m\u001b[1;33m\u001b[0m\u001b[1;33m\u001b[0m\u001b[0m\n\u001b[0m\u001b[0;32m    702\u001b[0m         \u001b[1;32mexcept\u001b[0m\u001b[1;33m:\u001b[0m\u001b[1;33m\u001b[0m\u001b[1;33m\u001b[0m\u001b[0m\n",
      "\u001b[1;32mD:\\ProgramData\\Anaconda3\\lib\\site-packages\\reportlab\\lib\\utils.py\u001b[0m in \u001b[0;36mopen_for_read_by_name\u001b[1;34m(name, mode)\u001b[0m\n\u001b[0;32m    635\u001b[0m     \u001b[1;32mtry\u001b[0m\u001b[1;33m:\u001b[0m\u001b[1;33m\u001b[0m\u001b[1;33m\u001b[0m\u001b[0m\n\u001b[1;32m--> 636\u001b[1;33m         \u001b[1;32mreturn\u001b[0m \u001b[0mopen\u001b[0m\u001b[1;33m(\u001b[0m\u001b[0mname\u001b[0m\u001b[1;33m,\u001b[0m\u001b[0mmode\u001b[0m\u001b[1;33m)\u001b[0m\u001b[1;33m\u001b[0m\u001b[1;33m\u001b[0m\u001b[0m\n\u001b[0m\u001b[0;32m    637\u001b[0m     \u001b[1;32mexcept\u001b[0m \u001b[0mIOError\u001b[0m\u001b[1;33m:\u001b[0m\u001b[1;33m\u001b[0m\u001b[1;33m\u001b[0m\u001b[0m\n",
      "\u001b[1;31mFileNotFoundError\u001b[0m: [Errno 2] No such file or directory: 'SimSun.ttf'",
      "\nDuring handling of the above exception, another exception occurred:\n",
      "\u001b[1;31mValueError\u001b[0m                                Traceback (most recent call last)",
      "\u001b[1;32mD:\\ProgramData\\Anaconda3\\lib\\site-packages\\reportlab\\lib\\utils.py\u001b[0m in \u001b[0;36mopen_for_read\u001b[1;34m(name, mode)\u001b[0m\n\u001b[0;32m    707\u001b[0m                         \u001b[1;32mraise\u001b[0m \u001b[0mValueError\u001b[0m\u001b[1;33m(\u001b[0m\u001b[1;34m'Attempted untrusted host access'\u001b[0m\u001b[1;33m)\u001b[0m\u001b[1;33m\u001b[0m\u001b[1;33m\u001b[0m\u001b[0m\n\u001b[1;32m--> 708\u001b[1;33m                 \u001b[1;32mreturn\u001b[0m \u001b[0mgetBytesIO\u001b[0m\u001b[1;33m(\u001b[0m\u001b[0mdatareader\u001b[0m\u001b[1;33m(\u001b[0m\u001b[0mname\u001b[0m\u001b[1;33m)\u001b[0m \u001b[1;32mif\u001b[0m \u001b[0mname\u001b[0m\u001b[1;33m[\u001b[0m\u001b[1;33m:\u001b[0m\u001b[1;36m5\u001b[0m\u001b[1;33m]\u001b[0m\u001b[1;33m.\u001b[0m\u001b[0mlower\u001b[0m\u001b[1;33m(\u001b[0m\u001b[1;33m)\u001b[0m\u001b[1;33m==\u001b[0m\u001b[1;34m'data:'\u001b[0m \u001b[1;32melse\u001b[0m \u001b[0murlopen\u001b[0m\u001b[1;33m(\u001b[0m\u001b[0mname\u001b[0m\u001b[1;33m)\u001b[0m\u001b[1;33m.\u001b[0m\u001b[0mread\u001b[0m\u001b[1;33m(\u001b[0m\u001b[1;33m)\u001b[0m\u001b[1;33m)\u001b[0m\u001b[1;33m\u001b[0m\u001b[1;33m\u001b[0m\u001b[0m\n\u001b[0m\u001b[0;32m    709\u001b[0m             \u001b[1;32mexcept\u001b[0m\u001b[1;33m:\u001b[0m\u001b[1;33m\u001b[0m\u001b[1;33m\u001b[0m\u001b[0m\n",
      "\u001b[1;32mD:\\ProgramData\\Anaconda3\\lib\\urllib\\request.py\u001b[0m in \u001b[0;36murlopen\u001b[1;34m(url, data, timeout, cafile, capath, cadefault, context)\u001b[0m\n\u001b[0;32m    221\u001b[0m         \u001b[0mopener\u001b[0m \u001b[1;33m=\u001b[0m \u001b[0m_opener\u001b[0m\u001b[1;33m\u001b[0m\u001b[1;33m\u001b[0m\u001b[0m\n\u001b[1;32m--> 222\u001b[1;33m     \u001b[1;32mreturn\u001b[0m \u001b[0mopener\u001b[0m\u001b[1;33m.\u001b[0m\u001b[0mopen\u001b[0m\u001b[1;33m(\u001b[0m\u001b[0murl\u001b[0m\u001b[1;33m,\u001b[0m \u001b[0mdata\u001b[0m\u001b[1;33m,\u001b[0m \u001b[0mtimeout\u001b[0m\u001b[1;33m)\u001b[0m\u001b[1;33m\u001b[0m\u001b[1;33m\u001b[0m\u001b[0m\n\u001b[0m\u001b[0;32m    223\u001b[0m \u001b[1;33m\u001b[0m\u001b[0m\n",
      "\u001b[1;32mD:\\ProgramData\\Anaconda3\\lib\\urllib\\request.py\u001b[0m in \u001b[0;36mopen\u001b[1;34m(self, fullurl, data, timeout)\u001b[0m\n\u001b[0;32m    508\u001b[0m         \u001b[1;32mif\u001b[0m \u001b[0misinstance\u001b[0m\u001b[1;33m(\u001b[0m\u001b[0mfullurl\u001b[0m\u001b[1;33m,\u001b[0m \u001b[0mstr\u001b[0m\u001b[1;33m)\u001b[0m\u001b[1;33m:\u001b[0m\u001b[1;33m\u001b[0m\u001b[1;33m\u001b[0m\u001b[0m\n\u001b[1;32m--> 509\u001b[1;33m             \u001b[0mreq\u001b[0m \u001b[1;33m=\u001b[0m \u001b[0mRequest\u001b[0m\u001b[1;33m(\u001b[0m\u001b[0mfullurl\u001b[0m\u001b[1;33m,\u001b[0m \u001b[0mdata\u001b[0m\u001b[1;33m)\u001b[0m\u001b[1;33m\u001b[0m\u001b[1;33m\u001b[0m\u001b[0m\n\u001b[0m\u001b[0;32m    510\u001b[0m         \u001b[1;32melse\u001b[0m\u001b[1;33m:\u001b[0m\u001b[1;33m\u001b[0m\u001b[1;33m\u001b[0m\u001b[0m\n",
      "\u001b[1;32mD:\\ProgramData\\Anaconda3\\lib\\urllib\\request.py\u001b[0m in \u001b[0;36m__init__\u001b[1;34m(self, url, data, headers, origin_req_host, unverifiable, method)\u001b[0m\n\u001b[0;32m    327\u001b[0m                  method=None):\n\u001b[1;32m--> 328\u001b[1;33m         \u001b[0mself\u001b[0m\u001b[1;33m.\u001b[0m\u001b[0mfull_url\u001b[0m \u001b[1;33m=\u001b[0m \u001b[0murl\u001b[0m\u001b[1;33m\u001b[0m\u001b[1;33m\u001b[0m\u001b[0m\n\u001b[0m\u001b[0;32m    329\u001b[0m         \u001b[0mself\u001b[0m\u001b[1;33m.\u001b[0m\u001b[0mheaders\u001b[0m \u001b[1;33m=\u001b[0m \u001b[1;33m{\u001b[0m\u001b[1;33m}\u001b[0m\u001b[1;33m\u001b[0m\u001b[1;33m\u001b[0m\u001b[0m\n",
      "\u001b[1;32mD:\\ProgramData\\Anaconda3\\lib\\urllib\\request.py\u001b[0m in \u001b[0;36mfull_url\u001b[1;34m(self, url)\u001b[0m\n\u001b[0;32m    353\u001b[0m         \u001b[0mself\u001b[0m\u001b[1;33m.\u001b[0m\u001b[0m_full_url\u001b[0m\u001b[1;33m,\u001b[0m \u001b[0mself\u001b[0m\u001b[1;33m.\u001b[0m\u001b[0mfragment\u001b[0m \u001b[1;33m=\u001b[0m \u001b[0m_splittag\u001b[0m\u001b[1;33m(\u001b[0m\u001b[0mself\u001b[0m\u001b[1;33m.\u001b[0m\u001b[0m_full_url\u001b[0m\u001b[1;33m)\u001b[0m\u001b[1;33m\u001b[0m\u001b[1;33m\u001b[0m\u001b[0m\n\u001b[1;32m--> 354\u001b[1;33m         \u001b[0mself\u001b[0m\u001b[1;33m.\u001b[0m\u001b[0m_parse\u001b[0m\u001b[1;33m(\u001b[0m\u001b[1;33m)\u001b[0m\u001b[1;33m\u001b[0m\u001b[1;33m\u001b[0m\u001b[0m\n\u001b[0m\u001b[0;32m    355\u001b[0m \u001b[1;33m\u001b[0m\u001b[0m\n",
      "\u001b[1;32mD:\\ProgramData\\Anaconda3\\lib\\urllib\\request.py\u001b[0m in \u001b[0;36m_parse\u001b[1;34m(self)\u001b[0m\n\u001b[0;32m    382\u001b[0m         \u001b[1;32mif\u001b[0m \u001b[0mself\u001b[0m\u001b[1;33m.\u001b[0m\u001b[0mtype\u001b[0m \u001b[1;32mis\u001b[0m \u001b[1;32mNone\u001b[0m\u001b[1;33m:\u001b[0m\u001b[1;33m\u001b[0m\u001b[1;33m\u001b[0m\u001b[0m\n\u001b[1;32m--> 383\u001b[1;33m             \u001b[1;32mraise\u001b[0m \u001b[0mValueError\u001b[0m\u001b[1;33m(\u001b[0m\u001b[1;34m\"unknown url type: %r\"\u001b[0m \u001b[1;33m%\u001b[0m \u001b[0mself\u001b[0m\u001b[1;33m.\u001b[0m\u001b[0mfull_url\u001b[0m\u001b[1;33m)\u001b[0m\u001b[1;33m\u001b[0m\u001b[1;33m\u001b[0m\u001b[0m\n\u001b[0m\u001b[0;32m    384\u001b[0m         \u001b[0mself\u001b[0m\u001b[1;33m.\u001b[0m\u001b[0mhost\u001b[0m\u001b[1;33m,\u001b[0m \u001b[0mself\u001b[0m\u001b[1;33m.\u001b[0m\u001b[0mselector\u001b[0m \u001b[1;33m=\u001b[0m \u001b[0m_splithost\u001b[0m\u001b[1;33m(\u001b[0m\u001b[0mrest\u001b[0m\u001b[1;33m)\u001b[0m\u001b[1;33m\u001b[0m\u001b[1;33m\u001b[0m\u001b[0m\n",
      "\u001b[1;31mValueError\u001b[0m: unknown url type: 'SimSun.ttf'",
      "\nDuring handling of the above exception, another exception occurred:\n",
      "\u001b[1;31mOSError\u001b[0m                                   Traceback (most recent call last)",
      "\u001b[1;32mD:\\ProgramData\\Anaconda3\\lib\\site-packages\\reportlab\\pdfbase\\ttfonts.py\u001b[0m in \u001b[0;36mTTFOpenFile\u001b[1;34m(fn)\u001b[0m\n\u001b[0;32m    154\u001b[0m     \u001b[1;32mtry\u001b[0m\u001b[1;33m:\u001b[0m\u001b[1;33m\u001b[0m\u001b[1;33m\u001b[0m\u001b[0m\n\u001b[1;32m--> 155\u001b[1;33m         \u001b[0mf\u001b[0m \u001b[1;33m=\u001b[0m \u001b[0mopen_for_read\u001b[0m\u001b[1;33m(\u001b[0m\u001b[0mfn\u001b[0m\u001b[1;33m,\u001b[0m\u001b[1;34m'rb'\u001b[0m\u001b[1;33m)\u001b[0m\u001b[1;33m\u001b[0m\u001b[1;33m\u001b[0m\u001b[0m\n\u001b[0m\u001b[0;32m    156\u001b[0m         \u001b[1;32mreturn\u001b[0m \u001b[0mfn\u001b[0m\u001b[1;33m,\u001b[0m \u001b[0mf\u001b[0m\u001b[1;33m\u001b[0m\u001b[1;33m\u001b[0m\u001b[0m\n",
      "\u001b[1;32mD:\\ProgramData\\Anaconda3\\lib\\site-packages\\reportlab\\lib\\utils.py\u001b[0m in \u001b[0;36mopen_for_read\u001b[1;34m(name, mode)\u001b[0m\n\u001b[0;32m    711\u001b[0m     \u001b[0mglobals\u001b[0m\u001b[1;33m(\u001b[0m\u001b[1;33m)\u001b[0m\u001b[1;33m[\u001b[0m\u001b[1;34m'open_for_read'\u001b[0m\u001b[1;33m]\u001b[0m \u001b[1;33m=\u001b[0m \u001b[0mopen_for_read\u001b[0m\u001b[1;33m\u001b[0m\u001b[1;33m\u001b[0m\u001b[0m\n\u001b[1;32m--> 712\u001b[1;33m     \u001b[1;32mreturn\u001b[0m \u001b[0mopen_for_read\u001b[0m\u001b[1;33m(\u001b[0m\u001b[0mname\u001b[0m\u001b[1;33m,\u001b[0m\u001b[0mmode\u001b[0m\u001b[1;33m)\u001b[0m\u001b[1;33m\u001b[0m\u001b[1;33m\u001b[0m\u001b[0m\n\u001b[0m\u001b[0;32m    713\u001b[0m \u001b[1;33m\u001b[0m\u001b[0m\n",
      "\u001b[1;32mD:\\ProgramData\\Anaconda3\\lib\\site-packages\\reportlab\\lib\\utils.py\u001b[0m in \u001b[0;36mopen_for_read\u001b[1;34m(name, mode)\u001b[0m\n\u001b[0;32m    709\u001b[0m             \u001b[1;32mexcept\u001b[0m\u001b[1;33m:\u001b[0m\u001b[1;33m\u001b[0m\u001b[1;33m\u001b[0m\u001b[0m\n\u001b[1;32m--> 710\u001b[1;33m                 \u001b[1;32mraise\u001b[0m \u001b[0mIOError\u001b[0m\u001b[1;33m(\u001b[0m\u001b[1;34m'Cannot open resource \"%s\"'\u001b[0m \u001b[1;33m%\u001b[0m \u001b[0mname\u001b[0m\u001b[1;33m)\u001b[0m\u001b[1;33m\u001b[0m\u001b[1;33m\u001b[0m\u001b[0m\n\u001b[0m\u001b[0;32m    711\u001b[0m     \u001b[0mglobals\u001b[0m\u001b[1;33m(\u001b[0m\u001b[1;33m)\u001b[0m\u001b[1;33m[\u001b[0m\u001b[1;34m'open_for_read'\u001b[0m\u001b[1;33m]\u001b[0m \u001b[1;33m=\u001b[0m \u001b[0mopen_for_read\u001b[0m\u001b[1;33m\u001b[0m\u001b[1;33m\u001b[0m\u001b[0m\n",
      "\u001b[1;31mOSError\u001b[0m: Cannot open resource \"SimSun.ttf\"",
      "\nDuring handling of the above exception, another exception occurred:\n",
      "\u001b[1;31mTTFError\u001b[0m                                  Traceback (most recent call last)",
      "\u001b[1;32m<timed eval>\u001b[0m in \u001b[0;36m<module>\u001b[1;34m\u001b[0m\n",
      "\u001b[1;32m<ipython-input-43-be2eebef3d5c>\u001b[0m in \u001b[0;36mcreate_watermark_1\u001b[1;34m(content, wmfile, wfont, wfontsize)\u001b[0m\n\u001b[0;32m     12\u001b[0m         \u001b[0mfile_name\u001b[0m \u001b[1;33m=\u001b[0m \u001b[0mwmfile\u001b[0m     \u001b[1;31m#如果传入了水印文件名,就用传入的参数.\u001b[0m\u001b[1;33m\u001b[0m\u001b[1;33m\u001b[0m\u001b[0m\n\u001b[0;32m     13\u001b[0m     \u001b[1;31m# 注册字体===每次使用都需要注册吗? 还是一次注册以后就可以一直用了?\u001b[0m\u001b[1;33m\u001b[0m\u001b[1;33m\u001b[0m\u001b[1;33m\u001b[0m\u001b[0m\n\u001b[1;32m---> 14\u001b[1;33m     \u001b[0mpdfmetrics\u001b[0m\u001b[1;33m.\u001b[0m\u001b[0mregisterFont\u001b[0m\u001b[1;33m(\u001b[0m\u001b[0mTTFont\u001b[0m\u001b[1;33m(\u001b[0m\u001b[1;34m\"SimSun\"\u001b[0m\u001b[1;33m,\u001b[0m \u001b[1;34m\"SimSun.ttf\"\u001b[0m\u001b[1;33m)\u001b[0m\u001b[1;33m)\u001b[0m          \u001b[1;31m# 注册 宋体\u001b[0m\u001b[1;33m\u001b[0m\u001b[1;33m\u001b[0m\u001b[0m\n\u001b[0m\u001b[0;32m     15\u001b[0m     \u001b[0mpdfmetrics\u001b[0m\u001b[1;33m.\u001b[0m\u001b[0mregisterFont\u001b[0m\u001b[1;33m(\u001b[0m\u001b[0mTTFont\u001b[0m\u001b[1;33m(\u001b[0m\u001b[1;34m'jiagu'\u001b[0m\u001b[1;33m,\u001b[0m \u001b[1;34m'HYChenTiJiaGuWen.ttf'\u001b[0m\u001b[1;33m)\u001b[0m\u001b[1;33m)\u001b[0m \u001b[1;31m# 注册 汉仪陈体甲骨文\u001b[0m\u001b[1;33m\u001b[0m\u001b[1;33m\u001b[0m\u001b[0m\n\u001b[0;32m     16\u001b[0m     \u001b[1;31m# 设置页面大小.默认大小为A4 = (21*cm,29.7*cm)\u001b[0m\u001b[1;33m\u001b[0m\u001b[1;33m\u001b[0m\u001b[1;33m\u001b[0m\u001b[0m\n",
      "\u001b[1;32mD:\\ProgramData\\Anaconda3\\lib\\site-packages\\reportlab\\pdfbase\\ttfonts.py\u001b[0m in \u001b[0;36m__init__\u001b[1;34m(self, name, filename, validate, subfontIndex, asciiReadable)\u001b[0m\n\u001b[0;32m   1194\u001b[0m         \"\"\"\n\u001b[0;32m   1195\u001b[0m         \u001b[0mself\u001b[0m\u001b[1;33m.\u001b[0m\u001b[0mfontName\u001b[0m \u001b[1;33m=\u001b[0m \u001b[0mname\u001b[0m\u001b[1;33m\u001b[0m\u001b[1;33m\u001b[0m\u001b[0m\n\u001b[1;32m-> 1196\u001b[1;33m         \u001b[0mself\u001b[0m\u001b[1;33m.\u001b[0m\u001b[0mface\u001b[0m \u001b[1;33m=\u001b[0m \u001b[0mTTFontFace\u001b[0m\u001b[1;33m(\u001b[0m\u001b[0mfilename\u001b[0m\u001b[1;33m,\u001b[0m \u001b[0mvalidate\u001b[0m\u001b[1;33m=\u001b[0m\u001b[0mvalidate\u001b[0m\u001b[1;33m,\u001b[0m \u001b[0msubfontIndex\u001b[0m\u001b[1;33m=\u001b[0m\u001b[0msubfontIndex\u001b[0m\u001b[1;33m)\u001b[0m\u001b[1;33m\u001b[0m\u001b[1;33m\u001b[0m\u001b[0m\n\u001b[0m\u001b[0;32m   1197\u001b[0m         \u001b[0mself\u001b[0m\u001b[1;33m.\u001b[0m\u001b[0mencoding\u001b[0m \u001b[1;33m=\u001b[0m \u001b[0mTTEncoding\u001b[0m\u001b[1;33m(\u001b[0m\u001b[1;33m)\u001b[0m\u001b[1;33m\u001b[0m\u001b[1;33m\u001b[0m\u001b[0m\n\u001b[0;32m   1198\u001b[0m         \u001b[1;32mfrom\u001b[0m \u001b[0mweakref\u001b[0m \u001b[1;32mimport\u001b[0m \u001b[0mWeakKeyDictionary\u001b[0m\u001b[1;33m\u001b[0m\u001b[1;33m\u001b[0m\u001b[0m\n",
      "\u001b[1;32mD:\\ProgramData\\Anaconda3\\lib\\site-packages\\reportlab\\pdfbase\\ttfonts.py\u001b[0m in \u001b[0;36m__init__\u001b[1;34m(self, filename, validate, subfontIndex)\u001b[0m\n\u001b[0;32m   1088\u001b[0m         \u001b[1;34m\"Loads a TrueType font from filename.\"\u001b[0m\u001b[1;33m\u001b[0m\u001b[1;33m\u001b[0m\u001b[0m\n\u001b[0;32m   1089\u001b[0m         \u001b[0mpdfmetrics\u001b[0m\u001b[1;33m.\u001b[0m\u001b[0mTypeFace\u001b[0m\u001b[1;33m.\u001b[0m\u001b[0m__init__\u001b[0m\u001b[1;33m(\u001b[0m\u001b[0mself\u001b[0m\u001b[1;33m,\u001b[0m \u001b[1;32mNone\u001b[0m\u001b[1;33m)\u001b[0m\u001b[1;33m\u001b[0m\u001b[1;33m\u001b[0m\u001b[0m\n\u001b[1;32m-> 1090\u001b[1;33m         \u001b[0mTTFontFile\u001b[0m\u001b[1;33m.\u001b[0m\u001b[0m__init__\u001b[0m\u001b[1;33m(\u001b[0m\u001b[0mself\u001b[0m\u001b[1;33m,\u001b[0m \u001b[0mfilename\u001b[0m\u001b[1;33m,\u001b[0m \u001b[0mvalidate\u001b[0m\u001b[1;33m=\u001b[0m\u001b[0mvalidate\u001b[0m\u001b[1;33m,\u001b[0m \u001b[0msubfontIndex\u001b[0m\u001b[1;33m=\u001b[0m\u001b[0msubfontIndex\u001b[0m\u001b[1;33m)\u001b[0m\u001b[1;33m\u001b[0m\u001b[1;33m\u001b[0m\u001b[0m\n\u001b[0m\u001b[0;32m   1091\u001b[0m \u001b[1;33m\u001b[0m\u001b[0m\n\u001b[0;32m   1092\u001b[0m     \u001b[1;32mdef\u001b[0m \u001b[0mgetCharWidth\u001b[0m\u001b[1;33m(\u001b[0m\u001b[0mself\u001b[0m\u001b[1;33m,\u001b[0m \u001b[0mcode\u001b[0m\u001b[1;33m)\u001b[0m\u001b[1;33m:\u001b[0m\u001b[1;33m\u001b[0m\u001b[1;33m\u001b[0m\u001b[0m\n",
      "\u001b[1;32mD:\\ProgramData\\Anaconda3\\lib\\site-packages\\reportlab\\pdfbase\\ttfonts.py\u001b[0m in \u001b[0;36m__init__\u001b[1;34m(self, file, charInfo, validate, subfontIndex)\u001b[0m\n\u001b[0;32m    455\u001b[0m                 \u001b[0mself\u001b[0m\u001b[1;33m.\u001b[0m\u001b[0m__dict__\u001b[0m\u001b[1;33m.\u001b[0m\u001b[0mupdate\u001b[0m\u001b[1;33m(\u001b[0m\u001b[0m__dict__\u001b[0m\u001b[1;33m)\u001b[0m\u001b[1;33m\u001b[0m\u001b[1;33m\u001b[0m\u001b[0m\n\u001b[0;32m    456\u001b[0m         \u001b[1;32melse\u001b[0m\u001b[1;33m:\u001b[0m\u001b[1;33m\u001b[0m\u001b[1;33m\u001b[0m\u001b[0m\n\u001b[1;32m--> 457\u001b[1;33m             \u001b[0mTTFontParser\u001b[0m\u001b[1;33m.\u001b[0m\u001b[0m__init__\u001b[0m\u001b[1;33m(\u001b[0m\u001b[0mself\u001b[0m\u001b[1;33m,\u001b[0m \u001b[0mfile\u001b[0m\u001b[1;33m,\u001b[0m \u001b[0mvalidate\u001b[0m\u001b[1;33m=\u001b[0m\u001b[0mvalidate\u001b[0m\u001b[1;33m,\u001b[0m\u001b[0msubfontIndex\u001b[0m\u001b[1;33m=\u001b[0m\u001b[0msubfontIndex\u001b[0m\u001b[1;33m)\u001b[0m\u001b[1;33m\u001b[0m\u001b[1;33m\u001b[0m\u001b[0m\n\u001b[0m\u001b[0;32m    458\u001b[0m             \u001b[0mself\u001b[0m\u001b[1;33m.\u001b[0m\u001b[0mextractInfo\u001b[0m\u001b[1;33m(\u001b[0m\u001b[0mcharInfo\u001b[0m\u001b[1;33m)\u001b[0m\u001b[1;33m\u001b[0m\u001b[1;33m\u001b[0m\u001b[0m\n\u001b[0;32m    459\u001b[0m \u001b[1;33m\u001b[0m\u001b[0m\n",
      "\u001b[1;32mD:\\ProgramData\\Anaconda3\\lib\\site-packages\\reportlab\\pdfbase\\ttfonts.py\u001b[0m in \u001b[0;36m__init__\u001b[1;34m(self, file, validate, subfontIndex)\u001b[0m\n\u001b[0;32m    177\u001b[0m         \"\"\"\n\u001b[0;32m    178\u001b[0m         \u001b[0mself\u001b[0m\u001b[1;33m.\u001b[0m\u001b[0mvalidate\u001b[0m \u001b[1;33m=\u001b[0m \u001b[0mvalidate\u001b[0m\u001b[1;33m\u001b[0m\u001b[1;33m\u001b[0m\u001b[0m\n\u001b[1;32m--> 179\u001b[1;33m         \u001b[0mself\u001b[0m\u001b[1;33m.\u001b[0m\u001b[0mreadFile\u001b[0m\u001b[1;33m(\u001b[0m\u001b[0mfile\u001b[0m\u001b[1;33m)\u001b[0m\u001b[1;33m\u001b[0m\u001b[1;33m\u001b[0m\u001b[0m\n\u001b[0m\u001b[0;32m    180\u001b[0m         \u001b[0misCollection\u001b[0m \u001b[1;33m=\u001b[0m \u001b[0mself\u001b[0m\u001b[1;33m.\u001b[0m\u001b[0mreadHeader\u001b[0m\u001b[1;33m(\u001b[0m\u001b[1;33m)\u001b[0m\u001b[1;33m\u001b[0m\u001b[1;33m\u001b[0m\u001b[0m\n\u001b[0;32m    181\u001b[0m         \u001b[1;32mif\u001b[0m \u001b[0misCollection\u001b[0m\u001b[1;33m:\u001b[0m\u001b[1;33m\u001b[0m\u001b[1;33m\u001b[0m\u001b[0m\n",
      "\u001b[1;32mD:\\ProgramData\\Anaconda3\\lib\\site-packages\\reportlab\\pdfbase\\ttfonts.py\u001b[0m in \u001b[0;36mreadFile\u001b[1;34m(self, f)\u001b[0m\n\u001b[0;32m    253\u001b[0m                 \u001b[0mself\u001b[0m\u001b[1;33m.\u001b[0m\u001b[0m_ttf_data\u001b[0m \u001b[1;33m=\u001b[0m \u001b[0mf\u001b[0m\u001b[1;33m.\u001b[0m\u001b[0mread\u001b[0m\u001b[1;33m(\u001b[0m\u001b[1;33m)\u001b[0m\u001b[1;33m\u001b[0m\u001b[1;33m\u001b[0m\u001b[0m\n\u001b[0;32m    254\u001b[0m             \u001b[1;32melse\u001b[0m\u001b[1;33m:\u001b[0m\u001b[1;33m\u001b[0m\u001b[1;33m\u001b[0m\u001b[0m\n\u001b[1;32m--> 255\u001b[1;33m                 \u001b[0mself\u001b[0m\u001b[1;33m.\u001b[0m\u001b[0mfilename\u001b[0m\u001b[1;33m,\u001b[0m \u001b[0mf\u001b[0m \u001b[1;33m=\u001b[0m \u001b[0mTTFOpenFile\u001b[0m\u001b[1;33m(\u001b[0m\u001b[0mf\u001b[0m\u001b[1;33m)\u001b[0m\u001b[1;33m\u001b[0m\u001b[1;33m\u001b[0m\u001b[0m\n\u001b[0m\u001b[0;32m    256\u001b[0m                 \u001b[0mself\u001b[0m\u001b[1;33m.\u001b[0m\u001b[0m_ttf_data\u001b[0m \u001b[1;33m=\u001b[0m \u001b[0mf\u001b[0m\u001b[1;33m.\u001b[0m\u001b[0mread\u001b[0m\u001b[1;33m(\u001b[0m\u001b[1;33m)\u001b[0m\u001b[1;33m\u001b[0m\u001b[1;33m\u001b[0m\u001b[0m\n\u001b[0;32m    257\u001b[0m                 \u001b[0mf\u001b[0m\u001b[1;33m.\u001b[0m\u001b[0mclose\u001b[0m\u001b[1;33m(\u001b[0m\u001b[1;33m)\u001b[0m\u001b[1;33m\u001b[0m\u001b[1;33m\u001b[0m\u001b[0m\n",
      "\u001b[1;32mD:\\ProgramData\\Anaconda3\\lib\\site-packages\\reportlab\\pdfbase\\ttfonts.py\u001b[0m in \u001b[0;36mTTFOpenFile\u001b[1;34m(fn)\u001b[0m\n\u001b[0;32m    163\u001b[0m                     \u001b[0mf\u001b[0m \u001b[1;33m=\u001b[0m \u001b[0mopen_for_read\u001b[0m\u001b[1;33m(\u001b[0m\u001b[0mtfn\u001b[0m\u001b[1;33m,\u001b[0m\u001b[1;34m'rb'\u001b[0m\u001b[1;33m)\u001b[0m\u001b[1;33m\u001b[0m\u001b[1;33m\u001b[0m\u001b[0m\n\u001b[0;32m    164\u001b[0m                     \u001b[1;32mreturn\u001b[0m \u001b[0mtfn\u001b[0m\u001b[1;33m,\u001b[0m \u001b[0mf\u001b[0m\u001b[1;33m\u001b[0m\u001b[1;33m\u001b[0m\u001b[0m\n\u001b[1;32m--> 165\u001b[1;33m         \u001b[1;32mraise\u001b[0m \u001b[0mTTFError\u001b[0m\u001b[1;33m(\u001b[0m\u001b[1;34m'Can\\'t open file \"%s\"'\u001b[0m \u001b[1;33m%\u001b[0m \u001b[0mfn\u001b[0m\u001b[1;33m)\u001b[0m\u001b[1;33m\u001b[0m\u001b[1;33m\u001b[0m\u001b[0m\n\u001b[0m\u001b[0;32m    166\u001b[0m \u001b[1;33m\u001b[0m\u001b[0m\n\u001b[0;32m    167\u001b[0m \u001b[1;32mclass\u001b[0m \u001b[0mTTFontParser\u001b[0m\u001b[1;33m:\u001b[0m\u001b[1;33m\u001b[0m\u001b[1;33m\u001b[0m\u001b[0m\n",
      "\u001b[1;31mTTFError\u001b[0m: Can't open file \"SimSun.ttf\""
     ]
    }
   ],
   "source": [
    "content = 'Python办公自动化\\n来今雨轩学习小组'\n",
    "%time create_watermark_1(content)"
   ]
  },
  {
   "cell_type": "code",
   "execution_count": null,
   "metadata": {},
   "outputs": [],
   "source": []
  },
  {
   "cell_type": "markdown",
   "metadata": {},
   "source": [
    "# 项目实战"
   ]
  },
  {
   "cell_type": "markdown",
   "metadata": {},
   "source": [
    "#### 批量添加不同的水印\n",
    "某机构有一批古籍扫描的PDF文件(从图片格式合并而成)想要发布给社会公众.拟按照书籍种类,合并成PDF文件,并在每一页添加不同的水印.请编写相关代码."
   ]
  },
  {
   "cell_type": "code",
   "execution_count": null,
   "metadata": {},
   "outputs": [],
   "source": []
  },
  {
   "cell_type": "markdown",
   "metadata": {},
   "source": [
    "####\n"
   ]
  }
 ],
 "metadata": {
  "kernelspec": {
   "display_name": "Python 3",
   "language": "python",
   "name": "python3"
  },
  "language_info": {
   "codemirror_mode": {
    "name": "ipython",
    "version": 3
   },
   "file_extension": ".py",
   "mimetype": "text/x-python",
   "name": "python",
   "nbconvert_exporter": "python",
   "pygments_lexer": "ipython3",
   "version": "3.8.3"
  }
 },
 "nbformat": 4,
 "nbformat_minor": 4
}
