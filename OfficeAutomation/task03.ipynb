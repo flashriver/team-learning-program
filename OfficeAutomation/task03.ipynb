{
 "cells": [
  {
   "cell_type": "markdown",
   "metadata": {},
   "source": [
    "* Python与World   \n",
    "[20210619 created]    \n",
    "\n",
    "Word和Excel一样,也是微软公司为Windows系统开发的一款软件.Excel用于处理电子表格,而Word则是一款优秀的文字编辑工具,和它类似的软件有Mac OS上的Pages,国产的WPS和开源的open office,Librel office等等,他们都可以用于处理后缀为docx的文件.    \n",
    "不同于文本文档txt,word所处理的后缀为.doxc的文件也是一种二进制文件,它本质上也是一个xml文档,\n",
    "\n"
   ]
  },
  {
   "cell_type": "markdown",
   "metadata": {},
   "source": []
  },
  {
   "cell_type": "code",
   "execution_count": 1,
   "metadata": {},
   "outputs": [
    {
     "name": "stdout",
     "output_type": "stream",
     "text": [
      "Collecting python-docx\n",
      "  Downloading python-docx-0.8.11.tar.gz (5.6 MB)\n",
      "Requirement already satisfied: lxml>=2.3.2 in d:\\programdata\\anaconda3\\lib\\site-packages (from python-docx) (4.5.2)\n",
      "Building wheels for collected packages: python-docx\n",
      "  Building wheel for python-docx (setup.py): started\n",
      "  Building wheel for python-docx (setup.py): finished with status 'done'\n",
      "  Created wheel for python-docx: filename=python_docx-0.8.11-py3-none-any.whl size=184606 sha256=2db04fcbd70bd0861ea848dba44dcb905bd5bcd4682b6d49fdd68835d6b93f29\n",
      "  Stored in directory: c:\\users\\liby\\appdata\\local\\pip\\cache\\wheels\\32\\b8\\b2\\c4c2b95765e615fe139b0b17b5ea7c0e1b6519b0a9ec8fb34d\n",
      "Successfully built python-docx\n",
      "Installing collected packages: python-docx\n",
      "Successfully installed python-docx-0.8.11\n"
     ]
    }
   ],
   "source": [
    "#安装docx库\n",
    "!pip3 install python-docx"
   ]
  },
  {
   "cell_type": "markdown",
   "metadata": {},
   "source": [
    "# 读取Word文档\n",
    "\n",
    "Word 文档的页面结构 ：\n",
    "\n",
    "* 文档 - Document\n",
    "* 段落 - Paragraph\n",
    "* 文字块 - Run  \n",
    "python-docx将整个文章看做是一个Document对象,其基本结构如下：\n",
    "* 一个Word文件就是一个Documment类型的对象;\n",
    "    这个Document对象里\n",
    "* 每个Document包含许多个代表“段落”的Paragraph对象,存放在document.paragraphs中;\n",
    "* 每个Paragraph都有许多个代表\"行内元素\"的Run对象,存放在paragraph.runs中;\n",
    "    在python-docx中，run是最基本的单位，每个run对象内的文本样式都是一致的，也就是说，在从docx文件生成文档对象时，python-docx会根据样式的变化来将文本切分为一个个的Run对象.\n"
   ]
  },
  {
   "cell_type": "markdown",
   "metadata": {},
   "source": [
    "#### 打开已经存在的Word文档\n",
    "在Python中,使用docx模块的Document方法,可以打开指定路径处的Word文档.    \n",
    "和Excel时的情况类似,用Document方法打开Word后,实际上是创建了一个Document类型的对象,如果需要获取Word文档的内容,还需要进一步使用该对象的其他方法."
   ]
  },
  {
   "cell_type": "code",
   "execution_count": 58,
   "metadata": {},
   "outputs": [],
   "source": [
    "doc_0 = Document(r'D:\\Py\\OfficeAutomation\\data1\\word\\doc_0.docx')"
   ]
  },
  {
   "cell_type": "code",
   "execution_count": 59,
   "metadata": {},
   "outputs": [
    {
     "name": "stdout",
     "output_type": "stream",
     "text": [
      "['_Document__body', '__class__', '__delattr__', '__dir__', '__doc__', '__eq__', '__format__', '__ge__', '__getattribute__', '__gt__', '__hash__', '__init__', '__init_subclass__', '__le__', '__lt__', '__module__', '__ne__', '__new__', '__reduce__', '__reduce_ex__', '__repr__', '__setattr__', '__sizeof__', '__slots__', '__str__', '__subclasshook__', '_block_width', '_body', '_element', '_parent', '_part', 'add_heading', 'add_page_break', 'add_paragraph', 'add_picture', 'add_section', 'add_table', 'core_properties', 'element', 'inline_shapes', 'paragraphs', 'part', 'save', 'sections', 'settings', 'styles', 'tables']\n"
     ]
    }
   ],
   "source": [
    "print(dir(doc_0))"
   ]
  },
  {
   "cell_type": "code",
   "execution_count": 57,
   "metadata": {
    "jupyter": {
     "source_hidden": true
    }
   },
   "outputs": [],
   "source": [
    "# 导入库\n",
    "from docx import Document\n",
    "from docx.shared import RGBColor, Pt,Inches,Cm\n",
    "from docx.enum.text import WD_PARAGRAPH_ALIGNMENT\n",
    "from docx.oxml.ns import qn\n",
    "\n",
    "# 新建文档（Datawhale）\n",
    "doc_1 = Document()\n",
    "\n",
    "# 字体设置（全局）\n",
    "'''只更改font.name是不够的，还需要调用._element.rPr.rFonts的set()方法。'''\n",
    "\n",
    "doc_1.styles['Normal'].font.name = u'宋体'\n",
    "doc_1.styles['Normal']._element.rPr.rFonts.set(qn('w:eastAsia'), u'宋体')\n",
    "\n",
    "# 添加标题（0相当于文章的题目，默认级别是1，级别范围为0-9，0时候自动带下划线）\n",
    "heading_1 = doc_1.add_heading('周杰伦',level = 0)\n",
    "heading_1.alignment = WD_PARAGRAPH_ALIGNMENT.CENTER   #居中对齐，默认居左对齐\n",
    "\n",
    "# 新增段落\n",
    "paragraph_1 = doc_1.add_paragraph()\n",
    "'''\n",
    "设置段落格式：首行缩进0.75cm，居左，段后距离1.0英寸,1.5倍行距。\n",
    "'''\n",
    "paragraph_1.paragraph_format.first_line_indent = Cm(0.75)\n",
    "paragraph_1.paragraph_format.alignment =  WD_PARAGRAPH_ALIGNMENT.LEFT\n",
    "paragraph_1.paragraph_format.space_after =  Inches(1.0)\n",
    "paragraph_1.paragraph_format.line_spacing =  1.5\n",
    "\n",
    "text = '中国台湾华语流行歌手、' \\\n",
    "       '音乐创作家、作曲家、作词人、' \\\n",
    "       '制作人、杰威尔音乐公司老板之一、导演。' \\\n",
    "       '近年涉足电影行业。周杰伦是2000年后亚洲流行乐坛最具革命性与指标' \\\n",
    "       '性的创作歌手，有“亚洲流行天王”之称。他突破原有亚洲音乐的主题、形' \\\n",
    "       '式，融合多元的音乐素材，创造出多变的歌曲风格，尤以融合中西式曲风的嘻哈' \\\n",
    "       '或节奏蓝调最为著名，可说是开创华语流行音乐“中国风”的先声。周杰伦的' \\\n",
    "       '出现打破了亚洲流行乐坛长年停滞不前的局面，为亚洲流行乐坛翻开了新的一页！'\n",
    "\n",
    "r_1 = paragraph_1.add_run(text)\n",
    "r_1.font.size =Pt(10)    #字号\n",
    "r_1.font.bold =True       #加粗\n",
    "r_1.font.color.rgb =RGBColor(255,0,0)      #颜色\n",
    "\n",
    "# 保存文件（当前目录下）\n",
    "doc_1.save('周杰伦.docx')"
   ]
  },
  {
   "cell_type": "markdown",
   "metadata": {},
   "source": [
    "#### 获取Word文档中的文本\n",
    "一个Word文档,包含了格式,文本,图片,表格等等各种类型的内容,但多数情况下我们最关注的是文档中的文本内容.   \n",
    "在创建了Document类型的对象后,我们可以使用"
   ]
  },
  {
   "cell_type": "code",
   "execution_count": null,
   "metadata": {},
   "outputs": [],
   "source": []
  },
  {
   "cell_type": "code",
   "execution_count": null,
   "metadata": {},
   "outputs": [],
   "source": []
  },
  {
   "cell_type": "code",
   "execution_count": null,
   "metadata": {},
   "outputs": [],
   "source": []
  },
  {
   "cell_type": "markdown",
   "metadata": {},
   "source": [
    "# 编辑Word文件"
   ]
  },
  {
   "cell_type": "markdown",
   "metadata": {},
   "source": [
    "#### 新建空白word\n",
    "和Excel的情形类似,使用Python新建一个word文档,就是创建一个docx的Document对象,这一步可以通过直接创建一个Document对象来实现"
   ]
  },
  {
   "cell_type": "code",
   "execution_count": 41,
   "metadata": {},
   "outputs": [],
   "source": [
    "# 导入库\n",
    "from docx import Document"
   ]
  },
  {
   "cell_type": "code",
   "execution_count": 42,
   "metadata": {},
   "outputs": [],
   "source": [
    "# 新建空白文档\n",
    "doc_1 = Document()"
   ]
  },
  {
   "cell_type": "code",
   "execution_count": 43,
   "metadata": {},
   "outputs": [
    {
     "data": {
      "text/plain": [
       "docx.document.Document"
      ]
     },
     "execution_count": 43,
     "metadata": {},
     "output_type": "execute_result"
    }
   ],
   "source": [
    "#又是一种新的数据类型对象\n",
    "type(doc_1)"
   ]
  },
  {
   "cell_type": "markdown",
   "metadata": {},
   "source": [
    "#### 保存word文件到磁盘\n",
    "和使用鼠标右键新建word文档的不同之处在于,使用docx库新建Document对象之后,它是保存在内存中的,我们在当前工作目录是看不到的.想要将这个word文件保存到磁盘,还需要使用Document对象的`save`方法把这个Document对象保存到磁盘上的指定路径,并指定要保存的文件名,我们才能在当前工作目录中看到它."
   ]
  },
  {
   "cell_type": "code",
   "execution_count": null,
   "metadata": {},
   "outputs": [],
   "source": []
  },
  {
   "cell_type": "code",
   "execution_count": 44,
   "metadata": {},
   "outputs": [],
   "source": [
    "# 保存文件（当前目录下）\n",
    "doc_1.save('doc_1.docx')\n",
    "#doc_1.save(r'D:\\Py\\OfficeAutomation\\doc_1.docx') #也可以以相对路径或绝对路径的方式传入不同于当前工作目录的其他文件夹"
   ]
  },
  {
   "cell_type": "markdown",
   "metadata": {},
   "source": [
    "这时候我们再查看当前工作目录,就会看到存在这么一个\"doc_1.docx\"的文件了.   \n",
    "在查看完毕后,请记得关闭该文档,以便于我们继续使用Python来进行操作和保存这些操作到这个文档."
   ]
  },
  {
   "cell_type": "code",
   "execution_count": null,
   "metadata": {},
   "outputs": [],
   "source": [
    "import os"
   ]
  },
  {
   "cell_type": "code",
   "execution_count": 45,
   "metadata": {},
   "outputs": [
    {
     "data": {
      "text/plain": [
       "True"
      ]
     },
     "execution_count": 45,
     "metadata": {},
     "output_type": "execute_result"
    }
   ],
   "source": [
    "#使用os.path.exists方法检查文件保存结果\n",
    "os.path.exists('doc_1.docx')"
   ]
  },
  {
   "cell_type": "markdown",
   "metadata": {},
   "source": [
    "#### 添加标题\n"
   ]
  },
  {
   "cell_type": "code",
   "execution_count": 46,
   "metadata": {},
   "outputs": [
    {
     "data": {
      "text/plain": [
       "<docx.text.paragraph.Paragraph at 0x1ec83750c70>"
      ]
     },
     "execution_count": 46,
     "metadata": {},
     "output_type": "execute_result"
    }
   ],
   "source": [
    "# 添加标题（0相当于文章的题目，默认级别是1，级别范围为0-9）\n",
    "doc_1.add_heading('新建空白文档标题，级别为0',level = 0)\n",
    "doc_1.add_heading('新建空白文档标题，级别为1',level = 1)\n",
    "doc_1.add_heading('新建空白文档标题，级别为2',level = 2)"
   ]
  },
  {
   "cell_type": "markdown",
   "metadata": {},
   "source": [
    "和新建文档需要保存才能在文件夹种看到它一样,要想使用 WPS 或 word 查看添加标题的结果,还是需要先把我们对Document对象的操作保存到磁盘.   \n",
    "查看完毕记得关闭文档,以便于继续使用Python对文档进行修改."
   ]
  },
  {
   "cell_type": "code",
   "execution_count": 47,
   "metadata": {},
   "outputs": [],
   "source": [
    "doc_1.save('doc_1.docx')\n",
    "#保存,然后使用word等工具查看修改结果"
   ]
  },
  {
   "cell_type": "markdown",
   "metadata": {},
   "source": [
    "#### 新增段落"
   ]
  },
  {
   "cell_type": "code",
   "execution_count": 48,
   "metadata": {},
   "outputs": [],
   "source": [
    "paragraph_1 = doc_1.add_paragraph('这是第一段文字的开始\\n请多多关照！')\n",
    "# 在这里,使用了\\n来进行换行."
   ]
  },
  {
   "cell_type": "code",
   "execution_count": 49,
   "metadata": {},
   "outputs": [],
   "source": [
    "doc_1.save('doc_1.docx') #这里可以自由设置,以自己所期望的文件名进行保存\n",
    "#保存完毕后,就可以使用word等工具查看新增段落的结果了."
   ]
  },
  {
   "cell_type": "code",
   "execution_count": 50,
   "metadata": {},
   "outputs": [],
   "source": [
    "# 再试着使用长字符串增加一段\n",
    "text = \"\"\"\n",
    "       中国台湾华语流行歌手、 \n",
    "       音乐创作家、作曲家、作词人、 \n",
    "       制作人、杰威尔音乐公司老板之一、导演。 \n",
    "       近年涉足电影行业。周杰伦是2000年后亚洲流行乐坛最具革命性与指标 \n",
    "       性的创作歌手，有“亚洲流行天王”之称。他突破原有亚洲音乐的主题、形 \n",
    "       式，融合多元的音乐素材，创造出多变的歌曲风格，尤以融合中西式曲风的嘻哈 \n",
    "       或节奏蓝调最为著名，可说是开创华语流行音乐“中国风”的先声。周杰伦的 \n",
    "       出现打破了亚洲流行乐坛长年停滞不前的局面，为亚洲流行乐坛翻开了新的一页！\n",
    "\n",
    "\"\"\"\n",
    "#注意,这里我们并没有使用 \\n 进行换行\n",
    "paragraph_11 = doc_1.add_paragraph(text)"
   ]
  },
  {
   "cell_type": "code",
   "execution_count": 51,
   "metadata": {},
   "outputs": [],
   "source": [
    "doc_1.save('doc_1.docx')\n",
    "#保存后查看,发现word文件中的第二个段落实际上是由换行的,并且是按照我们在长字符串 text 中的设置那样进行换行的."
   ]
  },
  {
   "cell_type": "markdown",
   "metadata": {},
   "source": [
    "#### 调整字体\n"
   ]
  },
  {
   "cell_type": "code",
   "execution_count": 52,
   "metadata": {},
   "outputs": [
    {
     "data": {
      "text/plain": [
       "<docx.text.run.Run at 0x1ec848362b0>"
      ]
     },
     "execution_count": 52,
     "metadata": {},
     "output_type": "execute_result"
    }
   ],
   "source": [
    "# 加粗\n",
    "paragraph_1.add_run('加粗字体').bold = True\n",
    "paragraph_1.add_run('普通字体')"
   ]
  },
  {
   "cell_type": "code",
   "execution_count": 53,
   "metadata": {},
   "outputs": [],
   "source": [
    "# 斜体\n",
    "paragraph_1.add_run('斜体字体').italic =True"
   ]
  },
  {
   "cell_type": "code",
   "execution_count": 54,
   "metadata": {},
   "outputs": [],
   "source": [
    "# 新增段落（会自动在当前段落的下方另起一段）\n",
    "paragraph_2 = doc_1.add_paragraph('新起的第二段文字。')"
   ]
  },
  {
   "cell_type": "code",
   "execution_count": 55,
   "metadata": {},
   "outputs": [],
   "source": [
    "# 新段落（指定段的上边）\n",
    "prior_paragraph = paragraph_1.insert_paragraph_before('在第一段文字前插入的段落')"
   ]
  },
  {
   "cell_type": "code",
   "execution_count": 56,
   "metadata": {},
   "outputs": [],
   "source": [
    "doc_1.save('doc_1.docx')\n",
    "#保存后进行查看"
   ]
  },
  {
   "cell_type": "markdown",
   "metadata": {},
   "source": [
    "#### 添加分页符\n"
   ]
  },
  {
   "cell_type": "code",
   "execution_count": 10,
   "metadata": {},
   "outputs": [
    {
     "data": {
      "text/plain": [
       "<docx.text.paragraph.Paragraph at 0x1ec83750e50>"
      ]
     },
     "execution_count": 10,
     "metadata": {},
     "output_type": "execute_result"
    }
   ],
   "source": [
    "# 添加分页符(可以进行灵活的排版）\n",
    "doc_1.add_page_break()"
   ]
  },
  {
   "cell_type": "code",
   "execution_count": 11,
   "metadata": {},
   "outputs": [],
   "source": [
    "# 新段落（指定端的上方）\n",
    "paragraph_3 = doc_1.add_paragraph('这是第二页第一段文字！')"
   ]
  },
  {
   "cell_type": "code",
   "execution_count": 12,
   "metadata": {},
   "outputs": [],
   "source": [
    "# 保存文件（当前目录下）\n",
    "doc_1.save('doc_1.docx')"
   ]
  },
  {
   "cell_type": "code",
   "execution_count": null,
   "metadata": {},
   "outputs": [],
   "source": []
  },
  {
   "cell_type": "code",
   "execution_count": null,
   "metadata": {},
   "outputs": [],
   "source": []
  },
  {
   "cell_type": "code",
   "execution_count": null,
   "metadata": {},
   "outputs": [],
   "source": []
  },
  {
   "cell_type": "code",
   "execution_count": null,
   "metadata": {},
   "outputs": [],
   "source": [
    "# "
   ]
  },
  {
   "cell_type": "code",
   "execution_count": null,
   "metadata": {},
   "outputs": [],
   "source": []
  },
  {
   "cell_type": "markdown",
   "metadata": {},
   "source": [
    "# 项目实战"
   ]
  },
  {
   "cell_type": "code",
   "execution_count": null,
   "metadata": {},
   "outputs": [],
   "source": []
  },
  {
   "cell_type": "code",
   "execution_count": null,
   "metadata": {},
   "outputs": [],
   "source": []
  },
  {
   "cell_type": "code",
   "execution_count": null,
   "metadata": {},
   "outputs": [],
   "source": []
  }
 ],
 "metadata": {
  "kernelspec": {
   "display_name": "Python 3",
   "language": "python",
   "name": "python3"
  },
  "language_info": {
   "codemirror_mode": {
    "name": "ipython",
    "version": 3
   },
   "file_extension": ".py",
   "mimetype": "text/x-python",
   "name": "python",
   "nbconvert_exporter": "python",
   "pygments_lexer": "ipython3",
   "version": "3.8.3"
  }
 },
 "nbformat": 4,
 "nbformat_minor": 4
}
